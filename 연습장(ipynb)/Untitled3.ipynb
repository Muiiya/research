{
 "cells": [
  {
   "cell_type": "code",
   "execution_count": 2,
   "id": "coordinate-radio",
   "metadata": {},
   "outputs": [
    {
     "name": "stdout",
     "output_type": "stream",
     "text": [
      "WARNING:tensorflow:From c:\\programdata\\anaconda3\\envs\\tensorflow-cpu\\lib\\site-packages\\tensorflow\\python\\compat\\v2_compat.py:96: disable_resource_variables (from tensorflow.python.ops.variable_scope) is deprecated and will be removed in a future version.\n",
      "Instructions for updating:\n",
      "non-resource variables are not supported in the long term\n"
     ]
    },
    {
     "data": {
      "text/plain": [
       "array([ 6.,  7.,  8.,  9., 10.], dtype=float32)"
      ]
     },
     "execution_count": 2,
     "metadata": {},
     "output_type": "execute_result"
    }
   ],
   "source": [
    "# 플레이스 홀더 : 학습 데이터를 포함하는 변수\n",
    "# placeholder를 이용하여 입력값과 설계된 수식을 완전히 분리함으로서 보다 간단하게\n",
    "# 어떠한 데이터를 통해 기계학습을 시키고 관리할 수 있다\n",
    "\n",
    "\n",
    "# 여러 개의 데이터에 대하여 각각 5와 더한 값을 반환하는 프로그램을 \n",
    "# 만들어보라는 미션에 대한 솔루션을 만들어보라\n",
    "\n",
    "import tensorflow.compat.v1 as tf\n",
    "tf.disable_v2_behavior()\n",
    "\n",
    "input = [1, 2, 3, 4, 5]\n",
    "x = tf.placeholder(dtype = tf.float32)\n",
    "y = x + 5\n",
    "sess = tf.Session()\n",
    "sess.run(y, feed_dict={x: input})"
   ]
  },
  {
   "cell_type": "code",
   "execution_count": 3,
   "id": "negative-triple",
   "metadata": {},
   "outputs": [
    {
     "data": {
      "text/plain": [
       "array([75. , 77.5, 80. , 82.5, 85. ], dtype=float32)"
      ]
     },
     "execution_count": 3,
     "metadata": {},
     "output_type": "execute_result"
    }
   ],
   "source": [
    "# 수학 점수와 영어 점수의 평균을 구하는 코드를 짜보자\n",
    "\n",
    "import tensorflow.compat.v1 as tf\n",
    "tf.disable_v2_behavior()\n",
    "\n",
    "mathscore = [80, 82, 84, 86, 88]\n",
    "englishscore = [70, 73, 76, 79, 82]\n",
    "\n",
    "a = tf.placeholder(dtype=tf.float32)\n",
    "b = tf.placeholder(dtype=tf.float32)\n",
    "y = (a + b) / 2\n",
    "\n",
    "sess = tf.Session()\n",
    "sess.run(y, feed_dict={a: mathscore, b: englishscore})"
   ]
  },
  {
   "cell_type": "code",
   "execution_count": null,
   "id": "outside-vienna",
   "metadata": {},
   "outputs": [],
   "source": []
  }
 ],
 "metadata": {
  "kernelspec": {
   "display_name": "Python 3",
   "language": "python",
   "name": "python3"
  },
  "language_info": {
   "codemirror_mode": {
    "name": "ipython",
    "version": 3
   },
   "file_extension": ".py",
   "mimetype": "text/x-python",
   "name": "python",
   "nbconvert_exporter": "python",
   "pygments_lexer": "ipython3",
   "version": "3.8.5"
  }
 },
 "nbformat": 4,
 "nbformat_minor": 5
}
