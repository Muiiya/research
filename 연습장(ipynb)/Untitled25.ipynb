{
 "cells": [
  {
   "cell_type": "code",
   "execution_count": 1,
   "id": "missing-alexander",
   "metadata": {},
   "outputs": [],
   "source": [
    "import pandas as pd\n",
    "import numpy as np\n",
    "import matplotlib.pyplot as plt\n",
    "from keras.models import Sequential\n",
    "from keras.layers import LSTM, Dropout, Dense, Activation\n",
    "import datetime"
   ]
  },
  {
   "cell_type": "code",
   "execution_count": 2,
   "id": "becoming-reward",
   "metadata": {},
   "outputs": [
    {
     "data": {
      "text/html": [
       "<div>\n",
       "<style scoped>\n",
       "    .dataframe tbody tr th:only-of-type {\n",
       "        vertical-align: middle;\n",
       "    }\n",
       "\n",
       "    .dataframe tbody tr th {\n",
       "        vertical-align: top;\n",
       "    }\n",
       "\n",
       "    .dataframe thead th {\n",
       "        text-align: right;\n",
       "    }\n",
       "</style>\n",
       "<table border=\"1\" class=\"dataframe\">\n",
       "  <thead>\n",
       "    <tr style=\"text-align: right;\">\n",
       "      <th></th>\n",
       "      <th>Date</th>\n",
       "      <th>Open</th>\n",
       "      <th>High</th>\n",
       "      <th>Low</th>\n",
       "      <th>Close</th>\n",
       "      <th>Adj Close</th>\n",
       "      <th>Volume</th>\n",
       "    </tr>\n",
       "  </thead>\n",
       "  <tbody>\n",
       "    <tr>\n",
       "      <th>0</th>\n",
       "      <td>2016-01-28</td>\n",
       "      <td>23280.0</td>\n",
       "      <td>23360.0</td>\n",
       "      <td>22780.0</td>\n",
       "      <td>22900.0</td>\n",
       "      <td>1099.987793</td>\n",
       "      <td>15795600.0</td>\n",
       "    </tr>\n",
       "    <tr>\n",
       "      <th>1</th>\n",
       "      <td>2016-01-29</td>\n",
       "      <td>22800.0</td>\n",
       "      <td>23000.0</td>\n",
       "      <td>22320.0</td>\n",
       "      <td>23000.0</td>\n",
       "      <td>1104.791382</td>\n",
       "      <td>21849150.0</td>\n",
       "    </tr>\n",
       "    <tr>\n",
       "      <th>2</th>\n",
       "      <td>2016-02-01</td>\n",
       "      <td>23040.0</td>\n",
       "      <td>23260.0</td>\n",
       "      <td>23020.0</td>\n",
       "      <td>23260.0</td>\n",
       "      <td>1117.280273</td>\n",
       "      <td>12998950.0</td>\n",
       "    </tr>\n",
       "    <tr>\n",
       "      <th>3</th>\n",
       "      <td>2016-02-02</td>\n",
       "      <td>23220.0</td>\n",
       "      <td>23320.0</td>\n",
       "      <td>22940.0</td>\n",
       "      <td>23120.0</td>\n",
       "      <td>1110.555420</td>\n",
       "      <td>8317400.0</td>\n",
       "    </tr>\n",
       "    <tr>\n",
       "      <th>4</th>\n",
       "      <td>2016-02-03</td>\n",
       "      <td>23000.0</td>\n",
       "      <td>23040.0</td>\n",
       "      <td>22740.0</td>\n",
       "      <td>22920.0</td>\n",
       "      <td>1100.948608</td>\n",
       "      <td>8725350.0</td>\n",
       "    </tr>\n",
       "  </tbody>\n",
       "</table>\n",
       "</div>"
      ],
      "text/plain": [
       "         Date     Open     High      Low    Close    Adj Close      Volume\n",
       "0  2016-01-28  23280.0  23360.0  22780.0  22900.0  1099.987793  15795600.0\n",
       "1  2016-01-29  22800.0  23000.0  22320.0  23000.0  1104.791382  21849150.0\n",
       "2  2016-02-01  23040.0  23260.0  23020.0  23260.0  1117.280273  12998950.0\n",
       "3  2016-02-02  23220.0  23320.0  22940.0  23120.0  1110.555420   8317400.0\n",
       "4  2016-02-03  23000.0  23040.0  22740.0  22920.0  1100.948608   8725350.0"
      ]
     },
     "execution_count": 2,
     "metadata": {},
     "output_type": "execute_result"
    }
   ],
   "source": [
    "data = pd.read_csv('C:\\Jupyter_Project/005930.KS.csv')\n",
    "data.head()"
   ]
  },
  {
   "cell_type": "code",
   "execution_count": 3,
   "id": "disciplinary-shopping",
   "metadata": {},
   "outputs": [],
   "source": [
    "high_prices = data['High'].values\n",
    "low_prices = data['Low'].values\n",
    "mid_prices = (high_prices + low_prices)/2"
   ]
  },
  {
   "cell_type": "code",
   "execution_count": 5,
   "id": "arctic-sharp",
   "metadata": {},
   "outputs": [],
   "source": [
    "seq_len = 50\n",
    "sequence_length = seq_len+1\n",
    "\n",
    "result = []\n",
    "for index in range(len(mid_prices)-sequence_length):\n",
    "    result.append(mid_prices[index:index+sequence_length])"
   ]
  },
  {
   "cell_type": "code",
   "execution_count": 10,
   "id": "handled-stake",
   "metadata": {},
   "outputs": [
    {
     "data": {
      "text/plain": [
       "((1058, 50, 1), (117, 50, 1))"
      ]
     },
     "execution_count": 10,
     "metadata": {},
     "output_type": "execute_result"
    }
   ],
   "source": [
    "normalized_data = []\n",
    "for window in result:\n",
    "    normalized_window = [((float(p) / float(window[0])) - 1) for p in window]\n",
    "    normalized_data.append(normalized_window)\n",
    "                         \n",
    "result = np.array(normalized_data)\n",
    "# split train and test data\n",
    "row = int(round(result.shape[0] * 0.9))\n",
    "train = result[:row, :]\n",
    "np.random.shuffle(train)\n",
    "                         \n",
    "x_train = train[:, :-1]\n",
    "x_train = np.reshape(x_train, (x_train.shape[0], x_train.shape[1], 1))\n",
    "y_train = train[:, -1]\n",
    "\n",
    "x_test = result[row:, :-1]\n",
    "x_test = np.reshape(x_test, (x_test.shape[0], x_test.shape[1], 1))\n",
    "y_test = result[row:, -1]\n",
    "\n",
    "x_train.shape, x_test.shape"
   ]
  },
  {
   "cell_type": "code",
   "execution_count": 11,
   "id": "optical-regular",
   "metadata": {},
   "outputs": [
    {
     "name": "stdout",
     "output_type": "stream",
     "text": [
      "Model: \"sequential\"\n",
      "_________________________________________________________________\n",
      "Layer (type)                 Output Shape              Param #   \n",
      "=================================================================\n",
      "lstm (LSTM)                  (None, 50, 50)            10400     \n",
      "_________________________________________________________________\n",
      "lstm_1 (LSTM)                (None, 64)                29440     \n",
      "_________________________________________________________________\n",
      "dense (Dense)                (None, 1)                 65        \n",
      "=================================================================\n",
      "Total params: 39,905\n",
      "Trainable params: 39,905\n",
      "Non-trainable params: 0\n",
      "_________________________________________________________________\n"
     ]
    }
   ],
   "source": [
    "model = Sequential()\n",
    "\n",
    "model.add(LSTM(50, return_sequences=True, input_shape=(50, 1)))\n",
    "\n",
    "model.add(LSTM(64, return_sequences=False))\n",
    "\n",
    "model.add(Dense(1, activation='linear'))\n",
    "\n",
    "model.compile(loss='mse', optimizer='rmsprop')\n",
    "\n",
    "model.summary()"
   ]
  },
  {
   "cell_type": "code",
   "execution_count": 12,
   "id": "heavy-commonwealth",
   "metadata": {},
   "outputs": [
    {
     "name": "stdout",
     "output_type": "stream",
     "text": [
      "Epoch 1/20\n",
      "106/106 [==============================] - 9s 48ms/step - loss: nan - val_loss: nan\n",
      "Epoch 2/20\n",
      "106/106 [==============================] - 3s 24ms/step - loss: nan - val_loss: nan\n",
      "Epoch 3/20\n",
      "106/106 [==============================] - 3s 26ms/step - loss: nan - val_loss: nan\n",
      "Epoch 4/20\n",
      "106/106 [==============================] - 3s 27ms/step - loss: nan - val_loss: nan\n",
      "Epoch 5/20\n",
      "106/106 [==============================] - 3s 25ms/step - loss: nan - val_loss: nan\n",
      "Epoch 6/20\n",
      "106/106 [==============================] - 3s 24ms/step - loss: nan - val_loss: nan\n",
      "Epoch 7/20\n",
      "106/106 [==============================] - 3s 24ms/step - loss: nan - val_loss: nan\n",
      "Epoch 8/20\n",
      "106/106 [==============================] - 3s 24ms/step - loss: nan - val_loss: nan\n",
      "Epoch 9/20\n",
      "106/106 [==============================] - 3s 25ms/step - loss: nan - val_loss: nan\n",
      "Epoch 10/20\n",
      "106/106 [==============================] - 3s 27ms/step - loss: nan - val_loss: nan\n",
      "Epoch 11/20\n",
      "106/106 [==============================] - 3s 32ms/step - loss: nan - val_loss: nan\n",
      "Epoch 12/20\n",
      "106/106 [==============================] - 3s 24ms/step - loss: nan - val_loss: nan\n",
      "Epoch 13/20\n",
      "106/106 [==============================] - 3s 24ms/step - loss: nan - val_loss: nan\n",
      "Epoch 14/20\n",
      "106/106 [==============================] - 3s 25ms/step - loss: nan - val_loss: nan\n",
      "Epoch 15/20\n",
      "106/106 [==============================] - 3s 28ms/step - loss: nan - val_loss: nan\n",
      "Epoch 16/20\n",
      "106/106 [==============================] - 3s 24ms/step - loss: nan - val_loss: nan\n",
      "Epoch 17/20\n",
      "106/106 [==============================] - 3s 25ms/step - loss: nan - val_loss: nan\n",
      "Epoch 18/20\n",
      "106/106 [==============================] - 2s 23ms/step - loss: nan - val_loss: nan\n",
      "Epoch 19/20\n",
      "106/106 [==============================] - 3s 24ms/step - loss: nan - val_loss: nan\n",
      "Epoch 20/20\n",
      "106/106 [==============================] - 3s 24ms/step - loss: nan - val_loss: nan\n"
     ]
    },
    {
     "data": {
      "text/plain": [
       "<tensorflow.python.keras.callbacks.History at 0x1d7128251c0>"
      ]
     },
     "execution_count": 12,
     "metadata": {},
     "output_type": "execute_result"
    }
   ],
   "source": [
    "model.fit(x_train, y_train,\n",
    "    validation_data=(x_test, y_test),\n",
    "    batch_size=10,\n",
    "    epochs=20)"
   ]
  },
  {
   "cell_type": "code",
   "execution_count": 13,
   "id": "neither-anaheim",
   "metadata": {},
   "outputs": [
    {
     "data": {
      "image/png": "[encoded data removed]",
      "text/plain": [
       "<Figure size 1440x720 with 1 Axes>"
      ]
     },
     "metadata": {},
     "output_type": "display_data"
    }
   ],
   "source": [
    "pred = model.predict(x_test)\n",
    "\n",
    "fig = plt.figure(facecolor='white', figsize=(20, 10))\n",
    "ax = fig.add_subplot(111)\n",
    "ax.plot(y_test, label='True')\n",
    "ax.plot(pred, label='Prediction')\n",
    "ax.legend()\n",
    "plt.show()"
   ]
  },
  {
   "cell_type": "code",
   "execution_count": null,
   "id": "improved-triangle",
   "metadata": {},
   "outputs": [],
   "source": []
  }
 ],
 "metadata": {
  "kernelspec": {
   "display_name": "Python [conda env:tensorflow-cpu] *",
   "language": "python",
   "name": "conda-env-tensorflow-cpu-py"
  },
  "language_info": {
   "codemirror_mode": {
    "name": "ipython",
    "version": 3
   },
   "file_extension": ".py",
   "mimetype": "text/x-python",
   "name": "python",
   "nbconvert_exporter": "python",
   "pygments_lexer": "ipython3",
   "version": "3.8.5"
  }
 },
 "nbformat": 4,
 "nbformat_minor": 5
}
