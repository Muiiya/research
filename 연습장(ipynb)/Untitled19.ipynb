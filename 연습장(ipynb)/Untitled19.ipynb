{
 "cells": [
  {
   "cell_type": "markdown",
   "id": "cathedral-better",
   "metadata": {},
   "source": [
    "# 데이터셋 얻는법 #"
   ]
  },
  {
   "cell_type": "markdown",
   "id": "arabic-factory",
   "metadata": {},
   "source": [
    "> https://finance.yahoo.com으로 접속해서 Samsung Electronics Co.를 검색한다.\n",
    "    여기서 historycal data를 누르고 time period - 5Y - Done - Apply를 눌러준     다. download 버튼을 누르면 csv파일 형태로 다운로드 할 수 있다. 받은 엑셀     파일을 실행시키고 ctrl+A를 한 후 데이터 - 정렬을 누르고 date 기준 오름차     순을 선택해준다. 다 마치면 사용할 데이터가 완성이 된다.\n",
    "    "
   ]
  },
  {
   "cell_type": "markdown",
   "id": "centered-paint",
   "metadata": {},
   "source": [
    "# 사용할 패키지"
   ]
  },
  {
   "cell_type": "markdown",
   "id": "square-agent",
   "metadata": {},
   "source": [
    "> csv 파일을 읽기 위한 pandas, 행렬 연산을 위한 numpy, 예측한 데이터를 시각화하는 matplotlib.pyplot, 딥러닝 모델을 작성하기 위해서 keras를 사용한다."
   ]
  },
  {
   "cell_type": "code",
   "execution_count": 19,
   "id": "homeless-complaint",
   "metadata": {},
   "outputs": [],
   "source": [
    "import pandas as pd\n",
    "import numpy as np\n",
    "import matplotlib.pyplot as plt\n",
    "from keras.models import Sequential\n",
    "from keras.layers import LSTM, Dropout, Dense, Activation\n",
    "import datetime"
   ]
  },
  {
   "cell_type": "markdown",
   "id": "aggregate-default",
   "metadata": {},
   "source": [
    "# Load dataset"
   ]
  },
  {
   "cell_type": "markdown",
   "id": "difficult-pipeline",
   "metadata": {},
   "source": [
    "> 삼성전자 csv 파일을 pandas의 read_csv함수를 이용해 읽어온다(주소/파일명). 읽어온 데이터를 data라는 변수에 넣고서 head라는 명령어를 치면은 데이터 프레임 맨 앞 5줄 데이터가 출력된다"
   ]
  },
  {
   "cell_type": "code",
   "execution_count": 20,
   "id": "virgin-cutting",
   "metadata": {},
   "outputs": [
    {
     "data": {
      "text/html": [
       "<div>\n",
       "<style scoped>\n",
       "    .dataframe tbody tr th:only-of-type {\n",
       "        vertical-align: middle;\n",
       "    }\n",
       "\n",
       "    .dataframe tbody tr th {\n",
       "        vertical-align: top;\n",
       "    }\n",
       "\n",
       "    .dataframe thead th {\n",
       "        text-align: right;\n",
       "    }\n",
       "</style>\n",
       "<table border=\"1\" class=\"dataframe\">\n",
       "  <thead>\n",
       "    <tr style=\"text-align: right;\">\n",
       "      <th></th>\n",
       "      <th>Date</th>\n",
       "      <th>Open</th>\n",
       "      <th>High</th>\n",
       "      <th>Low</th>\n",
       "      <th>Close</th>\n",
       "      <th>Adj Close</th>\n",
       "      <th>Volume</th>\n",
       "    </tr>\n",
       "  </thead>\n",
       "  <tbody>\n",
       "    <tr>\n",
       "      <th>0</th>\n",
       "      <td>2016-01-28</td>\n",
       "      <td>23280.0</td>\n",
       "      <td>23360.0</td>\n",
       "      <td>22780.0</td>\n",
       "      <td>22900.0</td>\n",
       "      <td>1099.987793</td>\n",
       "      <td>15795600.0</td>\n",
       "    </tr>\n",
       "    <tr>\n",
       "      <th>1</th>\n",
       "      <td>2016-01-29</td>\n",
       "      <td>22800.0</td>\n",
       "      <td>23000.0</td>\n",
       "      <td>22320.0</td>\n",
       "      <td>23000.0</td>\n",
       "      <td>1104.791382</td>\n",
       "      <td>21849150.0</td>\n",
       "    </tr>\n",
       "    <tr>\n",
       "      <th>2</th>\n",
       "      <td>2016-02-01</td>\n",
       "      <td>23040.0</td>\n",
       "      <td>23260.0</td>\n",
       "      <td>23020.0</td>\n",
       "      <td>23260.0</td>\n",
       "      <td>1117.280273</td>\n",
       "      <td>12998950.0</td>\n",
       "    </tr>\n",
       "    <tr>\n",
       "      <th>3</th>\n",
       "      <td>2016-02-02</td>\n",
       "      <td>23220.0</td>\n",
       "      <td>23320.0</td>\n",
       "      <td>22940.0</td>\n",
       "      <td>23120.0</td>\n",
       "      <td>1110.555420</td>\n",
       "      <td>8317400.0</td>\n",
       "    </tr>\n",
       "    <tr>\n",
       "      <th>4</th>\n",
       "      <td>2016-02-03</td>\n",
       "      <td>23000.0</td>\n",
       "      <td>23040.0</td>\n",
       "      <td>22740.0</td>\n",
       "      <td>22920.0</td>\n",
       "      <td>1100.948608</td>\n",
       "      <td>8725350.0</td>\n",
       "    </tr>\n",
       "  </tbody>\n",
       "</table>\n",
       "</div>"
      ],
      "text/plain": [
       "         Date     Open     High      Low    Close    Adj Close      Volume\n",
       "0  2016-01-28  23280.0  23360.0  22780.0  22900.0  1099.987793  15795600.0\n",
       "1  2016-01-29  22800.0  23000.0  22320.0  23000.0  1104.791382  21849150.0\n",
       "2  2016-02-01  23040.0  23260.0  23020.0  23260.0  1117.280273  12998950.0\n",
       "3  2016-02-02  23220.0  23320.0  22940.0  23120.0  1110.555420   8317400.0\n",
       "4  2016-02-03  23000.0  23040.0  22740.0  22920.0  1100.948608   8725350.0"
      ]
     },
     "execution_count": 20,
     "metadata": {},
     "output_type": "execute_result"
    }
   ],
   "source": [
    "data = pd.read_csv('C:\\Jupyter_Project/005930.KS.csv')\n",
    "data.head()"
   ]
  },
  {
   "cell_type": "markdown",
   "id": "forbidden-executive",
   "metadata": {},
   "source": [
    "# Compute Mid Price "
   ]
  },
  {
   "cell_type": "markdown",
   "id": "according-fellowship",
   "metadata": {},
   "source": [
    "> 최고가와 최저가의 중간가격 mid_prices를 예측한다. high price와 low price를 더한 뒤 2로 나누고 mid_prices에 저장해준다."
   ]
  },
  {
   "cell_type": "code",
   "execution_count": 21,
   "id": "external-twelve",
   "metadata": {},
   "outputs": [],
   "source": [
    "high_prices = data['High'].values\n",
    "low_prices = data['Low'].values\n",
    "mid_prices = (high_prices + low_prices) / 2"
   ]
  },
  {
   "cell_type": "markdown",
   "id": "circular-genesis",
   "metadata": {},
   "source": [
    "# Create Windows"
   ]
  },
  {
   "cell_type": "markdown",
   "id": "experimental-heading",
   "metadata": {},
   "source": [
    "> LSTM의 기본 개념은 최근 50일간의 데이터를 보고 내일 것을 예측한다. seq_len은 window size이고, 다음을 예측하는 모델이다. 계속 바꿀 수 있다. create Window의 의미는 window에 들어가는 데이터의 수는 51개이다. 그 이후 for문을 돌면서 result라는 리스트에다 한스텝씩 넘어가면서 저장을 하게 된다."
   ]
  },
  {
   "cell_type": "markdown",
   "id": "constant-professor",
   "metadata": {},
   "source": [
    "||High|Low|Mid|\n",
    "|---|---|---|---|\n",
    "|2018-10-01||||\n",
    "|2018-10-02||||\n",
    "|2018-10-03||||\n",
    "|...||||\n",
    "|2018-11-30||||\n",
    "|2018-12-01||||\n",
    "|2018-12-02||||\n",
    "|2018-12-03||||\n",
    "|...||||\n",
    ">첫번째 윈도우는 시작일부터 50일+1일, 두번째 윈도우는 시작일 다음 날부터 50일+1일, 세번째 윈도우는 시작일로부터 이틀 뒤부터 50일+1일을 만들어 하나하나씩 예측을 시행할 것이다."
   ]
  },
  {
   "cell_type": "code",
   "execution_count": 22,
   "id": "appropriate-cyprus",
   "metadata": {},
   "outputs": [],
   "source": [
    "seq_len = 50\n",
    "sequence_length = seq_len+1\n",
    "\n",
    "result = []\n",
    "for index in range(len(mid_prices) - sequence_length):\n",
    "    result.append(mid_prices[index: index + sequence_length])"
   ]
  },
  {
   "cell_type": "markdown",
   "id": "medieval-rebecca",
   "metadata": {},
   "source": [
    "# Normalize Data"
   ]
  },
  {
   "cell_type": "markdown",
   "id": "amber-tournament",
   "metadata": {},
   "source": [
    "> 데이터를 정규화해준다. 모델이 더 잘 예측하게 된다. 정규화 해주는 이유는 모델이 더 잘 예측하게 하기 위해서이다. 정규화 방식은 다음과 같다. 첫번째 윈도우의 mid값을 0으로 잡고 그 비율만큼 나머지 값을 다 정해준다. 윈도우를 싹 훑으면서 각 값을 첫번째 값(0)에서 나눠준 뒤에 1을 빼준다.((A/A)-1), ((02/01)-1),,, 하면 정규화된 Window 값을 얻게 된다. 그 결과 값을 다시 result에 넣어준다.\n",
    "  그 다음에 해야 할 일은 트레이닝 데이터랑 테스트 데이터를 나눠줘야 한다. Test Set은 학습할 때 포함시키면 절대로 안된다. 따라서 데이터의 0.9만큼을 곱해주면 된다. 그리고 trainset을 random으로 셔플한다. 순서대로 하면 익숙해지기 때문에. trainset의 input과 output을 정해줘야 하는데 window마다 51개의 데이터가 들어가 있기 때문에 x_train에 50개를 넣고 y_train에 1개를 넣는다. 돌리면 1057개의 training set과 117개의 testset이 나온다. 돌리면 1058일 동안 주식을 배워서 117일 동안 테스트 할 것이다.\n",
    "\n",
    "\n",
    "|Training Set(90%)|Test Set(10%)|\n",
    "|---|---|\n",
    "\n"
   ]
  },
  {
   "cell_type": "code",
   "execution_count": 2,
   "id": "distant-concord",
   "metadata": {},
   "outputs": [
    {
     "ename": "NameError",
     "evalue": "name 'result' is not defined",
     "output_type": "error",
     "traceback": [
      "\u001b[1;31m---------------------------------------------------------------------------\u001b[0m",
      "\u001b[1;31mNameError\u001b[0m                                 Traceback (most recent call last)",
      "\u001b[1;32m<ipython-input-2-a6dc95a29ac8>\u001b[0m in \u001b[0;36m<module>\u001b[1;34m\u001b[0m\n\u001b[0;32m      1\u001b[0m \u001b[0mnormalized_data\u001b[0m \u001b[1;33m=\u001b[0m \u001b[1;33m[\u001b[0m\u001b[1;33m]\u001b[0m\u001b[1;33m\u001b[0m\u001b[1;33m\u001b[0m\u001b[0m\n\u001b[1;32m----> 2\u001b[1;33m \u001b[1;32mfor\u001b[0m \u001b[0mwindow\u001b[0m \u001b[1;32min\u001b[0m \u001b[0mresult\u001b[0m\u001b[1;33m:\u001b[0m\u001b[1;33m\u001b[0m\u001b[1;33m\u001b[0m\u001b[0m\n\u001b[0m\u001b[0;32m      3\u001b[0m     \u001b[0mnormalized_window\u001b[0m \u001b[1;33m=\u001b[0m \u001b[1;33m[\u001b[0m\u001b[1;33m(\u001b[0m\u001b[1;33m(\u001b[0m\u001b[0mfloat\u001b[0m\u001b[1;33m(\u001b[0m\u001b[0mp\u001b[0m\u001b[1;33m)\u001b[0m \u001b[1;33m/\u001b[0m \u001b[0mfloat\u001b[0m\u001b[1;33m(\u001b[0m\u001b[0mwindow\u001b[0m\u001b[1;33m[\u001b[0m\u001b[1;36m0\u001b[0m\u001b[1;33m]\u001b[0m\u001b[1;33m)\u001b[0m\u001b[1;33m)\u001b[0m \u001b[1;33m-\u001b[0m \u001b[1;36m1\u001b[0m\u001b[1;33m)\u001b[0m \u001b[1;32mfor\u001b[0m \u001b[0mp\u001b[0m \u001b[1;32min\u001b[0m \u001b[0mwindow\u001b[0m\u001b[1;33m]\u001b[0m\u001b[1;33m\u001b[0m\u001b[1;33m\u001b[0m\u001b[0m\n\u001b[0;32m      4\u001b[0m     \u001b[0mnormalized_data\u001b[0m\u001b[1;33m.\u001b[0m\u001b[0mappend\u001b[0m\u001b[1;33m(\u001b[0m\u001b[0mnormalized_window\u001b[0m\u001b[1;33m)\u001b[0m\u001b[1;33m\u001b[0m\u001b[1;33m\u001b[0m\u001b[0m\n\u001b[0;32m      5\u001b[0m \u001b[1;33m\u001b[0m\u001b[0m\n",
      "\u001b[1;31mNameError\u001b[0m: name 'result' is not defined"
     ]
    }
   ],
   "source": [
    "normalized_data = []\n",
    "for window in result:\n",
    "    normalized_window = [((float(p) / float(window[0])) - 1) for p in window]\n",
    "    normalized_data.append(normalized_window)\n",
    "\n",
    "result = np.array(normalized_data)\n",
    "\n",
    "# split train and test data\n",
    "row = int(round(result.shape[0] * 0.9))\n",
    "train = result[:row, :]\n",
    "np.random.shuffle(train)\n",
    "\n",
    "x_train = train[:, :-1]\n",
    "x_train = np.reshape(x_train, (x_train.shape[0], x_train.shape[1], 1))\n",
    "y_train = train[:, -1]\n",
    "\n",
    "x_test = result[row:, :-1]\n",
    "x_test = np.reshape(x_test, (x_test.shape[0], x_test.shape[1], 1))\n",
    "y_test = result[row:, -1]\n",
    "\n",
    "x_train.shape, x_test.shape\n",
    "\n",
    "print(y_test)"
   ]
  },
  {
   "cell_type": "markdown",
   "id": "beginning-switch",
   "metadata": {},
   "source": [
    "# Build a Model"
   ]
  },
  {
   "cell_type": "markdown",
   "id": "partial-flesh",
   "metadata": {},
   "source": [
    "> sequential()이라는 클래스를 사용할 것이고, LSTM이라는 모듈이 존재한다. input size를 (50,1)로 지정한다. 첫번째 LSTM의 유닛수는 50개이고, 두번째 LSTM의 유닛수는 64개이다. 아웃풋은 다음날 한개의 데이터를 예측한다. lossfunction 손실함수는 Mean Squared Error를 써주고 optimizer는 rmsprop을 사용할 것이다. model summary로 모델의 개요를 출력한다."
   ]
  },
  {
   "cell_type": "code",
   "execution_count": 24,
   "id": "opened-maria",
   "metadata": {},
   "outputs": [
    {
     "name": "stdout",
     "output_type": "stream",
     "text": [
      "Model: \"sequential_1\"\n",
      "_________________________________________________________________\n",
      "Layer (type)                 Output Shape              Param #   \n",
      "=================================================================\n",
      "lstm_2 (LSTM)                (None, 50, 50)            10400     \n",
      "_________________________________________________________________\n",
      "lstm_3 (LSTM)                (None, 64)                29440     \n",
      "_________________________________________________________________\n",
      "dense_1 (Dense)              (None, 1)                 65        \n",
      "=================================================================\n",
      "Total params: 39,905\n",
      "Trainable params: 39,905\n",
      "Non-trainable params: 0\n",
      "_________________________________________________________________\n"
     ]
    }
   ],
   "source": [
    "model = Sequential()\n",
    "\n",
    "model.add(LSTM(50, return_sequences=True, input_shape=(50,1)))\n",
    "\n",
    "model.add(LSTM(64, return_sequences=False))\n",
    "\n",
    "model.add(Dense(1, activation='linear'))\n",
    "\n",
    "model.compile(loss='mse', optimizer='rmsprop')\n",
    "\n",
    "model.summary()"
   ]
  },
  {
   "cell_type": "markdown",
   "id": "sensitive-rapid",
   "metadata": {},
   "source": [
    "# Training"
   ]
  },
  {
   "cell_type": "markdown",
   "id": "comparable-prophet",
   "metadata": {},
   "source": [
    ">model에서 fit이라는 method에 trainset, validation data에 test를 넣어주고 batch sizes는 한번에 몇개씩 묶어서 학습시킬 것이냐 10개씩, 에폭스는 20번동안 반복해서 학습시킨다.  "
   ]
  },
  {
   "cell_type": "code",
   "execution_count": null,
   "id": "choice-vessel",
   "metadata": {},
   "outputs": [
    {
     "name": "stdout",
     "output_type": "stream",
     "text": [
      "Epoch 1/20\n",
      "106/106 [==============================] - 3s 25ms/step - loss: nan - val_loss: nan\n",
      "Epoch 2/20\n",
      "106/106 [==============================] - 3s 26ms/step - loss: nan - val_loss: nan\n",
      "Epoch 3/20\n",
      "106/106 [==============================] - 3s 24ms/step - loss: nan - val_loss: nan\n",
      "Epoch 4/20\n",
      "106/106 [==============================] - 3s 24ms/step - loss: nan - val_loss: nan\n",
      "Epoch 5/20\n",
      "106/106 [==============================] - 3s 25ms/step - loss: nan - val_loss: nan\n",
      "Epoch 6/20\n",
      "106/106 [==============================] - 3s 24ms/step - loss: nan - val_loss: nan\n",
      "Epoch 7/20\n",
      "106/106 [==============================] - 3s 24ms/step - loss: nan - val_loss: nan\n",
      "Epoch 8/20\n",
      "106/106 [==============================] - 3s 27ms/step - loss: nan - val_loss: nan\n",
      "Epoch 9/20\n",
      "106/106 [==============================] - 3s 24ms/step - loss: nan - val_loss: nan\n",
      "Epoch 10/20\n",
      "106/106 [==============================] - 2s 23ms/step - loss: nan - val_loss: nan\n",
      "Epoch 11/20\n",
      "106/106 [==============================] - 3s 25ms/step - loss: nan - val_loss: nan\n",
      "Epoch 12/20\n",
      "106/106 [==============================] - 3s 25ms/step - loss: nan - val_loss: nan\n",
      "Epoch 13/20\n",
      "106/106 [==============================] - 3s 27ms/step - loss: nan - val_loss: nan\n",
      "Epoch 14/20\n",
      "106/106 [==============================] - 3s 27ms/step - loss: nan - val_loss: nan\n",
      "Epoch 15/20\n",
      "106/106 [==============================] - 3s 26ms/step - loss: nan - val_loss: nan\n",
      "Epoch 16/20\n",
      "106/106 [==============================] - 3s 26ms/step - loss: nan - val_loss: nan\n",
      "Epoch 17/20\n",
      " 80/106 [=====================>........] - ETA: 0s - loss: nan"
     ]
    }
   ],
   "source": [
    "model.fit(x_train, y_train,\n",
    "    validation_data=(x_test, y_test),\n",
    "    batch_size=10,\n",
    "    epochs=20)\n",
    "print(validation_data)"
   ]
  },
  {
   "cell_type": "markdown",
   "id": "severe-wholesale",
   "metadata": {},
   "source": [
    "# Prediction"
   ]
  },
  {
   "cell_type": "markdown",
   "id": "acceptable-secondary",
   "metadata": {},
   "source": [
    ">model.predict를 사용해서 test 데이터를 예측한다. 예측한 결과를 pred에 둔 다음에 그래프로 그린다. 그 결과 다음과 같은 결과가 나온다."
   ]
  },
  {
   "cell_type": "code",
   "execution_count": 1,
   "id": "entire-marine",
   "metadata": {},
   "outputs": [
    {
     "ename": "NameError",
     "evalue": "name 'x_test' is not defined",
     "output_type": "error",
     "traceback": [
      "\u001b[1;31m---------------------------------------------------------------------------\u001b[0m",
      "\u001b[1;31mNameError\u001b[0m                                 Traceback (most recent call last)",
      "\u001b[1;32m<ipython-input-1-35a308e84faf>\u001b[0m in \u001b[0;36m<module>\u001b[1;34m\u001b[0m\n\u001b[1;32m----> 1\u001b[1;33m \u001b[0mx_test\u001b[0m \u001b[1;33m=\u001b[0m \u001b[0mx_test\u001b[0m\u001b[1;33m.\u001b[0m\u001b[0mastype\u001b[0m\u001b[1;33m(\u001b[0m\u001b[0mfloat\u001b[0m\u001b[1;33m)\u001b[0m\u001b[1;33m\u001b[0m\u001b[1;33m\u001b[0m\u001b[0m\n\u001b[0m\u001b[0;32m      2\u001b[0m \u001b[0mpred\u001b[0m \u001b[1;33m=\u001b[0m \u001b[0mmodel\u001b[0m\u001b[1;33m.\u001b[0m\u001b[0mpredict\u001b[0m\u001b[1;33m(\u001b[0m\u001b[0mx_test\u001b[0m\u001b[1;33m)\u001b[0m\u001b[1;33m\u001b[0m\u001b[1;33m\u001b[0m\u001b[0m\n\u001b[0;32m      3\u001b[0m \u001b[1;33m\u001b[0m\u001b[0m\n\u001b[0;32m      4\u001b[0m \u001b[0mfig\u001b[0m \u001b[1;33m=\u001b[0m \u001b[0mplt\u001b[0m\u001b[1;33m.\u001b[0m\u001b[0mfigure\u001b[0m\u001b[1;33m(\u001b[0m\u001b[0mfacecolor\u001b[0m\u001b[1;33m=\u001b[0m\u001b[1;34m'white'\u001b[0m\u001b[1;33m,\u001b[0m \u001b[0mfigsize\u001b[0m\u001b[1;33m=\u001b[0m\u001b[1;33m(\u001b[0m\u001b[1;36m20\u001b[0m\u001b[1;33m,\u001b[0m \u001b[1;36m10\u001b[0m\u001b[1;33m)\u001b[0m\u001b[1;33m)\u001b[0m\u001b[1;33m\u001b[0m\u001b[1;33m\u001b[0m\u001b[0m\n\u001b[0;32m      5\u001b[0m \u001b[0max\u001b[0m \u001b[1;33m=\u001b[0m \u001b[0mfig\u001b[0m\u001b[1;33m.\u001b[0m\u001b[0madd_subplot\u001b[0m\u001b[1;33m(\u001b[0m\u001b[1;36m111\u001b[0m\u001b[1;33m)\u001b[0m\u001b[1;33m\u001b[0m\u001b[1;33m\u001b[0m\u001b[0m\n",
      "\u001b[1;31mNameError\u001b[0m: name 'x_test' is not defined"
     ]
    }
   ],
   "source": [
    "x_test = x_test.astype(float)\n",
    "pred = model.predict(x_test)\n",
    "\n",
    "fig = plt.figure(facecolor='white', figsize=(20, 10))\n",
    "ax = fig.add_subplot(111)\n",
    "ax.plot(y_test, label='True')\n",
    "ax.plot(pred, label='prediction')\n",
    "ax.legend()\n",
    "plt.show()"
   ]
  },
  {
   "cell_type": "code",
   "execution_count": 29,
   "id": "catholic-duration",
   "metadata": {},
   "outputs": [
    {
     "name": "stdout",
     "output_type": "stream",
     "text": [
      "[ 0.14243323  0.15039841  0.13752456  0.14662757  0.09372071  0.05376344\n",
      "  0.05641492  0.0602518   0.05500451  0.01895307  0.04062789  0.0738255\n",
      "  0.10794897  0.09250243  0.07389635  0.07507218  0.05358852  0.04310345\n",
      "  0.05101059  0.06350711  0.05719733  0.06597549  0.10171103  0.09746954\n",
      "  0.12358491  0.12        0.13546566  0.11672794  0.11527905  0.12453184\n",
      "  0.11842105  0.12796209  0.09915809  0.08598131  0.063129    0.06721915\n",
      "  0.07261029  0.07720588  0.05898367  0.07622505  0.09124424  0.1119334\n",
      "  0.09363636  0.05729167  0.02184874  0.01175483  0.01790281  0.04450262\n",
      "  0.05125977  0.07293497  0.04155844  0.04069264  0.04663212  0.02131287\n",
      "  0.01285347 -0.01360544 -0.0129199  -0.03731976 -0.0042735   0.03454384\n",
      "  0.05678793  0.075       0.07174491  0.06951872  0.08847185  0.09310654\n",
      "  0.1280654   0.19926538  0.21428571  0.16666667  0.16050496  0.14146773\n",
      "  0.14322692  0.16567037  0.131822    0.13945578  0.12676056  0.11358025\n",
      "  0.11074651  0.15070774  0.17478992  0.19495798  0.23744681  0.24354561\n",
      "  0.2555938   0.26229508  0.2587832   0.26023891  0.26306769  0.2470489\n",
      "  0.23564189  0.22046589  0.20864505  0.19293924  0.203125    0.26804979\n",
      "  0.32579564  0.30492899  0.3107438   0.34807535  0.37572735  0.38602329\n",
      "  0.37706271  0.44407346  0.57614213  0.54482759  0.57329843  0.57444934\n",
      "  0.54334764  0.46746575  0.44080605  0.4576412   0.44710744  0.47083333\n",
      "  0.44663383  0.43898444  0.39533011]\n"
     ]
    },
    {
     "data": {
      "image/png": "[encoded data removed]",
      "text/plain": [
       "<Figure size 1440x720 with 1 Axes>"
      ]
     },
     "metadata": {},
     "output_type": "display_data"
    }
   ],
   "source": [
    "pred = model.predict(x_test)\n",
    "fig = plt.figure(facecolor='white', figsize=(20, 10))\n",
    "ax = fig.add_subplot(111)\n",
    "\n",
    "ax.plot(pred, label='Prediction')\n",
    "ax.legend()\n",
    "plt.show()"
   ]
  },
  {
   "cell_type": "code",
   "execution_count": null,
   "id": "cubic-genesis",
   "metadata": {},
   "outputs": [],
   "source": []
  }
 ],
 "metadata": {
  "kernelspec": {
   "display_name": "Python 3",
   "language": "python",
   "name": "python3"
  },
  "language_info": {
   "codemirror_mode": {
    "name": "ipython",
    "version": 3
   },
   "file_extension": ".py",
   "mimetype": "text/x-python",
   "name": "python",
   "nbconvert_exporter": "python",
   "pygments_lexer": "ipython3",
   "version": "3.8.5"
  }
 },
 "nbformat": 4,
 "nbformat_minor": 5
}
