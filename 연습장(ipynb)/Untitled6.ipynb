{
 "cells": [
  {
   "cell_type": "code",
   "execution_count": 1,
   "id": "entitled-appreciation",
   "metadata": {},
   "outputs": [],
   "source": [
    "# 텐서플로우의 아키텍처에 대한 이론적인 내용과 구조 설명\n",
    "\n",
    "# 클라이언트에서 작성된 그래프가 마스터로 넘어가고\n",
    "# 마스터가 그 그래프를 조각 단위로 워커들에게 분배\n",
    "# 워커들은 커널 기능을 이용하여 각각의 그래프 조각들을 실제로 실행할 수 있도록 처리"
   ]
  },
  {
   "cell_type": "code",
   "execution_count": 2,
   "id": "interesting-patient",
   "metadata": {},
   "outputs": [],
   "source": [
    "# 텐서플로우 아키텍처\n",
    "\n",
    "# python, C++을 통해 tensorflow을 이용할 수 있다\n",
    "# -> C API 위에서 python, C++ 등의 언어를 이용하여 ~\n",
    "# 머신러닝 프로그램을 작성할 수 있다"
   ]
  },
  {
   "cell_type": "code",
   "execution_count": 3,
   "id": "adult-branch",
   "metadata": {},
   "outputs": [],
   "source": [
    "# 클라이언트(Client)\n",
    "\n",
    "# 텐서플로우 아키텍처 시스템에서 상위 계층에 위치\n",
    "# 컴퓨터 연산 과정을 데이터 플로우 그래프 형태로 표현\n",
    "# 세션을 이용해 자신이 만든 그래프를 실질적으로 실행"
   ]
  },
  {
   "cell_type": "code",
   "execution_count": 4,
   "id": "french-dream",
   "metadata": {},
   "outputs": [],
   "source": [
    "# 분산 마스터(Distributed Master)\n",
    "\n",
    "# 세션의 시작을 위한 인수로 정의된 그래프에서 부분 그래프로 나눠 정리\n",
    "# 하위 그래프를 다른 프로세스와 장치에서 실행되는 여러 조각으로 분할\n",
    "# 그래프 조각이 처리될 수 있도록 작업자 서비스에게 분배\n",
    "# 작업자 서비스가 실행할 그래프 조각을 초기화"
   ]
  },
  {
   "cell_type": "code",
   "execution_count": 5,
   "id": "expressed-citation",
   "metadata": {},
   "outputs": [],
   "source": [
    "# 워커 서비스(Worker Services)\n",
    "\n",
    "# 특정 하드웨어(CPU, GPU)에게 적절한 커널 기능을 이용하는 그래프 작업의 실행을 관리\n",
    "# 그래프가 효율적으로 동작하도록 하기 위해 커널 기능을 잘 이용 필요\n",
    "# 다른 작업자 서비스와 실행 결과를 주고 받음"
   ]
  },
  {
   "cell_type": "code",
   "execution_count": null,
   "id": "angry-allah",
   "metadata": {},
   "outputs": [],
   "source": [
    "# 커널 기능\n",
    "\n",
    "# 개별적인 그래프 작업을 처리\n",
    "# 실질적으로 컴퓨터가 연산을 처리"
   ]
  }
 ],
 "metadata": {
  "kernelspec": {
   "display_name": "Python 3",
   "language": "python",
   "name": "python3"
  },
  "language_info": {
   "codemirror_mode": {
    "name": "ipython",
    "version": 3
   },
   "file_extension": ".py",
   "mimetype": "text/x-python",
   "name": "python",
   "nbconvert_exporter": "python",
   "pygments_lexer": "ipython3",
   "version": "3.8.5"
  }
 },
 "nbformat": 4,
 "nbformat_minor": 5
}
