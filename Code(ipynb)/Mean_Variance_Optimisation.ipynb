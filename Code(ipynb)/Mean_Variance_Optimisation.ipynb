{
 "cells": [
  {
   "cell_type": "markdown",
   "id": "pressed-uncle",
   "metadata": {},
   "source": [
    "### 필요한 모듈을 가져오고 데이터를 로드하기"
   ]
  },
  {
   "cell_type": "code",
   "execution_count": 1,
   "id": "capable-shepherd",
   "metadata": {},
   "outputs": [],
   "source": [
    "import numpy as np\n",
    "import pandas as pd\n",
    "import matplotlib.pyplot as plt\n",
    "import seaborn as sns\n",
    "import scipy.stats as stats\n",
    "from scipy.stats import norm\n",
    "sns.set_theme(color_codes=True)"
   ]
  },
  {
   "cell_type": "code",
   "execution_count": 2,
   "id": "productive-england",
   "metadata": {},
   "outputs": [
    {
     "data": {
      "text/plain": [
       "['C:/Jupyter_Project/SE.csv',\n",
       " 'C:/Jupyter_Project/SKH.csv',\n",
       " 'C:/Jupyter_Project/NAV.csv',\n",
       " 'C:/Jupyter_Project/LGC.csv',\n",
       " 'C:/Jupyter_Project/SAMB.csv',\n",
       " 'C:/Jupyter_Project/SSDI.csv',\n",
       " 'C:/Jupyter_Project/HD.csv',\n",
       " 'C:/Jupyter_Project/KAKA.csv',\n",
       " 'C:/Jupyter_Project/CETR.csv',\n",
       " 'C:/Jupyter_Project/KIA.csv',\n",
       " 'C:/Jupyter_Project/HS.csv']"
      ]
     },
     "execution_count": 2,
     "metadata": {},
     "output_type": "execute_result"
    }
   ],
   "source": [
    "# 예측할 종목은 삼성전자, SK하이닉스, 네이버, LG화학, 삼성바이오로직스, 삼성SDI, 현대차, 카카오, 센트리온, 기아, 한양증권입니다\n",
    "# 기간은 2020.02.01 ~ 2021.02.01 입니다\n",
    "\n",
    "directory = 'C:/Jupyter_Project/'\n",
    "ori_name = ['SE.csv', 'SKH.csv', 'NAV.csv', 'LGC.csv', 'SAMB.csv',\n",
    "          'SSDI.csv', 'HD.csv', 'KAKA.csv', 'CETR.csv', 'KIA.csv', 'HS.csv']\n",
    "stocks = [directory + s for s in ori_name]\n",
    "stocks"
   ]
  },
  {
   "cell_type": "code",
   "execution_count": 3,
   "id": "measured-portland",
   "metadata": {},
   "outputs": [],
   "source": [
    "dfs = [pd.read_csv(s)[['Date', 'Close']] for s in stocks]"
   ]
  },
  {
   "cell_type": "code",
   "execution_count": 4,
   "id": "derived-aggregate",
   "metadata": {},
   "outputs": [
    {
     "data": {
      "text/html": [
       "<div>\n",
       "<style scoped>\n",
       "    .dataframe tbody tr th:only-of-type {\n",
       "        vertical-align: middle;\n",
       "    }\n",
       "\n",
       "    .dataframe tbody tr th {\n",
       "        vertical-align: top;\n",
       "    }\n",
       "\n",
       "    .dataframe thead th {\n",
       "        text-align: right;\n",
       "    }\n",
       "</style>\n",
       "<table border=\"1\" class=\"dataframe\">\n",
       "  <thead>\n",
       "    <tr style=\"text-align: right;\">\n",
       "      <th></th>\n",
       "      <th>Close_x</th>\n",
       "      <th>Close_y</th>\n",
       "      <th>Close_x</th>\n",
       "      <th>Close_y</th>\n",
       "      <th>Close_x</th>\n",
       "      <th>Close_y</th>\n",
       "      <th>Close_x</th>\n",
       "      <th>Close_y</th>\n",
       "      <th>Close_x</th>\n",
       "      <th>Close_y</th>\n",
       "      <th>Close</th>\n",
       "    </tr>\n",
       "  </thead>\n",
       "  <tbody>\n",
       "    <tr>\n",
       "      <th>0</th>\n",
       "      <td>57200</td>\n",
       "      <td>94000</td>\n",
       "      <td>180000</td>\n",
       "      <td>343500</td>\n",
       "      <td>495000</td>\n",
       "      <td>287000</td>\n",
       "      <td>127500</td>\n",
       "      <td>162000</td>\n",
       "      <td>163725.48438</td>\n",
       "      <td>41950</td>\n",
       "      <td>9370</td>\n",
       "    </tr>\n",
       "    <tr>\n",
       "      <th>1</th>\n",
       "      <td>56400</td>\n",
       "      <td>93500</td>\n",
       "      <td>179500</td>\n",
       "      <td>337500</td>\n",
       "      <td>484500</td>\n",
       "      <td>276000</td>\n",
       "      <td>125000</td>\n",
       "      <td>159000</td>\n",
       "      <td>161764.70313</td>\n",
       "      <td>40900</td>\n",
       "      <td>9570</td>\n",
       "    </tr>\n",
       "    <tr>\n",
       "      <th>2</th>\n",
       "      <td>57200</td>\n",
       "      <td>94700</td>\n",
       "      <td>177500</td>\n",
       "      <td>350000</td>\n",
       "      <td>479500</td>\n",
       "      <td>284000</td>\n",
       "      <td>123500</td>\n",
       "      <td>159500</td>\n",
       "      <td>163235.29688</td>\n",
       "      <td>40100</td>\n",
       "      <td>9140</td>\n",
       "    </tr>\n",
       "    <tr>\n",
       "      <th>3</th>\n",
       "      <td>58900</td>\n",
       "      <td>97100</td>\n",
       "      <td>180500</td>\n",
       "      <td>379500</td>\n",
       "      <td>492500</td>\n",
       "      <td>308000</td>\n",
       "      <td>124000</td>\n",
       "      <td>164500</td>\n",
       "      <td>164215.68750</td>\n",
       "      <td>40250</td>\n",
       "      <td>9110</td>\n",
       "    </tr>\n",
       "    <tr>\n",
       "      <th>4</th>\n",
       "      <td>59500</td>\n",
       "      <td>97700</td>\n",
       "      <td>181500</td>\n",
       "      <td>382000</td>\n",
       "      <td>490000</td>\n",
       "      <td>314000</td>\n",
       "      <td>124000</td>\n",
       "      <td>163000</td>\n",
       "      <td>161274.51563</td>\n",
       "      <td>39400</td>\n",
       "      <td>9040</td>\n",
       "    </tr>\n",
       "  </tbody>\n",
       "</table>\n",
       "</div>"
      ],
      "text/plain": [
       "   Close_x  Close_y  Close_x  Close_y  Close_x  Close_y  Close_x  Close_y  \\\n",
       "0    57200    94000   180000   343500   495000   287000   127500   162000   \n",
       "1    56400    93500   179500   337500   484500   276000   125000   159000   \n",
       "2    57200    94700   177500   350000   479500   284000   123500   159500   \n",
       "3    58900    97100   180500   379500   492500   308000   124000   164500   \n",
       "4    59500    97700   181500   382000   490000   314000   124000   163000   \n",
       "\n",
       "        Close_x  Close_y  Close  \n",
       "0  163725.48438    41950   9370  \n",
       "1  161764.70313    40900   9570  \n",
       "2  163235.29688    40100   9140  \n",
       "3  164215.68750    40250   9110  \n",
       "4  161274.51563    39400   9040  "
      ]
     },
     "execution_count": 4,
     "metadata": {},
     "output_type": "execute_result"
    }
   ],
   "source": [
    "from functools import reduce\n",
    "data = reduce(lambda left,right: pd.merge(left,right,on='Date'), dfs).iloc[:, 1:]\n",
    "data.head()"
   ]
  },
  {
   "cell_type": "markdown",
   "id": "acquired-athletics",
   "metadata": {},
   "source": [
    "### 수익률의 평균과 표준편차를 구하기"
   ]
  },
  {
   "cell_type": "code",
   "execution_count": 5,
   "id": "inclusive-elizabeth",
   "metadata": {},
   "outputs": [],
   "source": [
    "# 수익률의 평균과 표준편차를 구해줍니다\n",
    "\n",
    "returns = data.pct_change()\n",
    "mean_daily_returns = returns.mean()\n",
    "volatilities = returns.std()"
   ]
  },
  {
   "cell_type": "code",
   "execution_count": 6,
   "id": "fifteen-separation",
   "metadata": {
    "scrolled": false
   },
   "outputs": [
    {
     "data": {
      "text/plain": [
       "Close_x    0.001718\n",
       "Close_y    0.001490\n",
       "Close_x    0.002973\n",
       "Close_y    0.004735\n",
       "Close_x    0.002417\n",
       "Close_y    0.004421\n",
       "Close_x    0.003101\n",
       "Close_y    0.004357\n",
       "Close_x    0.003933\n",
       "Close_y    0.003639\n",
       "Close      0.000330\n",
       "dtype: float64"
      ]
     },
     "execution_count": 6,
     "metadata": {},
     "output_type": "execute_result"
    }
   ],
   "source": [
    "mean_daily_returns"
   ]
  },
  {
   "cell_type": "code",
   "execution_count": 7,
   "id": "suitable-border",
   "metadata": {
    "scrolled": false
   },
   "outputs": [
    {
     "data": {
      "text/plain": [
       "Close_x    0.021490\n",
       "Close_y    0.026613\n",
       "Close_x    0.025964\n",
       "Close_y    0.036463\n",
       "Close_x    0.029861\n",
       "Close_y    0.034789\n",
       "Close_x    0.034940\n",
       "Close_y    0.026281\n",
       "Close_x    0.036751\n",
       "Close_y    0.034354\n",
       "Close      0.025353\n",
       "dtype: float64"
      ]
     },
     "execution_count": 7,
     "metadata": {},
     "output_type": "execute_result"
    }
   ],
   "source": [
    "volatilities"
   ]
  },
  {
   "cell_type": "code",
   "execution_count": 8,
   "id": "current-waters",
   "metadata": {},
   "outputs": [],
   "source": [
    "# returns와 volatility에 대한 DataFrame을 만듭니다\n",
    "\n",
    "combine = pd.DataFrame({'returns': mean_daily_returns,\n",
    "                       'volatility': volatilities})"
   ]
  },
  {
   "cell_type": "code",
   "execution_count": 9,
   "id": "comparable-microwave",
   "metadata": {
    "scrolled": true
   },
   "outputs": [
    {
     "name": "stdout",
     "output_type": "stream",
     "text": [
      "          returns  volatility\n",
      "Close_x  0.001718    0.021490\n",
      "Close_y  0.001490    0.026613\n",
      "Close_x  0.002973    0.025964\n",
      "Close_y  0.004735    0.036463\n",
      "Close_x  0.002417    0.029861\n",
      "Close_y  0.004421    0.034789\n",
      "Close_x  0.003101    0.034940\n",
      "Close_y  0.004357    0.026281\n",
      "Close_x  0.003933    0.036751\n",
      "Close_y  0.003639    0.034354\n",
      "Close    0.000330    0.025353\n"
     ]
    }
   ],
   "source": [
    "print(combine)"
   ]
  },
  {
   "cell_type": "markdown",
   "id": "congressional-hybrid",
   "metadata": {},
   "source": [
    "### 시각화하기\n",
    "> 무차별 곡선 위에 위치한 종목을 매수하고 아래에 있는 종목을 매도해야 합니다. 예를 들면 Naver와 SAMB 중에서 고민한다면 NAVER를 사야합니다. 아래 그래프 상에서는 KAKAO에 투자하는 것이 가장 유리합니다. 한양증권에 투자하는 행동은 그래프 상에 존재하는 어떤 투자보다도 열등합니다"
   ]
  },
  {
   "cell_type": "code",
   "execution_count": 10,
   "id": "breathing-discipline",
   "metadata": {
    "scrolled": true
   },
   "outputs": [
    {
     "data": {
      "image/png": "[encoded data removed]",
      "text/plain": [
       "<Figure size 432x288 with 1 Axes>"
      ]
     },
     "metadata": {
      "needs_background": "light"
     },
     "output_type": "display_data"
    }
   ],
   "source": [
    "# seaborn 라이브러리의 regplot을 이용해서 산포도와 선형회귀곡선을 함께 그립니다\n",
    "# volatility는 Risk, return은 Expected return을 의미합니다\n",
    "\n",
    "g = sns.regplot(x=\"volatility\", y=\"returns\", data=combine)\n",
    "\n",
    "for i in range(combine.shape[0]):\n",
    "    y, x = combine.iloc[i]\n",
    "    plt.text(x,y,ori_name[i].replace('.csv',''))"
   ]
  }
 ],
 "metadata": {
  "kernelspec": {
   "display_name": "tf-1",
   "language": "python",
   "name": "tf-1"
  },
  "language_info": {
   "codemirror_mode": {
    "name": "ipython",
    "version": 3
   },
   "file_extension": ".py",
   "mimetype": "text/x-python",
   "name": "python",
   "nbconvert_exporter": "python",
   "pygments_lexer": "ipython3",
   "version": "3.7.9"
  }
 },
 "nbformat": 4,
 "nbformat_minor": 5
}
