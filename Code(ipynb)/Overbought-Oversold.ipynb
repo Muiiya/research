{
 "cells": [
  {
   "cell_type": "markdown",
   "id": "express-asset",
   "metadata": {},
   "source": [
    "### 필요한 모듈을 가져오고 데이터를 로드합니다"
   ]
  },
  {
   "cell_type": "code",
   "execution_count": 1,
   "id": "lesser-carpet",
   "metadata": {},
   "outputs": [
    {
     "name": "stderr",
     "output_type": "stream",
     "text": [
      "C:\\ProgramData\\Anaconda3\\envs\\tf-1\\lib\\site-packages\\mpl_finance.py:22: DeprecationWarning: \n",
      "\n",
      "  =================================================================\n",
      "\n",
      "   WARNING: `mpl_finance` is deprecated:\n",
      "\n",
      "    Please use `mplfinance` instead (no hyphen, no underscore).\n",
      "\n",
      "    To install: `pip install --upgrade mplfinance` \n",
      "\n",
      "   For more information, see: https://pypi.org/project/mplfinance/\n",
      "\n",
      "  =================================================================\n",
      "\n",
      "  category=DeprecationWarning)\n"
     ]
    }
   ],
   "source": [
    "import pandas as pd\n",
    "import numpy as np\n",
    "import matplotlib.pyplot as plt\n",
    "import matplotlib.dates as mdates\n",
    "import matplotlib.ticker as mticker\n",
    "import matplotlib\n",
    "from mpl_finance import candlestick_ohlc\n",
    "from datetime import datetime\n",
    "import seaborn as sns\n",
    "sns.set()"
   ]
  },
  {
   "cell_type": "code",
   "execution_count": 2,
   "id": "coral-content",
   "metadata": {},
   "outputs": [
    {
     "data": {
      "text/html": [
       "<div>\n",
       "<style scoped>\n",
       "    .dataframe tbody tr th:only-of-type {\n",
       "        vertical-align: middle;\n",
       "    }\n",
       "\n",
       "    .dataframe tbody tr th {\n",
       "        vertical-align: top;\n",
       "    }\n",
       "\n",
       "    .dataframe thead th {\n",
       "        text-align: right;\n",
       "    }\n",
       "</style>\n",
       "<table border=\"1\" class=\"dataframe\">\n",
       "  <thead>\n",
       "    <tr style=\"text-align: right;\">\n",
       "      <th></th>\n",
       "      <th>Date</th>\n",
       "      <th>Open</th>\n",
       "      <th>High</th>\n",
       "      <th>Low</th>\n",
       "      <th>Close</th>\n",
       "      <th>Adj Close</th>\n",
       "      <th>Volume</th>\n",
       "    </tr>\n",
       "  </thead>\n",
       "  <tbody>\n",
       "    <tr>\n",
       "      <th>0</th>\n",
       "      <td>2020-01-29</td>\n",
       "      <td>8740</td>\n",
       "      <td>9120</td>\n",
       "      <td>8740</td>\n",
       "      <td>9120</td>\n",
       "      <td>9120</td>\n",
       "      <td>96112</td>\n",
       "    </tr>\n",
       "    <tr>\n",
       "      <th>1</th>\n",
       "      <td>2020-01-30</td>\n",
       "      <td>9350</td>\n",
       "      <td>9570</td>\n",
       "      <td>9200</td>\n",
       "      <td>9370</td>\n",
       "      <td>9370</td>\n",
       "      <td>175760</td>\n",
       "    </tr>\n",
       "    <tr>\n",
       "      <th>2</th>\n",
       "      <td>2020-01-31</td>\n",
       "      <td>9380</td>\n",
       "      <td>9710</td>\n",
       "      <td>9380</td>\n",
       "      <td>9570</td>\n",
       "      <td>9570</td>\n",
       "      <td>226732</td>\n",
       "    </tr>\n",
       "    <tr>\n",
       "      <th>3</th>\n",
       "      <td>2020-02-03</td>\n",
       "      <td>9440</td>\n",
       "      <td>9440</td>\n",
       "      <td>9030</td>\n",
       "      <td>9140</td>\n",
       "      <td>9140</td>\n",
       "      <td>99485</td>\n",
       "    </tr>\n",
       "    <tr>\n",
       "      <th>4</th>\n",
       "      <td>2020-02-04</td>\n",
       "      <td>9140</td>\n",
       "      <td>9150</td>\n",
       "      <td>9020</td>\n",
       "      <td>9110</td>\n",
       "      <td>9110</td>\n",
       "      <td>30886</td>\n",
       "    </tr>\n",
       "  </tbody>\n",
       "</table>\n",
       "</div>"
      ],
      "text/plain": [
       "         Date  Open  High   Low  Close  Adj Close  Volume\n",
       "0  2020-01-29  8740  9120  8740   9120       9120   96112\n",
       "1  2020-01-30  9350  9570  9200   9370       9370  175760\n",
       "2  2020-01-31  9380  9710  9380   9570       9570  226732\n",
       "3  2020-02-03  9440  9440  9030   9140       9140   99485\n",
       "4  2020-02-04  9140  9150  9020   9110       9110   30886"
      ]
     },
     "execution_count": 2,
     "metadata": {},
     "output_type": "execute_result"
    }
   ],
   "source": [
    "# FinanceDataReader로 데이터를 불러옵니다\n",
    "# 진단할 종목은 한양증권입니다. 기간은 2020.01.29~2021.02.01 입니다.\n",
    "\n",
    "df = pd.read_csv('C:/Jupyter_Project/HanyangSecurities.csv')\n",
    "df.head()"
   ]
  },
  {
   "cell_type": "code",
   "execution_count": 3,
   "id": "initial-aggregate",
   "metadata": {},
   "outputs": [],
   "source": [
    "date = [datetime.strptime(d, '%Y-%m-%d') for d in df['Date']]"
   ]
  },
  {
   "cell_type": "code",
   "execution_count": 4,
   "id": "checked-donna",
   "metadata": {},
   "outputs": [],
   "source": [
    "candlesticks = list(zip(mdates.date2num(date),df['Open'],\n",
    "                   df['High'],df['Low'],df['Close'],df['Volume']))"
   ]
  },
  {
   "cell_type": "markdown",
   "id": "limiting-priority",
   "metadata": {},
   "source": [
    "### 주가와 거래량 사이의 관계를 살펴봅니다"
   ]
  },
  {
   "cell_type": "code",
   "execution_count": 6,
   "id": "documentary-spread",
   "metadata": {
    "scrolled": true
   },
   "outputs": [
    {
     "data": {
      "image/png": "[encoded data removed]",
      "text/plain": [
       "<Figure size 1080x1080 with 2 Axes>"
      ]
     },
     "metadata": {
      "needs_background": "light"
     },
     "output_type": "display_data"
    }
   ],
   "source": [
    "fig = plt.figure(figsize = (15, 15))\n",
    "ax = fig.add_subplot(1,1,1)\n",
    "ax.set_ylabel('Quote ($)', size=20)\n",
    "\n",
    "dates = [x[0] for x in candlesticks]\n",
    "dates = np.asarray(dates)\n",
    "volume = [x[5] for x in candlesticks]\n",
    "volume = np.asarray(volume)\n",
    "\n",
    "candlestick_ohlc(ax, candlesticks, width=1,\n",
    "                 colorup='g', colordown='r')\n",
    "pad = 0.25\n",
    "yl = ax.get_ylim()\n",
    "ax.set_ylim(yl[0]-(yl[1]-yl[0])*pad,yl[1])\n",
    "ax2 = ax.twinx()\n",
    "\n",
    "ax2.set_position(matplotlib.transforms.Bbox([[0.125,0],[0.9,0.32]]))\n",
    "\n",
    "pos = df['Open'] - df['Close']<0\n",
    "neg = df['Open'] - df['Close']>0\n",
    "ax2.bar(dates[pos],volume[pos],color='green',width=1,align='center')\n",
    "ax2.bar(dates[neg],volume[neg],color='red',width=1,align='center')\n",
    "\n",
    "ax2.set_xlim(min(dates),max(dates))\n",
    "yticks = ax2.get_yticks()\n",
    "ax2.set_yticks(yticks[::3])\n",
    "\n",
    "ax2.yaxis.set_label_position(\"right\")\n",
    "ax2.set_ylabel('Volume', size=20)\n",
    "\n",
    "ax.xaxis.set_major_formatter(mdates.DateFormatter('%Y-%m-%d'))\n",
    "ax.xaxis.set_major_locator(mticker.MaxNLocator(10))\n",
    "\n",
    "plt.show()"
   ]
  },
  {
   "cell_type": "code",
   "execution_count": 7,
   "id": "heated-sixth",
   "metadata": {},
   "outputs": [],
   "source": [
    "def removal(signal, repeat):\n",
    "    copy_signal = np.copy(signal)\n",
    "    for j in range(repeat):\n",
    "        for i in range(3, len(signal)):\n",
    "            copy_signal[i - 1] = (copy_signal[i - 2] + copy_signal[i]) / 2\n",
    "    return copy_signal\n",
    "\n",
    "def get(original_signal, removed_signal):\n",
    "    buffer = []\n",
    "    for i in range(len(removed_signal)):\n",
    "        buffer.append(original_signal[i] - removed_signal[i])\n",
    "    return np.array(buffer)\n",
    "\n",
    "signal = np.copy(df.Open.values)\n",
    "removed_signal = removal(signal, 30)\n",
    "noise_open = get(signal, removed_signal)\n",
    "\n",
    "signal = np.copy(df.High.values)\n",
    "removed_signal = removal(signal, 30)\n",
    "noise_high = get(signal, removed_signal)\n",
    "\n",
    "signal = np.copy(df.Low.values)\n",
    "removed_signal = removal(signal, 30)\n",
    "noise_low = get(signal, removed_signal)\n",
    "\n",
    "signal = np.copy(df.Close.values)\n",
    "removed_signal = removal(signal, 30)\n",
    "noise_close = get(signal, removed_signal)"
   ]
  },
  {
   "cell_type": "markdown",
   "id": "southern-elite",
   "metadata": {},
   "source": [
    "### 과매도 - 과매수 구간 시각화하기\n",
    "> 그래프를 관찰하면 현재 한양증권의 주가는 Oversold line에 근접하고 있으며 이를 통해 유보하였다가 line을 돌파하면 구매하는 것이 바람직합니다"
   ]
  },
  {
   "cell_type": "code",
   "execution_count": 9,
   "id": "private-motor",
   "metadata": {},
   "outputs": [
    {
     "data": {
      "image/png": "[encoded data removed]",
      "text/plain": [
       "<Figure size 1080x360 with 1 Axes>"
      ]
     },
     "metadata": {
      "needs_background": "light"
     },
     "output_type": "display_data"
    }
   ],
   "source": [
    "noise_candlesticks = list(zip(mdates.date2num(date),noise_open,\n",
    "                              noise_high,noise_low,noise_close))\n",
    "\n",
    "fig = plt.figure(figsize = (15, 5))\n",
    "ax = fig.add_subplot(1,1,1)\n",
    "ax.set_ylabel('Quote ($)', size=20)\n",
    "\n",
    "candlestick_ohlc(ax, noise_candlesticks, width=1,\n",
    "                 colorup='g', colordown='r')\n",
    "\n",
    "# ax.plot의 수치를 변화시켜서 overbought line을 관찰합니다\n",
    "ax.plot(dates, [np.percentile(noise_close, 95)] * len(noise_candlesticks), color = (1.0, 0.792156862745098, 0.8, 0.7),\n",
    "       linewidth=5.0, label = 'overbought line')\n",
    "\n",
    "# ax.plot의 수치를 변화시켜서 oversold line을 관찰합니다\n",
    "ax.plot(dates, [np.percentile(noise_close, 10)] * len(noise_candlesticks), \n",
    "        color = (0.6627450980392157, 1.0, 0.6392156862745098, 0.7),\n",
    "       linewidth=5.0, label = 'oversold line')\n",
    "\n",
    "ax.xaxis.set_major_formatter(mdates.DateFormatter('%Y-%m-%d'))\n",
    "ax.xaxis.set_major_locator(mticker.MaxNLocator(10))\n",
    "\n",
    "plt.legend()\n",
    "plt.show()"
   ]
  }
 ],
 "metadata": {
  "kernelspec": {
   "display_name": "tf-1",
   "language": "python",
   "name": "tf-1"
  },
  "language_info": {
   "codemirror_mode": {
    "name": "ipython",
    "version": 3
   },
   "file_extension": ".py",
   "mimetype": "text/x-python",
   "name": "python",
   "nbconvert_exporter": "python",
   "pygments_lexer": "ipython3",
   "version": "3.7.9"
  }
 },
 "nbformat": 4,
 "nbformat_minor": 5
}
