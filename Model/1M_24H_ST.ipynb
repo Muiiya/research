{
  "nbformat": 4,
  "nbformat_minor": 0,
  "metadata": {
    "kernelspec": {
      "name": "python3",
      "display_name": "Python 3"
    },
    "colab": {
      "name": "1M_24H_ST",
      "provenance": [],
      "collapsed_sections": [],
      "machine_shape": "hm"
    },
    "language_info": {
      "name": "python"
    },
    "accelerator": "GPU"
  },
  "cells": [
    {
      "cell_type": "markdown",
      "metadata": {
        "id": "axF7OBsg-AJs"
      },
      "source": [
        "#Transformer"
      ]
    },
    {
      "cell_type": "code",
      "metadata": {
        "id": "MiFdiUPY8CAr",
        "colab": {
          "base_uri": "https://localhost:8080/"
        },
        "outputId": "53f8a325-4e6e-48cd-b3d7-236b2065e2fc"
      },
      "source": [
        "from google.colab import drive\n",
        "drive.mount('/content/drive') "
      ],
      "execution_count": 1,
      "outputs": [
        {
          "output_type": "stream",
          "name": "stdout",
          "text": [
            "Mounted at /content/drive\n"
          ]
        }
      ]
    },
    {
      "cell_type": "code",
      "metadata": {
        "id": "PtFKWnKP7mKd",
        "colab": {
          "base_uri": "https://localhost:8080/",
          "height": 252
        },
        "outputId": "8392c8da-3a06-4a68-9cd1-3d8ef50329cc"
      },
      "source": [
        "# informer, ARIMA, Prophet, LSTMa와는 다른 형식의 CSV를 사용한다.(Version2)\n",
        "\n",
        "!pip install pandas\n",
        "\n",
        "\n",
        "import pandas as pd\n",
        "import numpy as np\n",
        "import matplotlib.pyplot as plt\n",
        "%matplotlib inline\n",
        "\n",
        "\n",
        "df = pd.read_csv('/content/drive/MyDrive/Colab Notebooks/Data/삼성전자_1M_ST_Version2.csv', encoding='cp949')\n",
        "df.head()"
      ],
      "execution_count": 2,
      "outputs": [
        {
          "output_type": "stream",
          "name": "stdout",
          "text": [
            "Requirement already satisfied: pandas in /usr/local/lib/python3.7/dist-packages (1.1.5)\n",
            "Requirement already satisfied: numpy>=1.15.4 in /usr/local/lib/python3.7/dist-packages (from pandas) (1.19.5)\n",
            "Requirement already satisfied: pytz>=2017.2 in /usr/local/lib/python3.7/dist-packages (from pandas) (2018.9)\n",
            "Requirement already satisfied: python-dateutil>=2.7.3 in /usr/local/lib/python3.7/dist-packages (from pandas) (2.8.2)\n",
            "Requirement already satisfied: six>=1.5 in /usr/local/lib/python3.7/dist-packages (from python-dateutil>=2.7.3->pandas) (1.15.0)\n"
          ]
        },
        {
          "output_type": "execute_result",
          "data": {
            "text/html": [
              "<div>\n",
              "<style scoped>\n",
              "    .dataframe tbody tr th:only-of-type {\n",
              "        vertical-align: middle;\n",
              "    }\n",
              "\n",
              "    .dataframe tbody tr th {\n",
              "        vertical-align: top;\n",
              "    }\n",
              "\n",
              "    .dataframe thead th {\n",
              "        text-align: right;\n",
              "    }\n",
              "</style>\n",
              "<table border=\"1\" class=\"dataframe\">\n",
              "  <thead>\n",
              "    <tr style=\"text-align: right;\">\n",
              "      <th></th>\n",
              "      <th>날짜</th>\n",
              "      <th>2021-07-01 0:00</th>\n",
              "      <th>2021-07-01 1:00</th>\n",
              "      <th>2021-07-01 2:00</th>\n",
              "      <th>2021-07-01 3:00</th>\n",
              "      <th>2021-07-01 4:00</th>\n",
              "      <th>2021-07-01 5:00</th>\n",
              "      <th>2021-07-01 6:00</th>\n",
              "      <th>2021-07-01 7:00</th>\n",
              "      <th>2021-07-01 8:00</th>\n",
              "      <th>2021-07-01 9:00</th>\n",
              "      <th>2021-07-01 10:00</th>\n",
              "      <th>2021-07-01 11:00</th>\n",
              "      <th>2021-07-01 12:00</th>\n",
              "      <th>2021-07-01 13:00</th>\n",
              "      <th>2021-07-01 14:00</th>\n",
              "      <th>2021-07-01 15:00</th>\n",
              "      <th>2021-07-01 16:00</th>\n",
              "      <th>2021-07-01 17:00</th>\n",
              "      <th>2021-07-01 18:00</th>\n",
              "      <th>2021-07-01 19:00</th>\n",
              "      <th>2021-07-01 20:00</th>\n",
              "      <th>2021-07-01 21:00</th>\n",
              "      <th>2021-07-01 22:00</th>\n",
              "      <th>2021-07-01 23:00</th>\n",
              "      <th>2021-07-02 0:00</th>\n",
              "      <th>2021-07-02 1:00</th>\n",
              "      <th>2021-07-02 2:00</th>\n",
              "      <th>2021-07-02 3:00</th>\n",
              "      <th>2021-07-02 4:00</th>\n",
              "      <th>2021-07-02 5:00</th>\n",
              "      <th>2021-07-02 6:00</th>\n",
              "      <th>2021-07-02 7:00</th>\n",
              "      <th>2021-07-02 8:00</th>\n",
              "      <th>2021-07-02 9:00</th>\n",
              "      <th>2021-07-02 10:00</th>\n",
              "      <th>2021-07-02 11:00</th>\n",
              "      <th>2021-07-02 12:00</th>\n",
              "      <th>2021-07-02 13:00</th>\n",
              "      <th>2021-07-02 14:00</th>\n",
              "      <th>...</th>\n",
              "      <th>2021-07-29 9:00</th>\n",
              "      <th>2021-07-29 10:00</th>\n",
              "      <th>2021-07-29 11:00</th>\n",
              "      <th>2021-07-29 12:00</th>\n",
              "      <th>2021-07-29 13:00</th>\n",
              "      <th>2021-07-29 14:00</th>\n",
              "      <th>2021-07-29 15:00</th>\n",
              "      <th>2021-07-29 16:00</th>\n",
              "      <th>2021-07-29 17:00</th>\n",
              "      <th>2021-07-29 18:00</th>\n",
              "      <th>2021-07-29 19:00</th>\n",
              "      <th>2021-07-29 20:00</th>\n",
              "      <th>2021-07-29 21:00</th>\n",
              "      <th>2021-07-29 22:00</th>\n",
              "      <th>2021-07-29 23:00</th>\n",
              "      <th>2021-07-30 0:00</th>\n",
              "      <th>2021-07-30 1:00</th>\n",
              "      <th>2021-07-30 2:00</th>\n",
              "      <th>2021-07-30 3:00</th>\n",
              "      <th>2021-07-30 4:00</th>\n",
              "      <th>2021-07-30 5:00</th>\n",
              "      <th>2021-07-30 6:00</th>\n",
              "      <th>2021-07-30 7:00</th>\n",
              "      <th>2021-07-30 8:00</th>\n",
              "      <th>2021-07-30 9:00</th>\n",
              "      <th>2021-07-30 10:00</th>\n",
              "      <th>2021-07-30 11:00</th>\n",
              "      <th>2021-07-30 12:00</th>\n",
              "      <th>2021-07-30 13:00</th>\n",
              "      <th>2021-07-30 14:00</th>\n",
              "      <th>2021-07-30 15:00</th>\n",
              "      <th>2021-07-30 16:00</th>\n",
              "      <th>2021-07-30 17:00</th>\n",
              "      <th>2021-07-30 18:00</th>\n",
              "      <th>2021-07-30 19:00</th>\n",
              "      <th>2021-07-30 20:00</th>\n",
              "      <th>2021-07-30 21:00</th>\n",
              "      <th>2021-07-30 22:00</th>\n",
              "      <th>2021-07-30 23:00</th>\n",
              "      <th>2021-07-31 0:00</th>\n",
              "    </tr>\n",
              "  </thead>\n",
              "  <tbody>\n",
              "    <tr>\n",
              "      <th>0</th>\n",
              "      <td>종가</td>\n",
              "      <td>0.124688</td>\n",
              "      <td>0.124688</td>\n",
              "      <td>0.124688</td>\n",
              "      <td>0.124688</td>\n",
              "      <td>0.124688</td>\n",
              "      <td>0.124688</td>\n",
              "      <td>0.124688</td>\n",
              "      <td>0.124688</td>\n",
              "      <td>0.124688</td>\n",
              "      <td>0.124688</td>\n",
              "      <td>0.124688</td>\n",
              "      <td>0.124688</td>\n",
              "      <td>0.124688</td>\n",
              "      <td>-0.124533</td>\n",
              "      <td>-0.124533</td>\n",
              "      <td>-0.124533</td>\n",
              "      <td>-0.124533</td>\n",
              "      <td>-0.124533</td>\n",
              "      <td>-0.124533</td>\n",
              "      <td>-0.124533</td>\n",
              "      <td>-0.124533</td>\n",
              "      <td>-0.124533</td>\n",
              "      <td>-0.124533</td>\n",
              "      <td>-0.124533</td>\n",
              "      <td>-0.124533</td>\n",
              "      <td>-0.124533</td>\n",
              "      <td>-0.124533</td>\n",
              "      <td>-0.124533</td>\n",
              "      <td>-0.124533</td>\n",
              "      <td>-0.124533</td>\n",
              "      <td>-0.124533</td>\n",
              "      <td>-0.124533</td>\n",
              "      <td>-0.124533</td>\n",
              "      <td>-0.124533</td>\n",
              "      <td>0.124688</td>\n",
              "      <td>-0.249066</td>\n",
              "      <td>0.124844</td>\n",
              "      <td>0.124844</td>\n",
              "      <td>-0.124688</td>\n",
              "      <td>...</td>\n",
              "      <td>0.255428</td>\n",
              "      <td>1.019108</td>\n",
              "      <td>-0.504414</td>\n",
              "      <td>0.253485</td>\n",
              "      <td>-0.126422</td>\n",
              "      <td>-0.126582</td>\n",
              "      <td>0.253485</td>\n",
              "      <td>0.253485</td>\n",
              "      <td>0.253485</td>\n",
              "      <td>0.253485</td>\n",
              "      <td>0.253485</td>\n",
              "      <td>0.253485</td>\n",
              "      <td>0.253485</td>\n",
              "      <td>0.253485</td>\n",
              "      <td>0.253485</td>\n",
              "      <td>0.253485</td>\n",
              "      <td>0.253485</td>\n",
              "      <td>0.253485</td>\n",
              "      <td>0.253485</td>\n",
              "      <td>0.253485</td>\n",
              "      <td>0.253485</td>\n",
              "      <td>0.253485</td>\n",
              "      <td>0.253485</td>\n",
              "      <td>0.253485</td>\n",
              "      <td>0.253485</td>\n",
              "      <td>-0.505689</td>\n",
              "      <td>-0.505689</td>\n",
              "      <td>-0.127065</td>\n",
              "      <td>-0.127065</td>\n",
              "      <td>-0.127065</td>\n",
              "      <td>-0.127065</td>\n",
              "      <td>-0.127065</td>\n",
              "      <td>-0.127065</td>\n",
              "      <td>-0.127065</td>\n",
              "      <td>-0.127065</td>\n",
              "      <td>-0.127065</td>\n",
              "      <td>-0.127065</td>\n",
              "      <td>-0.127065</td>\n",
              "      <td>-0.127065</td>\n",
              "      <td>-0.127065</td>\n",
              "    </tr>\n",
              "  </tbody>\n",
              "</table>\n",
              "<p>1 rows × 722 columns</p>\n",
              "</div>"
            ],
            "text/plain": [
              "   날짜  2021-07-01 0:00  ...  2021-07-30 23:00  2021-07-31 0:00\n",
              "0  종가         0.124688  ...         -0.127065        -0.127065\n",
              "\n",
              "[1 rows x 722 columns]"
            ]
          },
          "metadata": {},
          "execution_count": 2
        }
      ]
    },
    {
      "cell_type": "code",
      "metadata": {
        "id": "Z3_TiLg07mKk",
        "colab": {
          "base_uri": "https://localhost:8080/"
        },
        "outputId": "7aae2cd8-c0b6-4ff5-b95e-dbb1a9bf952a"
      },
      "source": [
        "df.info()"
      ],
      "execution_count": 3,
      "outputs": [
        {
          "output_type": "stream",
          "name": "stdout",
          "text": [
            "<class 'pandas.core.frame.DataFrame'>\n",
            "RangeIndex: 1 entries, 0 to 0\n",
            "Columns: 722 entries, 날짜 to 2021-07-31 0:00\n",
            "dtypes: float64(721), object(1)\n",
            "memory usage: 5.8+ KB\n"
          ]
        }
      ]
    },
    {
      "cell_type": "code",
      "metadata": {
        "id": "m6hUoeDr7mKm",
        "colab": {
          "base_uri": "https://localhost:8080/"
        },
        "outputId": "fe803e05-daa8-45e6-d621-a832cfe91972"
      },
      "source": [
        "data_start_date = df.columns[1]\n",
        "data_end_date = df.columns[-1]\n",
        "print('Data ranges from %s to %s' % (data_start_date, data_end_date))"
      ],
      "execution_count": 4,
      "outputs": [
        {
          "output_type": "stream",
          "name": "stdout",
          "text": [
            "Data ranges from 2021-07-01 0:00 to 2021-07-31 0:00\n"
          ]
        }
      ]
    },
    {
      "cell_type": "markdown",
      "metadata": {
        "id": "-SsCTE-O7mKo"
      },
      "source": [
        "### Train and Validation Series Partioning\n"
      ]
    },
    {
      "cell_type": "code",
      "metadata": {
        "id": "OYUANKZx7mKs",
        "colab": {
          "base_uri": "https://localhost:8080/"
        },
        "outputId": "3bc91f88-104a-46ab-a5c5-155f5908a1ff"
      },
      "source": [
        "######################## CHECK #########################\n",
        "# 기준시간이 hour이므로, 7일 예측한다면 7*24로 설정한다.\n",
        "\n",
        "\n",
        "from datetime import timedelta\n",
        "\n",
        "pred_steps = 24*1+23\n",
        "pred_length=timedelta(hours = pred_steps)\n",
        "\n",
        "first_day = pd.to_datetime(data_start_date)\n",
        "last_day = pd.to_datetime(data_end_date)\n",
        "\n",
        "val_pred_start = last_day - pred_length + timedelta(1)\n",
        "val_pred_end = last_day\n",
        "print(val_pred_start, val_pred_end)\n",
        "\n",
        "train_pred_start = val_pred_start - pred_length\n",
        "train_pred_end = val_pred_start - timedelta(days=1)\n",
        "print(train_pred_start, train_pred_end)\n"
      ],
      "execution_count": 5,
      "outputs": [
        {
          "output_type": "stream",
          "name": "stdout",
          "text": [
            "2021-07-30 01:00:00 2021-07-31 00:00:00\n",
            "2021-07-28 02:00:00 2021-07-29 01:00:00\n"
          ]
        }
      ]
    },
    {
      "cell_type": "code",
      "metadata": {
        "id": "Yc-Nwfy07mKt",
        "colab": {
          "base_uri": "https://localhost:8080/"
        },
        "outputId": "6d50af92-426f-4c2c-ee6a-9a98bb444ed6"
      },
      "source": [
        "enc_length = train_pred_start - first_day\n",
        "print(enc_length)\n",
        "\n",
        "train_enc_start = first_day\n",
        "train_enc_end = train_enc_start + enc_length - timedelta(1)\n",
        "\n",
        "val_enc_start = train_enc_start + pred_length\n",
        "val_enc_end = val_enc_start + enc_length - timedelta(1)\n",
        "print(train_enc_start, train_enc_end)\n",
        "print(val_enc_start, val_enc_end)"
      ],
      "execution_count": 6,
      "outputs": [
        {
          "output_type": "stream",
          "name": "stdout",
          "text": [
            "27 days 02:00:00\n",
            "2021-07-01 00:00:00 2021-07-27 02:00:00\n",
            "2021-07-02 23:00:00 2021-07-29 01:00:00\n"
          ]
        }
      ]
    },
    {
      "cell_type": "code",
      "metadata": {
        "id": "_w1ZjY4o7mKv",
        "colab": {
          "base_uri": "https://localhost:8080/"
        },
        "outputId": "9e486349-cc1a-41ac-aa4c-aa4048619761"
      },
      "source": [
        "# 최종적으로 Val prediction 구간을 예측하게 된다.\n",
        "\n",
        "print('Train encoding:', train_enc_start, '-', train_enc_end)\n",
        "print('Train prediction:', train_pred_start, '-', train_pred_end, '\\n')\n",
        "print('Val encoding:', val_enc_start, '-', val_enc_end)\n",
        "print('Val prediction:', val_pred_start, '-', val_pred_end)\n",
        "\n",
        "print('\\nEncoding interval:', enc_length.days)\n",
        "print('Prediction interval:', pred_length.days)"
      ],
      "execution_count": 7,
      "outputs": [
        {
          "output_type": "stream",
          "name": "stdout",
          "text": [
            "Train encoding: 2021-07-01 00:00:00 - 2021-07-27 02:00:00\n",
            "Train prediction: 2021-07-28 02:00:00 - 2021-07-29 01:00:00 \n",
            "\n",
            "Val encoding: 2021-07-02 23:00:00 - 2021-07-29 01:00:00\n",
            "Val prediction: 2021-07-30 01:00:00 - 2021-07-31 00:00:00\n",
            "\n",
            "Encoding interval: 27\n",
            "Prediction interval: 1\n"
          ]
        }
      ]
    },
    {
      "cell_type": "markdown",
      "metadata": {
        "id": "5k8nzx9H7mKw"
      },
      "source": [
        "## Data Formatting"
      ]
    },
    {
      "cell_type": "code",
      "metadata": {
        "id": "YYDpaFD47mKx",
        "colab": {
          "base_uri": "https://localhost:8080/"
        },
        "outputId": "639564b1-59b2-43a0-8f8a-da12897677c7"
      },
      "source": [
        "#np.log 1p 해준다.\n",
        "\n",
        "date_to_index = pd.Series(index=pd.Index([pd.to_datetime(c) for c in df.columns[1:]]),\n",
        "                          data=[i for i in range(len(df.columns[1:]))])\n",
        "\n",
        "series_array = df[df.columns[1:]].values.astype(np.float32)\n",
        "print(series_array)\n",
        "\n",
        "def get_time_block_series(series_array, date_to_index, start_date, end_date):\n",
        "    inds = date_to_index[start_date:end_date]\n",
        "    return series_array[:,inds]\n",
        "\n",
        "def transform_series_encode(series_array):\n",
        "    series_array = np.nan_to_num(series_array) # filling NaN with 0\n",
        "    series_mean = series_array.mean(axis=1).reshape(-1,1)\n",
        "    series_array = series_array - series_mean\n",
        "    series_array = series_array.reshape((series_array.shape[0],series_array.shape[1], 1))\n",
        "\n",
        "    return series_array, series_mean\n",
        "\n",
        "def transform_series_decode(series_array, encode_series_mean):\n",
        "    series_array = np.nan_to_num(series_array) # filling NaN with 0\n",
        "    series_array = series_array - encode_series_mean\n",
        "    series_array = series_array.reshape((series_array.shape[0],series_array.shape[1], 1))    \n",
        "    \n",
        "    return series_array"
      ],
      "execution_count": 8,
      "outputs": [
        {
          "output_type": "stream",
          "name": "stdout",
          "text": [
            "[[ 0.12468828  0.12468828  0.12468828  0.12468828  0.12468828  0.12468828\n",
            "   0.12468828  0.12468828  0.12468828  0.12468828  0.12468828  0.12468828\n",
            "   0.12468828 -0.124533   -0.124533   -0.124533   -0.124533   -0.124533\n",
            "  -0.124533   -0.124533   -0.124533   -0.124533   -0.124533   -0.124533\n",
            "  -0.124533   -0.124533   -0.124533   -0.124533   -0.124533   -0.124533\n",
            "  -0.124533   -0.124533   -0.124533   -0.124533    0.12468828 -0.249066\n",
            "   0.12484395  0.12484395 -0.12468828 -0.12468828 -0.12468828 -0.12468828\n",
            "  -0.12468828 -0.12468828 -0.12468828 -0.12468828 -0.12468828 -0.12468828\n",
            "  -0.12468828 -0.12468828 -0.12468828 -0.12468828 -0.12468828 -0.12468828\n",
            "  -0.12468828 -0.12468828 -0.12468828 -0.12468828 -0.12468828 -0.12468828\n",
            "  -0.12468828 -0.12468828 -0.12468828 -0.12468828 -0.12468828 -0.12468828\n",
            "  -0.12468828 -0.12468828 -0.12468828 -0.12468828 -0.12468828 -0.12468828\n",
            "  -0.12468828 -0.12468828 -0.12468828 -0.12468828 -0.12468828 -0.12468828\n",
            "  -0.12468828 -0.12468828 -0.12468828 -0.12468828 -0.12468828 -0.12468828\n",
            "  -0.12468828 -0.12468828 -0.12468828 -0.12468828 -0.12468828 -0.12468828\n",
            "  -0.12468828 -0.12468828 -0.12468828 -0.12468828 -0.12468828 -0.12468828\n",
            "  -0.12468828 -0.12468828 -0.12468828 -0.12468828 -0.12468828 -0.12468828\n",
            "  -0.12468828 -0.12468828 -0.12468828 -0.12468828  0.37453184  0.24875621\n",
            "   0.24875621  0.24875621 -0.12406948 -0.24844721 -0.24844721 -0.24844721\n",
            "  -0.24844721 -0.24844721 -0.24844721 -0.24844721 -0.24844721 -0.24844721\n",
            "  -0.24844721 -0.24844721 -0.24844721 -0.24844721 -0.24844721 -0.24844721\n",
            "  -0.24844721 -0.24844721 -0.24844721 -0.24844721  1.120797   -0.12315271\n",
            "  -0.3699137  -0.3699137   0.12376238  0.12360939  0.12360939  0.12360939\n",
            "   0.12360939  0.12360939  0.12360939  0.12360939  0.12360939  0.12360939\n",
            "   0.12360939  0.12360939  0.12360939  0.12360939  0.12360939  0.12360939\n",
            "   0.12360939  0.12360939  0.12360939  0.12360939 -0.49382716 -0.49382716\n",
            "  -0.49382716 -0.49382716 -0.24813896  0.24875621  0.24875621  0.24875621\n",
            "   0.24875621  0.24875621  0.24875621  0.24875621  0.24875621  0.24875621\n",
            "   0.24875621  0.24875621  0.24875621  0.24875621  0.24875621  0.24875621\n",
            "   0.24875621  0.24875621  0.24875621  0.24875621  0.24875621  0.24875621\n",
            "  -0.12406948 -0.24844721 -0.124533   -0.124533   -0.124533   -0.124533\n",
            "  -0.124533   -0.124533   -0.124533   -0.124533   -0.124533   -0.124533\n",
            "  -0.124533   -0.124533   -0.124533   -0.124533   -0.124533   -0.124533\n",
            "  -0.124533   -0.124533   -0.124533   -0.124533   -1.2468828  -1.2468828\n",
            "  -0.12626262  0.12642226  0.12642226  0.25252524  0.25252524  0.25252524\n",
            "   0.25252524  0.25252524  0.25252524  0.25252524  0.25252524  0.25252524\n",
            "   0.25252524  0.25252524  0.25252524  0.25252524  0.25252524  0.25252524\n",
            "   0.25252524  0.25252524  0.25252524  0.25252524  0.25252524  0.25252524\n",
            "   0.25252524  0.25252524  0.25252524  0.25252524  0.25252524  0.25252524\n",
            "   0.25252524  0.25252524  0.25252524  0.25252524  0.25252524  0.25252524\n",
            "   0.25252524  0.25252524  0.25252524  0.25252524  0.25252524  0.25252524\n",
            "   0.25252524  0.25252524  0.25252524  0.25252524  0.25252524  0.25252524\n",
            "   0.25252524  0.25252524  0.25252524  0.25252524  0.25252524  0.25252524\n",
            "   0.25252524  0.25252524  0.25252524  0.25252524  0.25252524  0.25252524\n",
            "   0.25252524  0.25252524  0.25252524  0.25252524  0.25252524  0.25252524\n",
            "   0.25252524  0.25252524  0.25252524  0.25252524  0.7556675  -0.375\n",
            "  -0.375       0.12547052 -0.12531328 -0.12547052 -0.12547052 -0.12547052\n",
            "  -0.12547052 -0.12547052 -0.12547052 -0.12547052 -0.12547052 -0.12547052\n",
            "  -0.12547052 -0.12547052 -0.12547052 -0.12547052 -0.12547052 -0.12547052\n",
            "  -0.12547052 -0.12547052 -0.12547052 -0.12547052  0.5025126   0.125\n",
            "  -0.12484395 -0.12484395 -0.12484395 -0.125      -0.125      -0.125\n",
            "  -0.125      -0.125      -0.125      -0.125      -0.125      -0.125\n",
            "  -0.125      -0.125      -0.125      -0.125      -0.125      -0.125\n",
            "  -0.125      -0.125      -0.125      -0.125      -0.62578225 -0.62578225\n",
            "  -0.62578225 -0.62578225 -0.12594458  0.1261034   0.1261034   0.1261034\n",
            "   0.1261034   0.1261034   0.1261034   0.1261034   0.1261034   0.1261034\n",
            "   0.1261034   0.1261034   0.1261034   0.1261034   0.1261034   0.1261034\n",
            "   0.1261034   0.1261034   0.1261034   0.1261034   0.6297229   0.12515645\n",
            "  -0.125       0.2503129   0.2503129   0.37453184  0.37453184  0.37453184\n",
            "   0.37453184  0.37453184  0.37453184  0.37453184  0.37453184  0.37453184\n",
            "   0.37453184  0.37453184  0.37453184  0.37453184  0.37453184  0.37453184\n",
            "   0.37453184  0.37453184  0.37453184  0.37453184 -0.8706468  -0.8706468\n",
            "  -0.12547052  0.12562814  0.12562814  0.12547052  0.12547052  0.12547052\n",
            "   0.12547052  0.12547052  0.12547052  0.12547052  0.12547052  0.12547052\n",
            "   0.12547052  0.12547052  0.12547052  0.12547052  0.12547052  0.12547052\n",
            "   0.12547052  0.12547052  0.12547052  0.12547052  0.12547052  0.12547052\n",
            "   0.12547052  0.12547052  0.12547052  0.12547052  0.12547052  0.12547052\n",
            "   0.12547052  0.12547052  0.12547052  0.12547052  0.12547052  0.12547052\n",
            "   0.12547052  0.12547052  0.12547052  0.12547052  0.12547052  0.12547052\n",
            "   0.12547052  0.12547052  0.12547052  0.12547052  0.12547052  0.12547052\n",
            "   0.12547052  0.12547052  0.12547052  0.12547052  0.12547052  0.12547052\n",
            "   0.12547052  0.12547052  0.12547052  0.12547052  0.12547052  0.12547052\n",
            "   0.12547052  0.12547052  0.12547052  0.12547052  0.12547052  0.12547052\n",
            "   0.12547052  0.12547052  0.12547052  0.12547052 -1.0025063  -1.0025063\n",
            "  -0.12658228  0.1267427   0.1267427   0.1267427   0.1267427   0.1267427\n",
            "   0.1267427   0.1267427   0.1267427   0.1267427   0.1267427   0.1267427\n",
            "   0.1267427   0.1267427   0.1267427   0.1267427   0.1267427   0.1267427\n",
            "   0.1267427   0.1267427   0.1267427   0.1267427  -0.5063291   0.12722646\n",
            "   0.12706481 -0.2538071  -0.2538071   0.12722646  0.12722646  0.12722646\n",
            "   0.12722646  0.12722646  0.12722646  0.12722646  0.12722646  0.12722646\n",
            "   0.12722646  0.12722646  0.12722646  0.12722646  0.12722646  0.12722646\n",
            "   0.12722646  0.12722646  0.12722646  0.12722646 -0.12706481 -0.12706481\n",
            "  -0.12706481 -0.12706481 -0.12706481  0.12722646  0.12722646  0.12722646\n",
            "   0.12722646  0.12722646  0.12722646  0.12722646  0.12722646  0.12722646\n",
            "   0.12722646  0.12722646  0.12722646  0.12722646  0.12722646  0.12722646\n",
            "   0.12722646  0.12722646  0.12722646  0.12722646  0.88945365  0.25188917\n",
            "   0.25188917 -0.12562814  0.25157234 -0.12547052 -0.12547052 -0.12547052\n",
            "  -0.12547052 -0.12547052 -0.12547052 -0.12547052 -0.12547052 -0.12547052\n",
            "  -0.12547052 -0.12547052 -0.12547052 -0.12547052 -0.12547052 -0.12547052\n",
            "  -0.12547052 -0.12547052 -0.12547052 -0.12547052  0.12562814 -0.12547052\n",
            "  -0.12547052 -0.12562814 -0.12578617 -0.12578617 -0.12578617 -0.12578617\n",
            "  -0.12578617 -0.12578617 -0.12578617 -0.12578617 -0.12578617 -0.12578617\n",
            "  -0.12578617 -0.12578617 -0.12578617 -0.12578617 -0.12578617 -0.12578617\n",
            "  -0.12578617 -0.12578617 -0.12578617 -0.12578617 -0.12578617 -0.12578617\n",
            "  -0.12578617 -0.12578617 -0.12578617 -0.12578617 -0.12578617 -0.12578617\n",
            "  -0.12578617 -0.12578617 -0.12578617 -0.12578617 -0.12578617 -0.12578617\n",
            "  -0.12578617 -0.12578617 -0.12578617 -0.12578617 -0.12578617 -0.12578617\n",
            "  -0.12578617 -0.12578617 -0.12578617 -0.12578617 -0.12578617 -0.12578617\n",
            "  -0.12578617 -0.12578617 -0.12578617 -0.12578617 -0.12578617 -0.12578617\n",
            "  -0.12578617 -0.12578617 -0.12578617 -0.12578617 -0.12578617 -0.12578617\n",
            "  -0.12578617 -0.12578617 -0.12578617 -0.12578617 -0.12578617 -0.12578617\n",
            "  -0.12578617 -0.12578617 -0.12578617 -0.12578617 -0.25188917 -0.25252524\n",
            "  -0.12658228  0.1267427   0.1267427  -0.25316456 -0.25316456 -0.25316456\n",
            "  -0.25316456 -0.25316456 -0.25316456 -0.25316456 -0.25316456 -0.25316456\n",
            "  -0.25316456 -0.25316456 -0.25316456 -0.25316456 -0.25316456 -0.25316456\n",
            "  -0.25316456 -0.25316456 -0.25316456 -0.25316456  0.12690355  0.1267427\n",
            "   0.1267427   0.1267427  -0.25316456 -0.12690355 -0.12690355 -0.12690355\n",
            "  -0.12690355 -0.12690355 -0.12690355 -0.12690355 -0.12690355 -0.12690355\n",
            "  -0.12690355 -0.12690355 -0.12690355 -0.12690355 -0.12690355 -0.12690355\n",
            "  -0.12690355 -0.12690355 -0.12690355 -0.12690355 -0.12690355 -0.12706481\n",
            "  -0.12706481 -0.12722646 -0.25477707  0.25542784  0.25542784  0.25542784\n",
            "   0.25542784  0.25542784  0.25542784  0.25542784  0.25542784  0.25542784\n",
            "   0.25542784  0.25542784  0.25542784  0.25542784  0.25542784  0.25542784\n",
            "   0.25542784  0.25542784  0.25542784  0.25542784  1.0191083  -0.5044136\n",
            "   0.2534854  -0.12642226 -0.12658228  0.2534854   0.2534854   0.2534854\n",
            "   0.2534854   0.2534854   0.2534854   0.2534854   0.2534854   0.2534854\n",
            "   0.2534854   0.2534854   0.2534854   0.2534854   0.2534854   0.2534854\n",
            "   0.2534854   0.2534854   0.2534854   0.2534854  -0.505689   -0.505689\n",
            "  -0.12706481 -0.12706481 -0.12706481 -0.12706481 -0.12706481 -0.12706481\n",
            "  -0.12706481 -0.12706481 -0.12706481 -0.12706481 -0.12706481 -0.12706481\n",
            "  -0.12706481]]\n"
          ]
        }
      ]
    },
    {
      "cell_type": "code",
      "metadata": {
        "id": "feu8hw4N7mKy"
      },
      "source": [
        "# sample of series from train_enc_start to train_enc_end  \n",
        "encoder_input_data = get_time_block_series(series_array, date_to_index, \n",
        "                                           train_enc_start, train_enc_end)\n",
        "\n",
        "\n",
        "encoder_input_data, encode_series_mean = transform_series_encode(encoder_input_data)\n",
        "\n",
        "\n",
        "# sample of series from train_pred_start to train_pred_end \n",
        "decoder_target_data = get_time_block_series(series_array, date_to_index, \n",
        "                                            train_pred_start, train_pred_end)\n",
        "\n",
        "decoder_target_data = transform_series_decode(decoder_target_data, encode_series_mean)\n",
        "\n",
        "\n",
        "encoder_input_val_data = get_time_block_series(series_array, date_to_index, val_enc_start, val_enc_end)\n",
        "encoder_input_val_data, encode_series_mean = transform_series_encode(encoder_input_val_data)\n",
        "\n",
        "decoder_target_val_data = get_time_block_series(series_array, date_to_index, val_pred_start, val_pred_end)\n",
        "decoder_target_val_data = transform_series_decode(decoder_target_val_data, encode_series_mean)\n",
        "\n",
        "#for d in encoder_input_data:\n",
        "#    print(d.shape)\n",
        "\n",
        "#train_dataset = tf.data.Dataset.from_tensor_slices((encoder_input_data, decoder_target_data))\n",
        "#train_dataset = train_dataset.batch(54)\n",
        "\n",
        "#for d in train_dataset:\n",
        "#    #print(f'features:{features_tensor} target:{target_tensor}')\n",
        "#    print(\"-----\")\n",
        "#    print(d)"
      ],
      "execution_count": 9,
      "outputs": []
    },
    {
      "cell_type": "markdown",
      "metadata": {
        "id": "xZe8F9KP7mKz"
      },
      "source": [
        "### Transformer model"
      ]
    },
    {
      "cell_type": "code",
      "metadata": {
        "id": "2HymE_Lx7mK1",
        "colab": {
          "base_uri": "https://localhost:8080/"
        },
        "outputId": "27f11998-040e-4a28-c69e-550a8c6fe018"
      },
      "source": [
        "!pip install tensorflow_datasets\n",
        "\n",
        "import tensorflow_datasets as tfds\n",
        "import tensorflow as tf\n",
        "\n",
        "import time\n",
        "import numpy as np\n",
        "import matplotlib.pyplot as plt"
      ],
      "execution_count": 10,
      "outputs": [
        {
          "output_type": "stream",
          "name": "stdout",
          "text": [
            "Requirement already satisfied: tensorflow_datasets in /usr/local/lib/python3.7/dist-packages (4.0.1)\n",
            "Requirement already satisfied: numpy in /usr/local/lib/python3.7/dist-packages (from tensorflow_datasets) (1.19.5)\n",
            "Requirement already satisfied: protobuf>=3.6.1 in /usr/local/lib/python3.7/dist-packages (from tensorflow_datasets) (3.17.3)\n",
            "Requirement already satisfied: tqdm in /usr/local/lib/python3.7/dist-packages (from tensorflow_datasets) (4.62.2)\n",
            "Requirement already satisfied: promise in /usr/local/lib/python3.7/dist-packages (from tensorflow_datasets) (2.3)\n",
            "Requirement already satisfied: six in /usr/local/lib/python3.7/dist-packages (from tensorflow_datasets) (1.15.0)\n",
            "Requirement already satisfied: tensorflow-metadata in /usr/local/lib/python3.7/dist-packages (from tensorflow_datasets) (1.2.0)\n",
            "Requirement already satisfied: termcolor in /usr/local/lib/python3.7/dist-packages (from tensorflow_datasets) (1.1.0)\n",
            "Requirement already satisfied: future in /usr/local/lib/python3.7/dist-packages (from tensorflow_datasets) (0.16.0)\n",
            "Requirement already satisfied: attrs>=18.1.0 in /usr/local/lib/python3.7/dist-packages (from tensorflow_datasets) (21.2.0)\n",
            "Requirement already satisfied: dm-tree in /usr/local/lib/python3.7/dist-packages (from tensorflow_datasets) (0.1.6)\n",
            "Requirement already satisfied: dill in /usr/local/lib/python3.7/dist-packages (from tensorflow_datasets) (0.3.4)\n",
            "Requirement already satisfied: requests>=2.19.0 in /usr/local/lib/python3.7/dist-packages (from tensorflow_datasets) (2.23.0)\n",
            "Requirement already satisfied: importlib-resources in /usr/local/lib/python3.7/dist-packages (from tensorflow_datasets) (5.2.2)\n",
            "Requirement already satisfied: absl-py in /usr/local/lib/python3.7/dist-packages (from tensorflow_datasets) (0.12.0)\n",
            "Requirement already satisfied: chardet<4,>=3.0.2 in /usr/local/lib/python3.7/dist-packages (from requests>=2.19.0->tensorflow_datasets) (3.0.4)\n",
            "Requirement already satisfied: idna<3,>=2.5 in /usr/local/lib/python3.7/dist-packages (from requests>=2.19.0->tensorflow_datasets) (2.10)\n",
            "Requirement already satisfied: urllib3!=1.25.0,!=1.25.1,<1.26,>=1.21.1 in /usr/local/lib/python3.7/dist-packages (from requests>=2.19.0->tensorflow_datasets) (1.24.3)\n",
            "Requirement already satisfied: certifi>=2017.4.17 in /usr/local/lib/python3.7/dist-packages (from requests>=2.19.0->tensorflow_datasets) (2021.5.30)\n",
            "Requirement already satisfied: zipp>=3.1.0 in /usr/local/lib/python3.7/dist-packages (from importlib-resources->tensorflow_datasets) (3.5.0)\n",
            "Requirement already satisfied: googleapis-common-protos<2,>=1.52.0 in /usr/local/lib/python3.7/dist-packages (from tensorflow-metadata->tensorflow_datasets) (1.53.0)\n"
          ]
        }
      ]
    },
    {
      "cell_type": "code",
      "metadata": {
        "id": "p9HiWaBB7mK3"
      },
      "source": [
        "train_dataset = tf.data.Dataset.from_tensor_slices((encoder_input_data, decoder_target_data))\n",
        "val_dataset = tf.data.Dataset.from_tensor_slices((encoder_input_val_data, decoder_target_val_data))"
      ],
      "execution_count": 11,
      "outputs": []
    },
    {
      "cell_type": "code",
      "metadata": {
        "id": "Mp70_nYj7mK3"
      },
      "source": [
        "### position\n",
        "def get_angles(pos, i, d_model):\n",
        "    angle_rates = 1 / np.power(10000, (2 * (i//2)) / np.float32(d_model))\n",
        "    return pos * angle_rates\n",
        "\n",
        "\n",
        "def positional_encoding(position, d_model):\n",
        "    angle_rads = get_angles(np.arange(position)[:, np.newaxis],\n",
        "                            np.arange(d_model)[np.newaxis, :],\n",
        "                            d_model)\n",
        "  \n",
        "    # apply sin to even indices in the array; 2i\n",
        "    sines = np.sin(angle_rads[:, 0::2])\n",
        "  \n",
        "    # apply cos to odd indices in the array; 2i+1\n",
        "    cosines = np.cos(angle_rads[:, 1::2])\n",
        "  \n",
        "    pos_encoding = np.concatenate([sines, cosines], axis=-1)\n",
        "  \n",
        "    pos_encoding = pos_encoding[np.newaxis, ...]\n",
        "    \n",
        "    return tf.cast(pos_encoding, dtype=tf.float32)\n"
      ],
      "execution_count": 12,
      "outputs": []
    },
    {
      "cell_type": "code",
      "metadata": {
        "id": "yqDIhFln7mK3",
        "colab": {
          "base_uri": "https://localhost:8080/"
        },
        "outputId": "a10e2ab2-ed65-440c-95eb-bb8bc1093e78"
      },
      "source": [
        "# Masking\n",
        "def create_padding_mask(seq):\n",
        "    seq = tf.cast(tf.math.equal(seq, 0), tf.float32)\n",
        "  \n",
        "    # add extra dimensions so that we can add the padding\n",
        "    # to the attention logits.\n",
        "    return seq[:, tf.newaxis, tf.newaxis, :]  # (batch_size, 1, 1, seq_len)\n",
        "\n",
        "x = tf.constant([[7, 6, 0, 0, 1], [1, 2, 3, 0, 0], [0, 0, 0, 4, 5]])\n",
        "print(create_padding_mask(x))\n",
        "\n",
        "def create_look_ahead_mask(size):\n",
        "    mask = 1 - tf.linalg.band_part(tf.ones((size, size)), -1, 0)\n",
        "    return mask  # (seq_len, seq_len)\n",
        "\n",
        "x = tf.random.uniform((1, 4))\n",
        "temp = create_look_ahead_mask(x.shape[1])\n",
        "print(temp)\n"
      ],
      "execution_count": 13,
      "outputs": [
        {
          "output_type": "stream",
          "name": "stdout",
          "text": [
            "tf.Tensor(\n",
            "[[[[0. 0. 1. 1. 0.]]]\n",
            "\n",
            "\n",
            " [[[0. 0. 0. 1. 1.]]]\n",
            "\n",
            "\n",
            " [[[1. 1. 1. 0. 0.]]]], shape=(3, 1, 1, 5), dtype=float32)\n",
            "tf.Tensor(\n",
            "[[0. 1. 1. 1.]\n",
            " [0. 0. 1. 1.]\n",
            " [0. 0. 0. 1.]\n",
            " [0. 0. 0. 0.]], shape=(4, 4), dtype=float32)\n"
          ]
        }
      ]
    },
    {
      "cell_type": "code",
      "metadata": {
        "id": "bZhflMS47mK4"
      },
      "source": [
        "# Scaled dot product attention\n",
        "def scaled_dot_product_attention(q, k, v, mask):\n",
        "    \"\"\"Calculate the attention weights.\n",
        "      q, k, v must have matching leading dimensions.\n",
        "      The mask has different shapes depending on its type(padding or look ahead) \n",
        "      but it must be broadcastable for addition.\n",
        "  \n",
        "    Args:\n",
        "        q: query shape == (..., seq_len_q, depth)\n",
        "        k: key shape == (..., seq_len_k, depth)\n",
        "        v: value shape == (..., seq_len_v, depth)\n",
        "        mask: Float tensor with shape broadcastable \n",
        "            to (..., seq_len_q, seq_len_k). Defaults to None.\n",
        "    \n",
        "    Returns:\n",
        "        output, attention_weights\n",
        "    \"\"\"\n",
        "\n",
        "    matmul_qk = tf.matmul(q, k, transpose_b=True)  # (..., seq_len_q, seq_len_k)\n",
        "  \n",
        "    # scale matmul_qk\n",
        "    dk = tf.cast(tf.shape(k)[-1], tf.float32)\n",
        "    scaled_attention_logits = matmul_qk / tf.math.sqrt(dk)\n",
        "\n",
        "    # add the mask to the scaled tensor.\n",
        "    if mask is not None:\n",
        "        scaled_attention_logits += (mask * -1e9)\n",
        "\n",
        "    # softmax is normalized on the last axis (seq_len_k) so that the scores\n",
        "    # add up to 1.\n",
        "    attention_weights = tf.nn.softmax(scaled_attention_logits, axis=-1)  # (..., seq_len_q, seq_len_k)\n",
        "\n",
        "    output = tf.matmul(attention_weights, v)  # (..., seq_len_v, depth)\n",
        "\n",
        "    return output, attention_weights"
      ],
      "execution_count": 14,
      "outputs": []
    },
    {
      "cell_type": "code",
      "metadata": {
        "id": "wTun4caK7mK7",
        "colab": {
          "base_uri": "https://localhost:8080/"
        },
        "outputId": "01e08e7f-620c-454d-f400-706e3a7db1be"
      },
      "source": [
        "# scaled dot product attetion test\n",
        "def print_out(q, k, v):\n",
        "    temp_out, temp_attn = scaled_dot_product_attention(\n",
        "        q, k, v, None)\n",
        "    print ('Attention weights are:')\n",
        "    print (temp_attn)\n",
        "    print ('Output is:')\n",
        "    print (temp_out)\n",
        "\n",
        "np.set_printoptions(suppress=True)\n",
        "\n",
        "temp_k = tf.constant([[10,0,0],\n",
        "                      [0,10,0],\n",
        "                      [0,0,10],\n",
        "                      [0,0,10]], dtype=tf.float32)  # (4, 3)\n",
        "\n",
        "temp_v = tf.constant([[   1,0],\n",
        "                      [  10,0],\n",
        "                      [ 100,5],\n",
        "                      [1000,6]], dtype=tf.float32)  # (4, 3)\n",
        "\n",
        "# This `query` aligns with the second `key`,\n",
        "# so the second `value` is returned.\n",
        "temp_q = tf.constant([[0, 10, 0]], dtype=tf.float32)  # (1, 3)\n",
        "print_out(temp_q, temp_k, temp_v)"
      ],
      "execution_count": 15,
      "outputs": [
        {
          "output_type": "stream",
          "name": "stdout",
          "text": [
            "Attention weights are:\n",
            "tf.Tensor([[0. 1. 0. 0.]], shape=(1, 4), dtype=float32)\n",
            "Output is:\n",
            "tf.Tensor([[10.  0.]], shape=(1, 2), dtype=float32)\n"
          ]
        }
      ]
    },
    {
      "cell_type": "code",
      "metadata": {
        "id": "Tf9CrG-j7mK8"
      },
      "source": [
        "# Multi Head Attention\n",
        "\n",
        "class MultiHeadAttention(tf.keras.layers.Layer):\n",
        "    def __init__(self, d_model, num_heads):\n",
        "        super(MultiHeadAttention, self).__init__()\n",
        "        self.num_heads = num_heads\n",
        "        self.d_model = d_model\n",
        "    \n",
        "        assert d_model % self.num_heads == 0\n",
        "        \n",
        "        self.depth = d_model // self.num_heads\n",
        "        \n",
        "        self.wq = tf.keras.layers.Dense(d_model)\n",
        "        self.wk = tf.keras.layers.Dense(d_model)\n",
        "        self.wv = tf.keras.layers.Dense(d_model)\n",
        "        \n",
        "        self.dense = tf.keras.layers.Dense(d_model)\n",
        "        \n",
        "    def split_heads(self, x, batch_size):\n",
        "        x = tf.reshape(x, (batch_size, -1, self.num_heads, self.depth))\n",
        "        return tf.transpose(x, perm=[0, 2, 1, 3])\n",
        "    \n",
        "    def call(self, v, k, q, mask):\n",
        "        batch_size = tf.shape(q)[0]\n",
        "        \n",
        "        q = self.wq(q)\n",
        "        k = self.wk(k)\n",
        "        v = self.wv(v) # (batch_size, seq_len, d_model)\n",
        "        \n",
        "        q = self.split_heads(q, batch_size)\n",
        "        k = self.split_heads(k, batch_size)\n",
        "        v = self.split_heads(v, batch_size) #(batch_size, num_head, seq_len_v, depth)\n",
        "        # scaled_attention.shape == (batch_size, num_heads, seq_len_v, depth)\n",
        "        # attention_weights.shape == (batch_size, num_heads, seq_len_q, seq_len_k)\n",
        "        scaled_attention, attention_weights = scaled_dot_product_attention(\n",
        "            q, k, v, mask)\n",
        "    \n",
        "        scaled_attention = tf.transpose(scaled_attention, perm=[0, 2, 1, 3])  # (batch_size, seq_len_v, num_heads, depth)\n",
        "\n",
        "        concat_attention = tf.reshape(scaled_attention, \n",
        "                                      (batch_size, -1, self.d_model))  # (batch_size, seq_len_v, d_model)\n",
        "\n",
        "        output = self.dense(concat_attention)  # (batch_size, seq_len_v, d_model)\n",
        "        \n",
        "        return output, attention_weights\n",
        "    "
      ],
      "execution_count": 16,
      "outputs": []
    },
    {
      "cell_type": "code",
      "metadata": {
        "id": "vrKTDbzp7mK9",
        "colab": {
          "base_uri": "https://localhost:8080/"
        },
        "outputId": "872b6ff4-a1b7-47ce-a621-09886063fbba"
      },
      "source": [
        "# multhead attention test\n",
        "temp_mha = MultiHeadAttention(d_model=512, num_heads=8)\n",
        "y = tf.random.uniform((1, 60, 512))  # (batch_size, encoder_sequence, d_model)\n",
        "out, attn = temp_mha(y, k=y, q=y, mask=None)\n",
        "out.shape, attn.shape\n"
      ],
      "execution_count": 17,
      "outputs": [
        {
          "output_type": "execute_result",
          "data": {
            "text/plain": [
              "(TensorShape([1, 60, 512]), TensorShape([1, 8, 60, 60]))"
            ]
          },
          "metadata": {},
          "execution_count": 17
        }
      ]
    },
    {
      "cell_type": "code",
      "metadata": {
        "id": "h4jCVAuU7mK-"
      },
      "source": [
        "# activation – the activation function of encoder/decoder intermediate layer, relu or gelu (default=relu).\n",
        "\n",
        "# Point wise feed forward network\n",
        "def point_wise_feed_forward_network(d_model, dff):\n",
        "    return tf.keras.Sequential([\n",
        "        tf.keras.layers.Dense(dff, activation='relu'),  # (batch_size, seq_len, dff)\n",
        "        tf.keras.layers.Dense(d_model)  # (batch_size, seq_len, d_model)\n",
        "    ])\n"
      ],
      "execution_count": 18,
      "outputs": []
    },
    {
      "cell_type": "code",
      "metadata": {
        "id": "kR78pzaU7mK_",
        "colab": {
          "base_uri": "https://localhost:8080/"
        },
        "outputId": "0998a118-7971-4e6b-9196-56743f1417e9"
      },
      "source": [
        "# Point wise feed forward network test\n",
        "sample_ffn = point_wise_feed_forward_network(512, 2048)\n",
        "sample_ffn(tf.random.uniform((64, 50, 512))).shape"
      ],
      "execution_count": 19,
      "outputs": [
        {
          "output_type": "execute_result",
          "data": {
            "text/plain": [
              "TensorShape([64, 50, 512])"
            ]
          },
          "metadata": {},
          "execution_count": 19
        }
      ]
    },
    {
      "cell_type": "markdown",
      "metadata": {
        "id": "0JHQxZvp7mK_"
      },
      "source": [
        "### Encoder and Decoder"
      ]
    },
    {
      "cell_type": "code",
      "metadata": {
        "id": "y_ja4MiQ7mLC"
      },
      "source": [
        "# Encoder Layer\n",
        "class EncoderLayer(tf.keras.layers.Layer):\n",
        "    def __init__(self, d_model, num_heads, dff, rate=0.1):\n",
        "        super(EncoderLayer, self).__init__()\n",
        "        \n",
        "        self.mha = MultiHeadAttention(d_model, num_heads)\n",
        "        self.ffn = point_wise_feed_forward_network(d_model, dff)\n",
        "        \n",
        "        self.layernorm1 = tf.keras.layers.BatchNormalization(epsilon=1e-6)\n",
        "        self.layernorm2 = tf.keras.layers.BatchNormalization(epsilon=1e-6)\n",
        "    \n",
        "        self.dropout1 = tf.keras.layers.Dropout(rate)\n",
        "        self.dropout2 = tf.keras.layers.Dropout(rate)\n",
        "    \n",
        "    def call(self, x, training, mask):\n",
        "        attn_output, _ = self.mha(x, x, x, mask) # (batch_size, input_seq_len, d_model)\n",
        "        attn_output = self.dropout1(attn_output, training=training)\n",
        "        out1 = self.layernorm1(x + attn_output)\n",
        "        \n",
        "        ffn_output = self.ffn(out1) # (batch_size, input_seq_len, d_model)\n",
        "        ffn_output = self.dropout2(ffn_output, training=training)\n",
        "        out2 = self.layernorm2(out1 + ffn_output) # (batch_size, input_seq_len, d_model)\n",
        "        \n",
        "        return out2"
      ],
      "execution_count": 20,
      "outputs": []
    },
    {
      "cell_type": "code",
      "metadata": {
        "id": "msUwz7Bx7mLD",
        "colab": {
          "base_uri": "https://localhost:8080/"
        },
        "outputId": "dbccb77d-6e26-4cec-d6e6-4ab4183d4271"
      },
      "source": [
        "# Encoder Layer Test\n",
        "sample_encoder_layer = EncoderLayer(512, 8, 2048)\n",
        "\n",
        "sample_encoder_layer_output = sample_encoder_layer(\n",
        "    tf.random.uniform((64, 43, 512)), False, None)\n",
        "\n",
        "sample_encoder_layer_output.shape  # (batch_size, input_seq_len, d_model)\n"
      ],
      "execution_count": 21,
      "outputs": [
        {
          "output_type": "execute_result",
          "data": {
            "text/plain": [
              "TensorShape([64, 43, 512])"
            ]
          },
          "metadata": {},
          "execution_count": 21
        }
      ]
    },
    {
      "cell_type": "code",
      "metadata": {
        "id": "V-c2G1Cp7mLE"
      },
      "source": [
        "# Decoder Layer\n",
        "class DecoderLayer(tf.keras.layers.Layer):\n",
        "    def __init__(self, d_model, num_heads, dff, rate=0.1):\n",
        "        super(DecoderLayer, self).__init__()\n",
        "        \n",
        "        self.mha1 = MultiHeadAttention(d_model, num_heads)\n",
        "        self.mha2 = MultiHeadAttention(d_model, num_heads)\n",
        "        \n",
        "        self.ffn = point_wise_feed_forward_network(d_model, dff)\n",
        "        \n",
        "        self.layernorm1 = tf.keras.layers.BatchNormalization(epsilon=1e-6)\n",
        "        self.layernorm2 = tf.keras.layers.BatchNormalization(epsilon=1e-6)\n",
        "        self.layernorm3 = tf.keras.layers.BatchNormalization(epsilon=1e-6)\n",
        "    \n",
        "        self.dropout1 = tf.keras.layers.Dropout(rate)\n",
        "        self.dropout2 = tf.keras.layers.Dropout(rate)\n",
        "        self.dropout3 = tf.keras.layers.Dropout(rate)\n",
        "                                            \n",
        "    def call(self, x, enc_output, training,\n",
        "            look_ahead_mask, padding_mask):\n",
        "        # enc_output.shape == (batch_size, input_seq_len, d_model)\n",
        "        attn1, attn_weights_block1 = self.mha1(x, x, x, look_ahead_mask)\n",
        "        attn1 = self.dropout1(attn1, training=training)\n",
        "        out1 = self.layernorm1(attn1 + x)\n",
        "        \n",
        "        attn2, attn_weights_block2 = self.mha2(\n",
        "            enc_output, enc_output, out1, padding_mask)\n",
        "        attn2 = self.dropout2(attn2, training=training)\n",
        "        out2 = self.layernorm2(attn2 + out1)\n",
        "        \n",
        "        ffn_output = self.ffn(out2)\n",
        "        ffn_output = self.dropout3(ffn_output, training=training)\n",
        "        out3 = self.layernorm3(ffn_output + out2)\n",
        "        \n",
        "        return out3, attn_weights_block1, attn_weights_block2\n",
        "    \n",
        "    "
      ],
      "execution_count": 22,
      "outputs": []
    },
    {
      "cell_type": "code",
      "metadata": {
        "id": "s2HBk8KS7mLE",
        "colab": {
          "base_uri": "https://localhost:8080/"
        },
        "outputId": "74be889a-8fca-4fb5-e8f5-d98754d41383"
      },
      "source": [
        "# Decoder layer test\n",
        "sample_decoder_layer = DecoderLayer(512, 8, 2048)\n",
        "\n",
        "sample_decoder_layer_output, _, _ = sample_decoder_layer(\n",
        "    tf.random.uniform((64, 50, 512)), sample_encoder_layer_output, \n",
        "    False, None, None)\n",
        "\n",
        "sample_decoder_layer_output.shape  # (batch_size, target_seq_len, d_model)"
      ],
      "execution_count": 23,
      "outputs": [
        {
          "output_type": "execute_result",
          "data": {
            "text/plain": [
              "TensorShape([64, 50, 512])"
            ]
          },
          "metadata": {},
          "execution_count": 23
        }
      ]
    },
    {
      "cell_type": "code",
      "metadata": {
        "id": "-X496L3Y7mLF"
      },
      "source": [
        "# Encoder\n",
        "\n",
        "class Encoder(tf.keras.layers.Layer):\n",
        "    def __init__(self, num_layers, d_model, num_heads, dff, max_len=5000,\n",
        "                rate=0.1):\n",
        "        super(Encoder, self).__init__()\n",
        "        self.d_model = d_model\n",
        "        self.num_layers = num_layers\n",
        "        self.embedding = tf.keras.layers.Dense(d_model, use_bias=False)\n",
        "        self.pos_encoding = positional_encoding(max_len, self.d_model)\n",
        "        \n",
        "        self.enc_layers = [EncoderLayer(d_model, num_heads, dff, rate) \n",
        "                       for _ in range(num_layers)]\n",
        "        \n",
        "        self.dropout = tf.keras.layers.Dropout(rate)\n",
        "        \n",
        "    def call(self, x, training, mask):\n",
        "        seq_len = tf.shape(x)[1]\n",
        "        \n",
        "        # adding embedding and position encoding\n",
        "        x = self.embedding(x)\n",
        "        # (batch_size, input_seq_len, d_model)\n",
        "        x *= tf.math.sqrt(tf.cast(self.d_model, tf.float32))\n",
        "        x += self.pos_encoding[:, :seq_len, :]\n",
        "        \n",
        "        x = self.dropout(x, training=training)\n",
        "        \n",
        "        for i in range(self.num_layers):\n",
        "            x = self.enc_layers[i](x, training, mask)\n",
        "        \n",
        "        return x\n",
        "                          "
      ],
      "execution_count": 24,
      "outputs": []
    },
    {
      "cell_type": "code",
      "metadata": {
        "id": "YSO73qPR7mLF",
        "colab": {
          "base_uri": "https://localhost:8080/"
        },
        "outputId": "4f6084d5-2337-4019-9005-03d58d8d0e1f"
      },
      "source": [
        "sample_encoder = Encoder(num_layers=2, d_model=512, num_heads=8, \n",
        "                         dff=2048)\n",
        "\n",
        "sample_encoder_output = sample_encoder(tf.random.uniform((64, 62,1)), \n",
        "                                       training=False, mask=None)\n",
        "\n",
        "print (sample_encoder_output.shape)  # (batch_size, input_seq_len, d_model)"
      ],
      "execution_count": 25,
      "outputs": [
        {
          "output_type": "stream",
          "name": "stdout",
          "text": [
            "(64, 62, 512)\n"
          ]
        }
      ]
    },
    {
      "cell_type": "code",
      "metadata": {
        "id": "iApaMNvC7mLG"
      },
      "source": [
        "# Decoder\n",
        "class Decoder(tf.keras.layers.Layer):\n",
        "    def __init__(self, num_layers, d_model, num_heads, dff, max_len=5000, rate=0.1):\n",
        "        super(Decoder, self).__init__()\n",
        "        \n",
        "        self.d_model = d_model\n",
        "        self.num_layers = num_layers\n",
        "        \n",
        "        self.embedding = tf.keras.layers.Dense(d_model, use_bias=False)\n",
        "        self.pos_encoding = positional_encoding(max_len, self.d_model)\n",
        "    \n",
        "        self.dec_layers = [DecoderLayer(d_model, num_heads, dff, rate) \n",
        "                            for _ in range(num_layers)]\n",
        "        self.dropout = tf.keras.layers.Dropout(rate)\n",
        "        \n",
        "    def call(self, x, enc_output, training,\n",
        "                look_ahead_mask, padding_mask):\n",
        "        \n",
        "        seq_len = tf.shape(x)[1]\n",
        "        attention_weights = {}\n",
        "        \n",
        "        x = self.embedding(x)\n",
        "        x *= tf.math.sqrt(tf.cast(self.d_model, tf.float32))\n",
        "        x += self.pos_encoding[:, :seq_len, :]\n",
        "        \n",
        "        x = self.dropout(x, training=training)\n",
        "        \n",
        "        for i in range(self.num_layers):\n",
        "            x, block1, block2 = self.dec_layers[i](x, enc_output, training,\n",
        "                                                  look_ahead_mask, padding_mask)\n",
        "            attention_weights['decoder_layer{}_block1'.format(i+1)] = block1\n",
        "            attention_weights['decoder_layer{}_block2'.format(i+1)] = block2\n",
        "            \n",
        "        \n",
        "        \n",
        "        return x, attention_weights\n",
        "    \n"
      ],
      "execution_count": 26,
      "outputs": []
    },
    {
      "cell_type": "code",
      "metadata": {
        "id": "lyz4sJBn7mLG",
        "colab": {
          "base_uri": "https://localhost:8080/"
        },
        "outputId": "75e364fe-58ae-4763-b4f6-825e990fbc2f"
      },
      "source": [
        "sample_decoder = Decoder(num_layers=2, d_model=512, num_heads=8, \n",
        "                         dff=2048)\n",
        "\n",
        "output, attn = sample_decoder(tf.random.uniform((64, 26,3)), \n",
        "                              enc_output=sample_encoder_output, \n",
        "                              training=False, look_ahead_mask=None, \n",
        "                              padding_mask=None)\n",
        "\n",
        "output.shape, attn['decoder_layer2_block2'].shape"
      ],
      "execution_count": 27,
      "outputs": [
        {
          "output_type": "execute_result",
          "data": {
            "text/plain": [
              "(TensorShape([64, 26, 512]), TensorShape([64, 8, 26, 62]))"
            ]
          },
          "metadata": {},
          "execution_count": 27
        }
      ]
    },
    {
      "cell_type": "markdown",
      "metadata": {
        "id": "cDMZbb2D7mLH"
      },
      "source": [
        "### Transfomer for TS\n"
      ]
    },
    {
      "cell_type": "code",
      "metadata": {
        "id": "3Wff4gY-7mLH"
      },
      "source": [
        "class Transformer(tf.keras.Model):\n",
        "    def __init__(self, num_layers, d_model, num_heads, dff, out_dim, max_len=5000,\n",
        "                rate=0.1):\n",
        "        super(Transformer, self).__init__()\n",
        "        \n",
        "        self.encoder = Encoder(num_layers, d_model, num_heads, dff,\n",
        "                              max_len, rate)\n",
        "        self.decoder = Decoder(num_layers, d_model, num_heads, dff,\n",
        "                               max_len, rate)\n",
        "        \n",
        "        self.final_layer = tf.keras.layers.Dense(out_dim)\n",
        "        \n",
        "    def call(self, inp, tar, training, enc_padding_mask,\n",
        "             look_ahead_mask, dec_padding_mask):\n",
        "        enc_output = self.encoder(inp, training, enc_padding_mask)\n",
        "        \n",
        "        dec_output, attention_weights = self.decoder(\n",
        "            tar, enc_output, training, look_ahead_mask, dec_padding_mask)\n",
        "        final_output = self.final_layer(dec_output)\n",
        "        \n",
        "        return final_output, attention_weights\n",
        "    \n",
        "    "
      ],
      "execution_count": 28,
      "outputs": []
    },
    {
      "cell_type": "code",
      "metadata": {
        "id": "zy2jyCC27mLH",
        "colab": {
          "base_uri": "https://localhost:8080/"
        },
        "outputId": "bc5c0e00-b89f-4e40-ab2b-13a06ff78cc1"
      },
      "source": [
        "sample_transformer = Transformer(\n",
        "    num_layers=2, d_model=512, num_heads=8, dff=2048, \n",
        "    out_dim=1)\n",
        "\n",
        "temp_input = tf.random.uniform((64, 62,1))\n",
        "temp_target = tf.random.uniform((64, 23,1))\n",
        "\n",
        "fn_out, _ = sample_transformer(temp_input, temp_target,training=False, \n",
        "                               enc_padding_mask=None, \n",
        "                               look_ahead_mask=None,\n",
        "                               dec_padding_mask=None)\n",
        "\n",
        "fn_out.shape"
      ],
      "execution_count": 29,
      "outputs": [
        {
          "output_type": "execute_result",
          "data": {
            "text/plain": [
              "TensorShape([64, 23, 1])"
            ]
          },
          "metadata": {},
          "execution_count": 29
        }
      ]
    },
    {
      "cell_type": "code",
      "metadata": {
        "id": "vkBfkgGy7mLI"
      },
      "source": [
        "# Set hyperparameters\n",
        "# 트랜스포머 기준으로 바꿔볼까? \n",
        "# d_model – the number of expected features in the encoder/decoder inputs (default=512).\n",
        "# nhead – the number of heads in the multiheadattention models (default=8).\n",
        "# num_encoder_layers – the number of sub-encoder-layers in the encoder & decoder (default=6).\n",
        "# num_decoder_layers – the number of sub-decoder-layers in the decoder (default=6).\n",
        "# dff(dim_feedforward) – the dimension of the feedforward network model (default=2048).\n",
        "# dropout – the dropout value (default=0.1).\n",
        "\n",
        "\n",
        "num_layers = 1\n",
        "d_model = 64\n",
        "dff = 256\n",
        "num_heads = 4\n",
        "\n",
        "dropout_rate = 0.1\n",
        "input_sequence_length = 720-(24*1+23) # Length of the sequence used by the encoder\n",
        "target_sequence_length = 24*1+23 # Length of the sequence predicted by the decoder\n",
        "batch_size = 2*11\n",
        "\n",
        "train_dataset = train_dataset.batch(batch_size)\n",
        "val_dataset = val_dataset.batch(batch_size)"
      ],
      "execution_count": 30,
      "outputs": []
    },
    {
      "cell_type": "code",
      "metadata": {
        "id": "dwNIQKry7mLI"
      },
      "source": [
        "# Optimizizer\n",
        "class CustomSchedule(tf.keras.optimizers.schedules.LearningRateSchedule):\n",
        "    def __init__(self, d_model, warmup_steps=4000):\n",
        "        super(CustomSchedule, self).__init__()\n",
        "    \n",
        "        self.d_model = d_model\n",
        "        self.d_model = tf.cast(self.d_model, tf.float32)\n",
        "\n",
        "        self.warmup_steps = warmup_steps\n",
        "    \n",
        "    def __call__(self, step):\n",
        "        arg1 = tf.math.rsqrt(step)\n",
        "        arg2 = step * (self.warmup_steps ** -1.5)\n",
        "    \n",
        "        return tf.math.rsqrt(self.d_model) * tf.math.minimum(arg1, arg2)"
      ],
      "execution_count": 31,
      "outputs": []
    },
    {
      "cell_type": "code",
      "metadata": {
        "id": "EHuh2wWR7mLI"
      },
      "source": [
        "learning_rate = CustomSchedule(64)\n",
        "\n",
        "optimizer = tf.keras.optimizers.Adam(learning_rate, beta_1=0.9, beta_2=0.98, \n",
        "                                     epsilon=1e-9)"
      ],
      "execution_count": 32,
      "outputs": []
    },
    {
      "cell_type": "code",
      "metadata": {
        "id": "ftwg7b_Z7mLI",
        "colab": {
          "base_uri": "https://localhost:8080/",
          "height": 296
        },
        "outputId": "c30c4607-73f2-4521-8453-40891e96c754"
      },
      "source": [
        "temp_learning_rate_schedule = CustomSchedule(512)\n",
        "\n",
        "plt.plot(temp_learning_rate_schedule(tf.range(40000, dtype=tf.float32)))\n",
        "plt.ylabel(\"Learning Rate\")\n",
        "plt.xlabel(\"Train Step\")"
      ],
      "execution_count": 33,
      "outputs": [
        {
          "output_type": "execute_result",
          "data": {
            "text/plain": [
              "Text(0.5, 0, 'Train Step')"
            ]
          },
          "metadata": {},
          "execution_count": 33
        },
        {
          "output_type": "display_data",
          "data": {
            "image/png": "[encoded data removed]",
            "text/plain": [
              "<Figure size 432x288 with 1 Axes>"
            ]
          },
          "metadata": {
            "needs_background": "light"
          }
        }
      ]
    },
    {
      "cell_type": "code",
      "metadata": {
        "id": "Tn59NBXK7mLI"
      },
      "source": [
        "# Loss and metrics\n",
        "loss_object = tf.keras.losses.MeanAbsoluteError()"
      ],
      "execution_count": 34,
      "outputs": []
    },
    {
      "cell_type": "code",
      "metadata": {
        "id": "0BwT16Z77mLJ"
      },
      "source": [
        "def loss_function(real, pred):\n",
        "    mask = tf.math.logical_not(tf.math.equal(real, 0))\n",
        "    loss_ = loss_object(real, pred)\n",
        "\n",
        "    mask = tf.cast(mask, dtype=loss_.dtype)\n",
        "    loss_ *= mask\n",
        "  \n",
        "    return tf.reduce_mean(loss_)\n"
      ],
      "execution_count": 35,
      "outputs": []
    },
    {
      "cell_type": "code",
      "metadata": {
        "id": "vlFkoDfS7mLJ"
      },
      "source": [
        "train_loss = tf.keras.metrics.Mean(name='train_loss')\n",
        "#train_accuracy = tf.keras.metrics.mean_absolute_error()\n",
        "\n",
        "test_loss = tf.keras.metrics.Mean(name='test_loss')"
      ],
      "execution_count": 36,
      "outputs": []
    },
    {
      "cell_type": "code",
      "metadata": {
        "id": "wpZb8zHP7mLJ"
      },
      "source": [
        "# Training and checkpoint\n",
        "transformer = Transformer(num_layers, d_model, num_heads, dff,\n",
        "                          out_dim=1, rate=dropout_rate)"
      ],
      "execution_count": 37,
      "outputs": []
    },
    {
      "cell_type": "code",
      "metadata": {
        "id": "shPhCuBM7mLJ"
      },
      "source": [
        "def create_masks(inp, tar):\n",
        "    inp = inp.reshape()\n",
        "    # Encoder padding mask\n",
        "    enc_padding_mask = create_padding_mask(inp)\n",
        "  \n",
        "    # Used in the 2nd attention block in the decoder.\n",
        "    # This padding mask is used to mask the encoder outputs.\n",
        "    dec_padding_mask = create_padding_mask(inp)\n",
        "  \n",
        "    # Used in the 1st attention block in the decoder.\n",
        "    # It is used to pad and mask future tokens in the input received by \n",
        "    # the decoder.\n",
        "    look_ahead_mask = create_look_ahead_mask(tf.shape(tar)[1])\n",
        "    dec_target_padding_mask = create_padding_mask(tar)\n",
        "    combined_mask = tf.maximum(dec_target_padding_mask, look_ahead_mask)\n",
        "  \n",
        "    return enc_padding_mask, combined_mask, dec_padding_mask"
      ],
      "execution_count": 38,
      "outputs": []
    },
    {
      "cell_type": "code",
      "metadata": {
        "id": "r9ENhH-s7mLK"
      },
      "source": [
        "# check point\n",
        "checkpoint_path = \"./checkpoints/train\"\n",
        "\n",
        "ckpt = tf.train.Checkpoint(transformer=transformer,\n",
        "                           optimizer=optimizer)\n",
        "\n",
        "ckpt_manager = tf.train.CheckpointManager(ckpt, checkpoint_path, max_to_keep=5)\n",
        "\n",
        "# if a checkpoint exists, restore the latest checkpoint.\n",
        "if ckpt_manager.latest_checkpoint:\n",
        "    ckpt.restore(ckpt_manager.latest_checkpoint)\n",
        "    print ('Latest checkpoint restored!!')\n",
        "    "
      ],
      "execution_count": 39,
      "outputs": []
    },
    {
      "cell_type": "code",
      "metadata": {
        "id": "zf4S65Ud7mLK"
      },
      "source": [
        "# EPOCHS\n",
        "EPOCHS=100"
      ],
      "execution_count": 40,
      "outputs": []
    },
    {
      "cell_type": "code",
      "metadata": {
        "id": "dN2lAMeP7mLK"
      },
      "source": [
        "@tf.function\n",
        "def train_step(inp, tar):\n",
        "    last_inp = tf.expand_dims(inp[:,0,:],-1)\n",
        "    tar_inp = tf.concat([last_inp, tar[:,:-1,:]], axis=1)\n",
        "    tar_real = tar\n",
        "  \n",
        "    #enc_padding_mask, combined_mask, dec_padding_mask = create_masks(inp, tar_inp)\n",
        "    #print(enc_padding_mask)\n",
        "    look_ahead_mask = create_look_ahead_mask(tf.shape(tar)[1])\n",
        "    \n",
        "    with tf.GradientTape() as tape:\n",
        "        predictions, _ = transformer(inp, tar_inp, \n",
        "                                     True, \n",
        "                                     None, \n",
        "                                     look_ahead_mask, \n",
        "                                     None)\n",
        "        loss = loss_function(tar_real, predictions)\n",
        "\n",
        "    gradients = tape.gradient(loss, transformer.trainable_variables)    \n",
        "    optimizer.apply_gradients(zip(gradients, transformer.trainable_variables))\n",
        "  \n",
        "    train_loss(loss)\n",
        "    #train_accuracy(tar_real, predictions)"
      ],
      "execution_count": 41,
      "outputs": []
    },
    {
      "cell_type": "code",
      "metadata": {
        "id": "aFzrcnAU7mLK"
      },
      "source": [
        "@tf.function\n",
        "def test_step(inp, tar):\n",
        "    #print(inp)\n",
        "    #print(tar)\n",
        "    last_inp = tf.expand_dims(inp[:,0,:],-1)\n",
        "    #print(last_inp)\n",
        "    tar_inp = tf.concat([last_inp, tar[:,:-1,:]], axis=1)\n",
        "    tar_real = tar\n",
        "    \n",
        "    look_ahead_mask = create_look_ahead_mask(tf.shape(tar)[1])\n",
        "    \n",
        "    with tf.GradientTape() as tape:\n",
        "        predictions, _ = transformer(inp, tar_inp, \n",
        "                                     False, \n",
        "                                     None, \n",
        "                                     look_ahead_mask, \n",
        "                                     None)\n",
        "        loss = loss_function(tar_real, predictions)\n",
        "\n",
        "    gradients = tape.gradient(loss, transformer.trainable_variables)    \n",
        "    optimizer.apply_gradients(zip(gradients, transformer.trainable_variables))\n",
        "\n",
        "    test_loss(loss)"
      ],
      "execution_count": 42,
      "outputs": []
    },
    {
      "cell_type": "code",
      "metadata": {
        "scrolled": true,
        "id": "VU9sFkFu7mLL",
        "colab": {
          "base_uri": "https://localhost:8080/"
        },
        "outputId": "121e8a96-fcdb-49b7-8f66-cc96217c5f33"
      },
      "source": [
        "# Val_dataset을 돌려서 Val_prediction 구간을 예측한다\n",
        "\n",
        "for epoch in range(EPOCHS):\n",
        "    start = time.time()\n",
        "\n",
        "    train_loss.reset_states()\n",
        "    test_loss.reset_states()\n",
        "    \n",
        "    # validation:\n",
        "    for (batch, (inp, tar)) in enumerate(val_dataset):\n",
        "        #print(inp, tar)\n",
        "        test_step(inp, tar)\n",
        "        \n",
        "    if (epoch + 1) % 5 == 0:\n",
        "        ckpt_save_path = ckpt_manager.save()\n",
        "        print ('Saving checkpoint for epoch {} at {}'.format(epoch+1,\n",
        "                                                         ckpt_save_path))\n",
        "    \n",
        "    #print ('Epoch {} Train Loss {:.4f}'.format(epoch + 1, \n",
        "                                                #train_loss.result())) \n",
        "                                                #train_accuracy.result()))\n",
        "    print ('Epoch {} Test Loss {:.4f}'.format(epoch + 1, \n",
        "                                                test_loss.result())) \n",
        "    print ('Time taken for 1 epoch: {} secs\\n'.format(time.time() - start))\n",
        "    \n"
      ],
      "execution_count": 43,
      "outputs": [
        {
          "output_type": "stream",
          "name": "stdout",
          "text": [
            "Epoch 1 Test Loss 0.4924\n",
            "Time taken for 1 epoch: 3.144470691680908 secs\n",
            "\n",
            "Epoch 2 Test Loss 0.4924\n",
            "Time taken for 1 epoch: 0.01181793212890625 secs\n",
            "\n",
            "Epoch 3 Test Loss 0.4920\n",
            "Time taken for 1 epoch: 0.010737419128417969 secs\n",
            "\n",
            "Epoch 4 Test Loss 0.4913\n",
            "Time taken for 1 epoch: 0.009871482849121094 secs\n",
            "\n",
            "Saving checkpoint for epoch 5 at ./checkpoints/train/ckpt-1\n",
            "Epoch 5 Test Loss 0.4901\n",
            "Time taken for 1 epoch: 0.1194005012512207 secs\n",
            "\n",
            "Epoch 6 Test Loss 0.4889\n",
            "Time taken for 1 epoch: 0.012264013290405273 secs\n",
            "\n",
            "Epoch 7 Test Loss 0.4875\n",
            "Time taken for 1 epoch: 0.010997533798217773 secs\n",
            "\n",
            "Epoch 8 Test Loss 0.4857\n",
            "Time taken for 1 epoch: 0.01190042495727539 secs\n",
            "\n",
            "Epoch 9 Test Loss 0.4837\n",
            "Time taken for 1 epoch: 0.010029792785644531 secs\n",
            "\n",
            "Saving checkpoint for epoch 10 at ./checkpoints/train/ckpt-2\n",
            "Epoch 10 Test Loss 0.4812\n",
            "Time taken for 1 epoch: 0.09795498847961426 secs\n",
            "\n",
            "Epoch 11 Test Loss 0.4785\n",
            "Time taken for 1 epoch: 0.011113166809082031 secs\n",
            "\n",
            "Epoch 12 Test Loss 0.4761\n",
            "Time taken for 1 epoch: 0.01086878776550293 secs\n",
            "\n",
            "Epoch 13 Test Loss 0.4733\n",
            "Time taken for 1 epoch: 0.010374784469604492 secs\n",
            "\n",
            "Epoch 14 Test Loss 0.4700\n",
            "Time taken for 1 epoch: 0.009959697723388672 secs\n",
            "\n",
            "Saving checkpoint for epoch 15 at ./checkpoints/train/ckpt-3\n",
            "Epoch 15 Test Loss 0.4665\n",
            "Time taken for 1 epoch: 0.10792136192321777 secs\n",
            "\n",
            "Epoch 16 Test Loss 0.4634\n",
            "Time taken for 1 epoch: 0.010371923446655273 secs\n",
            "\n",
            "Epoch 17 Test Loss 0.4600\n",
            "Time taken for 1 epoch: 0.011095523834228516 secs\n",
            "\n",
            "Epoch 18 Test Loss 0.4564\n",
            "Time taken for 1 epoch: 0.010665655136108398 secs\n",
            "\n",
            "Epoch 19 Test Loss 0.4526\n",
            "Time taken for 1 epoch: 0.010249614715576172 secs\n",
            "\n",
            "Saving checkpoint for epoch 20 at ./checkpoints/train/ckpt-4\n",
            "Epoch 20 Test Loss 0.4485\n",
            "Time taken for 1 epoch: 0.09447073936462402 secs\n",
            "\n",
            "Epoch 21 Test Loss 0.4442\n",
            "Time taken for 1 epoch: 0.011633872985839844 secs\n",
            "\n",
            "Epoch 22 Test Loss 0.4396\n",
            "Time taken for 1 epoch: 0.009965658187866211 secs\n",
            "\n",
            "Epoch 23 Test Loss 0.4348\n",
            "Time taken for 1 epoch: 0.010033845901489258 secs\n",
            "\n",
            "Epoch 24 Test Loss 0.4299\n",
            "Time taken for 1 epoch: 0.010136842727661133 secs\n",
            "\n",
            "Saving checkpoint for epoch 25 at ./checkpoints/train/ckpt-5\n",
            "Epoch 25 Test Loss 0.4251\n",
            "Time taken for 1 epoch: 0.08783650398254395 secs\n",
            "\n",
            "Epoch 26 Test Loss 0.4197\n",
            "Time taken for 1 epoch: 0.01060938835144043 secs\n",
            "\n",
            "Epoch 27 Test Loss 0.4140\n",
            "Time taken for 1 epoch: 0.010300636291503906 secs\n",
            "\n",
            "Epoch 28 Test Loss 0.4083\n",
            "Time taken for 1 epoch: 0.010262489318847656 secs\n",
            "\n",
            "Epoch 29 Test Loss 0.4024\n",
            "Time taken for 1 epoch: 0.009826183319091797 secs\n",
            "\n",
            "Saving checkpoint for epoch 30 at ./checkpoints/train/ckpt-6\n",
            "Epoch 30 Test Loss 0.3963\n",
            "Time taken for 1 epoch: 0.10276460647583008 secs\n",
            "\n",
            "Epoch 31 Test Loss 0.3898\n",
            "Time taken for 1 epoch: 0.013056755065917969 secs\n",
            "\n",
            "Epoch 32 Test Loss 0.3830\n",
            "Time taken for 1 epoch: 0.011358022689819336 secs\n",
            "\n",
            "Epoch 33 Test Loss 0.3759\n",
            "Time taken for 1 epoch: 0.009588479995727539 secs\n",
            "\n",
            "Epoch 34 Test Loss 0.3686\n",
            "Time taken for 1 epoch: 0.010796546936035156 secs\n",
            "\n",
            "Saving checkpoint for epoch 35 at ./checkpoints/train/ckpt-7\n",
            "Epoch 35 Test Loss 0.3611\n",
            "Time taken for 1 epoch: 0.09714460372924805 secs\n",
            "\n",
            "Epoch 36 Test Loss 0.3543\n",
            "Time taken for 1 epoch: 0.010483980178833008 secs\n",
            "\n",
            "Epoch 37 Test Loss 0.3480\n",
            "Time taken for 1 epoch: 0.010178327560424805 secs\n",
            "\n",
            "Epoch 38 Test Loss 0.3414\n",
            "Time taken for 1 epoch: 0.00994253158569336 secs\n",
            "\n",
            "Epoch 39 Test Loss 0.3347\n",
            "Time taken for 1 epoch: 0.010023355484008789 secs\n",
            "\n",
            "Saving checkpoint for epoch 40 at ./checkpoints/train/ckpt-8\n",
            "Epoch 40 Test Loss 0.3285\n",
            "Time taken for 1 epoch: 0.09940123558044434 secs\n",
            "\n",
            "Epoch 41 Test Loss 0.3222\n",
            "Time taken for 1 epoch: 0.010002851486206055 secs\n",
            "\n",
            "Epoch 42 Test Loss 0.3153\n",
            "Time taken for 1 epoch: 0.010299205780029297 secs\n",
            "\n",
            "Epoch 43 Test Loss 0.3079\n",
            "Time taken for 1 epoch: 0.009057998657226562 secs\n",
            "\n",
            "Epoch 44 Test Loss 0.3000\n",
            "Time taken for 1 epoch: 0.01042938232421875 secs\n",
            "\n",
            "Saving checkpoint for epoch 45 at ./checkpoints/train/ckpt-9\n",
            "Epoch 45 Test Loss 0.2917\n",
            "Time taken for 1 epoch: 0.10450005531311035 secs\n",
            "\n",
            "Epoch 46 Test Loss 0.2829\n",
            "Time taken for 1 epoch: 0.011219024658203125 secs\n",
            "\n",
            "Epoch 47 Test Loss 0.2752\n",
            "Time taken for 1 epoch: 0.010704755783081055 secs\n",
            "\n",
            "Epoch 48 Test Loss 0.2695\n",
            "Time taken for 1 epoch: 0.009851694107055664 secs\n",
            "\n",
            "Epoch 49 Test Loss 0.2638\n",
            "Time taken for 1 epoch: 0.010118722915649414 secs\n",
            "\n",
            "Saving checkpoint for epoch 50 at ./checkpoints/train/ckpt-10\n",
            "Epoch 50 Test Loss 0.2588\n",
            "Time taken for 1 epoch: 0.1016535758972168 secs\n",
            "\n",
            "Epoch 51 Test Loss 0.2528\n",
            "Time taken for 1 epoch: 0.013549089431762695 secs\n",
            "\n",
            "Epoch 52 Test Loss 0.2473\n",
            "Time taken for 1 epoch: 0.01123809814453125 secs\n",
            "\n",
            "Epoch 53 Test Loss 0.2417\n",
            "Time taken for 1 epoch: 0.010865211486816406 secs\n",
            "\n",
            "Epoch 54 Test Loss 0.2368\n",
            "Time taken for 1 epoch: 0.010954618453979492 secs\n",
            "\n",
            "Saving checkpoint for epoch 55 at ./checkpoints/train/ckpt-11\n",
            "Epoch 55 Test Loss 0.2322\n",
            "Time taken for 1 epoch: 0.09775662422180176 secs\n",
            "\n",
            "Epoch 56 Test Loss 0.2281\n",
            "Time taken for 1 epoch: 0.010216474533081055 secs\n",
            "\n",
            "Epoch 57 Test Loss 0.2227\n",
            "Time taken for 1 epoch: 0.009787321090698242 secs\n",
            "\n",
            "Epoch 58 Test Loss 0.2210\n",
            "Time taken for 1 epoch: 0.009501934051513672 secs\n",
            "\n",
            "Epoch 59 Test Loss 0.2145\n",
            "Time taken for 1 epoch: 0.01014852523803711 secs\n",
            "\n",
            "Saving checkpoint for epoch 60 at ./checkpoints/train/ckpt-12\n",
            "Epoch 60 Test Loss 0.2100\n",
            "Time taken for 1 epoch: 0.09491705894470215 secs\n",
            "\n",
            "Epoch 61 Test Loss 0.2056\n",
            "Time taken for 1 epoch: 0.010383367538452148 secs\n",
            "\n",
            "Epoch 62 Test Loss 0.2003\n",
            "Time taken for 1 epoch: 0.009398221969604492 secs\n",
            "\n",
            "Epoch 63 Test Loss 0.1980\n",
            "Time taken for 1 epoch: 0.011525869369506836 secs\n",
            "\n",
            "Epoch 64 Test Loss 0.1914\n",
            "Time taken for 1 epoch: 0.009869098663330078 secs\n",
            "\n",
            "Saving checkpoint for epoch 65 at ./checkpoints/train/ckpt-13\n",
            "Epoch 65 Test Loss 0.1893\n",
            "Time taken for 1 epoch: 0.08751058578491211 secs\n",
            "\n",
            "Epoch 66 Test Loss 0.1859\n",
            "Time taken for 1 epoch: 0.010279417037963867 secs\n",
            "\n",
            "Epoch 67 Test Loss 0.1820\n",
            "Time taken for 1 epoch: 0.010185718536376953 secs\n",
            "\n",
            "Epoch 68 Test Loss 0.1786\n",
            "Time taken for 1 epoch: 0.010113239288330078 secs\n",
            "\n",
            "Epoch 69 Test Loss 0.1741\n",
            "Time taken for 1 epoch: 0.009888887405395508 secs\n",
            "\n",
            "Saving checkpoint for epoch 70 at ./checkpoints/train/ckpt-14\n",
            "Epoch 70 Test Loss 0.1692\n",
            "Time taken for 1 epoch: 0.09452414512634277 secs\n",
            "\n",
            "Epoch 71 Test Loss 0.1686\n",
            "Time taken for 1 epoch: 0.012211322784423828 secs\n",
            "\n",
            "Epoch 72 Test Loss 0.1624\n",
            "Time taken for 1 epoch: 0.013571500778198242 secs\n",
            "\n",
            "Epoch 73 Test Loss 0.1606\n",
            "Time taken for 1 epoch: 0.012428045272827148 secs\n",
            "\n",
            "Epoch 74 Test Loss 0.1554\n",
            "Time taken for 1 epoch: 0.010614871978759766 secs\n",
            "\n",
            "Saving checkpoint for epoch 75 at ./checkpoints/train/ckpt-15\n",
            "Epoch 75 Test Loss 0.1548\n",
            "Time taken for 1 epoch: 0.09168410301208496 secs\n",
            "\n",
            "Epoch 76 Test Loss 0.1493\n",
            "Time taken for 1 epoch: 0.016206741333007812 secs\n",
            "\n",
            "Epoch 77 Test Loss 0.1480\n",
            "Time taken for 1 epoch: 0.011882543563842773 secs\n",
            "\n",
            "Epoch 78 Test Loss 0.1448\n",
            "Time taken for 1 epoch: 0.012191295623779297 secs\n",
            "\n",
            "Epoch 79 Test Loss 0.1455\n",
            "Time taken for 1 epoch: 0.009876728057861328 secs\n",
            "\n",
            "Saving checkpoint for epoch 80 at ./checkpoints/train/ckpt-16\n",
            "Epoch 80 Test Loss 0.1400\n",
            "Time taken for 1 epoch: 0.09764266014099121 secs\n",
            "\n",
            "Epoch 81 Test Loss 0.1450\n",
            "Time taken for 1 epoch: 0.011256217956542969 secs\n",
            "\n",
            "Epoch 82 Test Loss 0.1355\n",
            "Time taken for 1 epoch: 0.026636123657226562 secs\n",
            "\n",
            "Epoch 83 Test Loss 0.1460\n",
            "Time taken for 1 epoch: 0.011666059494018555 secs\n",
            "\n",
            "Epoch 84 Test Loss 0.1377\n",
            "Time taken for 1 epoch: 0.01024007797241211 secs\n",
            "\n",
            "Saving checkpoint for epoch 85 at ./checkpoints/train/ckpt-17\n",
            "Epoch 85 Test Loss 0.1316\n",
            "Time taken for 1 epoch: 0.09302043914794922 secs\n",
            "\n",
            "Epoch 86 Test Loss 0.1343\n",
            "Time taken for 1 epoch: 0.011124610900878906 secs\n",
            "\n",
            "Epoch 87 Test Loss 0.1239\n",
            "Time taken for 1 epoch: 0.011968374252319336 secs\n",
            "\n",
            "Epoch 88 Test Loss 0.1308\n",
            "Time taken for 1 epoch: 0.009650230407714844 secs\n",
            "\n",
            "Epoch 89 Test Loss 0.1237\n",
            "Time taken for 1 epoch: 0.010680913925170898 secs\n",
            "\n",
            "Saving checkpoint for epoch 90 at ./checkpoints/train/ckpt-18\n",
            "Epoch 90 Test Loss 0.1215\n",
            "Time taken for 1 epoch: 0.10118699073791504 secs\n",
            "\n",
            "Epoch 91 Test Loss 0.1236\n",
            "Time taken for 1 epoch: 0.012293815612792969 secs\n",
            "\n",
            "Epoch 92 Test Loss 0.1138\n",
            "Time taken for 1 epoch: 0.010854482650756836 secs\n",
            "\n",
            "Epoch 93 Test Loss 0.1168\n",
            "Time taken for 1 epoch: 0.010969161987304688 secs\n",
            "\n",
            "Epoch 94 Test Loss 0.1141\n",
            "Time taken for 1 epoch: 0.011392831802368164 secs\n",
            "\n",
            "Saving checkpoint for epoch 95 at ./checkpoints/train/ckpt-19\n",
            "Epoch 95 Test Loss 0.1064\n",
            "Time taken for 1 epoch: 0.09707283973693848 secs\n",
            "\n",
            "Epoch 96 Test Loss 0.1118\n",
            "Time taken for 1 epoch: 0.012020587921142578 secs\n",
            "\n",
            "Epoch 97 Test Loss 0.1021\n",
            "Time taken for 1 epoch: 0.01065683364868164 secs\n",
            "\n",
            "Epoch 98 Test Loss 0.1072\n",
            "Time taken for 1 epoch: 0.01016378402709961 secs\n",
            "\n",
            "Epoch 99 Test Loss 0.1042\n",
            "Time taken for 1 epoch: 0.010381460189819336 secs\n",
            "\n",
            "Saving checkpoint for epoch 100 at ./checkpoints/train/ckpt-20\n",
            "Epoch 100 Test Loss 0.0955\n",
            "Time taken for 1 epoch: 0.0989682674407959 secs\n",
            "\n"
          ]
        }
      ]
    },
    {
      "cell_type": "code",
      "metadata": {
        "id": "cU4kkZys7mLL"
      },
      "source": [
        "MAX_LENGTH = target_sequence_length\n",
        "\n",
        "def evaluate(inp):\n",
        "    encoder_input = inp\n",
        "    #print(encoder_input)\n",
        "    output = tf.expand_dims(encoder_input[:,-1,:],-1)\n",
        "    #print(output)\n",
        "    \n",
        "    for i in range(MAX_LENGTH):\n",
        "        look_ahead_mask = create_look_ahead_mask(tf.shape(output)[1])\n",
        "        predictions, attention_weights = transformer(encoder_input, \n",
        "                                                     output, \n",
        "                                                     False, \n",
        "                                                     None, \n",
        "                                                     look_ahead_mask, \n",
        "                                                     None)\n",
        "        \n",
        "        # select the last word from the seq_len dimension\n",
        "        predictions = predictions[: ,-1:, :]  # (batch_size, 1)\n",
        "        #print(\"pred:\", predictions) #\n",
        "        output = tf.concat([output, predictions], axis=1)\n",
        "        #print(output)\n",
        "        \n",
        "    return tf.squeeze(output, axis=0), attention_weights"
      ],
      "execution_count": 44,
      "outputs": []
    },
    {
      "cell_type": "code",
      "metadata": {
        "id": "8gnQAWpsA0Vs"
      },
      "source": [
        "def mape(y_pred, y_true):\n",
        "    return np.mean(np.abs((y_true - y_pred) / y_true)) * 100"
      ],
      "execution_count": 45,
      "outputs": []
    },
    {
      "cell_type": "code",
      "metadata": {
        "id": "VrZLCCbpjmN0"
      },
      "source": [
        "def MAE(y_true, y_pred): \n",
        "    return np.mean(np.abs((y_true - y_pred)))"
      ],
      "execution_count": 46,
      "outputs": []
    },
    {
      "cell_type": "code",
      "metadata": {
        "id": "iN7slOWlk-x0"
      },
      "source": [
        "def MSE(y_true, y_pred):\n",
        "    return np.mean(np.square((y_true - y_pred)))"
      ],
      "execution_count": 47,
      "outputs": []
    },
    {
      "cell_type": "code",
      "metadata": {
        "id": "7khHQRegMByM"
      },
      "source": [
        "from sklearn.metrics import mean_squared_error\n",
        "from sklearn.metrics import mean_absolute_error"
      ],
      "execution_count": 48,
      "outputs": []
    },
    {
      "cell_type": "code",
      "metadata": {
        "id": "y8O2fiewMEaG",
        "colab": {
          "base_uri": "https://localhost:8080/"
        },
        "outputId": "b57fcbde-7985-4d3b-c91b-d9ba42aeb952"
      },
      "source": [
        "encode_series = encoder_input_val_data[0:1,:,:] \n",
        "#print(encode_series)\n",
        "\n",
        "pred_series, _ = evaluate(encode_series)\n",
        "pred_series = np.array([pred_series])\n",
        "encode_series = encode_series.reshape(-1,1)\n",
        "pred_series = pred_series.reshape(-1,1)[1:,:]   \n",
        "target_series = decoder_target_val_data[0,:,:1].reshape(-1,1) \n",
        "\n",
        "encode_series_tail = np.concatenate([encode_series[-500:],target_series[:1]])\n",
        "x_encode = encode_series_tail.shape[0]\n",
        "\n",
        "print(mape(pred_series[:24*1+23-23], target_series))\n",
        "\n",
        "print(MSE(target_series, pred_series[:24*1+23-23]))\n",
        "\n",
        "print(MAE(target_series, pred_series[:24*1+23-23]))"
      ],
      "execution_count": 49,
      "outputs": [
        {
          "output_type": "stream",
          "name": "stdout",
          "text": [
            "54.52589392662048\n",
            "0.014935817\n",
            "0.10089586\n"
          ]
        }
      ]
    },
    {
      "cell_type": "code",
      "metadata": {
        "id": "gRxmWFiyPIOG",
        "colab": {
          "base_uri": "https://localhost:8080/"
        },
        "outputId": "a4600f63-060c-4fb2-dea9-ea44018a7d03"
      },
      "source": [
        "x_encode"
      ],
      "execution_count": 50,
      "outputs": [
        {
          "output_type": "execute_result",
          "data": {
            "text/plain": [
              "501"
            ]
          },
          "metadata": {},
          "execution_count": 50
        }
      ]
    },
    {
      "cell_type": "code",
      "metadata": {
        "id": "pzq3ApNZMHx6",
        "colab": {
          "base_uri": "https://localhost:8080/",
          "height": 406
        },
        "outputId": "440105ae-5005-4cd0-ae48-0648dab9e7f2"
      },
      "source": [
        "# 실제와 가격차이가 어떻게 나는지 비교해서 보정한다.\n",
        "\n",
        "plt.figure(figsize=(20,6))   \n",
        "\n",
        "plt.plot(range(1,x_encode+1),encode_series_tail+0.00900414)\n",
        "plt.plot(range(x_encode,x_encode+pred_steps-23),target_series+0.00900414,color='orange')\n",
        "plt.plot(range(x_encode,x_encode+pred_steps-23),pred_series[:24*1+23-23]+0.00900414,color='teal',linestyle='--')\n",
        "\n",
        "plt.title('Encoder Series Tail of Length %d, Target Series, and Predictions' % 500)\n",
        "plt.legend(['Encoding Series','Target Series','Predictions'])"
      ],
      "execution_count": 51,
      "outputs": [
        {
          "output_type": "execute_result",
          "data": {
            "text/plain": [
              "<matplotlib.legend.Legend at 0x7fe9fe47b450>"
            ]
          },
          "metadata": {},
          "execution_count": 51
        },
        {
          "output_type": "display_data",
          "data": {
            "image/png": "[encoded data removed]",
            "text/plain": [
              "<Figure size 1440x432 with 1 Axes>"
            ]
          },
          "metadata": {
            "needs_background": "light"
          }
        }
      ]
    },
    {
      "cell_type": "markdown",
      "metadata": {
        "id": "FHfEpRQj_7jQ"
      },
      "source": [
        "#Prophet"
      ]
    },
    {
      "cell_type": "code",
      "metadata": {
        "id": "GxabcXNaR_HX"
      },
      "source": [
        "import pandas as pd\n",
        "from fbprophet import Prophet\n",
        "import matplotlib.pyplot as plt\n",
        "import numpy as np"
      ],
      "execution_count": 52,
      "outputs": []
    },
    {
      "cell_type": "code",
      "metadata": {
        "id": "KMFg8RedAAXL",
        "colab": {
          "base_uri": "https://localhost:8080/",
          "height": 206
        },
        "outputId": "c0d07be7-b50c-4a90-9152-258cdbe828a1"
      },
      "source": [
        "df = pd.read_csv(\"/content/drive/MyDrive/Colab Notebooks/Data/삼성전자_1M_ST_Version1.csv\", encoding='CP949')\n",
        "df = df.drop(df.columns[0], axis=1)\n",
        "\n",
        "df.columns = [\"ds\",\"y\"]\n",
        "df[\"ds\"] = pd.to_datetime(df[\"ds\"], dayfirst = True)\n",
        "\n",
        "df.head()"
      ],
      "execution_count": 53,
      "outputs": [
        {
          "output_type": "execute_result",
          "data": {
            "text/html": [
              "<div>\n",
              "<style scoped>\n",
              "    .dataframe tbody tr th:only-of-type {\n",
              "        vertical-align: middle;\n",
              "    }\n",
              "\n",
              "    .dataframe tbody tr th {\n",
              "        vertical-align: top;\n",
              "    }\n",
              "\n",
              "    .dataframe thead th {\n",
              "        text-align: right;\n",
              "    }\n",
              "</style>\n",
              "<table border=\"1\" class=\"dataframe\">\n",
              "  <thead>\n",
              "    <tr style=\"text-align: right;\">\n",
              "      <th></th>\n",
              "      <th>ds</th>\n",
              "      <th>y</th>\n",
              "    </tr>\n",
              "  </thead>\n",
              "  <tbody>\n",
              "    <tr>\n",
              "      <th>0</th>\n",
              "      <td>2021-07-01 00:00:00</td>\n",
              "      <td>0.124688</td>\n",
              "    </tr>\n",
              "    <tr>\n",
              "      <th>1</th>\n",
              "      <td>2021-07-01 01:00:00</td>\n",
              "      <td>0.124688</td>\n",
              "    </tr>\n",
              "    <tr>\n",
              "      <th>2</th>\n",
              "      <td>2021-07-01 02:00:00</td>\n",
              "      <td>0.124688</td>\n",
              "    </tr>\n",
              "    <tr>\n",
              "      <th>3</th>\n",
              "      <td>2021-07-01 03:00:00</td>\n",
              "      <td>0.124688</td>\n",
              "    </tr>\n",
              "    <tr>\n",
              "      <th>4</th>\n",
              "      <td>2021-07-01 04:00:00</td>\n",
              "      <td>0.124688</td>\n",
              "    </tr>\n",
              "  </tbody>\n",
              "</table>\n",
              "</div>"
            ],
            "text/plain": [
              "                   ds         y\n",
              "0 2021-07-01 00:00:00  0.124688\n",
              "1 2021-07-01 01:00:00  0.124688\n",
              "2 2021-07-01 02:00:00  0.124688\n",
              "3 2021-07-01 03:00:00  0.124688\n",
              "4 2021-07-01 04:00:00  0.124688"
            ]
          },
          "metadata": {},
          "execution_count": 53
        }
      ]
    },
    {
      "cell_type": "code",
      "metadata": {
        "id": "xv9FXHpaAELb",
        "colab": {
          "base_uri": "https://localhost:8080/"
        },
        "outputId": "d46675e3-9743-4682-b20c-af9ab5ceacd0"
      },
      "source": [
        "m = Prophet()\n",
        "m.fit(df[:-24*1])"
      ],
      "execution_count": 54,
      "outputs": [
        {
          "output_type": "stream",
          "name": "stderr",
          "text": [
            "INFO:numexpr.utils:NumExpr defaulting to 4 threads.\n",
            "INFO:fbprophet:Disabling yearly seasonality. Run prophet with yearly_seasonality=True to override this.\n"
          ]
        },
        {
          "output_type": "execute_result",
          "data": {
            "text/plain": [
              "<fbprophet.forecaster.Prophet at 0x7feb10a5a3d0>"
            ]
          },
          "metadata": {},
          "execution_count": 54
        }
      ]
    },
    {
      "cell_type": "code",
      "metadata": {
        "id": "imkZ1wN0AGgF",
        "colab": {
          "base_uri": "https://localhost:8080/",
          "height": 206
        },
        "outputId": "9ff2bc7a-df84-41cc-d3c6-501bd2345bad"
      },
      "source": [
        "future = m.make_future_dataframe(freq='H',periods=24*1)\n",
        "future.tail()"
      ],
      "execution_count": 55,
      "outputs": [
        {
          "output_type": "execute_result",
          "data": {
            "text/html": [
              "<div>\n",
              "<style scoped>\n",
              "    .dataframe tbody tr th:only-of-type {\n",
              "        vertical-align: middle;\n",
              "    }\n",
              "\n",
              "    .dataframe tbody tr th {\n",
              "        vertical-align: top;\n",
              "    }\n",
              "\n",
              "    .dataframe thead th {\n",
              "        text-align: right;\n",
              "    }\n",
              "</style>\n",
              "<table border=\"1\" class=\"dataframe\">\n",
              "  <thead>\n",
              "    <tr style=\"text-align: right;\">\n",
              "      <th></th>\n",
              "      <th>ds</th>\n",
              "    </tr>\n",
              "  </thead>\n",
              "  <tbody>\n",
              "    <tr>\n",
              "      <th>716</th>\n",
              "      <td>2021-07-30 20:00:00</td>\n",
              "    </tr>\n",
              "    <tr>\n",
              "      <th>717</th>\n",
              "      <td>2021-07-30 21:00:00</td>\n",
              "    </tr>\n",
              "    <tr>\n",
              "      <th>718</th>\n",
              "      <td>2021-07-30 22:00:00</td>\n",
              "    </tr>\n",
              "    <tr>\n",
              "      <th>719</th>\n",
              "      <td>2021-07-30 23:00:00</td>\n",
              "    </tr>\n",
              "    <tr>\n",
              "      <th>720</th>\n",
              "      <td>2021-07-31 00:00:00</td>\n",
              "    </tr>\n",
              "  </tbody>\n",
              "</table>\n",
              "</div>"
            ],
            "text/plain": [
              "                     ds\n",
              "716 2021-07-30 20:00:00\n",
              "717 2021-07-30 21:00:00\n",
              "718 2021-07-30 22:00:00\n",
              "719 2021-07-30 23:00:00\n",
              "720 2021-07-31 00:00:00"
            ]
          },
          "metadata": {},
          "execution_count": 55
        }
      ]
    },
    {
      "cell_type": "code",
      "metadata": {
        "id": "xiGIX82FAIvT",
        "colab": {
          "base_uri": "https://localhost:8080/",
          "height": 206
        },
        "outputId": "b7f324fc-0b15-4a7f-9295-bb33a2572ffe"
      },
      "source": [
        "forecast = m.predict(future)\n",
        "forecast[['ds', 'yhat']].tail()"
      ],
      "execution_count": 56,
      "outputs": [
        {
          "output_type": "execute_result",
          "data": {
            "text/html": [
              "<div>\n",
              "<style scoped>\n",
              "    .dataframe tbody tr th:only-of-type {\n",
              "        vertical-align: middle;\n",
              "    }\n",
              "\n",
              "    .dataframe tbody tr th {\n",
              "        vertical-align: top;\n",
              "    }\n",
              "\n",
              "    .dataframe thead th {\n",
              "        text-align: right;\n",
              "    }\n",
              "</style>\n",
              "<table border=\"1\" class=\"dataframe\">\n",
              "  <thead>\n",
              "    <tr style=\"text-align: right;\">\n",
              "      <th></th>\n",
              "      <th>ds</th>\n",
              "      <th>yhat</th>\n",
              "    </tr>\n",
              "  </thead>\n",
              "  <tbody>\n",
              "    <tr>\n",
              "      <th>716</th>\n",
              "      <td>2021-07-30 20:00:00</td>\n",
              "      <td>-0.094383</td>\n",
              "    </tr>\n",
              "    <tr>\n",
              "      <th>717</th>\n",
              "      <td>2021-07-30 21:00:00</td>\n",
              "      <td>-0.085816</td>\n",
              "    </tr>\n",
              "    <tr>\n",
              "      <th>718</th>\n",
              "      <td>2021-07-30 22:00:00</td>\n",
              "      <td>-0.084896</td>\n",
              "    </tr>\n",
              "    <tr>\n",
              "      <th>719</th>\n",
              "      <td>2021-07-30 23:00:00</td>\n",
              "      <td>-0.088332</td>\n",
              "    </tr>\n",
              "    <tr>\n",
              "      <th>720</th>\n",
              "      <td>2021-07-31 00:00:00</td>\n",
              "      <td>-0.087792</td>\n",
              "    </tr>\n",
              "  </tbody>\n",
              "</table>\n",
              "</div>"
            ],
            "text/plain": [
              "                     ds      yhat\n",
              "716 2021-07-30 20:00:00 -0.094383\n",
              "717 2021-07-30 21:00:00 -0.085816\n",
              "718 2021-07-30 22:00:00 -0.084896\n",
              "719 2021-07-30 23:00:00 -0.088332\n",
              "720 2021-07-31 00:00:00 -0.087792"
            ]
          },
          "metadata": {},
          "execution_count": 56
        }
      ]
    },
    {
      "cell_type": "code",
      "metadata": {
        "id": "L-HWlN-ZAN-f",
        "colab": {
          "base_uri": "https://localhost:8080/",
          "height": 317
        },
        "outputId": "b89ec42a-7b7a-4281-b20a-aab92f64f14e"
      },
      "source": [
        "plt.figure(figsize=(20,5))\n",
        "\n",
        "plt.plot(df[\"y\"][400:], label=\"real\")\n",
        "plt.plot(range(720-24*1,720),forecast['yhat'][-24*1:], label=\"Prophet\")\n",
        "plt.plot(range(720-24*1,720),pred_series[:24*1+23-23]+0.00900414, label=\"Transformer\")\n",
        "plt.legend()\n",
        "plt.show()"
      ],
      "execution_count": 57,
      "outputs": [
        {
          "output_type": "display_data",
          "data": {
            "image/png": "[encoded data removed]",
            "text/plain": [
              "<Figure size 1440x360 with 1 Axes>"
            ]
          },
          "metadata": {
            "needs_background": "light"
          }
        }
      ]
    },
    {
      "cell_type": "markdown",
      "metadata": {
        "id": "UUMRI2j6Bocb"
      },
      "source": [
        "#LSTMa"
      ]
    },
    {
      "cell_type": "code",
      "metadata": {
        "id": "7WLcYZZYBqhX"
      },
      "source": [
        "import numpy as np \n",
        "import pandas as pd \n",
        "import matplotlib.pyplot as plt\n",
        "\n",
        "from tqdm import trange\n",
        "import random"
      ],
      "execution_count": 58,
      "outputs": []
    },
    {
      "cell_type": "code",
      "metadata": {
        "id": "hGUOrhKuBscl",
        "colab": {
          "base_uri": "https://localhost:8080/",
          "height": 206
        },
        "outputId": "ea97fd1e-d4a3-444c-b64d-46c3c906c318"
      },
      "source": [
        "data = pd.read_csv(\"/content/drive/MyDrive/Colab Notebooks/Data/삼성전자_1M_ST_Version1.csv\", encoding='CP949')\n",
        "\n",
        "data.head()"
      ],
      "execution_count": 59,
      "outputs": [
        {
          "output_type": "execute_result",
          "data": {
            "text/html": [
              "<div>\n",
              "<style scoped>\n",
              "    .dataframe tbody tr th:only-of-type {\n",
              "        vertical-align: middle;\n",
              "    }\n",
              "\n",
              "    .dataframe tbody tr th {\n",
              "        vertical-align: top;\n",
              "    }\n",
              "\n",
              "    .dataframe thead th {\n",
              "        text-align: right;\n",
              "    }\n",
              "</style>\n",
              "<table border=\"1\" class=\"dataframe\">\n",
              "  <thead>\n",
              "    <tr style=\"text-align: right;\">\n",
              "      <th></th>\n",
              "      <th>Unnamed: 0</th>\n",
              "      <th>날짜</th>\n",
              "      <th>종가</th>\n",
              "    </tr>\n",
              "  </thead>\n",
              "  <tbody>\n",
              "    <tr>\n",
              "      <th>0</th>\n",
              "      <td>0</td>\n",
              "      <td>2021-07-01 0:00</td>\n",
              "      <td>0.124688</td>\n",
              "    </tr>\n",
              "    <tr>\n",
              "      <th>1</th>\n",
              "      <td>1</td>\n",
              "      <td>2021-07-01 1:00</td>\n",
              "      <td>0.124688</td>\n",
              "    </tr>\n",
              "    <tr>\n",
              "      <th>2</th>\n",
              "      <td>2</td>\n",
              "      <td>2021-07-01 2:00</td>\n",
              "      <td>0.124688</td>\n",
              "    </tr>\n",
              "    <tr>\n",
              "      <th>3</th>\n",
              "      <td>3</td>\n",
              "      <td>2021-07-01 3:00</td>\n",
              "      <td>0.124688</td>\n",
              "    </tr>\n",
              "    <tr>\n",
              "      <th>4</th>\n",
              "      <td>4</td>\n",
              "      <td>2021-07-01 4:00</td>\n",
              "      <td>0.124688</td>\n",
              "    </tr>\n",
              "  </tbody>\n",
              "</table>\n",
              "</div>"
            ],
            "text/plain": [
              "   Unnamed: 0               날짜        종가\n",
              "0           0  2021-07-01 0:00  0.124688\n",
              "1           1  2021-07-01 1:00  0.124688\n",
              "2           2  2021-07-01 2:00  0.124688\n",
              "3           3  2021-07-01 3:00  0.124688\n",
              "4           4  2021-07-01 4:00  0.124688"
            ]
          },
          "metadata": {},
          "execution_count": 59
        }
      ]
    },
    {
      "cell_type": "code",
      "metadata": {
        "id": "MR7XsjsxBtY_"
      },
      "source": [
        "from sklearn.preprocessing import MinMaxScaler\n",
        "min_max_scaler = MinMaxScaler()\n",
        "data[\"종가\"] = min_max_scaler.fit_transform(data[\"종가\"].to_numpy().reshape(-1,1))"
      ],
      "execution_count": 60,
      "outputs": []
    },
    {
      "cell_type": "code",
      "metadata": {
        "id": "LzqEQL_2Byuf"
      },
      "source": [
        "train = data[:-24*1]\n",
        "train = train[\"종가\"].to_numpy()\n",
        "\n",
        "test = data[-24*1:]\n",
        "test = test[\"종가\"].to_numpy()"
      ],
      "execution_count": 61,
      "outputs": []
    },
    {
      "cell_type": "code",
      "metadata": {
        "id": "3Q6VbWpwB09L"
      },
      "source": [
        "import torch\n",
        "import torch.nn as nn\n",
        "from torch import optim\n",
        "import torch.nn.functional as F\n",
        "\n",
        "device = torch.device(\"cuda\", index=0)"
      ],
      "execution_count": 62,
      "outputs": []
    },
    {
      "cell_type": "code",
      "metadata": {
        "id": "Vsgdq7a1B2Zf"
      },
      "source": [
        "class lstm_encoder(nn.Module):\n",
        "    def __init__(self, input_size, hidden_size, num_layers = 1):\n",
        "        super(lstm_encoder, self).__init__()\n",
        "        self.input_size = input_size\n",
        "        self.hidden_size = hidden_size\n",
        "        self.num_layers = num_layers\n",
        "\n",
        "        self.lstm = nn.LSTM(input_size = input_size, hidden_size = hidden_size, num_layers = num_layers, batch_first=True)\n",
        "\n",
        "    def forward(self, x_input):\n",
        "        lstm_out, self.hidden = self.lstm(x_input)\n",
        "        return lstm_out, self.hidden"
      ],
      "execution_count": 63,
      "outputs": []
    },
    {
      "cell_type": "code",
      "metadata": {
        "id": "g3V7hzfIB4ua"
      },
      "source": [
        "class lstm_decoder(nn.Module):\n",
        "    def __init__(self, input_size, hidden_size, num_layers = 1):\n",
        "        super(lstm_decoder, self).__init__()\n",
        "        self.input_size = input_size\n",
        "        self.hidden_size = hidden_size\n",
        "        self.num_layers = num_layers\n",
        "\n",
        "        self.lstm = nn.LSTM(input_size = input_size, hidden_size = hidden_size,num_layers = num_layers, batch_first=True)\n",
        "        self.linear = nn.Linear(hidden_size, input_size)           \n",
        "\n",
        "    def forward(self, x_input, encoder_hidden_states):\n",
        "        lstm_out, self.hidden = self.lstm(x_input.unsqueeze(-1), encoder_hidden_states)\n",
        "        output = self.linear(lstm_out)\n",
        "        \n",
        "        return output, self.hidden"
      ],
      "execution_count": 64,
      "outputs": []
    },
    {
      "cell_type": "code",
      "metadata": {
        "id": "khG35pB8B8Zb"
      },
      "source": [
        "class lstm_encoder_decoder(nn.Module):\n",
        "    def __init__(self, input_size, hidden_size):\n",
        "        super(lstm_encoder_decoder, self).__init__()\n",
        "\n",
        "        self.input_size = input_size\n",
        "        self.hidden_size = hidden_size\n",
        "\n",
        "        self.encoder = lstm_encoder(input_size = input_size, hidden_size = hidden_size)\n",
        "        self.decoder = lstm_decoder(input_size = input_size, hidden_size = hidden_size)\n",
        "\n",
        "    def forward(self, inputs, targets, target_len, teacher_forcing_ratio):\n",
        "        batch_size = inputs.shape[0]\n",
        "        input_size = inputs.shape[2]\n",
        "\n",
        "        outputs = torch.zeros(batch_size, target_len, input_size)\n",
        "\n",
        "        _, hidden = self.encoder(inputs)\n",
        "        decoder_input = inputs[:,-1, :]\n",
        "        \n",
        "        for t in range(target_len): \n",
        "            out, hidden = self.decoder(decoder_input, hidden)\n",
        "            out =  out.squeeze(1)\n",
        "            if random.random() < teacher_forcing_ratio:\n",
        "                decoder_input = targets[:, t, :]\n",
        "            else:\n",
        "                decoder_input = out\n",
        "            outputs[:,t,:] = out\n",
        "\n",
        "        return outputs\n",
        "\n",
        "    def predict(self, inputs, target_len):\n",
        "        inputs = inputs.unsqueeze(0)\n",
        "        self.eval()\n",
        "        batch_size = inputs.shape[0]\n",
        "        input_size = inputs.shape[2]\n",
        "        outputs = torch.zeros(batch_size, target_len, input_size)\n",
        "        _, hidden = self.encoder(inputs)\n",
        "        decoder_input = inputs[:,-1, :]\n",
        "        for t in range(target_len): \n",
        "            out, hidden = self.decoder(decoder_input, hidden)\n",
        "            out =  out.squeeze(1)\n",
        "            decoder_input = out\n",
        "            outputs[:,t,:] = out\n",
        "        return outputs.detach().numpy()[0,:,0]"
      ],
      "execution_count": 65,
      "outputs": []
    },
    {
      "cell_type": "code",
      "metadata": {
        "id": "euepwoDsB_AS"
      },
      "source": [
        "from torch.utils.data import DataLoader, Dataset\n",
        "\n",
        "class windowDataset(Dataset):\n",
        "    def __init__(self, y, input_window=80, output_window=20, stride=5):\n",
        "        #총 데이터의 개수\n",
        "        L = y.shape[0]\n",
        "        #stride씩 움직일 때 생기는 총 sample의 개수\n",
        "        num_samples = (L - input_window - output_window) // stride + 1\n",
        "\n",
        "        #input과 output\n",
        "        X = np.zeros([input_window, num_samples])\n",
        "        Y = np.zeros([output_window, num_samples])\n",
        "\n",
        "        for i in np.arange(num_samples):\n",
        "            start_x = stride*i\n",
        "            end_x = start_x + input_window\n",
        "            X[:,i] = y[start_x:end_x]\n",
        "\n",
        "            start_y = stride*i + input_window\n",
        "            end_y = start_y + output_window\n",
        "            Y[:,i] = y[start_y:end_y]\n",
        "\n",
        "        X = X.reshape(X.shape[0], X.shape[1], 1).transpose((1,0,2))\n",
        "        Y = Y.reshape(Y.shape[0], Y.shape[1], 1).transpose((1,0,2))\n",
        "        self.x = X\n",
        "        self.y = Y\n",
        "        \n",
        "        self.len = len(X)\n",
        "    def __getitem__(self, i):\n",
        "        return self.x[i], self.y[i]\n",
        "    def __len__(self):\n",
        "        return self.len"
      ],
      "execution_count": 66,
      "outputs": []
    },
    {
      "cell_type": "code",
      "metadata": {
        "id": "fyRG-o1DCB_6"
      },
      "source": [
        "iw = 24*2\n",
        "ow = 24*1\n",
        "\n",
        "train_dataset = windowDataset(train, input_window=iw, output_window=ow, stride=1)\n",
        "train_loader = DataLoader(train_dataset, batch_size=64)\n",
        "# y_train_loader = DataLoader(y_train, batch_size=5)"
      ],
      "execution_count": 67,
      "outputs": []
    },
    {
      "cell_type": "code",
      "metadata": {
        "id": "o6RRY-yGCEFL"
      },
      "source": [
        "model = lstm_encoder_decoder(input_size=1, hidden_size=16).to(device)\n",
        "# model.train_model(X_train.to(device), y_train.to(device), n_epochs=100, target_len=ow, batch_size=5, training_bprediction=\"mixed_teacher_forcing\", teacher_forcing_ratio=0.6, learning_rate=0.01, dynamic_tf=False)"
      ],
      "execution_count": 68,
      "outputs": []
    },
    {
      "cell_type": "code",
      "metadata": {
        "id": "Zh7o6HY4CGC8"
      },
      "source": [
        "#5000으로 할 경우 시간도 오래걸리고 에러도 커서 100으로 줄인다.\n",
        "\n",
        "learning_rate=0.01\n",
        "epoch = 100\n",
        "optimizer = optim.Adam(model.parameters(), lr = learning_rate)\n",
        "criterion = nn.MSELoss()"
      ],
      "execution_count": 69,
      "outputs": []
    },
    {
      "cell_type": "code",
      "metadata": {
        "id": "zoaTXiKbCHce",
        "colab": {
          "base_uri": "https://localhost:8080/"
        },
        "outputId": "cfce72f7-8298-48e7-a9de-40bb8613b957"
      },
      "source": [
        "from tqdm import tqdm\n",
        "\n",
        "model.train()\n",
        "with tqdm(range(epoch)) as tr:\n",
        "    for i in tr:\n",
        "        total_loss = 0.0\n",
        "        for x,y in train_loader:\n",
        "            optimizer.zero_grad()\n",
        "            x = x.to(device).float()\n",
        "            y = y.to(device).float()\n",
        "            output = model(x, y, ow, 0.6).to(device)\n",
        "            loss = criterion(output, y)\n",
        "            loss.backward()\n",
        "            optimizer.step()\n",
        "            total_loss += loss.cpu().item()\n",
        "        tr.set_postfix(loss=\"{0:.5f}\".format(total_loss/len(train_loader)))"
      ],
      "execution_count": 70,
      "outputs": [
        {
          "output_type": "stream",
          "name": "stderr",
          "text": [
            "100%|██████████| 100/100 [00:27<00:00,  3.69it/s, loss=0.00659]\n"
          ]
        }
      ]
    },
    {
      "cell_type": "code",
      "metadata": {
        "id": "Shr1ZdBvCJfq"
      },
      "source": [
        "predict = model.predict(torch.tensor(train_dataset[0][0]).to(device).float(), target_len=ow)\n",
        "real = train_dataset[0][1]"
      ],
      "execution_count": 71,
      "outputs": []
    },
    {
      "cell_type": "code",
      "metadata": {
        "id": "6Y_bM2yLCMSN"
      },
      "source": [
        "predict = model.predict(torch.tensor(train[-24*1*2:]).reshape(-1,1).to(device).float(), target_len=ow)\n",
        "real = data[\"종가\"].to_numpy()\n",
        "\n",
        "predict = min_max_scaler.inverse_transform(predict.reshape(-1,1))\n",
        "real = min_max_scaler.inverse_transform(real.reshape(-1,1))"
      ],
      "execution_count": 72,
      "outputs": []
    },
    {
      "cell_type": "code",
      "metadata": {
        "id": "AcWSBCdLCOeU",
        "colab": {
          "base_uri": "https://localhost:8080/"
        },
        "outputId": "4354ae7c-2c68-4640-91d2-d95be480628d"
      },
      "source": [
        "real.shape"
      ],
      "execution_count": 73,
      "outputs": [
        {
          "output_type": "execute_result",
          "data": {
            "text/plain": [
              "(721, 1)"
            ]
          },
          "metadata": {},
          "execution_count": 73
        }
      ]
    },
    {
      "cell_type": "code",
      "metadata": {
        "id": "Qe3V9gtwCPsl",
        "colab": {
          "base_uri": "https://localhost:8080/",
          "height": 317
        },
        "outputId": "bc8a4723-f952-4996-fd81-3728fda03131"
      },
      "source": [
        "plt.figure(figsize=(20,5))\n",
        "plt.plot(range(399,720), real[400:], label=\"real\")\n",
        "plt.plot(range(720-24*1,720), predict[-24*1:], label=\"LSTMa\")\n",
        "plt.plot(range(720-24*1,720),forecast['yhat'][-24*1:], label=\"Prophet\")\n",
        "plt.plot(range(720-24*1,720),pred_series[:24*1+23-23]+0.00900414, label=\"Transformer\")\n",
        "\n",
        "plt.legend()\n",
        "plt.show()"
      ],
      "execution_count": 74,
      "outputs": [
        {
          "output_type": "display_data",
          "data": {
            "image/png": "[encoded data removed]",
            "text/plain": [
              "<Figure size 1440x360 with 1 Axes>"
            ]
          },
          "metadata": {
            "needs_background": "light"
          }
        }
      ]
    },
    {
      "cell_type": "markdown",
      "metadata": {
        "id": "ZHCM0K5uDzwc"
      },
      "source": [
        "#Informer"
      ]
    },
    {
      "cell_type": "code",
      "metadata": {
        "id": "Ighg_VhkDrwT",
        "colab": {
          "base_uri": "https://localhost:8080/"
        },
        "outputId": "b9aadc95-d1de-44c6-fb98-82a15b301bc8"
      },
      "source": [
        "!git clone https://github.com/zhouhaoyi/Informer2020.git"
      ],
      "execution_count": 75,
      "outputs": [
        {
          "output_type": "stream",
          "name": "stdout",
          "text": [
            "Cloning into 'Informer2020'...\n",
            "remote: Enumerating objects: 535, done.\u001b[K\n",
            "remote: Total 535 (delta 0), reused 0 (delta 0), pack-reused 535\u001b[K\n",
            "Receiving objects: 100% (535/535), 6.47 MiB | 20.84 MiB/s, done.\n",
            "Resolving deltas: 100% (306/306), done.\n"
          ]
        }
      ]
    },
    {
      "cell_type": "code",
      "metadata": {
        "id": "2yxRebPpD1nz",
        "colab": {
          "base_uri": "https://localhost:8080/"
        },
        "outputId": "b8d44e39-eac3-4174-e28c-0cac5a9c9ab0"
      },
      "source": [
        "from google.colab import drive\n",
        "drive.mount('/content/drive')"
      ],
      "execution_count": 76,
      "outputs": [
        {
          "output_type": "stream",
          "name": "stdout",
          "text": [
            "Drive already mounted at /content/drive; to attempt to forcibly remount, call drive.mount(\"/content/drive\", force_remount=True).\n"
          ]
        }
      ]
    },
    {
      "cell_type": "code",
      "metadata": {
        "id": "Q_nMD1gGD5ND"
      },
      "source": [
        "import sys\n",
        "if not 'Informer2020' in sys.path:\n",
        "    sys.path += ['Informer2020']"
      ],
      "execution_count": 77,
      "outputs": []
    },
    {
      "cell_type": "code",
      "metadata": {
        "id": "iTVBZNqqD6sX"
      },
      "source": [
        "import pandas as pd\n",
        "import numpy as np\n",
        "import matplotlib.pyplot as plt\n",
        "from sklearn.preprocessing import MinMaxScaler\n",
        "\n",
        "from datetime import timedelta\n",
        "import torch\n",
        "from torch import nn\n",
        "from torch import optim\n",
        "from torch.utils.data import DataLoader, Dataset\n",
        "\n",
        "from tqdm import tqdm\n",
        "from models.model import Informer"
      ],
      "execution_count": 78,
      "outputs": []
    },
    {
      "cell_type": "code",
      "metadata": {
        "id": "jjqkV_XfD8jj"
      },
      "source": [
        "class StandardScaler():\n",
        "    def __init__(self):\n",
        "        self.mean = 0.\n",
        "        self.std = 1.\n",
        "    \n",
        "    def fit(self, data):\n",
        "        self.mean = data.mean(0)\n",
        "        self.std = data.std(0)\n",
        "\n",
        "    def transform(self, data):\n",
        "        mean = torch.from_numpy(self.mean).type_as(data).to(data.device) if torch.is_tensor(data) else self.mean\n",
        "        std = torch.from_numpy(self.std).type_as(data).to(data.device) if torch.is_tensor(data) else self.std\n",
        "        return (data - mean) / std\n",
        "\n",
        "    def inverse_transform(self, data):\n",
        "        mean = torch.from_numpy(self.mean).type_as(data).to(data.device) if torch.is_tensor(data) else self.mean\n",
        "        std = torch.from_numpy(self.std).type_as(data).to(data.device) if torch.is_tensor(data) else self.std\n",
        "        return (data * std) + mean\n",
        "        \n",
        "\n",
        "def time_features(dates, freq='h'):\n",
        "    dates['month'] = dates.date.apply(lambda row:row.month,1)\n",
        "    dates['day'] = dates.date.apply(lambda row:row.day,1)\n",
        "    dates['weekday'] = dates.date.apply(lambda row:row.weekday(),1)\n",
        "    dates['hour'] = dates.date.apply(lambda row:row.hour,1)\n",
        "    dates['minute'] = dates.date.apply(lambda row:row.minute,1)\n",
        "    dates['minute'] = dates.minute.map(lambda x:x//15)\n",
        "    freq_map = {\n",
        "        'y':[],'m':['month'],'w':['month'],'d':['month','day','weekday'],\n",
        "        'b':['month','day','weekday'],'h':['month','day','weekday','hour'],\n",
        "        't':['month','day','weekday','hour','minute'],\n",
        "    }\n",
        "    return dates[freq_map[freq.lower()]].values\n",
        "\n",
        "def _process_one_batch(batch_x, batch_y, batch_x_mark, batch_y_mark):\n",
        "    batch_x = batch_x.float().to(device)\n",
        "    batch_y = batch_y.float()\n",
        "    batch_x_mark = batch_x_mark.float().to(device)\n",
        "    batch_y_mark = batch_y_mark.float().to(device)\n",
        "    dec_inp = torch.zeros([batch_y.shape[0], pred_len, batch_y.shape[-1]]).float()\n",
        "    dec_inp = torch.cat([batch_y[:,:label_len,:], dec_inp], dim=1).float().to(device)\n",
        "    outputs = model(batch_x, batch_x_mark, dec_inp, batch_y_mark)\n",
        "    batch_y = batch_y[:,-pred_len:,0:].to(device)\n",
        "    return outputs, batch_y"
      ],
      "execution_count": 79,
      "outputs": []
    },
    {
      "cell_type": "code",
      "metadata": {
        "id": "ftToXwQzD_XZ"
      },
      "source": [
        "class Dataset_Pred(Dataset):\n",
        "    def __init__(self, dataframe, size=None, scale=True):\n",
        "        self.seq_len = size[0]\n",
        "        self.label_len = size[1]\n",
        "        self.pred_len = size[2]\n",
        "        self.dataframe = dataframe\n",
        "        \n",
        "        self.scale = scale\n",
        "        self.__read_data__()\n",
        "\n",
        "    def __read_data__(self):\n",
        "        self.scaler = StandardScaler()\n",
        "        df_raw = self.dataframe\n",
        "        df_raw[\"date\"] = pd.to_datetime(df_raw[\"date\"])\n",
        "\n",
        "        delta = df_raw[\"date\"].iloc[1] - df_raw[\"date\"].iloc[0]\n",
        "        if delta>=timedelta(hours=1):\n",
        "            self.freq='h'\n",
        "        else:\n",
        "            self.freq='t'\n",
        "\n",
        "        \n",
        "\n",
        "        border1 = 0\n",
        "        border2 = len(df_raw)\n",
        "        cols_data = df_raw.columns[1:]\n",
        "        df_data = df_raw[cols_data]\n",
        "\n",
        "\n",
        "        if self.scale:\n",
        "            self.scaler.fit(df_data.values)\n",
        "            data = self.scaler.transform(df_data.values)\n",
        "        else:\n",
        "            data = df_data.values\n",
        "            \n",
        "        tmp_stamp = df_raw[['date']][border1:border2]\n",
        "        tmp_stamp['date'] = pd.to_datetime(tmp_stamp.date)\n",
        "        pred_dates = pd.date_range(tmp_stamp.date.values[-1], periods=self.pred_len+1, freq=self.freq)\n",
        "        \n",
        "        df_stamp = pd.DataFrame(columns = ['date'])\n",
        "        df_stamp.date = list(tmp_stamp.date.values) + list(pred_dates[1:])\n",
        "        data_stamp = time_features(df_stamp, freq=self.freq)\n",
        "\n",
        "        self.data_x = data[border1:border2]\n",
        "        self.data_y = data[border1:border2]\n",
        "        self.data_stamp = data_stamp\n",
        "    \n",
        "    def __getitem__(self, index):\n",
        "        s_begin = index\n",
        "        s_end = s_begin + self.seq_len\n",
        "        r_begin = s_end - self.label_len\n",
        "        r_end = r_begin + self.label_len + self.pred_len\n",
        "\n",
        "        seq_x = self.data_x[s_begin:s_end]\n",
        "        seq_y = self.data_y[r_begin:r_end]\n",
        "        seq_x_mark = self.data_stamp[s_begin:s_end]\n",
        "        seq_y_mark = self.data_stamp[r_begin:r_end]\n",
        "        return seq_x, seq_y, seq_x_mark, seq_y_mark\n",
        "\n",
        "    def __len__(self):\n",
        "        return len(self.data_x) - self.seq_len- self.pred_len + 1"
      ],
      "execution_count": 80,
      "outputs": []
    },
    {
      "cell_type": "code",
      "metadata": {
        "id": "HOXR317aEHvb",
        "colab": {
          "base_uri": "https://localhost:8080/",
          "height": 206
        },
        "outputId": "9474bba1-045e-4a9f-f1c5-27f0bd615da9"
      },
      "source": [
        "data = pd.read_csv(\"/content/drive/MyDrive/Colab Notebooks/Data/삼성전자_1M_ST_Version1.csv\", encoding='CP949')\n",
        "\n",
        "data.head()"
      ],
      "execution_count": 81,
      "outputs": [
        {
          "output_type": "execute_result",
          "data": {
            "text/html": [
              "<div>\n",
              "<style scoped>\n",
              "    .dataframe tbody tr th:only-of-type {\n",
              "        vertical-align: middle;\n",
              "    }\n",
              "\n",
              "    .dataframe tbody tr th {\n",
              "        vertical-align: top;\n",
              "    }\n",
              "\n",
              "    .dataframe thead th {\n",
              "        text-align: right;\n",
              "    }\n",
              "</style>\n",
              "<table border=\"1\" class=\"dataframe\">\n",
              "  <thead>\n",
              "    <tr style=\"text-align: right;\">\n",
              "      <th></th>\n",
              "      <th>Unnamed: 0</th>\n",
              "      <th>날짜</th>\n",
              "      <th>종가</th>\n",
              "    </tr>\n",
              "  </thead>\n",
              "  <tbody>\n",
              "    <tr>\n",
              "      <th>0</th>\n",
              "      <td>0</td>\n",
              "      <td>2021-07-01 0:00</td>\n",
              "      <td>0.124688</td>\n",
              "    </tr>\n",
              "    <tr>\n",
              "      <th>1</th>\n",
              "      <td>1</td>\n",
              "      <td>2021-07-01 1:00</td>\n",
              "      <td>0.124688</td>\n",
              "    </tr>\n",
              "    <tr>\n",
              "      <th>2</th>\n",
              "      <td>2</td>\n",
              "      <td>2021-07-01 2:00</td>\n",
              "      <td>0.124688</td>\n",
              "    </tr>\n",
              "    <tr>\n",
              "      <th>3</th>\n",
              "      <td>3</td>\n",
              "      <td>2021-07-01 3:00</td>\n",
              "      <td>0.124688</td>\n",
              "    </tr>\n",
              "    <tr>\n",
              "      <th>4</th>\n",
              "      <td>4</td>\n",
              "      <td>2021-07-01 4:00</td>\n",
              "      <td>0.124688</td>\n",
              "    </tr>\n",
              "  </tbody>\n",
              "</table>\n",
              "</div>"
            ],
            "text/plain": [
              "   Unnamed: 0               날짜        종가\n",
              "0           0  2021-07-01 0:00  0.124688\n",
              "1           1  2021-07-01 1:00  0.124688\n",
              "2           2  2021-07-01 2:00  0.124688\n",
              "3           3  2021-07-01 3:00  0.124688\n",
              "4           4  2021-07-01 4:00  0.124688"
            ]
          },
          "metadata": {},
          "execution_count": 81
        }
      ]
    },
    {
      "cell_type": "code",
      "metadata": {
        "id": "cWQ9usQTEKUl"
      },
      "source": [
        "data[\"date\"] = data[\"날짜\"]\n",
        "data[\"date\"] = pd.to_datetime(data[\"date\"], dayfirst = True)\n",
        "data[\"value\"] = data[\"종가\"]\n",
        "\n",
        "min_max_scaler = MinMaxScaler()\n",
        "data[\"value\"] = min_max_scaler.fit_transform(data[\"value\"].to_numpy().reshape(-1,1)).reshape(-1)\n",
        "data = data[[\"date\", \"value\"]]\n",
        "\n",
        "data_train = data.iloc[:-24*1].copy()"
      ],
      "execution_count": 82,
      "outputs": []
    },
    {
      "cell_type": "code",
      "metadata": {
        "id": "nrnJWkCXENIX"
      },
      "source": [
        "pred_len = 24*1\n",
        "\n",
        "seq_len = pred_len#인풋 크기\n",
        "label_len = pred_len#디코더에서 참고할 크기\n",
        "pred_len = pred_len#예측할 크기\n",
        "\n",
        "batch_size = 10\n",
        "shuffle_flag = True\n",
        "num_workers = 0\n",
        "drop_last = True\n",
        "\n",
        "\n",
        "\n",
        "dataset = Dataset_Pred(dataframe=data_train ,scale=True, size = (seq_len, label_len,pred_len))\n",
        "data_loader = DataLoader(dataset,batch_size=batch_size,shuffle=shuffle_flag,num_workers=num_workers,drop_last=drop_last)"
      ],
      "execution_count": 83,
      "outputs": []
    },
    {
      "cell_type": "code",
      "metadata": {
        "id": "4rWuHee2EPMC"
      },
      "source": [
        "enc_in = 1\n",
        "dec_in = 1\n",
        "c_out = 1\n",
        "device = torch.device(\"cuda:0\")\n",
        "\n",
        "model = Informer(enc_in, dec_in, c_out, seq_len, label_len, pred_len, device = device).to(device)\n",
        "learning_rate = 1e-4\n",
        "criterion =  nn.MSELoss()\n",
        "\n",
        "model_optim = optim.Adam(model.parameters(), lr=learning_rate)"
      ],
      "execution_count": 84,
      "outputs": []
    },
    {
      "cell_type": "code",
      "metadata": {
        "id": "3OuiFBlHESYz",
        "colab": {
          "base_uri": "https://localhost:8080/"
        },
        "outputId": "e7ea6234-6280-404d-fb60-b69a74c2041c"
      },
      "source": [
        "# Informer는 error를 100하는게 시간도 덜 걸리고 에러도 적다.\n",
        "\n",
        "train_epochs = 100\n",
        "model.train()\n",
        "progress = tqdm(range(train_epochs))\n",
        "for epoch in progress:\n",
        "    train_loss = []\n",
        "    for i, (batch_x,batch_y,batch_x_mark,batch_y_mark) in enumerate(data_loader):\n",
        "        model_optim.zero_grad()\n",
        "        pred, true = _process_one_batch(batch_x, batch_y, batch_x_mark, batch_y_mark)\n",
        "        loss = criterion(pred, true)\n",
        "        train_loss.append(loss.item())\n",
        "        loss.backward()\n",
        "        model_optim.step()\n",
        "    train_loss = np.average(train_loss)\n",
        "    progress.set_description(\"loss: {:0.6f}\".format(train_loss))"
      ],
      "execution_count": 85,
      "outputs": [
        {
          "output_type": "stream",
          "name": "stderr",
          "text": [
            "\r  0%|          | 0/100 [00:00<?, ?it/s]/usr/local/lib/python3.7/dist-packages/torch/nn/functional.py:652: UserWarning:\n",
            "\n",
            "Named tensors and all their associated APIs are an experimental feature and subject to change. Please do not use them for anything important until they are released as stable. (Triggered internally at  /pytorch/c10/core/TensorImpl.h:1156.)\n",
            "\n",
            "loss: 0.017345: 100%|██████████| 100/100 [05:02<00:00,  3.02s/it]\n"
          ]
        }
      ]
    },
    {
      "cell_type": "code",
      "metadata": {
        "id": "s0pez33IETCg",
        "colab": {
          "base_uri": "https://localhost:8080/"
        },
        "outputId": "f97e6aab-abf9-4671-c918-1f2332e6e0e5"
      },
      "source": [
        "import time\n",
        "now = time.time()\n",
        "scaler = dataset.scaler\n",
        "df_test = data_train.copy()\n",
        "df_test[\"value\"] = scaler.transform(df_test[\"value\"])\n",
        "df_test[\"date\"] = pd.to_datetime(df_test[\"date\"].values)\n",
        "\n",
        "delta = df_test[\"date\"][1] - df_test[\"date\"][0]\n",
        "for i in range(pred_len):\n",
        "    df_test = df_test.append({\"date\":df_test[\"date\"].iloc[-1]+delta}, ignore_index=True)\n",
        "df_test = df_test.fillna(0)\n",
        "\n",
        "\n",
        "df_test_x = df_test.iloc[-seq_len-pred_len:-pred_len].copy()\n",
        "df_test_y = df_test.iloc[-label_len-pred_len:].copy()\n",
        "\n",
        "df_test_numpy = df_test.to_numpy()[:,1:].astype(\"float\")\n",
        "test_time_x = time_features(df_test_x, freq=dataset.freq) #인풋 타임 스템프\n",
        "test_data_x = df_test_numpy[-seq_len-pred_len:-pred_len] #인풋 데이터\n",
        "\n",
        "\n",
        "test_time_y = time_features(df_test_y, freq=dataset.freq) #아웃풋 타임스템프\n",
        "test_data_y =df_test_numpy[-label_len-pred_len:]\n",
        "test_data_y[-pred_len:] = np.zeros_like(test_data_y[-pred_len:]) #예측하는 부분을 0으로 채워준다.\n",
        "\n",
        "\n",
        "\n",
        "test_time_x = test_time_x\n",
        "test_time_y = test_time_y\n",
        "test_data_y = test_data_y.astype(np.float64)\n",
        "test_data_x = test_data_x.astype(np.float64)\n",
        "\n",
        "_test = [(test_data_x,test_data_y,test_time_x,test_time_y)]\n",
        "_test_loader = DataLoader(_test,batch_size=1,shuffle=False)\n",
        "\n",
        "preds = []\n",
        "\n",
        "with torch.no_grad():\n",
        "    for i, (batch_x,batch_y,batch_x_mark,batch_y_mark) in enumerate(_test_loader):\n",
        "        \n",
        "        batch_x = batch_x.float().to(device)\n",
        "        batch_y = batch_y.float().to(device)\n",
        "\n",
        "        batch_x_mark = batch_x_mark.float().to(device)\n",
        "        batch_y_mark = batch_y_mark.float().to(device)\n",
        "\n",
        "        outputs = model(batch_x, batch_x_mark, batch_y, batch_y_mark)\n",
        "        preds = outputs.detach().cpu().numpy()\n",
        "\n",
        "preds = scaler.inverse_transform(preds[0])\n",
        "\n",
        "df_test.iloc[-pred_len:, 1:] = preds\n",
        "print(time.time() - now)"
      ],
      "execution_count": 86,
      "outputs": [
        {
          "output_type": "stream",
          "name": "stdout",
          "text": [
            "0.12038731575012207\n"
          ]
        }
      ]
    },
    {
      "cell_type": "code",
      "metadata": {
        "id": "UKVKmhZLEWXz",
        "colab": {
          "base_uri": "https://localhost:8080/",
          "height": 317
        },
        "outputId": "f97eec26-c469-49a9-8615-e3261b6140f3"
      },
      "source": [
        "import matplotlib.pyplot as plt\n",
        "\n",
        "real = data[\"value\"].to_numpy()\n",
        "result = df_test[\"value\"].iloc[-24*1:].to_numpy()\n",
        "\n",
        "real = min_max_scaler.inverse_transform(real.reshape(-1,1)).reshape(-1)\n",
        "result = min_max_scaler.inverse_transform(result.reshape(-1,1)).reshape(-1)\n",
        "\n",
        "plt.figure(figsize=(20,5))\n",
        "plt.plot(range(399,720),real[400:], label=\"real\")\n",
        "plt.plot(range(720-24*1,720),result, label=\"Informer\")\n",
        "plt.plot(range(720-24*1,720), predict[-24*1:], label=\"LSTMa\")\n",
        "plt.plot(range(720-24*1,720),forecast['yhat'][-24*1:], label=\"Prophet\")\n",
        "plt.plot(range(720-24*1,720),pred_series[:24*1+23-23]+0.00900414, label=\"Transformer\")\n",
        "\n",
        "plt.legend()\n",
        "plt.show()\n"
      ],
      "execution_count": 87,
      "outputs": [
        {
          "output_type": "display_data",
          "data": {
            "image/png": "[encoded data removed]",
            "text/plain": [
              "<Figure size 1440x360 with 1 Axes>"
            ]
          },
          "metadata": {
            "needs_background": "light"
          }
        }
      ]
    },
    {
      "cell_type": "markdown",
      "metadata": {
        "id": "oyQIUFttGo_w"
      },
      "source": [
        "#ARIMA"
      ]
    },
    {
      "cell_type": "code",
      "metadata": {
        "id": "hiLPHVi8FtJA"
      },
      "source": [
        "import numpy as np\n",
        "import pandas as pd\n",
        "import matplotlib.pyplot as plt"
      ],
      "execution_count": 88,
      "outputs": []
    },
    {
      "cell_type": "code",
      "metadata": {
        "id": "U3r5vY8HFudT",
        "colab": {
          "base_uri": "https://localhost:8080/",
          "height": 206
        },
        "outputId": "8e39e912-182a-490b-d157-5a4b572d3bd5"
      },
      "source": [
        "df = pd.read_csv(\"/content/drive/MyDrive/Colab Notebooks/Data/삼성전자_1M_ST_Version1.csv\", encoding='CP949')\n",
        "df = df.drop(df.columns[0], axis=1)\n",
        "df.columns = [\"ds\",\"y\"]\n",
        "df.head()"
      ],
      "execution_count": 89,
      "outputs": [
        {
          "output_type": "execute_result",
          "data": {
            "text/html": [
              "<div>\n",
              "<style scoped>\n",
              "    .dataframe tbody tr th:only-of-type {\n",
              "        vertical-align: middle;\n",
              "    }\n",
              "\n",
              "    .dataframe tbody tr th {\n",
              "        vertical-align: top;\n",
              "    }\n",
              "\n",
              "    .dataframe thead th {\n",
              "        text-align: right;\n",
              "    }\n",
              "</style>\n",
              "<table border=\"1\" class=\"dataframe\">\n",
              "  <thead>\n",
              "    <tr style=\"text-align: right;\">\n",
              "      <th></th>\n",
              "      <th>ds</th>\n",
              "      <th>y</th>\n",
              "    </tr>\n",
              "  </thead>\n",
              "  <tbody>\n",
              "    <tr>\n",
              "      <th>0</th>\n",
              "      <td>2021-07-01 0:00</td>\n",
              "      <td>0.124688</td>\n",
              "    </tr>\n",
              "    <tr>\n",
              "      <th>1</th>\n",
              "      <td>2021-07-01 1:00</td>\n",
              "      <td>0.124688</td>\n",
              "    </tr>\n",
              "    <tr>\n",
              "      <th>2</th>\n",
              "      <td>2021-07-01 2:00</td>\n",
              "      <td>0.124688</td>\n",
              "    </tr>\n",
              "    <tr>\n",
              "      <th>3</th>\n",
              "      <td>2021-07-01 3:00</td>\n",
              "      <td>0.124688</td>\n",
              "    </tr>\n",
              "    <tr>\n",
              "      <th>4</th>\n",
              "      <td>2021-07-01 4:00</td>\n",
              "      <td>0.124688</td>\n",
              "    </tr>\n",
              "  </tbody>\n",
              "</table>\n",
              "</div>"
            ],
            "text/plain": [
              "                ds         y\n",
              "0  2021-07-01 0:00  0.124688\n",
              "1  2021-07-01 1:00  0.124688\n",
              "2  2021-07-01 2:00  0.124688\n",
              "3  2021-07-01 3:00  0.124688\n",
              "4  2021-07-01 4:00  0.124688"
            ]
          },
          "metadata": {},
          "execution_count": 89
        }
      ]
    },
    {
      "cell_type": "code",
      "metadata": {
        "id": "3H-pHMqLF1ND"
      },
      "source": [
        "df_train = df.iloc[:-24*1]"
      ],
      "execution_count": 90,
      "outputs": []
    },
    {
      "cell_type": "code",
      "metadata": {
        "id": "vVJjfCniF1xb",
        "colab": {
          "base_uri": "https://localhost:8080/"
        },
        "outputId": "18a27605-60c9-4fe5-c4be-c2137fbcc9b0"
      },
      "source": [
        "from statsmodels.tsa.seasonal import seasonal_decompose"
      ],
      "execution_count": 91,
      "outputs": [
        {
          "output_type": "stream",
          "name": "stderr",
          "text": [
            "/usr/local/lib/python3.7/dist-packages/statsmodels/tools/_testing.py:19: FutureWarning:\n",
            "\n",
            "pandas.util.testing is deprecated. Use the functions in the public API at pandas.testing instead.\n",
            "\n"
          ]
        }
      ]
    },
    {
      "cell_type": "code",
      "metadata": {
        "id": "1AzDqmYFF3qS",
        "colab": {
          "base_uri": "https://localhost:8080/",
          "height": 506
        },
        "outputId": "2a19b0ce-10cc-47ca-e7c1-dd926fac3708"
      },
      "source": [
        "import statsmodels.api as sm\n",
        "fig = plt.figure(figsize=(20,8))\n",
        "ax1 = fig.add_subplot(211)\n",
        "fig = sm.graphics.tsa.plot_acf(df_train[\"y\"], lags=20, ax=ax1)\n",
        "\n",
        "fig = plt.figure(figsize=(20,8))\n",
        "ax1 = fig.add_subplot(212)\n",
        "fig = sm.graphics.tsa.plot_pacf(df_train[\"y\"], lags=20, ax=ax1)"
      ],
      "execution_count": 92,
      "outputs": [
        {
          "output_type": "display_data",
          "data": {
            "image/png": "[encoded data removed]",
            "text/plain": [
              "<Figure size 1440x576 with 1 Axes>"
            ]
          },
          "metadata": {
            "needs_background": "light"
          }
        },
        {
          "output_type": "display_data",
          "data": {
            "image/png": "[encoded data removed]",
            "text/plain": [
              "<Figure size 1440x576 with 1 Axes>"
            ]
          },
          "metadata": {
            "needs_background": "light"
          }
        }
      ]
    },
    {
      "cell_type": "code",
      "metadata": {
        "id": "ljPV71OzF64s"
      },
      "source": [
        "from statsmodels.tsa.arima_model import ARIMA\n",
        "from statsmodels.tsa.statespace.sarimax import SARIMAX\n",
        "import itertools\n",
        "from tqdm import tqdm"
      ],
      "execution_count": 93,
      "outputs": []
    },
    {
      "cell_type": "code",
      "metadata": {
        "id": "rtlXujmwF60T",
        "colab": {
          "base_uri": "https://localhost:8080/"
        },
        "outputId": "61890915-c617-4b6a-a47b-85682fe7feb9"
      },
      "source": [
        "p = range(0,3)\n",
        "d = range(1,2)\n",
        "q = range(0,6)\n",
        "m = 24\n",
        "\n",
        "pdq = list(itertools.product(p,d,q))\n",
        "seasonal_pdq = [(x[0],x[1], x[2], m) for x in list(itertools.product(p,d,q))]\n",
        "\n",
        "aic = []\n",
        "params = []\n",
        "\n",
        "with tqdm(total = len(pdq) * len(seasonal_pdq)) as pg:\n",
        "    for i in pdq:\n",
        "        for j in seasonal_pdq:\n",
        "            pg.update(1)\n",
        "            try:\n",
        "                model = SARIMAX(df_train[\"y\"], order=(i), season_order = (j))\n",
        "                model_fit = model.fit()\n",
        "                # print(\"SARIMA:{}{}, AIC:{}\".format(i,j, round(model_fit.aic,2)))\n",
        "                aic.append(round(model_fit.aic,2))\n",
        "                params.append((i,j))\n",
        "            except:\n",
        "                continue"
      ],
      "execution_count": 94,
      "outputs": [
        {
          "output_type": "stream",
          "name": "stderr",
          "text": [
            " 50%|█████     | 163/324 [00:30<00:50,  3.20it/s]/usr/local/lib/python3.7/dist-packages/statsmodels/base/model.py:512: ConvergenceWarning:\n",
            "\n",
            "Maximum Likelihood optimization failed to converge. Check mle_retvals\n",
            "\n",
            " 51%|█████     | 164/324 [00:31<01:14,  2.16it/s]/usr/local/lib/python3.7/dist-packages/statsmodels/base/model.py:512: ConvergenceWarning:\n",
            "\n",
            "Maximum Likelihood optimization failed to converge. Check mle_retvals\n",
            "\n",
            " 51%|█████     | 165/324 [00:32<01:33,  1.70it/s]/usr/local/lib/python3.7/dist-packages/statsmodels/base/model.py:512: ConvergenceWarning:\n",
            "\n",
            "Maximum Likelihood optimization failed to converge. Check mle_retvals\n",
            "\n",
            " 51%|█████     | 166/324 [00:33<01:46,  1.49it/s]/usr/local/lib/python3.7/dist-packages/statsmodels/base/model.py:512: ConvergenceWarning:\n",
            "\n",
            "Maximum Likelihood optimization failed to converge. Check mle_retvals\n",
            "\n",
            " 52%|█████▏    | 167/324 [00:34<01:52,  1.39it/s]/usr/local/lib/python3.7/dist-packages/statsmodels/base/model.py:512: ConvergenceWarning:\n",
            "\n",
            "Maximum Likelihood optimization failed to converge. Check mle_retvals\n",
            "\n",
            " 52%|█████▏    | 168/324 [00:35<01:57,  1.33it/s]/usr/local/lib/python3.7/dist-packages/statsmodels/base/model.py:512: ConvergenceWarning:\n",
            "\n",
            "Maximum Likelihood optimization failed to converge. Check mle_retvals\n",
            "\n",
            " 52%|█████▏    | 169/324 [00:35<02:00,  1.28it/s]/usr/local/lib/python3.7/dist-packages/statsmodels/base/model.py:512: ConvergenceWarning:\n",
            "\n",
            "Maximum Likelihood optimization failed to converge. Check mle_retvals\n",
            "\n",
            " 52%|█████▏    | 170/324 [00:36<02:00,  1.27it/s]/usr/local/lib/python3.7/dist-packages/statsmodels/base/model.py:512: ConvergenceWarning:\n",
            "\n",
            "Maximum Likelihood optimization failed to converge. Check mle_retvals\n",
            "\n",
            " 53%|█████▎    | 171/324 [00:37<02:00,  1.27it/s]/usr/local/lib/python3.7/dist-packages/statsmodels/base/model.py:512: ConvergenceWarning:\n",
            "\n",
            "Maximum Likelihood optimization failed to converge. Check mle_retvals\n",
            "\n",
            " 53%|█████▎    | 172/324 [00:38<02:02,  1.24it/s]/usr/local/lib/python3.7/dist-packages/statsmodels/base/model.py:512: ConvergenceWarning:\n",
            "\n",
            "Maximum Likelihood optimization failed to converge. Check mle_retvals\n",
            "\n",
            " 53%|█████▎    | 173/324 [00:39<02:02,  1.23it/s]/usr/local/lib/python3.7/dist-packages/statsmodels/base/model.py:512: ConvergenceWarning:\n",
            "\n",
            "Maximum Likelihood optimization failed to converge. Check mle_retvals\n",
            "\n",
            " 54%|█████▎    | 174/324 [00:40<02:03,  1.21it/s]/usr/local/lib/python3.7/dist-packages/statsmodels/base/model.py:512: ConvergenceWarning:\n",
            "\n",
            "Maximum Likelihood optimization failed to converge. Check mle_retvals\n",
            "\n",
            " 54%|█████▍    | 175/324 [00:40<02:03,  1.21it/s]/usr/local/lib/python3.7/dist-packages/statsmodels/base/model.py:512: ConvergenceWarning:\n",
            "\n",
            "Maximum Likelihood optimization failed to converge. Check mle_retvals\n",
            "\n",
            " 54%|█████▍    | 176/324 [00:41<02:01,  1.22it/s]/usr/local/lib/python3.7/dist-packages/statsmodels/base/model.py:512: ConvergenceWarning:\n",
            "\n",
            "Maximum Likelihood optimization failed to converge. Check mle_retvals\n",
            "\n",
            " 55%|█████▍    | 177/324 [00:42<01:59,  1.23it/s]/usr/local/lib/python3.7/dist-packages/statsmodels/base/model.py:512: ConvergenceWarning:\n",
            "\n",
            "Maximum Likelihood optimization failed to converge. Check mle_retvals\n",
            "\n",
            " 55%|█████▍    | 178/324 [00:43<02:00,  1.21it/s]/usr/local/lib/python3.7/dist-packages/statsmodels/base/model.py:512: ConvergenceWarning:\n",
            "\n",
            "Maximum Likelihood optimization failed to converge. Check mle_retvals\n",
            "\n",
            " 55%|█████▌    | 179/324 [00:44<02:00,  1.20it/s]/usr/local/lib/python3.7/dist-packages/statsmodels/base/model.py:512: ConvergenceWarning:\n",
            "\n",
            "Maximum Likelihood optimization failed to converge. Check mle_retvals\n",
            "\n",
            " 56%|█████▌    | 180/324 [00:44<01:59,  1.21it/s]/usr/local/lib/python3.7/dist-packages/statsmodels/base/model.py:512: ConvergenceWarning:\n",
            "\n",
            "Maximum Likelihood optimization failed to converge. Check mle_retvals\n",
            "\n",
            " 56%|█████▌    | 181/324 [00:45<01:57,  1.21it/s]/usr/local/lib/python3.7/dist-packages/statsmodels/base/model.py:512: ConvergenceWarning:\n",
            "\n",
            "Maximum Likelihood optimization failed to converge. Check mle_retvals\n",
            "\n",
            " 56%|█████▌    | 182/324 [00:46<02:06,  1.12it/s]/usr/local/lib/python3.7/dist-packages/statsmodels/base/model.py:512: ConvergenceWarning:\n",
            "\n",
            "Maximum Likelihood optimization failed to converge. Check mle_retvals\n",
            "\n",
            " 56%|█████▋    | 183/324 [00:47<02:13,  1.06it/s]/usr/local/lib/python3.7/dist-packages/statsmodels/base/model.py:512: ConvergenceWarning:\n",
            "\n",
            "Maximum Likelihood optimization failed to converge. Check mle_retvals\n",
            "\n",
            " 57%|█████▋    | 184/324 [00:48<02:16,  1.02it/s]/usr/local/lib/python3.7/dist-packages/statsmodels/base/model.py:512: ConvergenceWarning:\n",
            "\n",
            "Maximum Likelihood optimization failed to converge. Check mle_retvals\n",
            "\n",
            " 57%|█████▋    | 185/324 [00:49<02:18,  1.01it/s]/usr/local/lib/python3.7/dist-packages/statsmodels/base/model.py:512: ConvergenceWarning:\n",
            "\n",
            "Maximum Likelihood optimization failed to converge. Check mle_retvals\n",
            "\n",
            " 57%|█████▋    | 186/324 [00:51<02:19,  1.01s/it]/usr/local/lib/python3.7/dist-packages/statsmodels/base/model.py:512: ConvergenceWarning:\n",
            "\n",
            "Maximum Likelihood optimization failed to converge. Check mle_retvals\n",
            "\n",
            " 58%|█████▊    | 187/324 [00:52<02:20,  1.03s/it]/usr/local/lib/python3.7/dist-packages/statsmodels/base/model.py:512: ConvergenceWarning:\n",
            "\n",
            "Maximum Likelihood optimization failed to converge. Check mle_retvals\n",
            "\n",
            " 58%|█████▊    | 188/324 [00:53<02:20,  1.03s/it]/usr/local/lib/python3.7/dist-packages/statsmodels/base/model.py:512: ConvergenceWarning:\n",
            "\n",
            "Maximum Likelihood optimization failed to converge. Check mle_retvals\n",
            "\n",
            " 58%|█████▊    | 189/324 [00:54<02:19,  1.04s/it]/usr/local/lib/python3.7/dist-packages/statsmodels/base/model.py:512: ConvergenceWarning:\n",
            "\n",
            "Maximum Likelihood optimization failed to converge. Check mle_retvals\n",
            "\n",
            " 59%|█████▊    | 190/324 [00:55<02:19,  1.04s/it]/usr/local/lib/python3.7/dist-packages/statsmodels/base/model.py:512: ConvergenceWarning:\n",
            "\n",
            "Maximum Likelihood optimization failed to converge. Check mle_retvals\n",
            "\n",
            " 59%|█████▉    | 191/324 [00:56<02:20,  1.06s/it]/usr/local/lib/python3.7/dist-packages/statsmodels/base/model.py:512: ConvergenceWarning:\n",
            "\n",
            "Maximum Likelihood optimization failed to converge. Check mle_retvals\n",
            "\n",
            " 59%|█████▉    | 192/324 [00:57<02:20,  1.06s/it]/usr/local/lib/python3.7/dist-packages/statsmodels/base/model.py:512: ConvergenceWarning:\n",
            "\n",
            "Maximum Likelihood optimization failed to converge. Check mle_retvals\n",
            "\n",
            " 60%|█████▉    | 193/324 [00:58<02:20,  1.07s/it]/usr/local/lib/python3.7/dist-packages/statsmodels/base/model.py:512: ConvergenceWarning:\n",
            "\n",
            "Maximum Likelihood optimization failed to converge. Check mle_retvals\n",
            "\n",
            " 60%|█████▉    | 194/324 [00:59<02:18,  1.06s/it]/usr/local/lib/python3.7/dist-packages/statsmodels/base/model.py:512: ConvergenceWarning:\n",
            "\n",
            "Maximum Likelihood optimization failed to converge. Check mle_retvals\n",
            "\n",
            " 60%|██████    | 195/324 [01:00<02:17,  1.06s/it]/usr/local/lib/python3.7/dist-packages/statsmodels/base/model.py:512: ConvergenceWarning:\n",
            "\n",
            "Maximum Likelihood optimization failed to converge. Check mle_retvals\n",
            "\n",
            " 60%|██████    | 196/324 [01:01<02:15,  1.06s/it]/usr/local/lib/python3.7/dist-packages/statsmodels/base/model.py:512: ConvergenceWarning:\n",
            "\n",
            "Maximum Likelihood optimization failed to converge. Check mle_retvals\n",
            "\n",
            " 61%|██████    | 197/324 [01:02<02:16,  1.07s/it]/usr/local/lib/python3.7/dist-packages/statsmodels/base/model.py:512: ConvergenceWarning:\n",
            "\n",
            "Maximum Likelihood optimization failed to converge. Check mle_retvals\n",
            "\n",
            " 61%|██████    | 198/324 [01:03<02:14,  1.07s/it]/usr/local/lib/python3.7/dist-packages/statsmodels/base/model.py:512: ConvergenceWarning:\n",
            "\n",
            "Maximum Likelihood optimization failed to converge. Check mle_retvals\n",
            "\n",
            " 61%|██████▏   | 199/324 [01:04<02:12,  1.06s/it]/usr/local/lib/python3.7/dist-packages/statsmodels/base/model.py:512: ConvergenceWarning:\n",
            "\n",
            "Maximum Likelihood optimization failed to converge. Check mle_retvals\n",
            "\n",
            " 62%|██████▏   | 200/324 [01:06<02:21,  1.14s/it]/usr/local/lib/python3.7/dist-packages/statsmodels/base/model.py:512: ConvergenceWarning:\n",
            "\n",
            "Maximum Likelihood optimization failed to converge. Check mle_retvals\n",
            "\n",
            " 62%|██████▏   | 201/324 [01:07<02:28,  1.20s/it]/usr/local/lib/python3.7/dist-packages/statsmodels/base/model.py:512: ConvergenceWarning:\n",
            "\n",
            "Maximum Likelihood optimization failed to converge. Check mle_retvals\n",
            "\n",
            " 62%|██████▏   | 202/324 [01:08<02:32,  1.25s/it]/usr/local/lib/python3.7/dist-packages/statsmodels/base/model.py:512: ConvergenceWarning:\n",
            "\n",
            "Maximum Likelihood optimization failed to converge. Check mle_retvals\n",
            "\n",
            " 63%|██████▎   | 203/324 [01:10<02:33,  1.27s/it]/usr/local/lib/python3.7/dist-packages/statsmodels/base/model.py:512: ConvergenceWarning:\n",
            "\n",
            "Maximum Likelihood optimization failed to converge. Check mle_retvals\n",
            "\n",
            " 63%|██████▎   | 204/324 [01:11<02:34,  1.29s/it]/usr/local/lib/python3.7/dist-packages/statsmodels/base/model.py:512: ConvergenceWarning:\n",
            "\n",
            "Maximum Likelihood optimization failed to converge. Check mle_retvals\n",
            "\n",
            " 63%|██████▎   | 205/324 [01:12<02:35,  1.31s/it]/usr/local/lib/python3.7/dist-packages/statsmodels/base/model.py:512: ConvergenceWarning:\n",
            "\n",
            "Maximum Likelihood optimization failed to converge. Check mle_retvals\n",
            "\n",
            " 64%|██████▎   | 206/324 [01:14<02:34,  1.31s/it]/usr/local/lib/python3.7/dist-packages/statsmodels/base/model.py:512: ConvergenceWarning:\n",
            "\n",
            "Maximum Likelihood optimization failed to converge. Check mle_retvals\n",
            "\n",
            " 64%|██████▍   | 207/324 [01:15<02:35,  1.33s/it]/usr/local/lib/python3.7/dist-packages/statsmodels/base/model.py:512: ConvergenceWarning:\n",
            "\n",
            "Maximum Likelihood optimization failed to converge. Check mle_retvals\n",
            "\n",
            " 64%|██████▍   | 208/324 [01:17<02:37,  1.36s/it]/usr/local/lib/python3.7/dist-packages/statsmodels/base/model.py:512: ConvergenceWarning:\n",
            "\n",
            "Maximum Likelihood optimization failed to converge. Check mle_retvals\n",
            "\n",
            " 65%|██████▍   | 209/324 [01:18<02:36,  1.36s/it]/usr/local/lib/python3.7/dist-packages/statsmodels/base/model.py:512: ConvergenceWarning:\n",
            "\n",
            "Maximum Likelihood optimization failed to converge. Check mle_retvals\n",
            "\n",
            " 65%|██████▍   | 210/324 [01:19<02:33,  1.35s/it]/usr/local/lib/python3.7/dist-packages/statsmodels/base/model.py:512: ConvergenceWarning:\n",
            "\n",
            "Maximum Likelihood optimization failed to converge. Check mle_retvals\n",
            "\n",
            " 65%|██████▌   | 211/324 [01:21<02:31,  1.34s/it]/usr/local/lib/python3.7/dist-packages/statsmodels/base/model.py:512: ConvergenceWarning:\n",
            "\n",
            "Maximum Likelihood optimization failed to converge. Check mle_retvals\n",
            "\n",
            " 65%|██████▌   | 212/324 [01:22<02:30,  1.34s/it]/usr/local/lib/python3.7/dist-packages/statsmodels/base/model.py:512: ConvergenceWarning:\n",
            "\n",
            "Maximum Likelihood optimization failed to converge. Check mle_retvals\n",
            "\n",
            " 66%|██████▌   | 213/324 [01:23<02:28,  1.34s/it]/usr/local/lib/python3.7/dist-packages/statsmodels/base/model.py:512: ConvergenceWarning:\n",
            "\n",
            "Maximum Likelihood optimization failed to converge. Check mle_retvals\n",
            "\n",
            " 66%|██████▌   | 214/324 [01:25<02:27,  1.34s/it]/usr/local/lib/python3.7/dist-packages/statsmodels/base/model.py:512: ConvergenceWarning:\n",
            "\n",
            "Maximum Likelihood optimization failed to converge. Check mle_retvals\n",
            "\n",
            " 66%|██████▋   | 215/324 [01:26<02:26,  1.34s/it]/usr/local/lib/python3.7/dist-packages/statsmodels/base/model.py:512: ConvergenceWarning:\n",
            "\n",
            "Maximum Likelihood optimization failed to converge. Check mle_retvals\n",
            "\n",
            " 67%|██████▋   | 216/324 [01:27<02:26,  1.36s/it]/usr/local/lib/python3.7/dist-packages/statsmodels/base/model.py:512: ConvergenceWarning:\n",
            "\n",
            "Maximum Likelihood optimization failed to converge. Check mle_retvals\n",
            "\n",
            " 89%|████████▉ | 289/324 [01:52<00:17,  2.05it/s]/usr/local/lib/python3.7/dist-packages/statsmodels/base/model.py:512: ConvergenceWarning:\n",
            "\n",
            "Maximum Likelihood optimization failed to converge. Check mle_retvals\n",
            "\n",
            " 90%|████████▉ | 290/324 [01:54<00:26,  1.26it/s]/usr/local/lib/python3.7/dist-packages/statsmodels/base/model.py:512: ConvergenceWarning:\n",
            "\n",
            "Maximum Likelihood optimization failed to converge. Check mle_retvals\n",
            "\n",
            " 90%|████████▉ | 291/324 [01:55<00:32,  1.01it/s]/usr/local/lib/python3.7/dist-packages/statsmodels/base/model.py:512: ConvergenceWarning:\n",
            "\n",
            "Maximum Likelihood optimization failed to converge. Check mle_retvals\n",
            "\n",
            " 90%|█████████ | 292/324 [01:57<00:35,  1.11s/it]/usr/local/lib/python3.7/dist-packages/statsmodels/base/model.py:512: ConvergenceWarning:\n",
            "\n",
            "Maximum Likelihood optimization failed to converge. Check mle_retvals\n",
            "\n",
            " 90%|█████████ | 293/324 [01:58<00:37,  1.22s/it]/usr/local/lib/python3.7/dist-packages/statsmodels/base/model.py:512: ConvergenceWarning:\n",
            "\n",
            "Maximum Likelihood optimization failed to converge. Check mle_retvals\n",
            "\n",
            " 91%|█████████ | 294/324 [02:00<00:39,  1.30s/it]/usr/local/lib/python3.7/dist-packages/statsmodels/base/model.py:512: ConvergenceWarning:\n",
            "\n",
            "Maximum Likelihood optimization failed to converge. Check mle_retvals\n",
            "\n",
            " 91%|█████████ | 295/324 [02:01<00:38,  1.34s/it]/usr/local/lib/python3.7/dist-packages/statsmodels/base/model.py:512: ConvergenceWarning:\n",
            "\n",
            "Maximum Likelihood optimization failed to converge. Check mle_retvals\n",
            "\n",
            " 91%|█████████▏| 296/324 [02:03<00:37,  1.36s/it]/usr/local/lib/python3.7/dist-packages/statsmodels/base/model.py:512: ConvergenceWarning:\n",
            "\n",
            "Maximum Likelihood optimization failed to converge. Check mle_retvals\n",
            "\n",
            " 92%|█████████▏| 297/324 [02:04<00:36,  1.37s/it]/usr/local/lib/python3.7/dist-packages/statsmodels/base/model.py:512: ConvergenceWarning:\n",
            "\n",
            "Maximum Likelihood optimization failed to converge. Check mle_retvals\n",
            "\n",
            " 92%|█████████▏| 298/324 [02:05<00:35,  1.38s/it]/usr/local/lib/python3.7/dist-packages/statsmodels/base/model.py:512: ConvergenceWarning:\n",
            "\n",
            "Maximum Likelihood optimization failed to converge. Check mle_retvals\n",
            "\n",
            " 92%|█████████▏| 299/324 [02:07<00:34,  1.39s/it]/usr/local/lib/python3.7/dist-packages/statsmodels/base/model.py:512: ConvergenceWarning:\n",
            "\n",
            "Maximum Likelihood optimization failed to converge. Check mle_retvals\n",
            "\n",
            " 93%|█████████▎| 300/324 [02:08<00:33,  1.40s/it]/usr/local/lib/python3.7/dist-packages/statsmodels/base/model.py:512: ConvergenceWarning:\n",
            "\n",
            "Maximum Likelihood optimization failed to converge. Check mle_retvals\n",
            "\n",
            " 93%|█████████▎| 301/324 [02:10<00:32,  1.40s/it]/usr/local/lib/python3.7/dist-packages/statsmodels/base/model.py:512: ConvergenceWarning:\n",
            "\n",
            "Maximum Likelihood optimization failed to converge. Check mle_retvals\n",
            "\n",
            " 93%|█████████▎| 302/324 [02:11<00:31,  1.41s/it]/usr/local/lib/python3.7/dist-packages/statsmodels/base/model.py:512: ConvergenceWarning:\n",
            "\n",
            "Maximum Likelihood optimization failed to converge. Check mle_retvals\n",
            "\n",
            " 94%|█████████▎| 303/324 [02:12<00:29,  1.41s/it]/usr/local/lib/python3.7/dist-packages/statsmodels/base/model.py:512: ConvergenceWarning:\n",
            "\n",
            "Maximum Likelihood optimization failed to converge. Check mle_retvals\n",
            "\n",
            " 94%|█████████▍| 304/324 [02:14<00:28,  1.42s/it]/usr/local/lib/python3.7/dist-packages/statsmodels/base/model.py:512: ConvergenceWarning:\n",
            "\n",
            "Maximum Likelihood optimization failed to converge. Check mle_retvals\n",
            "\n",
            " 94%|█████████▍| 305/324 [02:15<00:26,  1.42s/it]/usr/local/lib/python3.7/dist-packages/statsmodels/base/model.py:512: ConvergenceWarning:\n",
            "\n",
            "Maximum Likelihood optimization failed to converge. Check mle_retvals\n",
            "\n",
            " 94%|█████████▍| 306/324 [02:17<00:25,  1.43s/it]/usr/local/lib/python3.7/dist-packages/statsmodels/base/model.py:512: ConvergenceWarning:\n",
            "\n",
            "Maximum Likelihood optimization failed to converge. Check mle_retvals\n",
            "\n",
            " 95%|█████████▍| 307/324 [02:18<00:24,  1.44s/it]/usr/local/lib/python3.7/dist-packages/statsmodels/base/model.py:512: ConvergenceWarning:\n",
            "\n",
            "Maximum Likelihood optimization failed to converge. Check mle_retvals\n",
            "\n",
            " 95%|█████████▌| 308/324 [02:20<00:24,  1.54s/it]/usr/local/lib/python3.7/dist-packages/statsmodels/base/model.py:512: ConvergenceWarning:\n",
            "\n",
            "Maximum Likelihood optimization failed to converge. Check mle_retvals\n",
            "\n",
            " 95%|█████████▌| 309/324 [02:22<00:24,  1.61s/it]/usr/local/lib/python3.7/dist-packages/statsmodels/base/model.py:512: ConvergenceWarning:\n",
            "\n",
            "Maximum Likelihood optimization failed to converge. Check mle_retvals\n",
            "\n",
            " 96%|█████████▌| 310/324 [02:24<00:23,  1.67s/it]/usr/local/lib/python3.7/dist-packages/statsmodels/base/model.py:512: ConvergenceWarning:\n",
            "\n",
            "Maximum Likelihood optimization failed to converge. Check mle_retvals\n",
            "\n",
            " 96%|█████████▌| 311/324 [02:25<00:22,  1.72s/it]/usr/local/lib/python3.7/dist-packages/statsmodels/base/model.py:512: ConvergenceWarning:\n",
            "\n",
            "Maximum Likelihood optimization failed to converge. Check mle_retvals\n",
            "\n",
            " 96%|█████████▋| 312/324 [02:27<00:20,  1.74s/it]/usr/local/lib/python3.7/dist-packages/statsmodels/base/model.py:512: ConvergenceWarning:\n",
            "\n",
            "Maximum Likelihood optimization failed to converge. Check mle_retvals\n",
            "\n",
            " 97%|█████████▋| 313/324 [02:29<00:19,  1.76s/it]/usr/local/lib/python3.7/dist-packages/statsmodels/base/model.py:512: ConvergenceWarning:\n",
            "\n",
            "Maximum Likelihood optimization failed to converge. Check mle_retvals\n",
            "\n",
            " 97%|█████████▋| 314/324 [02:31<00:17,  1.78s/it]/usr/local/lib/python3.7/dist-packages/statsmodels/base/model.py:512: ConvergenceWarning:\n",
            "\n",
            "Maximum Likelihood optimization failed to converge. Check mle_retvals\n",
            "\n",
            " 97%|█████████▋| 315/324 [02:33<00:16,  1.79s/it]/usr/local/lib/python3.7/dist-packages/statsmodels/base/model.py:512: ConvergenceWarning:\n",
            "\n",
            "Maximum Likelihood optimization failed to converge. Check mle_retvals\n",
            "\n",
            " 98%|█████████▊| 316/324 [02:34<00:14,  1.79s/it]/usr/local/lib/python3.7/dist-packages/statsmodels/base/model.py:512: ConvergenceWarning:\n",
            "\n",
            "Maximum Likelihood optimization failed to converge. Check mle_retvals\n",
            "\n",
            " 98%|█████████▊| 317/324 [02:36<00:12,  1.80s/it]/usr/local/lib/python3.7/dist-packages/statsmodels/base/model.py:512: ConvergenceWarning:\n",
            "\n",
            "Maximum Likelihood optimization failed to converge. Check mle_retvals\n",
            "\n",
            " 98%|█████████▊| 318/324 [02:38<00:10,  1.81s/it]/usr/local/lib/python3.7/dist-packages/statsmodels/base/model.py:512: ConvergenceWarning:\n",
            "\n",
            "Maximum Likelihood optimization failed to converge. Check mle_retvals\n",
            "\n",
            " 98%|█████████▊| 319/324 [02:40<00:09,  1.81s/it]/usr/local/lib/python3.7/dist-packages/statsmodels/base/model.py:512: ConvergenceWarning:\n",
            "\n",
            "Maximum Likelihood optimization failed to converge. Check mle_retvals\n",
            "\n",
            " 99%|█████████▉| 320/324 [02:42<00:07,  1.81s/it]/usr/local/lib/python3.7/dist-packages/statsmodels/base/model.py:512: ConvergenceWarning:\n",
            "\n",
            "Maximum Likelihood optimization failed to converge. Check mle_retvals\n",
            "\n",
            " 99%|█████████▉| 321/324 [02:44<00:05,  1.81s/it]/usr/local/lib/python3.7/dist-packages/statsmodels/base/model.py:512: ConvergenceWarning:\n",
            "\n",
            "Maximum Likelihood optimization failed to converge. Check mle_retvals\n",
            "\n",
            " 99%|█████████▉| 322/324 [02:45<00:03,  1.81s/it]/usr/local/lib/python3.7/dist-packages/statsmodels/base/model.py:512: ConvergenceWarning:\n",
            "\n",
            "Maximum Likelihood optimization failed to converge. Check mle_retvals\n",
            "\n",
            "100%|█████████▉| 323/324 [02:47<00:01,  1.80s/it]/usr/local/lib/python3.7/dist-packages/statsmodels/base/model.py:512: ConvergenceWarning:\n",
            "\n",
            "Maximum Likelihood optimization failed to converge. Check mle_retvals\n",
            "\n",
            "100%|██████████| 324/324 [02:49<00:00,  1.80s/it]/usr/local/lib/python3.7/dist-packages/statsmodels/base/model.py:512: ConvergenceWarning:\n",
            "\n",
            "Maximum Likelihood optimization failed to converge. Check mle_retvals\n",
            "\n",
            "100%|██████████| 324/324 [02:51<00:00,  1.89it/s]\n"
          ]
        }
      ]
    },
    {
      "cell_type": "code",
      "metadata": {
        "id": "t77yJtlmGCGl",
        "colab": {
          "base_uri": "https://localhost:8080/",
          "height": 480
        },
        "outputId": "60753db8-002c-4b3d-f37f-6ade81adfd9c"
      },
      "source": [
        "optimal = [(params[i],j) for i,j in enumerate(aic) if j == min(aic)]\n",
        "model_opt = SARIMAX(df_train[\"y\"], order = optimal[0][0][0], seasonal_order = optimal[0][0][1])\n",
        "model_opt_fit = model_opt.fit()\n",
        "model_opt_fit.summary()"
      ],
      "execution_count": 95,
      "outputs": [
        {
          "output_type": "execute_result",
          "data": {
            "text/html": [
              "<table class=\"simpletable\">\n",
              "<caption>Statespace Model Results</caption>\n",
              "<tr>\n",
              "  <th>Dep. Variable:</th>                  <td>y</td>               <th>  No. Observations:  </th>   <td>697</td>  \n",
              "</tr>\n",
              "<tr>\n",
              "  <th>Model:</th>           <td>SARIMAX(1, 1, 4)x(0, 1, 0, 24)</td> <th>  Log Likelihood     </th> <td>34.938</td> \n",
              "</tr>\n",
              "<tr>\n",
              "  <th>Date:</th>                   <td>Mon, 20 Sep 2021</td>        <th>  AIC                </th> <td>-57.876</td>\n",
              "</tr>\n",
              "<tr>\n",
              "  <th>Time:</th>                       <td>02:22:25</td>            <th>  BIC                </th> <td>-30.815</td>\n",
              "</tr>\n",
              "<tr>\n",
              "  <th>Sample:</th>                         <td>0</td>               <th>  HQIC               </th> <td>-47.396</td>\n",
              "</tr>\n",
              "<tr>\n",
              "  <th></th>                             <td> - 697</td>             <th>                     </th>    <td> </td>   \n",
              "</tr>\n",
              "<tr>\n",
              "  <th>Covariance Type:</th>               <td>opg</td>              <th>                     </th>    <td> </td>   \n",
              "</tr>\n",
              "</table>\n",
              "<table class=\"simpletable\">\n",
              "<tr>\n",
              "     <td></td>       <th>coef</th>     <th>std err</th>      <th>z</th>      <th>P>|z|</th>  <th>[0.025</th>    <th>0.975]</th>  \n",
              "</tr>\n",
              "<tr>\n",
              "  <th>ar.L1</th>  <td>   -0.6928</td> <td>    0.965</td> <td>   -0.718</td> <td> 0.473</td> <td>   -2.584</td> <td>    1.199</td>\n",
              "</tr>\n",
              "<tr>\n",
              "  <th>ma.L1</th>  <td>    0.3463</td> <td>    0.966</td> <td>    0.359</td> <td> 0.720</td> <td>   -1.547</td> <td>    2.239</td>\n",
              "</tr>\n",
              "<tr>\n",
              "  <th>ma.L2</th>  <td>   -0.5319</td> <td>    0.333</td> <td>   -1.598</td> <td> 0.110</td> <td>   -1.184</td> <td>    0.120</td>\n",
              "</tr>\n",
              "<tr>\n",
              "  <th>ma.L3</th>  <td>   -0.3064</td> <td>    0.274</td> <td>   -1.118</td> <td> 0.263</td> <td>   -0.843</td> <td>    0.231</td>\n",
              "</tr>\n",
              "<tr>\n",
              "  <th>ma.L4</th>  <td>   -0.0425</td> <td>    0.118</td> <td>   -0.359</td> <td> 0.719</td> <td>   -0.275</td> <td>    0.190</td>\n",
              "</tr>\n",
              "<tr>\n",
              "  <th>sigma2</th> <td>    0.0527</td> <td>    0.001</td> <td>   60.180</td> <td> 0.000</td> <td>    0.051</td> <td>    0.054</td>\n",
              "</tr>\n",
              "</table>\n",
              "<table class=\"simpletable\">\n",
              "<tr>\n",
              "  <th>Ljung-Box (Q):</th>          <td>179.00</td> <th>  Jarque-Bera (JB):  </th> <td>12502.40</td>\n",
              "</tr>\n",
              "<tr>\n",
              "  <th>Prob(Q):</th>                 <td>0.00</td>  <th>  Prob(JB):          </th>   <td>0.00</td>  \n",
              "</tr>\n",
              "<tr>\n",
              "  <th>Heteroskedasticity (H):</th>  <td>0.49</td>  <th>  Skew:              </th>   <td>-1.43</td> \n",
              "</tr>\n",
              "<tr>\n",
              "  <th>Prob(H) (two-sided):</th>     <td>0.00</td>  <th>  Kurtosis:          </th>   <td>23.94</td> \n",
              "</tr>\n",
              "</table><br/><br/>Warnings:<br/>[1] Covariance matrix calculated using the outer product of gradients (complex-step)."
            ],
            "text/plain": [
              "<class 'statsmodels.iolib.summary.Summary'>\n",
              "\"\"\"\n",
              "                                 Statespace Model Results                                 \n",
              "==========================================================================================\n",
              "Dep. Variable:                                  y   No. Observations:                  697\n",
              "Model:             SARIMAX(1, 1, 4)x(0, 1, 0, 24)   Log Likelihood                  34.938\n",
              "Date:                            Mon, 20 Sep 2021   AIC                            -57.876\n",
              "Time:                                    02:22:25   BIC                            -30.815\n",
              "Sample:                                         0   HQIC                           -47.396\n",
              "                                            - 697                                         \n",
              "Covariance Type:                              opg                                         \n",
              "==============================================================================\n",
              "                 coef    std err          z      P>|z|      [0.025      0.975]\n",
              "------------------------------------------------------------------------------\n",
              "ar.L1         -0.6928      0.965     -0.718      0.473      -2.584       1.199\n",
              "ma.L1          0.3463      0.966      0.359      0.720      -1.547       2.239\n",
              "ma.L2         -0.5319      0.333     -1.598      0.110      -1.184       0.120\n",
              "ma.L3         -0.3064      0.274     -1.118      0.263      -0.843       0.231\n",
              "ma.L4         -0.0425      0.118     -0.359      0.719      -0.275       0.190\n",
              "sigma2         0.0527      0.001     60.180      0.000       0.051       0.054\n",
              "===================================================================================\n",
              "Ljung-Box (Q):                      179.00   Jarque-Bera (JB):             12502.40\n",
              "Prob(Q):                              0.00   Prob(JB):                         0.00\n",
              "Heteroskedasticity (H):               0.49   Skew:                            -1.43\n",
              "Prob(H) (two-sided):                  0.00   Kurtosis:                        23.94\n",
              "===================================================================================\n",
              "\n",
              "Warnings:\n",
              "[1] Covariance matrix calculated using the outer product of gradients (complex-step).\n",
              "\"\"\""
            ]
          },
          "metadata": {},
          "execution_count": 95
        }
      ]
    },
    {
      "cell_type": "code",
      "metadata": {
        "id": "PojlDVwHGDm9",
        "colab": {
          "base_uri": "https://localhost:8080/",
          "height": 318
        },
        "outputId": "7c114dea-85a5-4ca2-911f-33a426342ba6"
      },
      "source": [
        "model = SARIMAX(df_train[\"y\"], order=optimal[0][0][0], seasonal_order=optimal[0][0][1])\n",
        "model_fit = model.fit(disp=0)\n",
        "ARIMA_forecast = model_fit.forecast(steps=24*1)\n",
        "\n",
        "plt.figure(figsize=(20,5))\n",
        "plt.plot(range(0,720), df[\"y\"].iloc[1:], label=\"Real\")\n",
        "\n",
        "plt.plot(ARIMA_forecast, label=\"ARIMA\")\n",
        "plt.plot(range(720-24*1,720),result, label=\"Informer\")\n",
        "plt.plot(range(720-24*1,720), predict[-24*1:], label=\"LSTMa\")\n",
        "plt.plot(range(720-24*1,720),forecast['yhat'][-24*1:], label=\"Prophet\")\n",
        "plt.plot(range(720-24*1,720),pred_series[:24*1+23-23]+0.00900414, label=\"Transformer\")\n",
        "\n",
        "plt.legend()\n",
        "plt.show()"
      ],
      "execution_count": 96,
      "outputs": [
        {
          "output_type": "display_data",
          "data": {
            "image/png": "[encoded data removed]",
            "text/plain": [
              "<Figure size 1440x360 with 1 Axes>"
            ]
          },
          "metadata": {
            "needs_background": "light"
          }
        }
      ]
    },
    {
      "cell_type": "code",
      "metadata": {
        "colab": {
          "base_uri": "https://localhost:8080/",
          "height": 318
        },
        "id": "b0hfHNU0ec52",
        "outputId": "4866f86a-774c-4f83-b4ed-386152c24455"
      },
      "source": [
        "plt.figure(figsize=(20,5))\n",
        "plt.plot(range(399,720), df[\"y\"].iloc[400:], label=\"Real\")\n",
        "\n",
        "plt.plot(ARIMA_forecast, label=\"ARIMA\")\n",
        "plt.plot(range(720-24*1,720),result, label=\"Informer\")\n",
        "plt.plot(range(720-24*1,720), predict[-24*1:], label=\"LSTMa\")\n",
        "plt.plot(range(720-24*1,720),forecast['yhat'][-24*1:], label=\"Prophet\")\n",
        "plt.plot(range(720-24*1,720),pred_series[:24*1+23-23]+0.00900414, label=\"Transformer\")\n",
        "\n",
        "plt.legend()\n",
        "plt.show()"
      ],
      "execution_count": 97,
      "outputs": [
        {
          "output_type": "display_data",
          "data": {
            "image/png": "[encoded data removed]",
            "text/plain": [
              "<Figure size 1440x360 with 1 Axes>"
            ]
          },
          "metadata": {
            "needs_background": "light"
          }
        }
      ]
    },
    {
      "cell_type": "code",
      "metadata": {
        "id": "a3VzMw4tIcni",
        "colab": {
          "base_uri": "https://localhost:8080/"
        },
        "outputId": "4c98ec67-77cf-40c0-f69f-287f8439ca26"
      },
      "source": [
        "from sklearn.metrics import mean_squared_error\n",
        "from sklearn.metrics import mean_absolute_error\n",
        "\n",
        "def MAPEval(y_pred, y_true):\n",
        "    return np.mean(np.abs((y_true - y_pred) / y_true)) * 100\n",
        "\n",
        "def MSE(y_true, y_pred):\n",
        "    return np.mean(np.square((y_true - y_pred)))\n",
        "\n",
        "def MAE(y_true, y_pred): \n",
        "    return np.mean(np.abs((y_true - y_pred)))\n",
        "\n",
        "\n",
        "\n",
        "print('Transformer')\n",
        "print('-' * 40)\n",
        "print('MAPE: {} |\\nMSE: {} |\\nMAE : {}\\n'.format(mape(pred_series[:24*1+23-23]+0.00900414, target_series+0.00900414), mean_squared_error(target_series+0.00900414, pred_series[:24*1+23-23]+0.00900414), mean_absolute_error(target_series+0.00900414, pred_series[:24*1+23-23]+0.00900414)))\n",
        "\n",
        "print('Informer')\n",
        "print('-' * 40)\n",
        "print('MAPE: {} |\\nMSE: {} |\\nMAE : {}\\n'.format(mape(result, real[-24*1:]), mean_squared_error(real[-24*1:], result), mean_absolute_error(real[-24*1:], result)))\n",
        "\n",
        "print('ARIMA')\n",
        "print('-' * 40)\n",
        "print('MAPE: {} |\\nMSE: {} |\\nMAE : {}\\n'.format(mape(ARIMA_forecast, df[\"y\"].iloc[-24*1:]), mean_squared_error(df[\"y\"].iloc[-24*1:], ARIMA_forecast), mean_absolute_error(df[\"y\"].iloc[-24*1:], ARIMA_forecast)))\n",
        "\n",
        "print('Prophet')\n",
        "print('-' * 40)\n",
        "print('MAPE: {} |\\nMSE: {} |\\nMAE : {}\\n'.format(mape(forecast['yhat'][720-24*1:],df[\"y\"][720-24*1:]), mean_squared_error(df[\"y\"][720-24*1:], forecast['yhat'][720-24*1:]), mean_absolute_error(df[\"y\"][720-24*1:], forecast['yhat'][720-24*1:])))\n",
        "\n",
        "print('LSTMa')\n",
        "print('-' * 40)\n",
        "print('MAPE: {} |\\nMSE: {} |\\nMAE : {}\\n'.format(mape(predict[-24*1:],real[-24*1:]),  mean_squared_error(real[-24*1:], predict[-24*1:]), mean_absolute_error(real[-24*1:], predict[-24*1:])))"
      ],
      "execution_count": 98,
      "outputs": [
        {
          "output_type": "stream",
          "name": "stdout",
          "text": [
            "Transformer\n",
            "----------------------------------------\n",
            "MAPE: 56.62614703178406 |\n",
            "MSE: 0.014935817569494247 |\n",
            "MAE : 0.10089585930109024\n",
            "\n",
            "Informer\n",
            "----------------------------------------\n",
            "MAPE: 130.55207498581635 |\n",
            "MSE: 0.058972293449847835 |\n",
            "MAE : 0.20464845810159668\n",
            "\n",
            "ARIMA\n",
            "----------------------------------------\n",
            "MAPE: 169.74390473174975 |\n",
            "MSE: 0.1803750295173626 |\n",
            "MAE : 0.27170733272556674\n",
            "\n",
            "Prophet\n",
            "----------------------------------------\n",
            "MAPE: 69.01380660597285 |\n",
            "MSE: 0.04780322275784221 |\n",
            "MAE : 0.1690462513069252\n",
            "\n",
            "LSTMa\n",
            "----------------------------------------\n",
            "MAPE: 105.8330339527501 |\n",
            "MSE: 0.0387725075863998 |\n",
            "MAE : 0.15806944230752637\n",
            "\n"
          ]
        }
      ]
    },
    {
      "cell_type": "code",
      "metadata": {
        "id": "Jfla6TUQd_tB"
      },
      "source": [
        ""
      ],
      "execution_count": 98,
      "outputs": []
    }
  ]
}