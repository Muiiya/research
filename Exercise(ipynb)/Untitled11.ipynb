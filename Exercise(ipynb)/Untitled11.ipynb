{
 "cells": [
  {
   "cell_type": "code",
   "execution_count": 1,
   "id": "alternate-toilet",
   "metadata": {},
   "outputs": [],
   "source": [
    "import pandas as pd\n",
    "import numpy as np\n",
    "import matplotlib.pyplot as plt\n",
    "import seaborn as sns\n",
    "import warnings\n",
    "import os\n",
    "import sys\n",
    "import tensorflow as tf\n",
    "\n",
    "from sklearn.preprocessing import MinMaxScaler\n",
    "from tqdm import tqdm"
   ]
  },
  {
   "cell_type": "code",
   "execution_count": 2,
   "id": "blank-norway",
   "metadata": {},
   "outputs": [
    {
     "data": {
      "text/html": [
       "<div>\n",
       "<style scoped>\n",
       "    .dataframe tbody tr th:only-of-type {\n",
       "        vertical-align: middle;\n",
       "    }\n",
       "\n",
       "    .dataframe tbody tr th {\n",
       "        vertical-align: top;\n",
       "    }\n",
       "\n",
       "    .dataframe thead th {\n",
       "        text-align: right;\n",
       "    }\n",
       "</style>\n",
       "<table border=\"1\" class=\"dataframe\">\n",
       "  <thead>\n",
       "    <tr style=\"text-align: right;\">\n",
       "      <th></th>\n",
       "      <th>Date</th>\n",
       "      <th>Open</th>\n",
       "      <th>High</th>\n",
       "      <th>Low</th>\n",
       "      <th>Close</th>\n",
       "      <th>Adj Close</th>\n",
       "      <th>Volume</th>\n",
       "    </tr>\n",
       "  </thead>\n",
       "  <tbody>\n",
       "    <tr>\n",
       "      <th>0</th>\n",
       "      <td>2000-01-04</td>\n",
       "      <td>6300</td>\n",
       "      <td>7100</td>\n",
       "      <td>6300</td>\n",
       "      <td>7000</td>\n",
       "      <td>1619.266357</td>\n",
       "      <td>56800</td>\n",
       "    </tr>\n",
       "    <tr>\n",
       "      <th>1</th>\n",
       "      <td>2000-01-05</td>\n",
       "      <td>6700</td>\n",
       "      <td>7100</td>\n",
       "      <td>6610</td>\n",
       "      <td>6700</td>\n",
       "      <td>1549.868774</td>\n",
       "      <td>52100</td>\n",
       "    </tr>\n",
       "    <tr>\n",
       "      <th>2</th>\n",
       "      <td>2000-01-06</td>\n",
       "      <td>7000</td>\n",
       "      <td>7000</td>\n",
       "      <td>6250</td>\n",
       "      <td>6300</td>\n",
       "      <td>1457.339844</td>\n",
       "      <td>64900</td>\n",
       "    </tr>\n",
       "    <tr>\n",
       "      <th>3</th>\n",
       "      <td>2000-01-07</td>\n",
       "      <td>6350</td>\n",
       "      <td>6600</td>\n",
       "      <td>6300</td>\n",
       "      <td>6370</td>\n",
       "      <td>1473.532349</td>\n",
       "      <td>61800</td>\n",
       "    </tr>\n",
       "    <tr>\n",
       "      <th>4</th>\n",
       "      <td>2000-01-10</td>\n",
       "      <td>6610</td>\n",
       "      <td>6700</td>\n",
       "      <td>6300</td>\n",
       "      <td>6500</td>\n",
       "      <td>1503.603882</td>\n",
       "      <td>56100</td>\n",
       "    </tr>\n",
       "  </tbody>\n",
       "</table>\n",
       "</div>"
      ],
      "text/plain": [
       "         Date  Open  High   Low  Close    Adj Close  Volume\n",
       "0  2000-01-04  6300  7100  6300   7000  1619.266357   56800\n",
       "1  2000-01-05  6700  7100  6610   6700  1549.868774   52100\n",
       "2  2000-01-06  7000  7000  6250   6300  1457.339844   64900\n",
       "3  2000-01-07  6350  6600  6300   6370  1473.532349   61800\n",
       "4  2000-01-10  6610  6700  6300   6500  1503.603882   56100"
      ]
     },
     "execution_count": 2,
     "metadata": {},
     "output_type": "execute_result"
    }
   ],
   "source": [
    "# 예측할 종목은 한양증권(001750) 입니다\n",
    "# 기간은 00-01-04 ~ 21-02-05 입니다\n",
    "# Yahoo Finanace에서 다운로드 받아 null값을 제거한 데이터를 사용합니다\n",
    "\n",
    "df = pd.read_csv('C:\\Jupyter_Project\\Hanyang_Securities_F.csv')\n",
    "df = df.dropna()\n",
    "df.head()"
   ]
  },
  {
   "cell_type": "code",
   "execution_count": 3,
   "id": "competitive-terrorism",
   "metadata": {},
   "outputs": [
    {
     "data": {
      "text/html": [
       "<div>\n",
       "<style scoped>\n",
       "    .dataframe tbody tr th:only-of-type {\n",
       "        vertical-align: middle;\n",
       "    }\n",
       "\n",
       "    .dataframe tbody tr th {\n",
       "        vertical-align: top;\n",
       "    }\n",
       "\n",
       "    .dataframe thead th {\n",
       "        text-align: right;\n",
       "    }\n",
       "</style>\n",
       "<table border=\"1\" class=\"dataframe\">\n",
       "  <thead>\n",
       "    <tr style=\"text-align: right;\">\n",
       "      <th></th>\n",
       "      <th>Date</th>\n",
       "      <th>Open</th>\n",
       "      <th>High</th>\n",
       "      <th>Low</th>\n",
       "      <th>Close</th>\n",
       "      <th>Adj Close</th>\n",
       "      <th>Volume</th>\n",
       "    </tr>\n",
       "  </thead>\n",
       "  <tbody>\n",
       "    <tr>\n",
       "      <th>5181</th>\n",
       "      <td>2021-02-01</td>\n",
       "      <td>9200</td>\n",
       "      <td>9480</td>\n",
       "      <td>9100</td>\n",
       "      <td>9380</td>\n",
       "      <td>9380.0</td>\n",
       "      <td>81355</td>\n",
       "    </tr>\n",
       "    <tr>\n",
       "      <th>5182</th>\n",
       "      <td>2021-02-02</td>\n",
       "      <td>9460</td>\n",
       "      <td>9810</td>\n",
       "      <td>9460</td>\n",
       "      <td>9700</td>\n",
       "      <td>9700.0</td>\n",
       "      <td>105755</td>\n",
       "    </tr>\n",
       "    <tr>\n",
       "      <th>5183</th>\n",
       "      <td>2021-02-03</td>\n",
       "      <td>9850</td>\n",
       "      <td>10200</td>\n",
       "      <td>9800</td>\n",
       "      <td>9990</td>\n",
       "      <td>9990.0</td>\n",
       "      <td>170966</td>\n",
       "    </tr>\n",
       "    <tr>\n",
       "      <th>5184</th>\n",
       "      <td>2021-02-04</td>\n",
       "      <td>10100</td>\n",
       "      <td>10200</td>\n",
       "      <td>9940</td>\n",
       "      <td>10150</td>\n",
       "      <td>10150.0</td>\n",
       "      <td>133504</td>\n",
       "    </tr>\n",
       "    <tr>\n",
       "      <th>5185</th>\n",
       "      <td>2021-02-05</td>\n",
       "      <td>10200</td>\n",
       "      <td>10800</td>\n",
       "      <td>10150</td>\n",
       "      <td>10650</td>\n",
       "      <td>10650.0</td>\n",
       "      <td>247224</td>\n",
       "    </tr>\n",
       "  </tbody>\n",
       "</table>\n",
       "</div>"
      ],
      "text/plain": [
       "            Date   Open   High    Low  Close  Adj Close  Volume\n",
       "5181  2021-02-01   9200   9480   9100   9380     9380.0   81355\n",
       "5182  2021-02-02   9460   9810   9460   9700     9700.0  105755\n",
       "5183  2021-02-03   9850  10200   9800   9990     9990.0  170966\n",
       "5184  2021-02-04  10100  10200   9940  10150    10150.0  133504\n",
       "5185  2021-02-05  10200  10800  10150  10650    10650.0  247224"
      ]
     },
     "execution_count": 3,
     "metadata": {},
     "output_type": "execute_result"
    }
   ],
   "source": [
    "df.tail()"
   ]
  },
  {
   "cell_type": "code",
   "execution_count": 4,
   "id": "antique-potato",
   "metadata": {},
   "outputs": [
    {
     "data": {
      "text/plain": [
       "0       0.231324\n",
       "1       0.231324\n",
       "2       0.231324\n",
       "3       0.231324\n",
       "4       0.231324\n",
       "          ...   \n",
       "5181    1.000000\n",
       "5182    1.000000\n",
       "5183    1.000000\n",
       "5184    1.000000\n",
       "5185    1.000000\n",
       "Length: 5186, dtype: float64"
      ]
     },
     "execution_count": 4,
     "metadata": {},
     "output_type": "execute_result"
    }
   ],
   "source": [
    "# OHLC를 Adj OHLC로 바꾸기 위한 비율입니다\n",
    "# Adj OHLC는 과거의 절대가격을 현재 가격의 시점으로 보기위한 수정된 가격입니다\n",
    "# 과거 발생한 액면분할과 현금배당을 반영한 Adj Close를 기준으로 조정합니다\n",
    "\n",
    "ratio = df['Adj Close']/df['Close']\n",
    "ratio"
   ]
  },
  {
   "cell_type": "code",
   "execution_count": 5,
   "id": "stopped-noise",
   "metadata": {},
   "outputs": [],
   "source": [
    "df['Adj Open'] = df['Open']*ratio\n",
    "df['Adj High'] = df['High']*ratio\n",
    "df['Adj Low'] = df['Low']*ratio"
   ]
  },
  {
   "cell_type": "code",
   "execution_count": 6,
   "id": "joined-fighter",
   "metadata": {},
   "outputs": [],
   "source": [
    "df.drop(['Open','High','Low','Close'], axis=1, inplace=True)"
   ]
  },
  {
   "cell_type": "code",
   "execution_count": 7,
   "id": "abroad-idaho",
   "metadata": {},
   "outputs": [],
   "source": [
    "df.rename(columns={'Adj Open':'Open', 'Adj High':'High', 'Adj Low':'Low', 'Adj Close':'Close'}, inplace=True)"
   ]
  },
  {
   "cell_type": "code",
   "execution_count": 8,
   "id": "motivated-tragedy",
   "metadata": {},
   "outputs": [
    {
     "data": {
      "text/html": [
       "<div>\n",
       "<style scoped>\n",
       "    .dataframe tbody tr th:only-of-type {\n",
       "        vertical-align: middle;\n",
       "    }\n",
       "\n",
       "    .dataframe tbody tr th {\n",
       "        vertical-align: top;\n",
       "    }\n",
       "\n",
       "    .dataframe thead th {\n",
       "        text-align: right;\n",
       "    }\n",
       "</style>\n",
       "<table border=\"1\" class=\"dataframe\">\n",
       "  <thead>\n",
       "    <tr style=\"text-align: right;\">\n",
       "      <th></th>\n",
       "      <th>Open</th>\n",
       "      <th>High</th>\n",
       "      <th>Low</th>\n",
       "      <th>Close</th>\n",
       "      <th>Volume</th>\n",
       "    </tr>\n",
       "  </thead>\n",
       "  <tbody>\n",
       "    <tr>\n",
       "      <th>0</th>\n",
       "      <td>1457.339721</td>\n",
       "      <td>1642.398734</td>\n",
       "      <td>1457.339721</td>\n",
       "      <td>1619.266357</td>\n",
       "      <td>56800</td>\n",
       "    </tr>\n",
       "    <tr>\n",
       "      <th>1</th>\n",
       "      <td>1549.868774</td>\n",
       "      <td>1642.398253</td>\n",
       "      <td>1529.049641</td>\n",
       "      <td>1549.868774</td>\n",
       "      <td>52100</td>\n",
       "    </tr>\n",
       "    <tr>\n",
       "      <th>2</th>\n",
       "      <td>1619.266493</td>\n",
       "      <td>1619.266493</td>\n",
       "      <td>1445.773655</td>\n",
       "      <td>1457.339844</td>\n",
       "      <td>64900</td>\n",
       "    </tr>\n",
       "    <tr>\n",
       "      <th>3</th>\n",
       "      <td>1468.905874</td>\n",
       "      <td>1526.736814</td>\n",
       "      <td>1457.339686</td>\n",
       "      <td>1473.532349</td>\n",
       "      <td>61800</td>\n",
       "    </tr>\n",
       "    <tr>\n",
       "      <th>4</th>\n",
       "      <td>1529.049486</td>\n",
       "      <td>1549.868617</td>\n",
       "      <td>1457.339147</td>\n",
       "      <td>1503.603882</td>\n",
       "      <td>56100</td>\n",
       "    </tr>\n",
       "    <tr>\n",
       "      <th>...</th>\n",
       "      <td>...</td>\n",
       "      <td>...</td>\n",
       "      <td>...</td>\n",
       "      <td>...</td>\n",
       "      <td>...</td>\n",
       "    </tr>\n",
       "    <tr>\n",
       "      <th>5181</th>\n",
       "      <td>9200.000000</td>\n",
       "      <td>9480.000000</td>\n",
       "      <td>9100.000000</td>\n",
       "      <td>9380.000000</td>\n",
       "      <td>81355</td>\n",
       "    </tr>\n",
       "    <tr>\n",
       "      <th>5182</th>\n",
       "      <td>9460.000000</td>\n",
       "      <td>9810.000000</td>\n",
       "      <td>9460.000000</td>\n",
       "      <td>9700.000000</td>\n",
       "      <td>105755</td>\n",
       "    </tr>\n",
       "    <tr>\n",
       "      <th>5183</th>\n",
       "      <td>9850.000000</td>\n",
       "      <td>10200.000000</td>\n",
       "      <td>9800.000000</td>\n",
       "      <td>9990.000000</td>\n",
       "      <td>170966</td>\n",
       "    </tr>\n",
       "    <tr>\n",
       "      <th>5184</th>\n",
       "      <td>10100.000000</td>\n",
       "      <td>10200.000000</td>\n",
       "      <td>9940.000000</td>\n",
       "      <td>10150.000000</td>\n",
       "      <td>133504</td>\n",
       "    </tr>\n",
       "    <tr>\n",
       "      <th>5185</th>\n",
       "      <td>10200.000000</td>\n",
       "      <td>10800.000000</td>\n",
       "      <td>10150.000000</td>\n",
       "      <td>10650.000000</td>\n",
       "      <td>247224</td>\n",
       "    </tr>\n",
       "  </tbody>\n",
       "</table>\n",
       "<p>5186 rows × 5 columns</p>\n",
       "</div>"
      ],
      "text/plain": [
       "              Open          High           Low         Close  Volume\n",
       "0      1457.339721   1642.398734   1457.339721   1619.266357   56800\n",
       "1      1549.868774   1642.398253   1529.049641   1549.868774   52100\n",
       "2      1619.266493   1619.266493   1445.773655   1457.339844   64900\n",
       "3      1468.905874   1526.736814   1457.339686   1473.532349   61800\n",
       "4      1529.049486   1549.868617   1457.339147   1503.603882   56100\n",
       "...            ...           ...           ...           ...     ...\n",
       "5181   9200.000000   9480.000000   9100.000000   9380.000000   81355\n",
       "5182   9460.000000   9810.000000   9460.000000   9700.000000  105755\n",
       "5183   9850.000000  10200.000000   9800.000000   9990.000000  170966\n",
       "5184  10100.000000  10200.000000   9940.000000  10150.000000  133504\n",
       "5185  10200.000000  10800.000000  10150.000000  10650.000000  247224\n",
       "\n",
       "[5186 rows x 5 columns]"
      ]
     },
     "execution_count": 8,
     "metadata": {},
     "output_type": "execute_result"
    }
   ],
   "source": [
    "df = df[['Open', 'High', 'Low', 'Close', 'Volume']]\n",
    "\n",
    "df"
   ]
  },
  {
   "cell_type": "code",
   "execution_count": 9,
   "id": "architectural-vinyl",
   "metadata": {},
   "outputs": [
    {
     "name": "stdout",
     "output_type": "stream",
     "text": [
      "          Open      High       Low     Close    Volume\n",
      "0     0.069093  0.078420  0.072692  0.082280  0.020301\n",
      "1     0.076891  0.078420  0.078924  0.076473  0.018620\n",
      "2     0.082740  0.076587  0.071686  0.068730  0.023197\n",
      "3     0.070068  0.069256  0.072692  0.070085  0.022088\n",
      "4     0.075136  0.071089  0.072692  0.072601  0.020050\n",
      "...        ...       ...       ...       ...       ...\n",
      "5181  0.721622  0.699387  0.736878  0.731697  0.029080\n",
      "5182  0.743534  0.725532  0.768164  0.758474  0.037804\n",
      "5183  0.776402  0.756432  0.797711  0.782742  0.061119\n",
      "5184  0.797472  0.756432  0.809878  0.796130  0.047725\n",
      "5185  0.805899  0.803969  0.828128  0.837970  0.088383\n",
      "\n",
      "[5186 rows x 5 columns]\n"
     ]
    }
   ],
   "source": [
    "# MinMaxScaler 클래스를 사용하여 데이터를 스케일링 합니다.\n",
    "# MinMaxScaler는 데이터의 최대값이 1, 최소값이 0이 되도록 변환합니다\n",
    "\n",
    "scaler = MinMaxScaler()\n",
    "scale_cols = ['Open', 'High', 'Low', 'Close', 'Volume']\n",
    "df_scaled = scaler.fit_transform(df[scale_cols])\n",
    "\n",
    "# 정규화가 완료된 데이터들은 pandas dataframe으로 변환합니다\n",
    "# pandas는 시계열 자료에 대한 다양한 기능을 제공하여 LSTM에서 사용하는 window를 만들때 유용합니다\n",
    "\n",
    "df_scaled = pd.DataFrame(df_scaled)\n",
    "df_scaled.columns = scale_cols\n",
    "\n",
    "print(df_scaled)"
   ]
  },
  {
   "cell_type": "code",
   "execution_count": 16,
   "id": "remarkable-lambda",
   "metadata": {},
   "outputs": [
    {
     "data": {
      "text/plain": [
       "((5186, 4), (5186, 1))"
      ]
     },
     "execution_count": 16,
     "metadata": {},
     "output_type": "execute_result"
    }
   ],
   "source": [
    "feature_cols = ['Open', 'High', 'Low', 'Volume']\n",
    "label_cols = ['Close']\n",
    "\n",
    "data = df_scaled[feature_cols]\n",
    "target = df_scaled[label_cols]\n",
    "\n",
    "data.shape, target.shape"
   ]
  },
  {
   "cell_type": "code",
   "execution_count": 25,
   "id": "technical-bride",
   "metadata": {},
   "outputs": [],
   "source": [
    "from sklearn.metrics import mean_squared_error\n",
    "\n",
    "def calc_train_error(x_train, y_train, model):\n",
    "    '''returns in-sample error for already fit model.'''\n",
    "    prediction = model.predict(x_train)\n",
    "    mse = mean_squared_error(y_train, prediction)\n",
    "    rmse = np.sqrt(mse)\n",
    "    return mse\n",
    "    \n",
    "def calc_validation_error(x_test, y_test, model):\n",
    "    '''returns out-of-sample error for already fit model.'''\n",
    "    prediction = model.predict(x_test)\n",
    "    mse = mean_squared_error(y_test, prediction)\n",
    "    rmse = np.sqrt(mse)\n",
    "    return mse\n",
    "    \n",
    "def calc_metrics(x_train, y_train, x_test, y_test, model):\n",
    "    '''fits model and returns the RMSE for in-sample error and out-of-sample error'''\n",
    "    model.fit(x_train, y_train)\n",
    "    train_error = calc_train_error(x_train, y_train, model)\n",
    "    validation_error = calc_validation_error(x_test, y_test, model)\n",
    "    return train_error, validation_error"
   ]
  },
  {
   "cell_type": "code",
   "execution_count": 26,
   "id": "provincial-universe",
   "metadata": {},
   "outputs": [],
   "source": [
    "from sklearn.model_selection import train_test_split\n",
    "\n",
    "x_train, x_test, y_train, y_test = train_test_split(data, \n",
    "                                                    target, \n",
    "                                                    shuffle=True,\n",
    "                                                    test_size=0.2, \n",
    "                                                    random_state=15)"
   ]
  },
  {
   "cell_type": "code",
   "execution_count": 27,
   "id": "environmental-schema",
   "metadata": {},
   "outputs": [],
   "source": [
    "# train/validation split (gives us train and validation sets)\n",
    "x_train, x_validation, y_train, y_validation = train_test_split(x_train,\n",
    "                                                                y_train,\n",
    "                                                                shuffle=False,\n",
    "                                                                test_size=0.25,\n",
    "                                                                random_state=2018)"
   ]
  },
  {
   "cell_type": "code",
   "execution_count": 28,
   "id": "statutory-representative",
   "metadata": {},
   "outputs": [
    {
     "name": "stdout",
     "output_type": "stream",
     "text": [
      "train: 0.6% | validation: 0.2% | test 0.2%\n"
     ]
    }
   ],
   "source": [
    "# print proportions\n",
    "print('train: {}% | validation: {}% | test {}%'.format(round(len(y_train)/len(target),2),\n",
    "                                                       round(len(y_validation)/len(target),2),\n",
    "                                                       round(len(y_test)/len(target),2)))"
   ]
  },
  {
   "cell_type": "code",
   "execution_count": 36,
   "id": "colonial-pepper",
   "metadata": {},
   "outputs": [
    {
     "name": "stdout",
     "output_type": "stream",
     "text": [
      "All errors are RMSE\n",
      "----------------------------------------------------------------------------\n",
      "alpha:  0.0001 | train error: 2.48077e-05 | val error: 2.86232e-05 | test error: 3.02e-05\n",
      "alpha:   0.001 | train error: 2.48108e-05 | val error: 2.85639e-05 | test error: 3.02684e-05\n",
      "alpha:    0.01 | train error: 2.50627e-05 | val error: 2.82646e-05 | test error: 3.1134e-05\n",
      "alpha:    0.05 | train error: 2.80965e-05 | val error: 2.97657e-05 | test error: 3.61573e-05\n",
      "alpha:     0.1 | train error: 3.20287e-05 | val error: 3.26877e-05 | test error: 4.15391e-05\n",
      "alpha:       1 | train error: 4.78429e-05 | val error: 4.5947e-05 | test error: 6.14102e-05\n",
      "alpha:      10 | train error: 7.56015e-05 | val error: 7.38593e-05 | test error: 9.70885e-05\n"
     ]
    }
   ],
   "source": [
    "from sklearn.linear_model import Ridge, LinearRegression\n",
    "\n",
    "alphas = [0.0001, 0.001, 0.01, 0.05, 0.1, 1, 10]\n",
    "print('All errors are RMSE')\n",
    "print('-'*76)\n",
    "for alpha in alphas:\n",
    "    # instantiate and fit model\n",
    "    ridge = Ridge(alpha=alpha, fit_intercept=True, random_state=99)\n",
    "    ridge.fit(x_train, y_train)\n",
    "\n",
    "    # calculate errors\n",
    "    new_train_error = mean_squared_error(y_train, ridge.predict(x_train))\n",
    "    new_validation_error = mean_squared_error(y_validation, ridge.predict(x_validation))\n",
    "    new_test_error = mean_squared_error(y_test, ridge.predict(x_test))\n",
    "    \n",
    "    # print errors as report\n",
    "    print('alpha: {:7} | train error: {:5} | val error: {:6} | test error: {}'.\n",
    "          format(alpha,\n",
    "                 round(new_train_error,10),\n",
    "                 round(new_validation_error,10),\n",
    "                 round(new_test_error,10)))"
   ]
  },
  {
   "cell_type": "code",
   "execution_count": 38,
   "id": "reduced-hierarchy",
   "metadata": {},
   "outputs": [],
   "source": [
    "# instantiate model\n",
    "ridge = Ridge(alpha=0.11, fit_intercept=True, random_state=99)\n",
    "\n",
    "# fit and calculate errors\n",
    "new_train_error, new_test_error = calc_metrics(x_train, y_train, x_test, y_test, ridge)\n",
    "new_train_error, new_test_error = round(new_train_error, 3), round(new_test_error, 3)"
   ]
  },
  {
   "cell_type": "code",
   "execution_count": 41,
   "id": "oriental-wilderness",
   "metadata": {},
   "outputs": [
    {
     "name": "stdout",
     "output_type": "stream",
     "text": [
      "train error: 0.0 | test error: 0.0\n",
      "train/test: nan\n"
     ]
    },
    {
     "name": "stderr",
     "output_type": "stream",
     "text": [
      "<ipython-input-41-bca156e55654>:7: RuntimeWarning: invalid value encountered in double_scalars\n",
      "  print('train/test: {}'.format(round(test_error/train_error, 1)))\n"
     ]
    }
   ],
   "source": [
    "lr = LinearRegression(fit_intercept=True)\n",
    "\n",
    "train_error, test_error = calc_metrics(x_train, y_train, x_test, y_test, lr)\n",
    "train_error, test_error = round(train_error, 3), round(test_error, 3)\n",
    "\n",
    "print('train error: {} | test error: {}'.format(train_error, test_error))\n",
    "print('train/test: {}'.format(round(test_error/train_error, 1)))"
   ]
  },
  {
   "cell_type": "code",
   "execution_count": 42,
   "id": "preliminary-payroll",
   "metadata": {},
   "outputs": [
    {
     "name": "stdout",
     "output_type": "stream",
     "text": [
      "ORIGINAL ERROR\n",
      "----------------------------------------\n",
      "train error: 0.0 | test error: 0.0\n",
      "\n",
      "ERROR w/REGULARIZATION\n",
      "----------------------------------------\n",
      "train error: 0.0 | test error: 0.0\n"
     ]
    }
   ],
   "source": [
    "print('ORIGINAL ERROR')\n",
    "print('-' * 40)\n",
    "print('train error: {} | test error: {}\\n'.format(train_error, test_error))\n",
    "print('ERROR w/REGULARIZATION')\n",
    "print('-' * 40)\n",
    "print('train error: {} | test error: {}'.format(new_train_error, new_test_error))"
   ]
  },
  {
   "cell_type": "code",
   "execution_count": null,
   "id": "curious-helping",
   "metadata": {},
   "outputs": [],
   "source": []
  }
 ],
 "metadata": {
  "kernelspec": {
   "display_name": "tensorflow-cpu",
   "language": "python",
   "name": "tensorflow-cpu"
  },
  "language_info": {
   "codemirror_mode": {
    "name": "ipython",
    "version": 3
   },
   "file_extension": ".py",
   "mimetype": "text/x-python",
   "name": "python",
   "nbconvert_exporter": "python",
   "pygments_lexer": "ipython3",
   "version": "3.8.5"
  }
 },
 "nbformat": 4,
 "nbformat_minor": 5
}
