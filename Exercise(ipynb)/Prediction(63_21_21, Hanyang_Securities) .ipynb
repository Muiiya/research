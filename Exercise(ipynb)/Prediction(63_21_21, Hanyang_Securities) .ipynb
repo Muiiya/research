{
 "cells": [
  {
   "cell_type": "code",
   "execution_count": 1,
   "id": "czech-clear",
   "metadata": {},
   "outputs": [],
   "source": [
    "import pandas as pd\n",
    "import numpy as np\n",
    "import matplotlib.pyplot as plt\n",
    "import seaborn as sns\n",
    "import warnings\n",
    "import os\n",
    "import sys\n",
    "import tensorflow as tf\n",
    "\n",
    "from sklearn.preprocessing import MinMaxScaler\n",
    "from tqdm import tqdm"
   ]
  },
  {
   "cell_type": "code",
   "execution_count": 2,
   "id": "comprehensive-bones",
   "metadata": {},
   "outputs": [
    {
     "data": {
      "text/html": [
       "<div>\n",
       "<style scoped>\n",
       "    .dataframe tbody tr th:only-of-type {\n",
       "        vertical-align: middle;\n",
       "    }\n",
       "\n",
       "    .dataframe tbody tr th {\n",
       "        vertical-align: top;\n",
       "    }\n",
       "\n",
       "    .dataframe thead th {\n",
       "        text-align: right;\n",
       "    }\n",
       "</style>\n",
       "<table border=\"1\" class=\"dataframe\">\n",
       "  <thead>\n",
       "    <tr style=\"text-align: right;\">\n",
       "      <th></th>\n",
       "      <th>Date</th>\n",
       "      <th>Open</th>\n",
       "      <th>High</th>\n",
       "      <th>Low</th>\n",
       "      <th>Close</th>\n",
       "      <th>Adj Close</th>\n",
       "      <th>Volume</th>\n",
       "    </tr>\n",
       "  </thead>\n",
       "  <tbody>\n",
       "    <tr>\n",
       "      <th>0</th>\n",
       "      <td>2020-02-04</td>\n",
       "      <td>9140</td>\n",
       "      <td>9150</td>\n",
       "      <td>9020</td>\n",
       "      <td>9110</td>\n",
       "      <td>9110</td>\n",
       "      <td>30886</td>\n",
       "    </tr>\n",
       "    <tr>\n",
       "      <th>1</th>\n",
       "      <td>2020-02-05</td>\n",
       "      <td>9200</td>\n",
       "      <td>9200</td>\n",
       "      <td>9000</td>\n",
       "      <td>9040</td>\n",
       "      <td>9040</td>\n",
       "      <td>38531</td>\n",
       "    </tr>\n",
       "    <tr>\n",
       "      <th>2</th>\n",
       "      <td>2020-02-06</td>\n",
       "      <td>9140</td>\n",
       "      <td>9140</td>\n",
       "      <td>8760</td>\n",
       "      <td>8920</td>\n",
       "      <td>8920</td>\n",
       "      <td>92807</td>\n",
       "    </tr>\n",
       "    <tr>\n",
       "      <th>3</th>\n",
       "      <td>2020-02-07</td>\n",
       "      <td>8940</td>\n",
       "      <td>8940</td>\n",
       "      <td>8750</td>\n",
       "      <td>8860</td>\n",
       "      <td>8860</td>\n",
       "      <td>49339</td>\n",
       "    </tr>\n",
       "    <tr>\n",
       "      <th>4</th>\n",
       "      <td>2020-02-10</td>\n",
       "      <td>8860</td>\n",
       "      <td>8920</td>\n",
       "      <td>8650</td>\n",
       "      <td>8730</td>\n",
       "      <td>8730</td>\n",
       "      <td>29151</td>\n",
       "    </tr>\n",
       "  </tbody>\n",
       "</table>\n",
       "</div>"
      ],
      "text/plain": [
       "         Date  Open  High   Low  Close  Adj Close  Volume\n",
       "0  2020-02-04  9140  9150  9020   9110       9110   30886\n",
       "1  2020-02-05  9200  9200  9000   9040       9040   38531\n",
       "2  2020-02-06  9140  9140  8760   8920       8920   92807\n",
       "3  2020-02-07  8940  8940  8750   8860       8860   49339\n",
       "4  2020-02-10  8860  8920  8650   8730       8730   29151"
      ]
     },
     "execution_count": 2,
     "metadata": {},
     "output_type": "execute_result"
    }
   ],
   "source": [
    "# 예측할 종목은 한양증권(001750) 입니다\n",
    "# 기간은 00-01-04 ~ 21-02-05 입니다\n",
    "# Yahoo Finanace에서 다운로드 받습니다 \n",
    "# null값과 0값을 제거한 데이터를 사용합니다\n",
    "\n",
    "\n",
    "df = pd.read_csv('C:\\Jupyter_Project\\HS_50_50_150.csv')\n",
    "df = df.dropna()\n",
    "df.head()"
   ]
  },
  {
   "cell_type": "code",
   "execution_count": 3,
   "id": "persistent-chick",
   "metadata": {},
   "outputs": [
    {
     "data": {
      "text/html": [
       "<div>\n",
       "<style scoped>\n",
       "    .dataframe tbody tr th:only-of-type {\n",
       "        vertical-align: middle;\n",
       "    }\n",
       "\n",
       "    .dataframe tbody tr th {\n",
       "        vertical-align: top;\n",
       "    }\n",
       "\n",
       "    .dataframe thead th {\n",
       "        text-align: right;\n",
       "    }\n",
       "</style>\n",
       "<table border=\"1\" class=\"dataframe\">\n",
       "  <thead>\n",
       "    <tr style=\"text-align: right;\">\n",
       "      <th></th>\n",
       "      <th>Date</th>\n",
       "      <th>Open</th>\n",
       "      <th>High</th>\n",
       "      <th>Low</th>\n",
       "      <th>Close</th>\n",
       "      <th>Adj Close</th>\n",
       "      <th>Volume</th>\n",
       "    </tr>\n",
       "  </thead>\n",
       "  <tbody>\n",
       "    <tr>\n",
       "      <th>245</th>\n",
       "      <td>2021-02-01</td>\n",
       "      <td>9200</td>\n",
       "      <td>9480</td>\n",
       "      <td>9100</td>\n",
       "      <td>9380</td>\n",
       "      <td>9380</td>\n",
       "      <td>81355</td>\n",
       "    </tr>\n",
       "    <tr>\n",
       "      <th>246</th>\n",
       "      <td>2021-02-02</td>\n",
       "      <td>9460</td>\n",
       "      <td>9810</td>\n",
       "      <td>9460</td>\n",
       "      <td>9700</td>\n",
       "      <td>9700</td>\n",
       "      <td>105755</td>\n",
       "    </tr>\n",
       "    <tr>\n",
       "      <th>247</th>\n",
       "      <td>2021-02-03</td>\n",
       "      <td>9850</td>\n",
       "      <td>10200</td>\n",
       "      <td>9800</td>\n",
       "      <td>9990</td>\n",
       "      <td>9990</td>\n",
       "      <td>170966</td>\n",
       "    </tr>\n",
       "    <tr>\n",
       "      <th>248</th>\n",
       "      <td>2021-02-04</td>\n",
       "      <td>10100</td>\n",
       "      <td>10200</td>\n",
       "      <td>9940</td>\n",
       "      <td>10150</td>\n",
       "      <td>10150</td>\n",
       "      <td>133504</td>\n",
       "    </tr>\n",
       "    <tr>\n",
       "      <th>249</th>\n",
       "      <td>2021-02-05</td>\n",
       "      <td>10200</td>\n",
       "      <td>10800</td>\n",
       "      <td>10150</td>\n",
       "      <td>10650</td>\n",
       "      <td>10650</td>\n",
       "      <td>251300</td>\n",
       "    </tr>\n",
       "  </tbody>\n",
       "</table>\n",
       "</div>"
      ],
      "text/plain": [
       "           Date   Open   High    Low  Close  Adj Close  Volume\n",
       "245  2021-02-01   9200   9480   9100   9380       9380   81355\n",
       "246  2021-02-02   9460   9810   9460   9700       9700  105755\n",
       "247  2021-02-03   9850  10200   9800   9990       9990  170966\n",
       "248  2021-02-04  10100  10200   9940  10150      10150  133504\n",
       "249  2021-02-05  10200  10800  10150  10650      10650  251300"
      ]
     },
     "execution_count": 3,
     "metadata": {},
     "output_type": "execute_result"
    }
   ],
   "source": [
    "df.tail()"
   ]
  },
  {
   "cell_type": "code",
   "execution_count": 4,
   "id": "trained-commission",
   "metadata": {},
   "outputs": [
    {
     "data": {
      "text/plain": [
       "0      1.0\n",
       "1      1.0\n",
       "2      1.0\n",
       "3      1.0\n",
       "4      1.0\n",
       "      ... \n",
       "245    1.0\n",
       "246    1.0\n",
       "247    1.0\n",
       "248    1.0\n",
       "249    1.0\n",
       "Length: 250, dtype: float64"
      ]
     },
     "execution_count": 4,
     "metadata": {},
     "output_type": "execute_result"
    }
   ],
   "source": [
    "# OHLC를 Adj OHLC로 바꾸기 위한 비율입니다\n",
    "# Adj OHLC는 과거의 절대가격을 현재 가격의 시점으로 보기위한 수정된 가격입니다\n",
    "# 과거 발생한 액면분할과 현금배당을 반영한 Adj Close를 기준으로 조정합니다\n",
    "\n",
    "ratio = df['Adj Close']/df['Close']\n",
    "ratio"
   ]
  },
  {
   "cell_type": "code",
   "execution_count": 5,
   "id": "swiss-festival",
   "metadata": {},
   "outputs": [],
   "source": [
    "df['Adj Open'] = df['Open']*ratio\n",
    "df['Adj High'] = df['High']*ratio\n",
    "df['Adj Low'] = df['Low']*ratio"
   ]
  },
  {
   "cell_type": "code",
   "execution_count": 6,
   "id": "presidential-tender",
   "metadata": {},
   "outputs": [],
   "source": [
    "df.drop(['Open','High','Low','Close'], axis=1, inplace=True)"
   ]
  },
  {
   "cell_type": "code",
   "execution_count": 7,
   "id": "printable-sample",
   "metadata": {},
   "outputs": [],
   "source": [
    "df.rename(columns={'Adj Open':'Open', 'Adj High':'High', 'Adj Low':'Low', 'Adj Close':'Close'}, inplace=True)"
   ]
  },
  {
   "cell_type": "code",
   "execution_count": 8,
   "id": "every-breast",
   "metadata": {},
   "outputs": [
    {
     "data": {
      "text/html": [
       "<div>\n",
       "<style scoped>\n",
       "    .dataframe tbody tr th:only-of-type {\n",
       "        vertical-align: middle;\n",
       "    }\n",
       "\n",
       "    .dataframe tbody tr th {\n",
       "        vertical-align: top;\n",
       "    }\n",
       "\n",
       "    .dataframe thead th {\n",
       "        text-align: right;\n",
       "    }\n",
       "</style>\n",
       "<table border=\"1\" class=\"dataframe\">\n",
       "  <thead>\n",
       "    <tr style=\"text-align: right;\">\n",
       "      <th></th>\n",
       "      <th>Open</th>\n",
       "      <th>High</th>\n",
       "      <th>Low</th>\n",
       "      <th>Close</th>\n",
       "      <th>Volume</th>\n",
       "    </tr>\n",
       "  </thead>\n",
       "  <tbody>\n",
       "    <tr>\n",
       "      <th>0</th>\n",
       "      <td>9140.0</td>\n",
       "      <td>9150.0</td>\n",
       "      <td>9020.0</td>\n",
       "      <td>9110</td>\n",
       "      <td>30886</td>\n",
       "    </tr>\n",
       "    <tr>\n",
       "      <th>1</th>\n",
       "      <td>9200.0</td>\n",
       "      <td>9200.0</td>\n",
       "      <td>9000.0</td>\n",
       "      <td>9040</td>\n",
       "      <td>38531</td>\n",
       "    </tr>\n",
       "    <tr>\n",
       "      <th>2</th>\n",
       "      <td>9140.0</td>\n",
       "      <td>9140.0</td>\n",
       "      <td>8760.0</td>\n",
       "      <td>8920</td>\n",
       "      <td>92807</td>\n",
       "    </tr>\n",
       "    <tr>\n",
       "      <th>3</th>\n",
       "      <td>8940.0</td>\n",
       "      <td>8940.0</td>\n",
       "      <td>8750.0</td>\n",
       "      <td>8860</td>\n",
       "      <td>49339</td>\n",
       "    </tr>\n",
       "    <tr>\n",
       "      <th>4</th>\n",
       "      <td>8860.0</td>\n",
       "      <td>8920.0</td>\n",
       "      <td>8650.0</td>\n",
       "      <td>8730</td>\n",
       "      <td>29151</td>\n",
       "    </tr>\n",
       "    <tr>\n",
       "      <th>...</th>\n",
       "      <td>...</td>\n",
       "      <td>...</td>\n",
       "      <td>...</td>\n",
       "      <td>...</td>\n",
       "      <td>...</td>\n",
       "    </tr>\n",
       "    <tr>\n",
       "      <th>245</th>\n",
       "      <td>9200.0</td>\n",
       "      <td>9480.0</td>\n",
       "      <td>9100.0</td>\n",
       "      <td>9380</td>\n",
       "      <td>81355</td>\n",
       "    </tr>\n",
       "    <tr>\n",
       "      <th>246</th>\n",
       "      <td>9460.0</td>\n",
       "      <td>9810.0</td>\n",
       "      <td>9460.0</td>\n",
       "      <td>9700</td>\n",
       "      <td>105755</td>\n",
       "    </tr>\n",
       "    <tr>\n",
       "      <th>247</th>\n",
       "      <td>9850.0</td>\n",
       "      <td>10200.0</td>\n",
       "      <td>9800.0</td>\n",
       "      <td>9990</td>\n",
       "      <td>170966</td>\n",
       "    </tr>\n",
       "    <tr>\n",
       "      <th>248</th>\n",
       "      <td>10100.0</td>\n",
       "      <td>10200.0</td>\n",
       "      <td>9940.0</td>\n",
       "      <td>10150</td>\n",
       "      <td>133504</td>\n",
       "    </tr>\n",
       "    <tr>\n",
       "      <th>249</th>\n",
       "      <td>10200.0</td>\n",
       "      <td>10800.0</td>\n",
       "      <td>10150.0</td>\n",
       "      <td>10650</td>\n",
       "      <td>251300</td>\n",
       "    </tr>\n",
       "  </tbody>\n",
       "</table>\n",
       "<p>250 rows × 5 columns</p>\n",
       "</div>"
      ],
      "text/plain": [
       "        Open     High      Low  Close  Volume\n",
       "0     9140.0   9150.0   9020.0   9110   30886\n",
       "1     9200.0   9200.0   9000.0   9040   38531\n",
       "2     9140.0   9140.0   8760.0   8920   92807\n",
       "3     8940.0   8940.0   8750.0   8860   49339\n",
       "4     8860.0   8920.0   8650.0   8730   29151\n",
       "..       ...      ...      ...    ...     ...\n",
       "245   9200.0   9480.0   9100.0   9380   81355\n",
       "246   9460.0   9810.0   9460.0   9700  105755\n",
       "247   9850.0  10200.0   9800.0   9990  170966\n",
       "248  10100.0  10200.0   9940.0  10150  133504\n",
       "249  10200.0  10800.0  10150.0  10650  251300\n",
       "\n",
       "[250 rows x 5 columns]"
      ]
     },
     "execution_count": 8,
     "metadata": {},
     "output_type": "execute_result"
    }
   ],
   "source": [
    "df = df[['Open', 'High', 'Low', 'Close', 'Volume']]\n",
    "\n",
    "df"
   ]
  },
  {
   "cell_type": "code",
   "execution_count": 9,
   "id": "neither-exhibit",
   "metadata": {},
   "outputs": [
    {
     "name": "stdout",
     "output_type": "stream",
     "text": [
      "         Open      High       Low   Close    Volume\n",
      "0    0.775947  0.732143  0.804159  0.7536  0.008378\n",
      "1    0.785832  0.740260  0.800693  0.7424  0.011118\n",
      "2    0.775947  0.730519  0.759099  0.7232  0.030576\n",
      "3    0.742998  0.698052  0.757366  0.7136  0.014993\n",
      "4    0.729819  0.694805  0.740035  0.6928  0.007756\n",
      "..        ...       ...       ...     ...       ...\n",
      "245  0.785832  0.785714  0.818024  0.7968  0.026470\n",
      "246  0.828666  0.839286  0.880416  0.8480  0.035218\n",
      "247  0.892916  0.902597  0.939341  0.8944  0.058595\n",
      "248  0.934102  0.902597  0.963605  0.9200  0.045165\n",
      "249  0.950577  1.000000  1.000000  1.0000  0.087394\n",
      "\n",
      "[250 rows x 5 columns]\n"
     ]
    }
   ],
   "source": [
    "scaler = MinMaxScaler()\n",
    "scale_cols = ['Open', 'High', 'Low', 'Close', 'Volume']\n",
    "df_scaled = scaler.fit_transform(df[scale_cols])\n",
    "\n",
    "df_scaled = pd.DataFrame(df_scaled)\n",
    "df_scaled.columns = scale_cols\n",
    "\n",
    "print(df_scaled)"
   ]
  },
  {
   "cell_type": "code",
   "execution_count": 10,
   "id": "attached-yacht",
   "metadata": {},
   "outputs": [],
   "source": [
    "# 20일 학습하고 그 다음날 종가예측\n",
    "# 테스트 기간은 21일, 따라서 5299-21 : train / 21 : test\n",
    "\n",
    "window_size = 20\n",
    "TEST_SIZE = 50"
   ]
  },
  {
   "cell_type": "code",
   "execution_count": 11,
   "id": "signed-browser",
   "metadata": {},
   "outputs": [],
   "source": [
    "train = df_scaled[:-TEST_SIZE]\n",
    "test = df_scaled[-TEST_SIZE:]"
   ]
  },
  {
   "cell_type": "code",
   "execution_count": 12,
   "id": "growing-twelve",
   "metadata": {
    "scrolled": true
   },
   "outputs": [
    {
     "data": {
      "text/html": [
       "<div>\n",
       "<style scoped>\n",
       "    .dataframe tbody tr th:only-of-type {\n",
       "        vertical-align: middle;\n",
       "    }\n",
       "\n",
       "    .dataframe tbody tr th {\n",
       "        vertical-align: top;\n",
       "    }\n",
       "\n",
       "    .dataframe thead th {\n",
       "        text-align: right;\n",
       "    }\n",
       "</style>\n",
       "<table border=\"1\" class=\"dataframe\">\n",
       "  <thead>\n",
       "    <tr style=\"text-align: right;\">\n",
       "      <th></th>\n",
       "      <th>Open</th>\n",
       "      <th>High</th>\n",
       "      <th>Low</th>\n",
       "      <th>Close</th>\n",
       "      <th>Volume</th>\n",
       "    </tr>\n",
       "  </thead>\n",
       "  <tbody>\n",
       "    <tr>\n",
       "      <th>count</th>\n",
       "      <td>50.000000</td>\n",
       "      <td>50.000000</td>\n",
       "      <td>50.000000</td>\n",
       "      <td>50.000000</td>\n",
       "      <td>50.000000</td>\n",
       "    </tr>\n",
       "    <tr>\n",
       "      <th>mean</th>\n",
       "      <td>0.860099</td>\n",
       "      <td>0.836234</td>\n",
       "      <td>0.890711</td>\n",
       "      <td>0.840928</td>\n",
       "      <td>0.029913</td>\n",
       "    </tr>\n",
       "    <tr>\n",
       "      <th>std</th>\n",
       "      <td>0.048146</td>\n",
       "      <td>0.054000</td>\n",
       "      <td>0.046308</td>\n",
       "      <td>0.049635</td>\n",
       "      <td>0.025879</td>\n",
       "    </tr>\n",
       "    <tr>\n",
       "      <th>min</th>\n",
       "      <td>0.774300</td>\n",
       "      <td>0.735390</td>\n",
       "      <td>0.805893</td>\n",
       "      <td>0.752000</td>\n",
       "      <td>0.004691</td>\n",
       "    </tr>\n",
       "    <tr>\n",
       "      <th>25%</th>\n",
       "      <td>0.831137</td>\n",
       "      <td>0.800325</td>\n",
       "      <td>0.861785</td>\n",
       "      <td>0.813600</td>\n",
       "      <td>0.013071</td>\n",
       "    </tr>\n",
       "    <tr>\n",
       "      <th>50%</th>\n",
       "      <td>0.857496</td>\n",
       "      <td>0.831981</td>\n",
       "      <td>0.887348</td>\n",
       "      <td>0.834400</td>\n",
       "      <td>0.019257</td>\n",
       "    </tr>\n",
       "    <tr>\n",
       "      <th>75%</th>\n",
       "      <td>0.892916</td>\n",
       "      <td>0.865260</td>\n",
       "      <td>0.923744</td>\n",
       "      <td>0.870400</td>\n",
       "      <td>0.040130</td>\n",
       "    </tr>\n",
       "    <tr>\n",
       "      <th>max</th>\n",
       "      <td>1.000000</td>\n",
       "      <td>1.000000</td>\n",
       "      <td>1.000000</td>\n",
       "      <td>1.000000</td>\n",
       "      <td>0.137986</td>\n",
       "    </tr>\n",
       "  </tbody>\n",
       "</table>\n",
       "</div>"
      ],
      "text/plain": [
       "            Open       High        Low      Close     Volume\n",
       "count  50.000000  50.000000  50.000000  50.000000  50.000000\n",
       "mean    0.860099   0.836234   0.890711   0.840928   0.029913\n",
       "std     0.048146   0.054000   0.046308   0.049635   0.025879\n",
       "min     0.774300   0.735390   0.805893   0.752000   0.004691\n",
       "25%     0.831137   0.800325   0.861785   0.813600   0.013071\n",
       "50%     0.857496   0.831981   0.887348   0.834400   0.019257\n",
       "75%     0.892916   0.865260   0.923744   0.870400   0.040130\n",
       "max     1.000000   1.000000   1.000000   1.000000   0.137986"
      ]
     },
     "execution_count": 12,
     "metadata": {},
     "output_type": "execute_result"
    }
   ],
   "source": [
    "test.describe()"
   ]
  },
  {
   "cell_type": "code",
   "execution_count": 13,
   "id": "signed-stylus",
   "metadata": {},
   "outputs": [],
   "source": [
    "# 정해진 window_size에 기반하여 20일 기간의 데이터 셋을 묶어준다\n",
    "\n",
    "def make_dataset(data, label, window_size=20):\n",
    "    feature_list = []\n",
    "    label_list = []\n",
    "    for i in range(len(data) - window_size):\n",
    "        feature_list.append(np.array(data.iloc[i:i+window_size]))\n",
    "        label_list.append(np.array(label.iloc[i+window_size]))\n",
    "    return np.array(feature_list), np.array(label_list)"
   ]
  },
  {
   "cell_type": "code",
   "execution_count": 14,
   "id": "typical-nomination",
   "metadata": {},
   "outputs": [
    {
     "data": {
      "text/plain": [
       "((50, 4), (50, 1))"
      ]
     },
     "execution_count": 14,
     "metadata": {},
     "output_type": "execute_result"
    }
   ],
   "source": [
    "from sklearn.model_selection import train_test_split\n",
    "\n",
    "feature_cols = ['Open', 'High', 'Low', 'Volume']\n",
    "label_cols = ['Close']\n",
    "\n",
    "train_feature = train[feature_cols]\n",
    "train_label = train[label_cols]\n",
    "\n",
    "# train dataset\n",
    "train_feature, train_label = make_dataset(train_feature, train_label, 20)\n",
    "\n",
    "# train set : 모델을 학습하는 유일한 dataset\n",
    "# validation set : 학습이 이미 완료된 모델을 검증하기 위한 dataset(비율 0.2) \n",
    "\n",
    "x_train, x_valid, y_train, y_valid = train_test_split(train_feature, train_label, test_size=0.25)\n",
    "\n",
    "x_train.shape, x_valid.shape\n",
    "# ((4206, 20, 4), (1052, 20, 4))\n",
    "\n",
    "# test dataset : 학습과 검증이 완료된 모델의 성능을 평가하기 위한 dataset\n",
    "x_test = test[feature_cols]\n",
    "y_test = test[label_cols]\n",
    "\n",
    "x_test.shape, y_test.shape\n",
    "#     (21, 4),          (21, 1)  "
   ]
  },
  {
   "cell_type": "code",
   "execution_count": 15,
   "id": "worst-mobile",
   "metadata": {},
   "outputs": [
    {
     "data": {
      "text/plain": [
       "((30, 20, 4), (30, 1))"
      ]
     },
     "execution_count": 15,
     "metadata": {},
     "output_type": "execute_result"
    }
   ],
   "source": [
    "x_test, y_test = make_dataset(x_test, y_test, 20)\n",
    "\n",
    "x_test.shape, y_test.shape\n",
    "# (21-20, 20, 4),     (21-20, 1)"
   ]
  },
  {
   "cell_type": "code",
   "execution_count": 16,
   "id": "municipal-producer",
   "metadata": {},
   "outputs": [
    {
     "data": {
      "text/plain": [
       "((135, 20, 4), (45, 20, 4), (135, 1), (45, 1), (30, 20, 4), (30, 1))"
      ]
     },
     "execution_count": 16,
     "metadata": {},
     "output_type": "execute_result"
    }
   ],
   "source": [
    "x_train.shape, x_valid.shape, y_train.shape, y_valid.shape, x_test.shape, y_test.shape"
   ]
  },
  {
   "cell_type": "code",
   "execution_count": 17,
   "id": "fitted-emperor",
   "metadata": {},
   "outputs": [
    {
     "name": "stdout",
     "output_type": "stream",
     "text": [
      "train: 0.54% | validation: 0.18% | test 0.12%\n"
     ]
    }
   ],
   "source": [
    "# print proportions\n",
    "print('train: {}% | validation: {}% | test {}%'.format(round(len(y_train)/len(df_scaled),2),\n",
    "                                                       round(len(y_valid)/len(df_scaled),2),\n",
    "                                                       round(len(y_test)/len(df_scaled),2)))"
   ]
  },
  {
   "cell_type": "markdown",
   "id": "valued-maria",
   "metadata": {},
   "source": [
    "#  LSTM 모델을 변화시키며 실험"
   ]
  },
  {
   "cell_type": "code",
   "execution_count": 18,
   "id": "approximate-thinking",
   "metadata": {},
   "outputs": [],
   "source": [
    "from keras.models import Sequential\n",
    "from keras.layers import Dense\n",
    "from keras.callbacks import EarlyStopping, ModelCheckpoint\n",
    "from keras.layers import LSTM\n",
    "\n",
    "model = Sequential()\n",
    "model.add(LSTM(20, \n",
    "               input_shape=(train_feature.shape[1], train_feature.shape[2]), \n",
    "               activation='relu', \n",
    "               return_sequences=False)\n",
    "          )\n",
    "model.add(Dense(1))"
   ]
  },
  {
   "cell_type": "markdown",
   "id": "changed-concept",
   "metadata": {},
   "source": [
    "# BATCH size를 변화시키며 실험"
   ]
  },
  {
   "cell_type": "code",
   "execution_count": null,
   "id": "competent-rally",
   "metadata": {},
   "outputs": [
    {
     "name": "stdout",
     "output_type": "stream",
     "text": [
      "Epoch 1/200\n",
      "3/3 [==============================] - 2s 312ms/step - loss: 0.6382 - soft_acc: 0.4464 - mse: 0.4080 - mae: 0.5913 - RMSE: 0.6291 - mape: 105644.6406 - MPE: inf - MSLE: 0.2618 - RMSLE: 0.4804 - R2: -7.8279 - val_loss: 0.5737 - val_soft_acc: 0.5556 - val_mse: 0.3292 - val_mae: 0.5342 - val_RMSE: 0.5737 - val_mape: 104.6526 - val_MPE: 104.6526 - val_MSLE: 0.2040 - val_RMSLE: 0.4280 - val_R2: -7.1711\n",
      "\n",
      "Epoch 00001: val_loss improved from inf to 0.57373, saving model to tmp\\ckeckpointer.ckpt\n"
     ]
    },
    {
     "name": "stderr",
     "output_type": "stream",
     "text": [
      "WARNING:absl:Found untraced functions such as lstm_cell_layer_call_fn, lstm_cell_layer_call_and_return_conditional_losses, lstm_cell_layer_call_fn, lstm_cell_layer_call_and_return_conditional_losses, lstm_cell_layer_call_and_return_conditional_losses while saving (showing 5 of 5). These functions will not be directly callable after loading.\n",
      "WARNING:absl:Found untraced functions such as lstm_cell_layer_call_fn, lstm_cell_layer_call_and_return_conditional_losses, lstm_cell_layer_call_fn, lstm_cell_layer_call_and_return_conditional_losses, lstm_cell_layer_call_and_return_conditional_losses while saving (showing 5 of 5). These functions will not be directly callable after loading.\n"
     ]
    },
    {
     "name": "stdout",
     "output_type": "stream",
     "text": [
      "INFO:tensorflow:Assets written to: tmp\\ckeckpointer.ckpt\\assets\n"
     ]
    },
    {
     "name": "stderr",
     "output_type": "stream",
     "text": [
      "INFO:tensorflow:Assets written to: tmp\\ckeckpointer.ckpt\\assets\n"
     ]
    },
    {
     "name": "stdout",
     "output_type": "stream",
     "text": [
      "Epoch 2/200\n",
      "3/3 [==============================] - 0s 42ms/step - loss: 0.5861 - soft_acc: 0.4696 - mse: 0.3440 - mae: 0.5429 - RMSE: 0.5709 - mape: 128104.0679 - MPE: -inf - MSLE: 0.2087 - RMSLE: 0.4294 - R2: -6.6792 - val_loss: 0.5238 - val_soft_acc: 0.5556 - val_mse: 0.2743 - val_mae: 0.4862 - val_RMSE: 0.5238 - val_mape: 94.5994 - val_MPE: 94.5994 - val_MSLE: 0.1612 - val_RMSLE: 0.3799 - val_R2: -5.8097\n",
      "\n",
      "Epoch 00002: val_loss improved from 0.57373 to 0.52376, saving model to tmp\\ckeckpointer.ckpt\n"
     ]
    },
    {
     "name": "stderr",
     "output_type": "stream",
     "text": [
      "WARNING:absl:Found untraced functions such as lstm_cell_layer_call_fn, lstm_cell_layer_call_and_return_conditional_losses, lstm_cell_layer_call_fn, lstm_cell_layer_call_and_return_conditional_losses, lstm_cell_layer_call_and_return_conditional_losses while saving (showing 5 of 5). These functions will not be directly callable after loading.\n",
      "WARNING:absl:Found untraced functions such as lstm_cell_layer_call_fn, lstm_cell_layer_call_and_return_conditional_losses, lstm_cell_layer_call_fn, lstm_cell_layer_call_and_return_conditional_losses, lstm_cell_layer_call_and_return_conditional_losses while saving (showing 5 of 5). These functions will not be directly callable after loading.\n"
     ]
    },
    {
     "name": "stdout",
     "output_type": "stream",
     "text": [
      "INFO:tensorflow:Assets written to: tmp\\ckeckpointer.ckpt\\assets\n"
     ]
    },
    {
     "name": "stderr",
     "output_type": "stream",
     "text": [
      "INFO:tensorflow:Assets written to: tmp\\ckeckpointer.ckpt\\assets\n"
     ]
    },
    {
     "name": "stdout",
     "output_type": "stream",
     "text": [
      "Epoch 3/200\n",
      "3/3 [==============================] - 0s 37ms/step - loss: 0.5319 - soft_acc: 0.4735 - mse: 0.2832 - mae: 0.4864 - RMSE: 0.5259 - mape: 278703.6337 - MPE: -inf - MSLE: 0.1620 - RMSLE: 0.3742 - R2: -5.7018 - val_loss: 0.4710 - val_soft_acc: 0.5556 - val_mse: 0.2218 - val_mae: 0.4356 - val_RMSE: 0.4710 - val_mape: 84.0266 - val_MPE: 84.0266 - val_MSLE: 0.1236 - val_RMSLE: 0.3318 - val_R2: -4.5059\n",
      "\n",
      "Epoch 00003: val_loss improved from 0.52376 to 0.47095, saving model to tmp\\ckeckpointer.ckpt\n"
     ]
    },
    {
     "name": "stderr",
     "output_type": "stream",
     "text": [
      "WARNING:absl:Found untraced functions such as lstm_cell_layer_call_fn, lstm_cell_layer_call_and_return_conditional_losses, lstm_cell_layer_call_fn, lstm_cell_layer_call_and_return_conditional_losses, lstm_cell_layer_call_and_return_conditional_losses while saving (showing 5 of 5). These functions will not be directly callable after loading.\n",
      "WARNING:absl:Found untraced functions such as lstm_cell_layer_call_fn, lstm_cell_layer_call_and_return_conditional_losses, lstm_cell_layer_call_fn, lstm_cell_layer_call_and_return_conditional_losses, lstm_cell_layer_call_and_return_conditional_losses while saving (showing 5 of 5). These functions will not be directly callable after loading.\n"
     ]
    },
    {
     "name": "stdout",
     "output_type": "stream",
     "text": [
      "INFO:tensorflow:Assets written to: tmp\\ckeckpointer.ckpt\\assets\n"
     ]
    },
    {
     "name": "stderr",
     "output_type": "stream",
     "text": [
      "INFO:tensorflow:Assets written to: tmp\\ckeckpointer.ckpt\\assets\n"
     ]
    },
    {
     "name": "stdout",
     "output_type": "stream",
     "text": [
      "Epoch 4/200\n",
      "3/3 [==============================] - 0s 46ms/step - loss: 0.4712 - soft_acc: 0.4891 - mse: 0.2221 - mae: 0.4299 - RMSE: 0.4626 - mape: 652264.0156 - MPE: -inf - MSLE: 0.1202 - RMSLE: 0.3227 - R2: -3.6153 - val_loss: 0.4146 - val_soft_acc: 0.5556 - val_mse: 0.1719 - val_mae: 0.3815 - val_RMSE: 0.4146 - val_mape: 72.7340 - val_MPE: 72.7340 - val_MSLE: 0.0908 - val_RMSLE: 0.2832 - val_R2: -3.2672\n",
      "\n",
      "Epoch 00004: val_loss improved from 0.47095 to 0.41461, saving model to tmp\\ckeckpointer.ckpt\n"
     ]
    },
    {
     "name": "stderr",
     "output_type": "stream",
     "text": [
      "WARNING:absl:Found untraced functions such as lstm_cell_layer_call_fn, lstm_cell_layer_call_and_return_conditional_losses, lstm_cell_layer_call_fn, lstm_cell_layer_call_and_return_conditional_losses, lstm_cell_layer_call_and_return_conditional_losses while saving (showing 5 of 5). These functions will not be directly callable after loading.\n",
      "WARNING:absl:Found untraced functions such as lstm_cell_layer_call_fn, lstm_cell_layer_call_and_return_conditional_losses, lstm_cell_layer_call_fn, lstm_cell_layer_call_and_return_conditional_losses, lstm_cell_layer_call_and_return_conditional_losses while saving (showing 5 of 5). These functions will not be directly callable after loading.\n"
     ]
    },
    {
     "name": "stdout",
     "output_type": "stream",
     "text": [
      "INFO:tensorflow:Assets written to: tmp\\ckeckpointer.ckpt\\assets\n"
     ]
    },
    {
     "name": "stderr",
     "output_type": "stream",
     "text": [
      "INFO:tensorflow:Assets written to: tmp\\ckeckpointer.ckpt\\assets\n"
     ]
    },
    {
     "name": "stdout",
     "output_type": "stream",
     "text": [
      "Epoch 5/200\n",
      "3/3 [==============================] - 0s 41ms/step - loss: 0.4140 - soft_acc: 0.3965 - mse: 0.1721 - mae: 0.3763 - RMSE: 0.4220 - mape: 634114.1798 - MPE: -inf - MSLE: 0.0878 - RMSLE: 0.2745 - R2: -17.9680 - val_loss: 0.3520 - val_soft_acc: 0.5556 - val_mse: 0.1239 - val_mae: 0.3215 - val_RMSE: 0.3520 - val_mape: 60.5751 - val_MPE: 60.1963 - val_MSLE: 0.0619 - val_RMSLE: 0.2322 - val_R2: -2.0752\n",
      "\n",
      "Epoch 00005: val_loss improved from 0.41461 to 0.35197, saving model to tmp\\ckeckpointer.ckpt\n"
     ]
    },
    {
     "name": "stderr",
     "output_type": "stream",
     "text": [
      "WARNING:absl:Found untraced functions such as lstm_cell_layer_call_fn, lstm_cell_layer_call_and_return_conditional_losses, lstm_cell_layer_call_fn, lstm_cell_layer_call_and_return_conditional_losses, lstm_cell_layer_call_and_return_conditional_losses while saving (showing 5 of 5). These functions will not be directly callable after loading.\n",
      "WARNING:absl:Found untraced functions such as lstm_cell_layer_call_fn, lstm_cell_layer_call_and_return_conditional_losses, lstm_cell_layer_call_fn, lstm_cell_layer_call_and_return_conditional_losses, lstm_cell_layer_call_and_return_conditional_losses while saving (showing 5 of 5). These functions will not be directly callable after loading.\n"
     ]
    },
    {
     "name": "stdout",
     "output_type": "stream",
     "text": [
      "INFO:tensorflow:Assets written to: tmp\\ckeckpointer.ckpt\\assets\n"
     ]
    },
    {
     "name": "stderr",
     "output_type": "stream",
     "text": [
      "INFO:tensorflow:Assets written to: tmp\\ckeckpointer.ckpt\\assets\n"
     ]
    },
    {
     "name": "stdout",
     "output_type": "stream",
     "text": [
      "Epoch 6/200\n",
      "3/3 [==============================] - 0s 42ms/step - loss: 0.3426 - soft_acc: 0.4930 - mse: 0.1175 - mae: 0.3112 - RMSE: 0.3350 - mape: 607569.0018 - MPE: -inf - MSLE: 0.0567 - RMSLE: 0.2212 - R2: -1.2795 - val_loss: 0.2743 - val_soft_acc: 0.5556 - val_mse: 0.0752 - val_mae: 0.2531 - val_RMSE: 0.2743 - val_mape: 49.0467 - val_MPE: 45.0562 - val_MSLE: 0.0355 - val_RMSLE: 0.1779 - val_R2: -0.8671\n",
      "\n",
      "Epoch 00006: val_loss improved from 0.35197 to 0.27425, saving model to tmp\\ckeckpointer.ckpt\n"
     ]
    },
    {
     "name": "stderr",
     "output_type": "stream",
     "text": [
      "WARNING:absl:Found untraced functions such as lstm_cell_layer_call_fn, lstm_cell_layer_call_and_return_conditional_losses, lstm_cell_layer_call_fn, lstm_cell_layer_call_and_return_conditional_losses, lstm_cell_layer_call_and_return_conditional_losses while saving (showing 5 of 5). These functions will not be directly callable after loading.\n",
      "WARNING:absl:Found untraced functions such as lstm_cell_layer_call_fn, lstm_cell_layer_call_and_return_conditional_losses, lstm_cell_layer_call_fn, lstm_cell_layer_call_and_return_conditional_losses, lstm_cell_layer_call_and_return_conditional_losses while saving (showing 5 of 5). These functions will not be directly callable after loading.\n"
     ]
    },
    {
     "name": "stdout",
     "output_type": "stream",
     "text": [
      "INFO:tensorflow:Assets written to: tmp\\ckeckpointer.ckpt\\assets\n"
     ]
    },
    {
     "name": "stderr",
     "output_type": "stream",
     "text": [
      "INFO:tensorflow:Assets written to: tmp\\ckeckpointer.ckpt\\assets\n"
     ]
    },
    {
     "name": "stdout",
     "output_type": "stream",
     "text": [
      "Epoch 7/200\n",
      "3/3 [==============================] - 0s 182ms/step - loss: 0.2625 - soft_acc: 0.4833 - mse: 0.0697 - mae: 0.2392 - RMSE: 0.2536 - mape: 1105965.1092 - MPE: -inf - MSLE: 0.0316 - RMSLE: 0.1648 - R2: -0.3910 - val_loss: 0.1763 - val_soft_acc: 0.8000 - val_mse: 0.0311 - val_mae: 0.1649 - val_RMSE: 0.1763 - val_mape: 34.8650 - val_MPE: 25.5031 - val_MSLE: 0.0141 - val_RMSLE: 0.1132 - val_R2: 0.2285\n",
      "\n",
      "Epoch 00007: val_loss improved from 0.27425 to 0.17629, saving model to tmp\\ckeckpointer.ckpt\n"
     ]
    },
    {
     "name": "stderr",
     "output_type": "stream",
     "text": [
      "WARNING:absl:Found untraced functions such as lstm_cell_layer_call_fn, lstm_cell_layer_call_and_return_conditional_losses, lstm_cell_layer_call_fn, lstm_cell_layer_call_and_return_conditional_losses, lstm_cell_layer_call_and_return_conditional_losses while saving (showing 5 of 5). These functions will not be directly callable after loading.\n",
      "WARNING:absl:Found untraced functions such as lstm_cell_layer_call_fn, lstm_cell_layer_call_and_return_conditional_losses, lstm_cell_layer_call_fn, lstm_cell_layer_call_and_return_conditional_losses, lstm_cell_layer_call_and_return_conditional_losses while saving (showing 5 of 5). These functions will not be directly callable after loading.\n"
     ]
    },
    {
     "name": "stdout",
     "output_type": "stream",
     "text": [
      "INFO:tensorflow:Assets written to: tmp\\ckeckpointer.ckpt\\assets\n"
     ]
    },
    {
     "name": "stderr",
     "output_type": "stream",
     "text": [
      "INFO:tensorflow:Assets written to: tmp\\ckeckpointer.ckpt\\assets\n"
     ]
    },
    {
     "name": "stdout",
     "output_type": "stream",
     "text": [
      "Epoch 8/200\n",
      "3/3 [==============================] - 0s 40ms/step - loss: 0.1537 - soft_acc: 0.8167 - mse: 0.0237 - mae: 0.1346 - RMSE: 0.1498 - mape: 1416071.8749 - MPE: -inf - MSLE: 0.0109 - RMSLE: 0.0918 - R2: 0.5168 - val_loss: 0.0969 - val_soft_acc: 0.9333 - val_mse: 0.0094 - val_mae: 0.0730 - val_RMSE: 0.0969 - val_mape: 20.2377 - val_MPE: 1.9074 - val_MSLE: 0.0046 - val_RMSLE: 0.0506 - val_R2: 0.7671\n",
      "\n",
      "Epoch 00008: val_loss improved from 0.17629 to 0.09685, saving model to tmp\\ckeckpointer.ckpt\n"
     ]
    },
    {
     "name": "stderr",
     "output_type": "stream",
     "text": [
      "WARNING:absl:Found untraced functions such as lstm_cell_layer_call_fn, lstm_cell_layer_call_and_return_conditional_losses, lstm_cell_layer_call_fn, lstm_cell_layer_call_and_return_conditional_losses, lstm_cell_layer_call_and_return_conditional_losses while saving (showing 5 of 5). These functions will not be directly callable after loading.\n",
      "WARNING:absl:Found untraced functions such as lstm_cell_layer_call_fn, lstm_cell_layer_call_and_return_conditional_losses, lstm_cell_layer_call_fn, lstm_cell_layer_call_and_return_conditional_losses, lstm_cell_layer_call_and_return_conditional_losses while saving (showing 5 of 5). These functions will not be directly callable after loading.\n"
     ]
    },
    {
     "name": "stdout",
     "output_type": "stream",
     "text": [
      "INFO:tensorflow:Assets written to: tmp\\ckeckpointer.ckpt\\assets\n"
     ]
    },
    {
     "name": "stderr",
     "output_type": "stream",
     "text": [
      "INFO:tensorflow:Assets written to: tmp\\ckeckpointer.ckpt\\assets\n"
     ]
    },
    {
     "name": "stdout",
     "output_type": "stream",
     "text": [
      "Epoch 9/200\n",
      "3/3 [==============================] - 0s 42ms/step - loss: 0.1185 - soft_acc: 0.8890 - mse: 0.0141 - mae: 0.0925 - RMSE: 0.1201 - mape: 2779131.9375 - MPE: -inf - MSLE: 0.0066 - RMSLE: 0.0616 - R2: 0.6777 - val_loss: 0.1200 - val_soft_acc: 0.9333 - val_mse: 0.0144 - val_mae: 0.0851 - val_RMSE: 0.1200 - val_mape: 21.0132 - val_MPE: -12.0932 - val_MSLE: 0.0058 - val_RMSLE: 0.0535 - val_R2: 0.6428\n",
      "\n",
      "Epoch 00009: val_loss did not improve from 0.09685\n",
      "Epoch 10/200\n",
      "3/3 [==============================] - 0s 43ms/step - loss: 0.1580 - soft_acc: 0.9336 - mse: 0.0250 - mae: 0.1183 - RMSE: 0.1639 - mape: 1828834.4178 - MPE: -inf - MSLE: 0.0097 - RMSLE: 0.0731 - R2: 0.4509 - val_loss: 0.1043 - val_soft_acc: 0.9111 - val_mse: 0.0109 - val_mae: 0.0744 - val_RMSE: 0.1043 - val_mape: 19.2227 - val_MPE: -8.9236 - val_MSLE: 0.0047 - val_RMSLE: 0.0480 - val_R2: 0.7301\n",
      "\n",
      "Epoch 00010: val_loss did not improve from 0.09685\n",
      "Epoch 11/200\n",
      "3/3 [==============================] - 0s 41ms/step - loss: 0.1308 - soft_acc: 0.9020 - mse: 0.0172 - mae: 0.0993 - RMSE: 0.1269 - mape: 1686210.6591 - MPE: -inf - MSLE: 0.0075 - RMSLE: 0.0637 - R2: 0.6671 - val_loss: 0.0901 - val_soft_acc: 0.9556 - val_mse: 0.0081 - val_mae: 0.0679 - val_RMSE: 0.0901 - val_mape: 18.5609 - val_MPE: 2.6743 - val_MSLE: 0.0040 - val_RMSLE: 0.0470 - val_R2: 0.7983\n",
      "\n",
      "Epoch 00011: val_loss improved from 0.09685 to 0.09015, saving model to tmp\\ckeckpointer.ckpt\n"
     ]
    },
    {
     "name": "stderr",
     "output_type": "stream",
     "text": [
      "WARNING:absl:Found untraced functions such as lstm_cell_layer_call_fn, lstm_cell_layer_call_and_return_conditional_losses, lstm_cell_layer_call_fn, lstm_cell_layer_call_and_return_conditional_losses, lstm_cell_layer_call_and_return_conditional_losses while saving (showing 5 of 5). These functions will not be directly callable after loading.\n",
      "WARNING:absl:Found untraced functions such as lstm_cell_layer_call_fn, lstm_cell_layer_call_and_return_conditional_losses, lstm_cell_layer_call_fn, lstm_cell_layer_call_and_return_conditional_losses, lstm_cell_layer_call_and_return_conditional_losses while saving (showing 5 of 5). These functions will not be directly callable after loading.\n"
     ]
    },
    {
     "name": "stdout",
     "output_type": "stream",
     "text": [
      "INFO:tensorflow:Assets written to: tmp\\ckeckpointer.ckpt\\assets\n"
     ]
    },
    {
     "name": "stderr",
     "output_type": "stream",
     "text": [
      "INFO:tensorflow:Assets written to: tmp\\ckeckpointer.ckpt\\assets\n"
     ]
    },
    {
     "name": "stdout",
     "output_type": "stream",
     "text": [
      "Epoch 12/200\n",
      "3/3 [==============================] - 0s 42ms/step - loss: 0.1035 - soft_acc: 0.8610 - mse: 0.0107 - mae: 0.0827 - RMSE: 0.1067 - mape: 2619021.3125 - MPE: -inf - MSLE: 0.0053 - RMSLE: 0.0562 - R2: 0.7552 - val_loss: 0.1120 - val_soft_acc: 0.8889 - val_mse: 0.0125 - val_mae: 0.1002 - val_RMSE: 0.1120 - val_mape: 23.3525 - val_MPE: 11.2139 - val_MSLE: 0.0057 - val_RMSLE: 0.0680 - val_R2: 0.6888\n",
      "\n",
      "Epoch 00012: val_loss did not improve from 0.09015\n",
      "Epoch 13/200\n",
      "3/3 [==============================] - 0s 45ms/step - loss: 0.1144 - soft_acc: 0.8965 - mse: 0.0131 - mae: 0.0920 - RMSE: 0.1146 - mape: 2363251.5625 - MPE: -inf - MSLE: 0.0063 - RMSLE: 0.0629 - R2: 0.7454 - val_loss: 0.1166 - val_soft_acc: 0.8889 - val_mse: 0.0136 - val_mae: 0.1051 - val_RMSE: 0.1166 - val_mape: 23.8901 - val_MPE: 12.5725 - val_MSLE: 0.0061 - val_RMSLE: 0.0712 - val_R2: 0.6627\n",
      "\n",
      "Epoch 00013: val_loss did not improve from 0.09015\n",
      "Epoch 14/200\n",
      "3/3 [==============================] - 0s 42ms/step - loss: 0.1136 - soft_acc: 0.9076 - mse: 0.0129 - mae: 0.0922 - RMSE: 0.1128 - mape: 2285477.9688 - MPE: -inf - MSLE: 0.0061 - RMSLE: 0.0629 - R2: 0.7184 - val_loss: 0.1042 - val_soft_acc: 0.9111 - val_mse: 0.0109 - val_mae: 0.0917 - val_RMSE: 0.1042 - val_mape: 21.5312 - val_MPE: 9.5855 - val_MSLE: 0.0050 - val_RMSLE: 0.0622 - val_R2: 0.7303\n",
      "\n",
      "Epoch 00014: val_loss did not improve from 0.09015\n",
      "Epoch 15/200\n",
      "3/3 [==============================] - 0s 39ms/step - loss: 0.1035 - soft_acc: 0.8805 - mse: 0.0107 - mae: 0.0812 - RMSE: 0.1010 - mape: 2311249.5938 - MPE: -inf - MSLE: 0.0051 - RMSLE: 0.0555 - R2: 0.7742 - val_loss: 0.0858 - val_soft_acc: 0.9556 - val_mse: 0.0074 - val_mae: 0.0688 - val_RMSE: 0.0858 - val_mape: 17.5820 - val_MPE: 4.0743 - val_MSLE: 0.0035 - val_RMSLE: 0.0469 - val_R2: 0.8174\n",
      "\n",
      "Epoch 00015: val_loss improved from 0.09015 to 0.08578, saving model to tmp\\ckeckpointer.ckpt\n"
     ]
    },
    {
     "name": "stderr",
     "output_type": "stream",
     "text": [
      "WARNING:absl:Found untraced functions such as lstm_cell_layer_call_fn, lstm_cell_layer_call_and_return_conditional_losses, lstm_cell_layer_call_fn, lstm_cell_layer_call_and_return_conditional_losses, lstm_cell_layer_call_and_return_conditional_losses while saving (showing 5 of 5). These functions will not be directly callable after loading.\n",
      "WARNING:absl:Found untraced functions such as lstm_cell_layer_call_fn, lstm_cell_layer_call_and_return_conditional_losses, lstm_cell_layer_call_fn, lstm_cell_layer_call_and_return_conditional_losses, lstm_cell_layer_call_and_return_conditional_losses while saving (showing 5 of 5). These functions will not be directly callable after loading.\n"
     ]
    },
    {
     "name": "stdout",
     "output_type": "stream",
     "text": [
      "INFO:tensorflow:Assets written to: tmp\\ckeckpointer.ckpt\\assets\n"
     ]
    },
    {
     "name": "stderr",
     "output_type": "stream",
     "text": [
      "INFO:tensorflow:Assets written to: tmp\\ckeckpointer.ckpt\\assets\n"
     ]
    },
    {
     "name": "stdout",
     "output_type": "stream",
     "text": [
      "Epoch 16/200\n",
      "3/3 [==============================] - 0s 48ms/step - loss: 0.0900 - soft_acc: 0.8935 - mse: 0.0082 - mae: 0.0696 - RMSE: 0.0966 - mape: 1437910.6896 - MPE: -inf - MSLE: 0.0040 - RMSLE: 0.0472 - R2: 0.8180 - val_loss: 0.0759 - val_soft_acc: 0.9556 - val_mse: 0.0058 - val_mae: 0.0529 - val_RMSE: 0.0759 - val_mape: 14.7477 - val_MPE: -0.6911 - val_MSLE: 0.0028 - val_RMSLE: 0.0362 - val_R2: 0.8569\n",
      "\n",
      "Epoch 00016: val_loss improved from 0.08578 to 0.07592, saving model to tmp\\ckeckpointer.ckpt\n"
     ]
    },
    {
     "name": "stderr",
     "output_type": "stream",
     "text": [
      "WARNING:absl:Found untraced functions such as lstm_cell_layer_call_fn, lstm_cell_layer_call_and_return_conditional_losses, lstm_cell_layer_call_fn, lstm_cell_layer_call_and_return_conditional_losses, lstm_cell_layer_call_and_return_conditional_losses while saving (showing 5 of 5). These functions will not be directly callable after loading.\n",
      "WARNING:absl:Found untraced functions such as lstm_cell_layer_call_fn, lstm_cell_layer_call_and_return_conditional_losses, lstm_cell_layer_call_fn, lstm_cell_layer_call_and_return_conditional_losses, lstm_cell_layer_call_and_return_conditional_losses while saving (showing 5 of 5). These functions will not be directly callable after loading.\n"
     ]
    },
    {
     "name": "stdout",
     "output_type": "stream",
     "text": [
      "INFO:tensorflow:Assets written to: tmp\\ckeckpointer.ckpt\\assets\n"
     ]
    },
    {
     "name": "stderr",
     "output_type": "stream",
     "text": [
      "INFO:tensorflow:Assets written to: tmp\\ckeckpointer.ckpt\\assets\n"
     ]
    },
    {
     "name": "stdout",
     "output_type": "stream",
     "text": [
      "Epoch 17/200\n",
      "3/3 [==============================] - 0s 41ms/step - loss: 0.0852 - soft_acc: 0.8912 - mse: 0.0074 - mae: 0.0647 - RMSE: 0.0903 - mape: 1457659.4698 - MPE: -inf - MSLE: 0.0036 - RMSLE: 0.0430 - R2: 0.8291 - val_loss: 0.0732 - val_soft_acc: 0.9556 - val_mse: 0.0054 - val_mae: 0.0510 - val_RMSE: 0.0732 - val_mape: 14.3366 - val_MPE: -1.1814 - val_MSLE: 0.0026 - val_RMSLE: 0.0349 - val_R2: 0.8669\n",
      "\n",
      "Epoch 00017: val_loss improved from 0.07592 to 0.07322, saving model to tmp\\ckeckpointer.ckpt\n"
     ]
    },
    {
     "name": "stderr",
     "output_type": "stream",
     "text": [
      "WARNING:absl:Found untraced functions such as lstm_cell_layer_call_fn, lstm_cell_layer_call_and_return_conditional_losses, lstm_cell_layer_call_fn, lstm_cell_layer_call_and_return_conditional_losses, lstm_cell_layer_call_and_return_conditional_losses while saving (showing 5 of 5). These functions will not be directly callable after loading.\n",
      "WARNING:absl:Found untraced functions such as lstm_cell_layer_call_fn, lstm_cell_layer_call_and_return_conditional_losses, lstm_cell_layer_call_fn, lstm_cell_layer_call_and_return_conditional_losses, lstm_cell_layer_call_and_return_conditional_losses while saving (showing 5 of 5). These functions will not be directly callable after loading.\n"
     ]
    },
    {
     "name": "stdout",
     "output_type": "stream",
     "text": [
      "INFO:tensorflow:Assets written to: tmp\\ckeckpointer.ckpt\\assets\n"
     ]
    },
    {
     "name": "stderr",
     "output_type": "stream",
     "text": [
      "INFO:tensorflow:Assets written to: tmp\\ckeckpointer.ckpt\\assets\n"
     ]
    },
    {
     "name": "stdout",
     "output_type": "stream",
     "text": [
      "Epoch 18/200\n",
      "3/3 [==============================] - 0s 39ms/step - loss: 0.0894 - soft_acc: 0.9108 - mse: 0.0081 - mae: 0.0672 - RMSE: 0.0852 - mape: 2434448.2500 - MPE: -inf - MSLE: 0.0041 - RMSLE: 0.0453 - R2: 0.8459 - val_loss: 0.0744 - val_soft_acc: 0.9556 - val_mse: 0.0055 - val_mae: 0.0543 - val_RMSE: 0.0744 - val_mape: 14.9002 - val_MPE: 1.6629 - val_MSLE: 0.0027 - val_RMSLE: 0.0375 - val_R2: 0.8625\n",
      "\n",
      "Epoch 00018: val_loss did not improve from 0.07322\n",
      "Epoch 19/200\n",
      "3/3 [==============================] - 0s 40ms/step - loss: 0.0847 - soft_acc: 0.9065 - mse: 0.0072 - mae: 0.0650 - RMSE: 0.0842 - mape: 1352410.8147 - MPE: -inf - MSLE: 0.0037 - RMSLE: 0.0444 - R2: 0.8455 - val_loss: 0.0787 - val_soft_acc: 0.9556 - val_mse: 0.0062 - val_mae: 0.0637 - val_RMSE: 0.0787 - val_mape: 16.3153 - val_MPE: 4.4544 - val_MSLE: 0.0030 - val_RMSLE: 0.0436 - val_R2: 0.8461\n",
      "\n",
      "Epoch 00019: val_loss did not improve from 0.07322\n",
      "Epoch 20/200\n",
      "3/3 [==============================] - 0s 42ms/step - loss: 0.0827 - soft_acc: 0.8758 - mse: 0.0069 - mae: 0.0635 - RMSE: 0.0804 - mape: 2228773.6250 - MPE: -inf - MSLE: 0.0035 - RMSLE: 0.0433 - R2: 0.8161 - val_loss: 0.0754 - val_soft_acc: 0.9556 - val_mse: 0.0057 - val_mae: 0.0589 - val_RMSE: 0.0754 - val_mape: 15.4014 - val_MPE: 3.2750 - val_MSLE: 0.0028 - val_RMSLE: 0.0403 - val_R2: 0.8587\n",
      "\n",
      "Epoch 00020: val_loss did not improve from 0.07322\n",
      "Epoch 21/200\n",
      "3/3 [==============================] - 0s 42ms/step - loss: 0.0836 - soft_acc: 0.9111 - mse: 0.0070 - mae: 0.0644 - RMSE: 0.0800 - mape: 1343301.4207 - MPE: -inf - MSLE: 0.0036 - RMSLE: 0.0438 - R2: 0.8617 - val_loss: 0.0700 - val_soft_acc: 0.9556 - val_mse: 0.0049 - val_mae: 0.0493 - val_RMSE: 0.0700 - val_mape: 13.7059 - val_MPE: 0.1827 - val_MSLE: 0.0024 - val_RMSLE: 0.0339 - val_R2: 0.8785\n",
      "\n",
      "Epoch 00021: val_loss improved from 0.07322 to 0.06996, saving model to tmp\\ckeckpointer.ckpt\n"
     ]
    },
    {
     "name": "stderr",
     "output_type": "stream",
     "text": [
      "WARNING:absl:Found untraced functions such as lstm_cell_layer_call_fn, lstm_cell_layer_call_and_return_conditional_losses, lstm_cell_layer_call_fn, lstm_cell_layer_call_and_return_conditional_losses, lstm_cell_layer_call_and_return_conditional_losses while saving (showing 5 of 5). These functions will not be directly callable after loading.\n",
      "WARNING:absl:Found untraced functions such as lstm_cell_layer_call_fn, lstm_cell_layer_call_and_return_conditional_losses, lstm_cell_layer_call_fn, lstm_cell_layer_call_and_return_conditional_losses, lstm_cell_layer_call_and_return_conditional_losses while saving (showing 5 of 5). These functions will not be directly callable after loading.\n"
     ]
    },
    {
     "name": "stdout",
     "output_type": "stream",
     "text": [
      "INFO:tensorflow:Assets written to: tmp\\ckeckpointer.ckpt\\assets\n"
     ]
    },
    {
     "name": "stderr",
     "output_type": "stream",
     "text": [
      "INFO:tensorflow:Assets written to: tmp\\ckeckpointer.ckpt\\assets\n"
     ]
    },
    {
     "name": "stdout",
     "output_type": "stream",
     "text": [
      "Epoch 22/200\n",
      "3/3 [==============================] - 0s 42ms/step - loss: 0.0828 - soft_acc: 0.9303 - mse: 0.0069 - mae: 0.0623 - RMSE: 0.0759 - mape: 2312044.2500 - MPE: -inf - MSLE: 0.0036 - RMSLE: 0.0421 - R2: 0.8717 - val_loss: 0.0682 - val_soft_acc: 0.9778 - val_mse: 0.0047 - val_mae: 0.0472 - val_RMSE: 0.0682 - val_mape: 13.2119 - val_MPE: -0.6712 - val_MSLE: 0.0023 - val_RMSLE: 0.0324 - val_R2: 0.8844\n",
      "\n",
      "Epoch 00022: val_loss improved from 0.06996 to 0.06823, saving model to tmp\\ckeckpointer.ckpt\n"
     ]
    },
    {
     "name": "stderr",
     "output_type": "stream",
     "text": [
      "WARNING:absl:Found untraced functions such as lstm_cell_layer_call_fn, lstm_cell_layer_call_and_return_conditional_losses, lstm_cell_layer_call_fn, lstm_cell_layer_call_and_return_conditional_losses, lstm_cell_layer_call_and_return_conditional_losses while saving (showing 5 of 5). These functions will not be directly callable after loading.\n",
      "WARNING:absl:Found untraced functions such as lstm_cell_layer_call_fn, lstm_cell_layer_call_and_return_conditional_losses, lstm_cell_layer_call_fn, lstm_cell_layer_call_and_return_conditional_losses, lstm_cell_layer_call_and_return_conditional_losses while saving (showing 5 of 5). These functions will not be directly callable after loading.\n"
     ]
    },
    {
     "name": "stdout",
     "output_type": "stream",
     "text": [
      "INFO:tensorflow:Assets written to: tmp\\ckeckpointer.ckpt\\assets\n"
     ]
    },
    {
     "name": "stderr",
     "output_type": "stream",
     "text": [
      "INFO:tensorflow:Assets written to: tmp\\ckeckpointer.ckpt\\assets\n"
     ]
    },
    {
     "name": "stdout",
     "output_type": "stream",
     "text": [
      "Epoch 23/200\n",
      "3/3 [==============================] - 0s 56ms/step - loss: 0.0746 - soft_acc: 0.9342 - mse: 0.0058 - mae: 0.0564 - RMSE: 0.0695 - mape: 1366421.5564 - MPE: -inf - MSLE: 0.0030 - RMSLE: 0.0380 - R2: 0.8670 - val_loss: 0.0671 - val_soft_acc: 0.9778 - val_mse: 0.0045 - val_mae: 0.0460 - val_RMSE: 0.0671 - val_mape: 12.9039 - val_MPE: -0.8742 - val_MSLE: 0.0022 - val_RMSLE: 0.0315 - val_R2: 0.8882\n",
      "\n",
      "Epoch 00023: val_loss improved from 0.06823 to 0.06712, saving model to tmp\\ckeckpointer.ckpt\n"
     ]
    },
    {
     "name": "stderr",
     "output_type": "stream",
     "text": [
      "WARNING:absl:Found untraced functions such as lstm_cell_layer_call_fn, lstm_cell_layer_call_and_return_conditional_losses, lstm_cell_layer_call_fn, lstm_cell_layer_call_and_return_conditional_losses, lstm_cell_layer_call_and_return_conditional_losses while saving (showing 5 of 5). These functions will not be directly callable after loading.\n",
      "WARNING:absl:Found untraced functions such as lstm_cell_layer_call_fn, lstm_cell_layer_call_and_return_conditional_losses, lstm_cell_layer_call_fn, lstm_cell_layer_call_and_return_conditional_losses, lstm_cell_layer_call_and_return_conditional_losses while saving (showing 5 of 5). These functions will not be directly callable after loading.\n"
     ]
    },
    {
     "name": "stdout",
     "output_type": "stream",
     "text": [
      "INFO:tensorflow:Assets written to: tmp\\ckeckpointer.ckpt\\assets\n"
     ]
    },
    {
     "name": "stderr",
     "output_type": "stream",
     "text": [
      "INFO:tensorflow:Assets written to: tmp\\ckeckpointer.ckpt\\assets\n"
     ]
    },
    {
     "name": "stdout",
     "output_type": "stream",
     "text": [
      "Epoch 24/200\n",
      "3/3 [==============================] - 0s 48ms/step - loss: 0.0781 - soft_acc: 0.9264 - mse: 0.0061 - mae: 0.0577 - RMSE: 0.0750 - mape: 1372242.4301 - MPE: -inf - MSLE: 0.0031 - RMSLE: 0.0387 - R2: 0.8683 - val_loss: 0.0657 - val_soft_acc: 0.9778 - val_mse: 0.0043 - val_mae: 0.0443 - val_RMSE: 0.0657 - val_mape: 12.5473 - val_MPE: -1.8805 - val_MSLE: 0.0022 - val_RMSLE: 0.0303 - val_R2: 0.8928\n",
      "\n",
      "Epoch 00024: val_loss improved from 0.06712 to 0.06570, saving model to tmp\\ckeckpointer.ckpt\n"
     ]
    },
    {
     "name": "stderr",
     "output_type": "stream",
     "text": [
      "WARNING:absl:Found untraced functions such as lstm_cell_layer_call_fn, lstm_cell_layer_call_and_return_conditional_losses, lstm_cell_layer_call_fn, lstm_cell_layer_call_and_return_conditional_losses, lstm_cell_layer_call_and_return_conditional_losses while saving (showing 5 of 5). These functions will not be directly callable after loading.\n",
      "WARNING:absl:Found untraced functions such as lstm_cell_layer_call_fn, lstm_cell_layer_call_and_return_conditional_losses, lstm_cell_layer_call_fn, lstm_cell_layer_call_and_return_conditional_losses, lstm_cell_layer_call_and_return_conditional_losses while saving (showing 5 of 5). These functions will not be directly callable after loading.\n"
     ]
    },
    {
     "name": "stdout",
     "output_type": "stream",
     "text": [
      "INFO:tensorflow:Assets written to: tmp\\ckeckpointer.ckpt\\assets\n"
     ]
    },
    {
     "name": "stderr",
     "output_type": "stream",
     "text": [
      "INFO:tensorflow:Assets written to: tmp\\ckeckpointer.ckpt\\assets\n"
     ]
    },
    {
     "name": "stdout",
     "output_type": "stream",
     "text": [
      "Epoch 25/200\n",
      "3/3 [==============================] - 0s 53ms/step - loss: 0.0761 - soft_acc: 0.9189 - mse: 0.0058 - mae: 0.0556 - RMSE: 0.0787 - mape: 2320217.2188 - MPE: -inf - MSLE: 0.0030 - RMSLE: 0.0374 - R2: 0.8761 - val_loss: 0.0660 - val_soft_acc: 0.9778 - val_mse: 0.0044 - val_mae: 0.0455 - val_RMSE: 0.0660 - val_mape: 12.6250 - val_MPE: -0.2877 - val_MSLE: 0.0022 - val_RMSLE: 0.0312 - val_R2: 0.8919\n",
      "\n",
      "Epoch 00025: val_loss did not improve from 0.06570\n",
      "Epoch 26/200\n",
      "3/3 [==============================] - 0s 52ms/step - loss: 0.0753 - soft_acc: 0.9349 - mse: 0.0058 - mae: 0.0558 - RMSE: 0.0664 - mape: 1314643.9603 - MPE: -inf - MSLE: 0.0030 - RMSLE: 0.0378 - R2: 0.8968 - val_loss: 0.0704 - val_soft_acc: 0.9556 - val_mse: 0.0050 - val_mae: 0.0545 - val_RMSE: 0.0704 - val_mape: 13.9248 - val_MPE: 2.6969 - val_MSLE: 0.0024 - val_RMSLE: 0.0369 - val_R2: 0.8770\n",
      "\n",
      "Epoch 00026: val_loss did not improve from 0.06570\n",
      "Epoch 27/200\n",
      "3/3 [==============================] - 0s 64ms/step - loss: 0.0795 - soft_acc: 0.9349 - mse: 0.0064 - mae: 0.0594 - RMSE: 0.0727 - mape: 2160115.5938 - MPE: -inf - MSLE: 0.0034 - RMSLE: 0.0411 - R2: 0.8843 - val_loss: 0.0715 - val_soft_acc: 0.9556 - val_mse: 0.0051 - val_mae: 0.0564 - val_RMSE: 0.0715 - val_mape: 14.1197 - val_MPE: 3.3443 - val_MSLE: 0.0024 - val_RMSLE: 0.0381 - val_R2: 0.8732\n",
      "\n",
      "Epoch 00027: val_loss did not improve from 0.06570\n",
      "Epoch 28/200\n",
      "3/3 [==============================] - 0s 48ms/step - loss: 0.0781 - soft_acc: 0.9195 - mse: 0.0062 - mae: 0.0577 - RMSE: 0.0727 - mape: 1262302.3324 - MPE: -inf - MSLE: 0.0031 - RMSLE: 0.0395 - R2: 0.8873 - val_loss: 0.0669 - val_soft_acc: 0.9778 - val_mse: 0.0045 - val_mae: 0.0497 - val_RMSE: 0.0669 - val_mape: 12.9488 - val_MPE: 1.5699 - val_MSLE: 0.0022 - val_RMSLE: 0.0337 - val_R2: 0.8890\n",
      "\n",
      "Epoch 00028: val_loss did not improve from 0.06570\n",
      "Epoch 29/200\n",
      "3/3 [==============================] - 0s 56ms/step - loss: 0.0706 - soft_acc: 0.9235 - mse: 0.0051 - mae: 0.0512 - RMSE: 0.0707 - mape: 2159800.4688 - MPE: -inf - MSLE: 0.0026 - RMSLE: 0.0349 - R2: 0.8977 - val_loss: 0.0622 - val_soft_acc: 0.9778 - val_mse: 0.0039 - val_mae: 0.0422 - val_RMSE: 0.0622 - val_mape: 11.7953 - val_MPE: -1.0667 - val_MSLE: 0.0019 - val_RMSLE: 0.0289 - val_R2: 0.9040\n",
      "\n",
      "Epoch 00029: val_loss improved from 0.06570 to 0.06219, saving model to tmp\\ckeckpointer.ckpt\n"
     ]
    },
    {
     "name": "stderr",
     "output_type": "stream",
     "text": [
      "WARNING:absl:Found untraced functions such as lstm_cell_layer_call_fn, lstm_cell_layer_call_and_return_conditional_losses, lstm_cell_layer_call_fn, lstm_cell_layer_call_and_return_conditional_losses, lstm_cell_layer_call_and_return_conditional_losses while saving (showing 5 of 5). These functions will not be directly callable after loading.\n",
      "WARNING:absl:Found untraced functions such as lstm_cell_layer_call_fn, lstm_cell_layer_call_and_return_conditional_losses, lstm_cell_layer_call_fn, lstm_cell_layer_call_and_return_conditional_losses, lstm_cell_layer_call_and_return_conditional_losses while saving (showing 5 of 5). These functions will not be directly callable after loading.\n"
     ]
    },
    {
     "name": "stdout",
     "output_type": "stream",
     "text": [
      "INFO:tensorflow:Assets written to: tmp\\ckeckpointer.ckpt\\assets\n"
     ]
    },
    {
     "name": "stderr",
     "output_type": "stream",
     "text": [
      "INFO:tensorflow:Assets written to: tmp\\ckeckpointer.ckpt\\assets\n"
     ]
    },
    {
     "name": "stdout",
     "output_type": "stream",
     "text": [
      "Epoch 30/200\n",
      "3/3 [==============================] - 0s 44ms/step - loss: 0.0715 - soft_acc: 0.9434 - mse: 0.0051 - mae: 0.0502 - RMSE: 0.0735 - mape: 1325117.7502 - MPE: -inf - MSLE: 0.0026 - RMSLE: 0.0339 - R2: 0.8866 - val_loss: 0.0604 - val_soft_acc: 0.9778 - val_mse: 0.0036 - val_mae: 0.0397 - val_RMSE: 0.0604 - val_mape: 11.4081 - val_MPE: -2.9821 - val_MSLE: 0.0018 - val_RMSLE: 0.0271 - val_R2: 0.9095\n",
      "\n",
      "Epoch 00030: val_loss improved from 0.06219 to 0.06038, saving model to tmp\\ckeckpointer.ckpt\n"
     ]
    },
    {
     "name": "stderr",
     "output_type": "stream",
     "text": [
      "WARNING:absl:Found untraced functions such as lstm_cell_layer_call_fn, lstm_cell_layer_call_and_return_conditional_losses, lstm_cell_layer_call_fn, lstm_cell_layer_call_and_return_conditional_losses, lstm_cell_layer_call_and_return_conditional_losses while saving (showing 5 of 5). These functions will not be directly callable after loading.\n",
      "WARNING:absl:Found untraced functions such as lstm_cell_layer_call_fn, lstm_cell_layer_call_and_return_conditional_losses, lstm_cell_layer_call_fn, lstm_cell_layer_call_and_return_conditional_losses, lstm_cell_layer_call_and_return_conditional_losses while saving (showing 5 of 5). These functions will not be directly callable after loading.\n"
     ]
    },
    {
     "name": "stdout",
     "output_type": "stream",
     "text": [
      "INFO:tensorflow:Assets written to: tmp\\ckeckpointer.ckpt\\assets\n"
     ]
    },
    {
     "name": "stderr",
     "output_type": "stream",
     "text": [
      "INFO:tensorflow:Assets written to: tmp\\ckeckpointer.ckpt\\assets\n"
     ]
    },
    {
     "name": "stdout",
     "output_type": "stream",
     "text": [
      "Epoch 31/200\n",
      "3/3 [==============================] - 0s 36ms/step - loss: 0.0692 - soft_acc: 0.9473 - mse: 0.0049 - mae: 0.0495 - RMSE: 0.0713 - mape: 1317976.0260 - MPE: -inf - MSLE: 0.0025 - RMSLE: 0.0333 - R2: 0.8819 - val_loss: 0.0603 - val_soft_acc: 0.9778 - val_mse: 0.0036 - val_mae: 0.0407 - val_RMSE: 0.0603 - val_mape: 11.4193 - val_MPE: -1.2536 - val_MSLE: 0.0018 - val_RMSLE: 0.0279 - val_R2: 0.9099\n",
      "\n",
      "Epoch 00031: val_loss improved from 0.06038 to 0.06025, saving model to tmp\\ckeckpointer.ckpt\n"
     ]
    },
    {
     "name": "stderr",
     "output_type": "stream",
     "text": [
      "WARNING:absl:Found untraced functions such as lstm_cell_layer_call_fn, lstm_cell_layer_call_and_return_conditional_losses, lstm_cell_layer_call_fn, lstm_cell_layer_call_and_return_conditional_losses, lstm_cell_layer_call_and_return_conditional_losses while saving (showing 5 of 5). These functions will not be directly callable after loading.\n",
      "WARNING:absl:Found untraced functions such as lstm_cell_layer_call_fn, lstm_cell_layer_call_and_return_conditional_losses, lstm_cell_layer_call_fn, lstm_cell_layer_call_and_return_conditional_losses, lstm_cell_layer_call_and_return_conditional_losses while saving (showing 5 of 5). These functions will not be directly callable after loading.\n"
     ]
    },
    {
     "name": "stdout",
     "output_type": "stream",
     "text": [
      "INFO:tensorflow:Assets written to: tmp\\ckeckpointer.ckpt\\assets\n"
     ]
    },
    {
     "name": "stderr",
     "output_type": "stream",
     "text": [
      "INFO:tensorflow:Assets written to: tmp\\ckeckpointer.ckpt\\assets\n"
     ]
    },
    {
     "name": "stdout",
     "output_type": "stream",
     "text": [
      "Epoch 32/200\n",
      "3/3 [==============================] - 0s 40ms/step - loss: 0.0685 - soft_acc: 0.9395 - mse: 0.0048 - mae: 0.0497 - RMSE: 0.0759 - mape: 1263762.1277 - MPE: -inf - MSLE: 0.0025 - RMSLE: 0.0338 - R2: 0.8890 - val_loss: 0.0624 - val_soft_acc: 0.9778 - val_mse: 0.0039 - val_mae: 0.0453 - val_RMSE: 0.0624 - val_mape: 11.9483 - val_MPE: 1.0731 - val_MSLE: 0.0019 - val_RMSLE: 0.0308 - val_R2: 0.9032\n",
      "\n",
      "Epoch 00032: val_loss did not improve from 0.06025\n",
      "Epoch 33/200\n",
      "3/3 [==============================] - 0s 41ms/step - loss: 0.0715 - soft_acc: 0.9473 - mse: 0.0051 - mae: 0.0512 - RMSE: 0.0676 - mape: 1218920.9577 - MPE: -inf - MSLE: 0.0027 - RMSLE: 0.0350 - R2: 0.8984 - val_loss: 0.0617 - val_soft_acc: 0.9778 - val_mse: 0.0038 - val_mae: 0.0449 - val_RMSE: 0.0617 - val_mape: 11.8097 - val_MPE: 1.2331 - val_MSLE: 0.0019 - val_RMSLE: 0.0305 - val_R2: 0.9056\n",
      "\n",
      "Epoch 00033: val_loss did not improve from 0.06025\n",
      "Epoch 34/200\n",
      "3/3 [==============================] - 0s 44ms/step - loss: 0.0686 - soft_acc: 0.9479 - mse: 0.0047 - mae: 0.0483 - RMSE: 0.0649 - mape: 2049345.1875 - MPE: -inf - MSLE: 0.0025 - RMSLE: 0.0332 - R2: 0.8971 - val_loss: 0.0574 - val_soft_acc: 0.9778 - val_mse: 0.0033 - val_mae: 0.0388 - val_RMSE: 0.0574 - val_mape: 10.8946 - val_MPE: -1.2489 - val_MSLE: 0.0017 - val_RMSLE: 0.0266 - val_R2: 0.9182\n",
      "\n",
      "Epoch 00034: val_loss improved from 0.06025 to 0.05739, saving model to tmp\\ckeckpointer.ckpt\n"
     ]
    },
    {
     "name": "stderr",
     "output_type": "stream",
     "text": [
      "WARNING:absl:Found untraced functions such as lstm_cell_layer_call_fn, lstm_cell_layer_call_and_return_conditional_losses, lstm_cell_layer_call_fn, lstm_cell_layer_call_and_return_conditional_losses, lstm_cell_layer_call_and_return_conditional_losses while saving (showing 5 of 5). These functions will not be directly callable after loading.\n",
      "WARNING:absl:Found untraced functions such as lstm_cell_layer_call_fn, lstm_cell_layer_call_and_return_conditional_losses, lstm_cell_layer_call_fn, lstm_cell_layer_call_and_return_conditional_losses, lstm_cell_layer_call_and_return_conditional_losses while saving (showing 5 of 5). These functions will not be directly callable after loading.\n"
     ]
    },
    {
     "name": "stdout",
     "output_type": "stream",
     "text": [
      "INFO:tensorflow:Assets written to: tmp\\ckeckpointer.ckpt\\assets\n"
     ]
    },
    {
     "name": "stderr",
     "output_type": "stream",
     "text": [
      "INFO:tensorflow:Assets written to: tmp\\ckeckpointer.ckpt\\assets\n"
     ]
    },
    {
     "name": "stdout",
     "output_type": "stream",
     "text": [
      "Epoch 35/200\n",
      "3/3 [==============================] - 0s 44ms/step - loss: 0.0679 - soft_acc: 0.9473 - mse: 0.0046 - mae: 0.0480 - RMSE: 0.0652 - mape: 1255452.1865 - MPE: -inf - MSLE: 0.0024 - RMSLE: 0.0324 - R2: 0.9109 - val_loss: 0.0562 - val_soft_acc: 1.0000 - val_mse: 0.0032 - val_mae: 0.0368 - val_RMSE: 0.0562 - val_mape: 10.5992 - val_MPE: -3.2366 - val_MSLE: 0.0016 - val_RMSLE: 0.0252 - val_R2: 0.9215\n",
      "\n",
      "Epoch 00035: val_loss improved from 0.05739 to 0.05625, saving model to tmp\\ckeckpointer.ckpt\n"
     ]
    },
    {
     "name": "stderr",
     "output_type": "stream",
     "text": [
      "WARNING:absl:Found untraced functions such as lstm_cell_layer_call_fn, lstm_cell_layer_call_and_return_conditional_losses, lstm_cell_layer_call_fn, lstm_cell_layer_call_and_return_conditional_losses, lstm_cell_layer_call_and_return_conditional_losses while saving (showing 5 of 5). These functions will not be directly callable after loading.\n",
      "WARNING:absl:Found untraced functions such as lstm_cell_layer_call_fn, lstm_cell_layer_call_and_return_conditional_losses, lstm_cell_layer_call_fn, lstm_cell_layer_call_and_return_conditional_losses, lstm_cell_layer_call_and_return_conditional_losses while saving (showing 5 of 5). These functions will not be directly callable after loading.\n"
     ]
    },
    {
     "name": "stdout",
     "output_type": "stream",
     "text": [
      "INFO:tensorflow:Assets written to: tmp\\ckeckpointer.ckpt\\assets\n"
     ]
    },
    {
     "name": "stderr",
     "output_type": "stream",
     "text": [
      "INFO:tensorflow:Assets written to: tmp\\ckeckpointer.ckpt\\assets\n"
     ]
    },
    {
     "name": "stdout",
     "output_type": "stream",
     "text": [
      "Epoch 36/200\n",
      "3/3 [==============================] - 0s 41ms/step - loss: 0.0688 - soft_acc: 0.9395 - mse: 0.0047 - mae: 0.0493 - RMSE: 0.0674 - mape: 1239952.9565 - MPE: -inf - MSLE: 0.0024 - RMSLE: 0.0333 - R2: 0.7761 - val_loss: 0.0560 - val_soft_acc: 1.0000 - val_mse: 0.0031 - val_mae: 0.0383 - val_RMSE: 0.0560 - val_mape: 10.6525 - val_MPE: -0.7469 - val_MSLE: 0.0016 - val_RMSLE: 0.0263 - val_R2: 0.9220\n",
      "\n",
      "Epoch 00036: val_loss improved from 0.05625 to 0.05604, saving model to tmp\\ckeckpointer.ckpt\n"
     ]
    },
    {
     "name": "stderr",
     "output_type": "stream",
     "text": [
      "WARNING:absl:Found untraced functions such as lstm_cell_layer_call_fn, lstm_cell_layer_call_and_return_conditional_losses, lstm_cell_layer_call_fn, lstm_cell_layer_call_and_return_conditional_losses, lstm_cell_layer_call_and_return_conditional_losses while saving (showing 5 of 5). These functions will not be directly callable after loading.\n",
      "WARNING:absl:Found untraced functions such as lstm_cell_layer_call_fn, lstm_cell_layer_call_and_return_conditional_losses, lstm_cell_layer_call_fn, lstm_cell_layer_call_and_return_conditional_losses, lstm_cell_layer_call_and_return_conditional_losses while saving (showing 5 of 5). These functions will not be directly callable after loading.\n"
     ]
    },
    {
     "name": "stdout",
     "output_type": "stream",
     "text": [
      "INFO:tensorflow:Assets written to: tmp\\ckeckpointer.ckpt\\assets\n"
     ]
    },
    {
     "name": "stderr",
     "output_type": "stream",
     "text": [
      "INFO:tensorflow:Assets written to: tmp\\ckeckpointer.ckpt\\assets\n"
     ]
    },
    {
     "name": "stdout",
     "output_type": "stream",
     "text": [
      "Epoch 37/200\n",
      "3/3 [==============================] - 0s 40ms/step - loss: 0.0607 - soft_acc: 0.9518 - mse: 0.0038 - mae: 0.0440 - RMSE: 0.0691 - mape: 1182605.8968 - MPE: -inf - MSLE: 0.0019 - RMSLE: 0.0297 - R2: 0.9017 - val_loss: 0.0584 - val_soft_acc: 0.9778 - val_mse: 0.0034 - val_mae: 0.0428 - val_RMSE: 0.0584 - val_mape: 11.1781 - val_MPE: 1.5946 - val_MSLE: 0.0017 - val_RMSLE: 0.0291 - val_R2: 0.9153\n",
      "\n",
      "Epoch 00037: val_loss did not improve from 0.05604\n",
      "Epoch 38/200\n",
      "3/3 [==============================] - 0s 45ms/step - loss: 0.0650 - soft_acc: 0.9401 - mse: 0.0043 - mae: 0.0463 - RMSE: 0.0609 - mape: 1937509.8438 - MPE: -inf - MSLE: 0.0022 - RMSLE: 0.0318 - R2: 0.9118 - val_loss: 0.0589 - val_soft_acc: 0.9778 - val_mse: 0.0035 - val_mae: 0.0440 - val_RMSE: 0.0589 - val_mape: 11.2704 - val_MPE: 2.2768 - val_MSLE: 0.0017 - val_RMSLE: 0.0299 - val_R2: 0.9139\n",
      "\n",
      "Epoch 00038: val_loss did not improve from 0.05604\n",
      "Epoch 39/200\n",
      "3/3 [==============================] - 0s 40ms/step - loss: 0.0662 - soft_acc: 0.9479 - mse: 0.0045 - mae: 0.0477 - RMSE: 0.0600 - mape: 1891891.1562 - MPE: -inf - MSLE: 0.0023 - RMSLE: 0.0327 - R2: 0.9211 - val_loss: 0.0564 - val_soft_acc: 0.9778 - val_mse: 0.0032 - val_mae: 0.0411 - val_RMSE: 0.0564 - val_mape: 10.7400 - val_MPE: 1.4798 - val_MSLE: 0.0016 - val_RMSLE: 0.0280 - val_R2: 0.9210\n",
      "\n",
      "Epoch 00039: val_loss did not improve from 0.05604\n",
      "Epoch 40/200\n",
      "3/3 [==============================] - 0s 41ms/step - loss: 0.0639 - soft_acc: 0.9596 - mse: 0.0041 - mae: 0.0444 - RMSE: 0.0596 - mape: 1890570.3125 - MPE: -inf - MSLE: 0.0022 - RMSLE: 0.0304 - R2: 0.9235 - val_loss: 0.0532 - val_soft_acc: 1.0000 - val_mse: 0.0028 - val_mae: 0.0370 - val_RMSE: 0.0532 - val_mape: 10.0806 - val_MPE: -0.0699 - val_MSLE: 0.0014 - val_RMSLE: 0.0253 - val_R2: 0.9297\n",
      "\n",
      "Epoch 00040: val_loss improved from 0.05604 to 0.05321, saving model to tmp\\ckeckpointer.ckpt\n"
     ]
    },
    {
     "name": "stderr",
     "output_type": "stream",
     "text": [
      "WARNING:absl:Found untraced functions such as lstm_cell_layer_call_fn, lstm_cell_layer_call_and_return_conditional_losses, lstm_cell_layer_call_fn, lstm_cell_layer_call_and_return_conditional_losses, lstm_cell_layer_call_and_return_conditional_losses while saving (showing 5 of 5). These functions will not be directly callable after loading.\n",
      "WARNING:absl:Found untraced functions such as lstm_cell_layer_call_fn, lstm_cell_layer_call_and_return_conditional_losses, lstm_cell_layer_call_fn, lstm_cell_layer_call_and_return_conditional_losses, lstm_cell_layer_call_and_return_conditional_losses while saving (showing 5 of 5). These functions will not be directly callable after loading.\n"
     ]
    },
    {
     "name": "stdout",
     "output_type": "stream",
     "text": [
      "INFO:tensorflow:Assets written to: tmp\\ckeckpointer.ckpt\\assets\n"
     ]
    },
    {
     "name": "stderr",
     "output_type": "stream",
     "text": [
      "INFO:tensorflow:Assets written to: tmp\\ckeckpointer.ckpt\\assets\n"
     ]
    },
    {
     "name": "stdout",
     "output_type": "stream",
     "text": [
      "Epoch 41/200\n",
      "3/3 [==============================] - 0s 40ms/step - loss: 0.0628 - soft_acc: 0.9440 - mse: 0.0040 - mae: 0.0437 - RMSE: 0.0602 - mape: 1912054.7188 - MPE: -inf - MSLE: 0.0022 - RMSLE: 0.0300 - R2: 0.9139 - val_loss: 0.0510 - val_soft_acc: 1.0000 - val_mse: 0.0026 - val_mae: 0.0336 - val_RMSE: 0.0510 - val_mape: 9.5834 - val_MPE: -2.3874 - val_MSLE: 0.0013 - val_RMSLE: 0.0230 - val_R2: 0.9354\n",
      "\n",
      "Epoch 00041: val_loss improved from 0.05321 to 0.05101, saving model to tmp\\ckeckpointer.ckpt\n"
     ]
    },
    {
     "name": "stderr",
     "output_type": "stream",
     "text": [
      "WARNING:absl:Found untraced functions such as lstm_cell_layer_call_fn, lstm_cell_layer_call_and_return_conditional_losses, lstm_cell_layer_call_fn, lstm_cell_layer_call_and_return_conditional_losses, lstm_cell_layer_call_and_return_conditional_losses while saving (showing 5 of 5). These functions will not be directly callable after loading.\n",
      "WARNING:absl:Found untraced functions such as lstm_cell_layer_call_fn, lstm_cell_layer_call_and_return_conditional_losses, lstm_cell_layer_call_fn, lstm_cell_layer_call_and_return_conditional_losses, lstm_cell_layer_call_and_return_conditional_losses while saving (showing 5 of 5). These functions will not be directly callable after loading.\n"
     ]
    },
    {
     "name": "stdout",
     "output_type": "stream",
     "text": [
      "INFO:tensorflow:Assets written to: tmp\\ckeckpointer.ckpt\\assets\n"
     ]
    },
    {
     "name": "stderr",
     "output_type": "stream",
     "text": [
      "INFO:tensorflow:Assets written to: tmp\\ckeckpointer.ckpt\\assets\n"
     ]
    },
    {
     "name": "stdout",
     "output_type": "stream",
     "text": [
      "Epoch 42/200\n",
      "3/3 [==============================] - 0s 47ms/step - loss: 0.0634 - soft_acc: 0.9525 - mse: 0.0041 - mae: 0.0446 - RMSE: 0.0582 - mape: 1150868.2984 - MPE: -inf - MSLE: 0.0022 - RMSLE: 0.0305 - R2: 0.9234 - val_loss: 0.0501 - val_soft_acc: 1.0000 - val_mse: 0.0025 - val_mae: 0.0325 - val_RMSE: 0.0501 - val_mape: 9.3527 - val_MPE: -2.8583 - val_MSLE: 0.0013 - val_RMSLE: 0.0223 - val_R2: 0.9378\n",
      "\n",
      "Epoch 00042: val_loss improved from 0.05101 to 0.05006, saving model to tmp\\ckeckpointer.ckpt\n"
     ]
    },
    {
     "name": "stderr",
     "output_type": "stream",
     "text": [
      "WARNING:absl:Found untraced functions such as lstm_cell_layer_call_fn, lstm_cell_layer_call_and_return_conditional_losses, lstm_cell_layer_call_fn, lstm_cell_layer_call_and_return_conditional_losses, lstm_cell_layer_call_and_return_conditional_losses while saving (showing 5 of 5). These functions will not be directly callable after loading.\n",
      "WARNING:absl:Found untraced functions such as lstm_cell_layer_call_fn, lstm_cell_layer_call_and_return_conditional_losses, lstm_cell_layer_call_fn, lstm_cell_layer_call_and_return_conditional_losses, lstm_cell_layer_call_and_return_conditional_losses while saving (showing 5 of 5). These functions will not be directly callable after loading.\n"
     ]
    },
    {
     "name": "stdout",
     "output_type": "stream",
     "text": [
      "INFO:tensorflow:Assets written to: tmp\\ckeckpointer.ckpt\\assets\n"
     ]
    },
    {
     "name": "stderr",
     "output_type": "stream",
     "text": [
      "INFO:tensorflow:Assets written to: tmp\\ckeckpointer.ckpt\\assets\n"
     ]
    },
    {
     "name": "stdout",
     "output_type": "stream",
     "text": [
      "Epoch 43/200\n",
      "3/3 [==============================] - 0s 39ms/step - loss: 0.0617 - soft_acc: 0.9603 - mse: 0.0038 - mae: 0.0429 - RMSE: 0.0642 - mape: 748439.8533 - MPE: -inf - MSLE: 0.0021 - RMSLE: 0.0293 - R2: 0.9170 - val_loss: 0.0490 - val_soft_acc: 1.0000 - val_mse: 0.0024 - val_mae: 0.0321 - val_RMSE: 0.0490 - val_mape: 9.1525 - val_MPE: -2.1863 - val_MSLE: 0.0012 - val_RMSLE: 0.0221 - val_R2: 0.9405\n",
      "\n",
      "Epoch 00043: val_loss improved from 0.05006 to 0.04897, saving model to tmp\\ckeckpointer.ckpt\n"
     ]
    },
    {
     "name": "stderr",
     "output_type": "stream",
     "text": [
      "WARNING:absl:Found untraced functions such as lstm_cell_layer_call_fn, lstm_cell_layer_call_and_return_conditional_losses, lstm_cell_layer_call_fn, lstm_cell_layer_call_and_return_conditional_losses, lstm_cell_layer_call_and_return_conditional_losses while saving (showing 5 of 5). These functions will not be directly callable after loading.\n",
      "WARNING:absl:Found untraced functions such as lstm_cell_layer_call_fn, lstm_cell_layer_call_and_return_conditional_losses, lstm_cell_layer_call_fn, lstm_cell_layer_call_and_return_conditional_losses, lstm_cell_layer_call_and_return_conditional_losses while saving (showing 5 of 5). These functions will not be directly callable after loading.\n"
     ]
    },
    {
     "name": "stdout",
     "output_type": "stream",
     "text": [
      "INFO:tensorflow:Assets written to: tmp\\ckeckpointer.ckpt\\assets\n"
     ]
    },
    {
     "name": "stderr",
     "output_type": "stream",
     "text": [
      "INFO:tensorflow:Assets written to: tmp\\ckeckpointer.ckpt\\assets\n"
     ]
    },
    {
     "name": "stdout",
     "output_type": "stream",
     "text": [
      "Epoch 44/200\n",
      "3/3 [==============================] - 0s 43ms/step - loss: 0.0604 - soft_acc: 0.9642 - mse: 0.0037 - mae: 0.0427 - RMSE: 0.0551 - mape: 1899607.2812 - MPE: -inf - MSLE: 0.0020 - RMSLE: 0.0291 - R2: 0.9350 - val_loss: 0.0500 - val_soft_acc: 1.0000 - val_mse: 0.0025 - val_mae: 0.0351 - val_RMSE: 0.0500 - val_mape: 9.3150 - val_MPE: 0.2919 - val_MSLE: 0.0012 - val_RMSLE: 0.0239 - val_R2: 0.9378\n",
      "\n",
      "Epoch 00044: val_loss did not improve from 0.04897\n",
      "Epoch 45/200\n",
      "3/3 [==============================] - 0s 44ms/step - loss: 0.0548 - soft_acc: 0.9564 - mse: 0.0031 - mae: 0.0386 - RMSE: 0.0613 - mape: 1053634.7959 - MPE: -inf - MSLE: 0.0016 - RMSLE: 0.0262 - R2: 0.9246 - val_loss: 0.0497 - val_soft_acc: 1.0000 - val_mse: 0.0025 - val_mae: 0.0354 - val_RMSE: 0.0497 - val_mape: 9.1963 - val_MPE: 0.6546 - val_MSLE: 0.0012 - val_RMSLE: 0.0240 - val_R2: 0.9387\n",
      "\n",
      "Epoch 00045: val_loss did not improve from 0.04897\n",
      "Epoch 46/200\n",
      "3/3 [==============================] - 0s 38ms/step - loss: 0.0584 - soft_acc: 0.9332 - mse: 0.0034 - mae: 0.0407 - RMSE: 0.0565 - mape: 1031924.0642 - MPE: -inf - MSLE: 0.0018 - RMSLE: 0.0277 - R2: 0.9157 - val_loss: 0.0462 - val_soft_acc: 1.0000 - val_mse: 0.0021 - val_mae: 0.0307 - val_RMSE: 0.0462 - val_mape: 8.5281 - val_MPE: -1.2834 - val_MSLE: 0.0011 - val_RMSLE: 0.0211 - val_R2: 0.9470\n",
      "\n",
      "Epoch 00046: val_loss improved from 0.04897 to 0.04621, saving model to tmp\\ckeckpointer.ckpt\n"
     ]
    },
    {
     "name": "stderr",
     "output_type": "stream",
     "text": [
      "WARNING:absl:Found untraced functions such as lstm_cell_layer_call_fn, lstm_cell_layer_call_and_return_conditional_losses, lstm_cell_layer_call_fn, lstm_cell_layer_call_and_return_conditional_losses, lstm_cell_layer_call_and_return_conditional_losses while saving (showing 5 of 5). These functions will not be directly callable after loading.\n",
      "WARNING:absl:Found untraced functions such as lstm_cell_layer_call_fn, lstm_cell_layer_call_and_return_conditional_losses, lstm_cell_layer_call_fn, lstm_cell_layer_call_and_return_conditional_losses, lstm_cell_layer_call_and_return_conditional_losses while saving (showing 5 of 5). These functions will not be directly callable after loading.\n"
     ]
    },
    {
     "name": "stdout",
     "output_type": "stream",
     "text": [
      "INFO:tensorflow:Assets written to: tmp\\ckeckpointer.ckpt\\assets\n"
     ]
    },
    {
     "name": "stderr",
     "output_type": "stream",
     "text": [
      "INFO:tensorflow:Assets written to: tmp\\ckeckpointer.ckpt\\assets\n"
     ]
    },
    {
     "name": "stdout",
     "output_type": "stream",
     "text": [
      "Epoch 47/200\n",
      "3/3 [==============================] - 0s 39ms/step - loss: 0.0564 - soft_acc: 0.9486 - mse: 0.0032 - mae: 0.0384 - RMSE: 0.0574 - mape: 1066569.8964 - MPE: -inf - MSLE: 0.0017 - RMSLE: 0.0263 - R2: 0.9116 - val_loss: 0.0457 - val_soft_acc: 1.0000 - val_mse: 0.0021 - val_mae: 0.0296 - val_RMSE: 0.0457 - val_mape: 8.5039 - val_MPE: -4.0396 - val_MSLE: 0.0011 - val_RMSLE: 0.0203 - val_R2: 0.9482\n",
      "\n",
      "Epoch 00047: val_loss improved from 0.04621 to 0.04568, saving model to tmp\\ckeckpointer.ckpt\n"
     ]
    },
    {
     "name": "stderr",
     "output_type": "stream",
     "text": [
      "WARNING:absl:Found untraced functions such as lstm_cell_layer_call_fn, lstm_cell_layer_call_and_return_conditional_losses, lstm_cell_layer_call_fn, lstm_cell_layer_call_and_return_conditional_losses, lstm_cell_layer_call_and_return_conditional_losses while saving (showing 5 of 5). These functions will not be directly callable after loading.\n",
      "WARNING:absl:Found untraced functions such as lstm_cell_layer_call_fn, lstm_cell_layer_call_and_return_conditional_losses, lstm_cell_layer_call_fn, lstm_cell_layer_call_and_return_conditional_losses, lstm_cell_layer_call_and_return_conditional_losses while saving (showing 5 of 5). These functions will not be directly callable after loading.\n"
     ]
    },
    {
     "name": "stdout",
     "output_type": "stream",
     "text": [
      "INFO:tensorflow:Assets written to: tmp\\ckeckpointer.ckpt\\assets\n"
     ]
    },
    {
     "name": "stderr",
     "output_type": "stream",
     "text": [
      "INFO:tensorflow:Assets written to: tmp\\ckeckpointer.ckpt\\assets\n"
     ]
    },
    {
     "name": "stdout",
     "output_type": "stream",
     "text": [
      "Epoch 48/200\n",
      "3/3 [==============================] - 0s 37ms/step - loss: 0.0571 - soft_acc: 0.9263 - mse: 0.0033 - mae: 0.0406 - RMSE: 0.0591 - mape: 1080446.4156 - MPE: -inf - MSLE: 0.0017 - RMSLE: 0.0276 - R2: 0.9254 - val_loss: 0.0440 - val_soft_acc: 1.0000 - val_mse: 0.0019 - val_mae: 0.0286 - val_RMSE: 0.0440 - val_mape: 8.1038 - val_MPE: -2.5334 - val_MSLE: 0.0010 - val_RMSLE: 0.0196 - val_R2: 0.9520\n",
      "\n",
      "Epoch 00048: val_loss improved from 0.04568 to 0.04399, saving model to tmp\\ckeckpointer.ckpt\n"
     ]
    },
    {
     "name": "stderr",
     "output_type": "stream",
     "text": [
      "WARNING:absl:Found untraced functions such as lstm_cell_layer_call_fn, lstm_cell_layer_call_and_return_conditional_losses, lstm_cell_layer_call_fn, lstm_cell_layer_call_and_return_conditional_losses, lstm_cell_layer_call_and_return_conditional_losses while saving (showing 5 of 5). These functions will not be directly callable after loading.\n",
      "WARNING:absl:Found untraced functions such as lstm_cell_layer_call_fn, lstm_cell_layer_call_and_return_conditional_losses, lstm_cell_layer_call_fn, lstm_cell_layer_call_and_return_conditional_losses, lstm_cell_layer_call_and_return_conditional_losses while saving (showing 5 of 5). These functions will not be directly callable after loading.\n"
     ]
    },
    {
     "name": "stdout",
     "output_type": "stream",
     "text": [
      "INFO:tensorflow:Assets written to: tmp\\ckeckpointer.ckpt\\assets\n"
     ]
    },
    {
     "name": "stderr",
     "output_type": "stream",
     "text": [
      "INFO:tensorflow:Assets written to: tmp\\ckeckpointer.ckpt\\assets\n"
     ]
    },
    {
     "name": "stdout",
     "output_type": "stream",
     "text": [
      "Epoch 49/200\n",
      "3/3 [==============================] - 0s 39ms/step - loss: 0.0561 - soft_acc: 0.9609 - mse: 0.0032 - mae: 0.0394 - RMSE: 0.0578 - mape: 1760533.4375 - MPE: -inf - MSLE: 0.0018 - RMSLE: 0.0270 - R2: 0.9343 - val_loss: 0.0477 - val_soft_acc: 1.0000 - val_mse: 0.0023 - val_mae: 0.0350 - val_RMSE: 0.0477 - val_mape: 8.6002 - val_MPE: 1.1000 - val_MSLE: 0.0011 - val_RMSLE: 0.0234 - val_R2: 0.9435\n",
      "\n",
      "Epoch 00049: val_loss did not improve from 0.04399\n",
      "Epoch 50/200\n",
      "3/3 [==============================] - 0s 44ms/step - loss: 0.0565 - soft_acc: 0.9694 - mse: 0.0032 - mae: 0.0424 - RMSE: 0.0574 - mape: 945903.5569 - MPE: -inf - MSLE: 0.0015 - RMSLE: 0.0282 - R2: 0.9188 - val_loss: 0.0473 - val_soft_acc: 1.0000 - val_mse: 0.0022 - val_mae: 0.0348 - val_RMSE: 0.0473 - val_mape: 8.4631 - val_MPE: 1.2337 - val_MSLE: 0.0010 - val_RMSLE: 0.0232 - val_R2: 0.9445\n",
      "\n",
      "Epoch 00050: val_loss did not improve from 0.04399\n",
      "Epoch 51/200\n",
      "3/3 [==============================] - 0s 54ms/step - loss: 0.0563 - soft_acc: 0.9501 - mse: 0.0032 - mae: 0.0415 - RMSE: 0.0555 - mape: 1589236.5625 - MPE: -inf - MSLE: 0.0016 - RMSLE: 0.0280 - R2: 0.8783 - val_loss: 0.0427 - val_soft_acc: 1.0000 - val_mse: 0.0018 - val_mae: 0.0293 - val_RMSE: 0.0427 - val_mape: 7.7759 - val_MPE: -0.9659 - val_MSLE: 9.1074e-04 - val_RMSLE: 0.0199 - val_R2: 0.9547\n",
      "\n",
      "Epoch 00051: val_loss improved from 0.04399 to 0.04274, saving model to tmp\\ckeckpointer.ckpt\n"
     ]
    },
    {
     "name": "stderr",
     "output_type": "stream",
     "text": [
      "WARNING:absl:Found untraced functions such as lstm_cell_layer_call_fn, lstm_cell_layer_call_and_return_conditional_losses, lstm_cell_layer_call_fn, lstm_cell_layer_call_and_return_conditional_losses, lstm_cell_layer_call_and_return_conditional_losses while saving (showing 5 of 5). These functions will not be directly callable after loading.\n",
      "WARNING:absl:Found untraced functions such as lstm_cell_layer_call_fn, lstm_cell_layer_call_and_return_conditional_losses, lstm_cell_layer_call_fn, lstm_cell_layer_call_and_return_conditional_losses, lstm_cell_layer_call_and_return_conditional_losses while saving (showing 5 of 5). These functions will not be directly callable after loading.\n"
     ]
    },
    {
     "name": "stdout",
     "output_type": "stream",
     "text": [
      "INFO:tensorflow:Assets written to: tmp\\ckeckpointer.ckpt\\assets\n"
     ]
    },
    {
     "name": "stderr",
     "output_type": "stream",
     "text": [
      "INFO:tensorflow:Assets written to: tmp\\ckeckpointer.ckpt\\assets\n"
     ]
    },
    {
     "name": "stdout",
     "output_type": "stream",
     "text": [
      "Epoch 52/200\n",
      "3/3 [==============================] - 0s 38ms/step - loss: 0.0540 - soft_acc: 0.9688 - mse: 0.0029 - mae: 0.0387 - RMSE: 0.0499 - mape: 1631701.2500 - MPE: -inf - MSLE: 0.0015 - RMSLE: 0.0265 - R2: 0.9431 - val_loss: 0.0429 - val_soft_acc: 1.0000 - val_mse: 0.0018 - val_mae: 0.0299 - val_RMSE: 0.0429 - val_mape: 7.7523 - val_MPE: -0.4452 - val_MSLE: 9.0212e-04 - val_RMSLE: 0.0202 - val_R2: 0.9544\n",
      "\n",
      "Epoch 00052: val_loss did not improve from 0.04274\n",
      "Epoch 53/200\n",
      "3/3 [==============================] - 0s 67ms/step - loss: 0.0547 - soft_acc: 0.9648 - mse: 0.0030 - mae: 0.0397 - RMSE: 0.0517 - mape: 1596070.6875 - MPE: -inf - MSLE: 0.0016 - RMSLE: 0.0269 - R2: 0.9446 - val_loss: 0.0411 - val_soft_acc: 1.0000 - val_mse: 0.0017 - val_mae: 0.0280 - val_RMSE: 0.0411 - val_mape: 7.5596 - val_MPE: -1.8599 - val_MSLE: 8.6296e-04 - val_RMSLE: 0.0191 - val_R2: 0.9580\n",
      "\n",
      "Epoch 00053: val_loss improved from 0.04274 to 0.04114, saving model to tmp\\ckeckpointer.ckpt\n"
     ]
    },
    {
     "name": "stderr",
     "output_type": "stream",
     "text": [
      "WARNING:absl:Found untraced functions such as lstm_cell_layer_call_fn, lstm_cell_layer_call_and_return_conditional_losses, lstm_cell_layer_call_fn, lstm_cell_layer_call_and_return_conditional_losses, lstm_cell_layer_call_and_return_conditional_losses while saving (showing 5 of 5). These functions will not be directly callable after loading.\n",
      "WARNING:absl:Found untraced functions such as lstm_cell_layer_call_fn, lstm_cell_layer_call_and_return_conditional_losses, lstm_cell_layer_call_fn, lstm_cell_layer_call_and_return_conditional_losses, lstm_cell_layer_call_and_return_conditional_losses while saving (showing 5 of 5). These functions will not be directly callable after loading.\n"
     ]
    },
    {
     "name": "stdout",
     "output_type": "stream",
     "text": [
      "INFO:tensorflow:Assets written to: tmp\\ckeckpointer.ckpt\\assets\n"
     ]
    },
    {
     "name": "stderr",
     "output_type": "stream",
     "text": [
      "INFO:tensorflow:Assets written to: tmp\\ckeckpointer.ckpt\\assets\n"
     ]
    },
    {
     "name": "stdout",
     "output_type": "stream",
     "text": [
      "Epoch 54/200\n",
      "3/3 [==============================] - 0s 38ms/step - loss: 0.0508 - soft_acc: 0.9694 - mse: 0.0026 - mae: 0.0360 - RMSE: 0.0509 - mape: 961791.8432 - MPE: -inf - MSLE: 0.0013 - RMSLE: 0.0243 - R2: 0.9408 - val_loss: 0.0406 - val_soft_acc: 1.0000 - val_mse: 0.0016 - val_mae: 0.0278 - val_RMSE: 0.0406 - val_mape: 7.4658 - val_MPE: -1.9113 - val_MSLE: 8.3993e-04 - val_RMSLE: 0.0189 - val_R2: 0.9591\n",
      "\n",
      "Epoch 00054: val_loss improved from 0.04114 to 0.04058, saving model to tmp\\ckeckpointer.ckpt\n"
     ]
    },
    {
     "name": "stderr",
     "output_type": "stream",
     "text": [
      "WARNING:absl:Found untraced functions such as lstm_cell_layer_call_fn, lstm_cell_layer_call_and_return_conditional_losses, lstm_cell_layer_call_fn, lstm_cell_layer_call_and_return_conditional_losses, lstm_cell_layer_call_and_return_conditional_losses while saving (showing 5 of 5). These functions will not be directly callable after loading.\n",
      "WARNING:absl:Found untraced functions such as lstm_cell_layer_call_fn, lstm_cell_layer_call_and_return_conditional_losses, lstm_cell_layer_call_fn, lstm_cell_layer_call_and_return_conditional_losses, lstm_cell_layer_call_and_return_conditional_losses while saving (showing 5 of 5). These functions will not be directly callable after loading.\n"
     ]
    },
    {
     "name": "stdout",
     "output_type": "stream",
     "text": [
      "INFO:tensorflow:Assets written to: tmp\\ckeckpointer.ckpt\\assets\n"
     ]
    },
    {
     "name": "stderr",
     "output_type": "stream",
     "text": [
      "INFO:tensorflow:Assets written to: tmp\\ckeckpointer.ckpt\\assets\n"
     ]
    },
    {
     "name": "stdout",
     "output_type": "stream",
     "text": [
      "Epoch 55/200\n",
      "3/3 [==============================] - 0s 49ms/step - loss: 0.0517 - soft_acc: 0.9541 - mse: 0.0027 - mae: 0.0361 - RMSE: 0.0490 - mape: 1593517.3125 - MPE: -inf - MSLE: 0.0014 - RMSLE: 0.0247 - R2: 0.9432 - val_loss: 0.0412 - val_soft_acc: 1.0000 - val_mse: 0.0017 - val_mae: 0.0292 - val_RMSE: 0.0412 - val_mape: 7.4137 - val_MPE: -0.2652 - val_MSLE: 8.2998e-04 - val_RMSLE: 0.0197 - val_R2: 0.9578\n",
      "\n",
      "Epoch 00055: val_loss did not improve from 0.04058\n",
      "Epoch 56/200\n",
      "3/3 [==============================] - 0s 38ms/step - loss: 0.0537 - soft_acc: 0.9779 - mse: 0.0029 - mae: 0.0392 - RMSE: 0.0534 - mape: 1515093.9375 - MPE: -inf - MSLE: 0.0015 - RMSLE: 0.0264 - R2: 0.9406 - val_loss: 0.0401 - val_soft_acc: 1.0000 - val_mse: 0.0016 - val_mae: 0.0283 - val_RMSE: 0.0401 - val_mape: 7.2343 - val_MPE: -0.7335 - val_MSLE: 7.9604e-04 - val_RMSLE: 0.0191 - val_R2: 0.9600\n",
      "\n",
      "Epoch 00056: val_loss improved from 0.04058 to 0.04013, saving model to tmp\\ckeckpointer.ckpt\n"
     ]
    },
    {
     "name": "stderr",
     "output_type": "stream",
     "text": [
      "WARNING:absl:Found untraced functions such as lstm_cell_layer_call_fn, lstm_cell_layer_call_and_return_conditional_losses, lstm_cell_layer_call_fn, lstm_cell_layer_call_and_return_conditional_losses, lstm_cell_layer_call_and_return_conditional_losses while saving (showing 5 of 5). These functions will not be directly callable after loading.\n",
      "WARNING:absl:Found untraced functions such as lstm_cell_layer_call_fn, lstm_cell_layer_call_and_return_conditional_losses, lstm_cell_layer_call_fn, lstm_cell_layer_call_and_return_conditional_losses, lstm_cell_layer_call_and_return_conditional_losses while saving (showing 5 of 5). These functions will not be directly callable after loading.\n"
     ]
    },
    {
     "name": "stdout",
     "output_type": "stream",
     "text": [
      "INFO:tensorflow:Assets written to: tmp\\ckeckpointer.ckpt\\assets\n"
     ]
    },
    {
     "name": "stderr",
     "output_type": "stream",
     "text": [
      "INFO:tensorflow:Assets written to: tmp\\ckeckpointer.ckpt\\assets\n"
     ]
    },
    {
     "name": "stdout",
     "output_type": "stream",
     "text": [
      "Epoch 57/200\n",
      "3/3 [==============================] - 0s 38ms/step - loss: 0.0513 - soft_acc: 0.9740 - mse: 0.0027 - mae: 0.0372 - RMSE: 0.0481 - mape: 894067.2638 - MPE: -inf - MSLE: 0.0013 - RMSLE: 0.0252 - R2: 0.9494 - val_loss: 0.0399 - val_soft_acc: 1.0000 - val_mse: 0.0016 - val_mae: 0.0284 - val_RMSE: 0.0399 - val_mape: 7.1606 - val_MPE: -0.4338 - val_MSLE: 7.8215e-04 - val_RMSLE: 0.0191 - val_R2: 0.9604\n",
      "\n",
      "Epoch 00057: val_loss improved from 0.04013 to 0.03993, saving model to tmp\\ckeckpointer.ckpt\n"
     ]
    },
    {
     "name": "stderr",
     "output_type": "stream",
     "text": [
      "WARNING:absl:Found untraced functions such as lstm_cell_layer_call_fn, lstm_cell_layer_call_and_return_conditional_losses, lstm_cell_layer_call_fn, lstm_cell_layer_call_and_return_conditional_losses, lstm_cell_layer_call_and_return_conditional_losses while saving (showing 5 of 5). These functions will not be directly callable after loading.\n",
      "WARNING:absl:Found untraced functions such as lstm_cell_layer_call_fn, lstm_cell_layer_call_and_return_conditional_losses, lstm_cell_layer_call_fn, lstm_cell_layer_call_and_return_conditional_losses, lstm_cell_layer_call_and_return_conditional_losses while saving (showing 5 of 5). These functions will not be directly callable after loading.\n"
     ]
    },
    {
     "name": "stdout",
     "output_type": "stream",
     "text": [
      "INFO:tensorflow:Assets written to: tmp\\ckeckpointer.ckpt\\assets\n"
     ]
    },
    {
     "name": "stderr",
     "output_type": "stream",
     "text": [
      "INFO:tensorflow:Assets written to: tmp\\ckeckpointer.ckpt\\assets\n"
     ]
    },
    {
     "name": "stdout",
     "output_type": "stream",
     "text": [
      "Epoch 58/200\n",
      "3/3 [==============================] - 0s 35ms/step - loss: 0.0519 - soft_acc: 0.9740 - mse: 0.0027 - mae: 0.0383 - RMSE: 0.0517 - mape: 853930.1354 - MPE: -inf - MSLE: 0.0014 - RMSLE: 0.0259 - R2: 0.9394 - val_loss: 0.0438 - val_soft_acc: 1.0000 - val_mse: 0.0019 - val_mae: 0.0321 - val_RMSE: 0.0438 - val_mape: 7.4887 - val_MPE: 1.8815 - val_MSLE: 8.7184e-04 - val_RMSLE: 0.0214 - val_R2: 0.9525\n",
      "\n",
      "Epoch 00058: val_loss did not improve from 0.03993\n",
      "Epoch 59/200\n",
      "3/3 [==============================] - 0s 40ms/step - loss: 0.0562 - soft_acc: 0.9501 - mse: 0.0032 - mae: 0.0432 - RMSE: 0.0576 - mape: 1380377.2188 - MPE: -inf - MSLE: 0.0015 - RMSLE: 0.0286 - R2: 0.9268 - val_loss: 0.0400 - val_soft_acc: 1.0000 - val_mse: 0.0016 - val_mae: 0.0288 - val_RMSE: 0.0400 - val_mape: 7.1371 - val_MPE: 0.2219 - val_MSLE: 7.8049e-04 - val_RMSLE: 0.0194 - val_R2: 0.9602\n",
      "\n",
      "Epoch 00059: val_loss did not improve from 0.03993\n",
      "Epoch 60/200\n",
      "3/3 [==============================] - 0s 40ms/step - loss: 0.0523 - soft_acc: 0.9740 - mse: 0.0028 - mae: 0.0383 - RMSE: 0.0545 - mape: 1428495.8438 - MPE: -inf - MSLE: 0.0014 - RMSLE: 0.0259 - R2: 0.9421 - val_loss: 0.0431 - val_soft_acc: 1.0000 - val_mse: 0.0019 - val_mae: 0.0304 - val_RMSE: 0.0431 - val_mape: 7.9865 - val_MPE: -4.4930 - val_MSLE: 9.3552e-04 - val_RMSLE: 0.0204 - val_R2: 0.9538\n",
      "\n",
      "Epoch 00060: val_loss did not improve from 0.03993\n",
      "Epoch 61/200\n",
      "3/3 [==============================] - 0s 39ms/step - loss: 0.0537 - soft_acc: 0.9694 - mse: 0.0029 - mae: 0.0400 - RMSE: 0.0527 - mape: 929322.0322 - MPE: -inf - MSLE: 0.0014 - RMSLE: 0.0269 - R2: 0.9411 - val_loss: 0.0396 - val_soft_acc: 1.0000 - val_mse: 0.0016 - val_mae: 0.0271 - val_RMSE: 0.0396 - val_mape: 7.1728 - val_MPE: -1.5401 - val_MSLE: 8.0206e-04 - val_RMSLE: 0.0185 - val_R2: 0.9611\n",
      "\n",
      "Epoch 00061: val_loss improved from 0.03993 to 0.03957, saving model to tmp\\ckeckpointer.ckpt\n"
     ]
    },
    {
     "name": "stderr",
     "output_type": "stream",
     "text": [
      "WARNING:absl:Found untraced functions such as lstm_cell_layer_call_fn, lstm_cell_layer_call_and_return_conditional_losses, lstm_cell_layer_call_fn, lstm_cell_layer_call_and_return_conditional_losses, lstm_cell_layer_call_and_return_conditional_losses while saving (showing 5 of 5). These functions will not be directly callable after loading.\n",
      "WARNING:absl:Found untraced functions such as lstm_cell_layer_call_fn, lstm_cell_layer_call_and_return_conditional_losses, lstm_cell_layer_call_fn, lstm_cell_layer_call_and_return_conditional_losses, lstm_cell_layer_call_and_return_conditional_losses while saving (showing 5 of 5). These functions will not be directly callable after loading.\n"
     ]
    },
    {
     "name": "stdout",
     "output_type": "stream",
     "text": [
      "INFO:tensorflow:Assets written to: tmp\\ckeckpointer.ckpt\\assets\n"
     ]
    },
    {
     "name": "stderr",
     "output_type": "stream",
     "text": [
      "INFO:tensorflow:Assets written to: tmp\\ckeckpointer.ckpt\\assets\n"
     ]
    },
    {
     "name": "stdout",
     "output_type": "stream",
     "text": [
      "Epoch 62/200\n",
      "3/3 [==============================] - 0s 39ms/step - loss: 0.0513 - soft_acc: 0.9580 - mse: 0.0026 - mae: 0.0368 - RMSE: 0.0478 - mape: 1492510.1875 - MPE: -inf - MSLE: 0.0014 - RMSLE: 0.0252 - R2: 0.9513 - val_loss: 0.0426 - val_soft_acc: 1.0000 - val_mse: 0.0018 - val_mae: 0.0313 - val_RMSE: 0.0426 - val_mape: 7.6178 - val_MPE: 1.9657 - val_MSLE: 8.6684e-04 - val_RMSLE: 0.0211 - val_R2: 0.9549\n",
      "\n",
      "Epoch 00062: val_loss did not improve from 0.03957\n",
      "Epoch 63/200\n",
      "3/3 [==============================] - 0s 38ms/step - loss: 0.0519 - soft_acc: 0.9541 - mse: 0.0027 - mae: 0.0385 - RMSE: 0.0522 - mape: 1380368.2812 - MPE: -inf - MSLE: 0.0013 - RMSLE: 0.0259 - R2: 0.9464 - val_loss: 0.0403 - val_soft_acc: 1.0000 - val_mse: 0.0016 - val_mae: 0.0288 - val_RMSE: 0.0403 - val_mape: 7.2402 - val_MPE: 0.6260 - val_MSLE: 8.0215e-04 - val_RMSLE: 0.0195 - val_R2: 0.9598\n",
      "\n",
      "Epoch 00063: val_loss did not improve from 0.03957\n",
      "Epoch 64/200\n",
      "3/3 [==============================] - 0s 40ms/step - loss: 0.0490 - soft_acc: 0.9701 - mse: 0.0024 - mae: 0.0360 - RMSE: 0.0537 - mape: 1412606.1250 - MPE: -inf - MSLE: 0.0012 - RMSLE: 0.0245 - R2: 0.9284 - val_loss: 0.0391 - val_soft_acc: 1.0000 - val_mse: 0.0015 - val_mae: 0.0272 - val_RMSE: 0.0391 - val_mape: 7.0427 - val_MPE: -0.8866 - val_MSLE: 7.7835e-04 - val_RMSLE: 0.0185 - val_R2: 0.9620\n",
      "\n",
      "Epoch 00064: val_loss improved from 0.03957 to 0.03910, saving model to tmp\\ckeckpointer.ckpt\n"
     ]
    },
    {
     "name": "stderr",
     "output_type": "stream",
     "text": [
      "WARNING:absl:Found untraced functions such as lstm_cell_layer_call_fn, lstm_cell_layer_call_and_return_conditional_losses, lstm_cell_layer_call_fn, lstm_cell_layer_call_and_return_conditional_losses, lstm_cell_layer_call_and_return_conditional_losses while saving (showing 5 of 5). These functions will not be directly callable after loading.\n",
      "WARNING:absl:Found untraced functions such as lstm_cell_layer_call_fn, lstm_cell_layer_call_and_return_conditional_losses, lstm_cell_layer_call_fn, lstm_cell_layer_call_and_return_conditional_losses, lstm_cell_layer_call_and_return_conditional_losses while saving (showing 5 of 5). These functions will not be directly callable after loading.\n"
     ]
    },
    {
     "name": "stdout",
     "output_type": "stream",
     "text": [
      "INFO:tensorflow:Assets written to: tmp\\ckeckpointer.ckpt\\assets\n"
     ]
    },
    {
     "name": "stderr",
     "output_type": "stream",
     "text": [
      "INFO:tensorflow:Assets written to: tmp\\ckeckpointer.ckpt\\assets\n"
     ]
    },
    {
     "name": "stdout",
     "output_type": "stream",
     "text": [
      "Epoch 65/200\n",
      "3/3 [==============================] - 0s 38ms/step - loss: 0.0502 - soft_acc: 0.9733 - mse: 0.0025 - mae: 0.0363 - RMSE: 0.0487 - mape: 856627.9647 - MPE: -inf - MSLE: 0.0013 - RMSLE: 0.0245 - R2: 0.9323 - val_loss: 0.0393 - val_soft_acc: 1.0000 - val_mse: 0.0015 - val_mae: 0.0272 - val_RMSE: 0.0393 - val_mape: 7.0926 - val_MPE: -1.7539 - val_MSLE: 7.8960e-04 - val_RMSLE: 0.0185 - val_R2: 0.9616\n",
      "\n",
      "Epoch 00065: val_loss did not improve from 0.03910\n",
      "Epoch 66/200\n",
      "3/3 [==============================] - 0s 43ms/step - loss: 0.0519 - soft_acc: 0.9661 - mse: 0.0027 - mae: 0.0375 - RMSE: 0.0506 - mape: 1456582.0312 - MPE: -inf - MSLE: 0.0014 - RMSLE: 0.0254 - R2: 0.9402 - val_loss: 0.0390 - val_soft_acc: 1.0000 - val_mse: 0.0015 - val_mae: 0.0271 - val_RMSE: 0.0390 - val_mape: 7.0416 - val_MPE: -1.1249 - val_MSLE: 7.7643e-04 - val_RMSLE: 0.0184 - val_R2: 0.9622\n",
      "\n",
      "Epoch 00066: val_loss improved from 0.03910 to 0.03901, saving model to tmp\\ckeckpointer.ckpt\n"
     ]
    },
    {
     "name": "stderr",
     "output_type": "stream",
     "text": [
      "WARNING:absl:Found untraced functions such as lstm_cell_layer_call_fn, lstm_cell_layer_call_and_return_conditional_losses, lstm_cell_layer_call_fn, lstm_cell_layer_call_and_return_conditional_losses, lstm_cell_layer_call_and_return_conditional_losses while saving (showing 5 of 5). These functions will not be directly callable after loading.\n",
      "WARNING:absl:Found untraced functions such as lstm_cell_layer_call_fn, lstm_cell_layer_call_and_return_conditional_losses, lstm_cell_layer_call_fn, lstm_cell_layer_call_and_return_conditional_losses, lstm_cell_layer_call_and_return_conditional_losses while saving (showing 5 of 5). These functions will not be directly callable after loading.\n"
     ]
    },
    {
     "name": "stdout",
     "output_type": "stream",
     "text": [
      "INFO:tensorflow:Assets written to: tmp\\ckeckpointer.ckpt\\assets\n"
     ]
    },
    {
     "name": "stderr",
     "output_type": "stream",
     "text": [
      "INFO:tensorflow:Assets written to: tmp\\ckeckpointer.ckpt\\assets\n"
     ]
    },
    {
     "name": "stdout",
     "output_type": "stream",
     "text": [
      "Epoch 67/200\n",
      "3/3 [==============================] - 0s 53ms/step - loss: 0.0478 - soft_acc: 0.9694 - mse: 0.0023 - mae: 0.0349 - RMSE: 0.0471 - mape: 831555.3332 - MPE: -inf - MSLE: 0.0011 - RMSLE: 0.0235 - R2: 0.9534 - val_loss: 0.0398 - val_soft_acc: 1.0000 - val_mse: 0.0016 - val_mae: 0.0289 - val_RMSE: 0.0398 - val_mape: 7.3139 - val_MPE: 1.0091 - val_MSLE: 7.8291e-04 - val_RMSLE: 0.0196 - val_R2: 0.9606\n",
      "\n",
      "Epoch 00067: val_loss did not improve from 0.03901\n",
      "Epoch 68/200\n",
      "3/3 [==============================] - 0s 36ms/step - loss: 0.0492 - soft_acc: 0.9701 - mse: 0.0024 - mae: 0.0369 - RMSE: 0.0504 - mape: 799836.4955 - MPE: -inf - MSLE: 0.0012 - RMSLE: 0.0251 - R2: 0.8473 - val_loss: 0.0400 - val_soft_acc: 1.0000 - val_mse: 0.0016 - val_mae: 0.0292 - val_RMSE: 0.0400 - val_mape: 7.3589 - val_MPE: 1.2563 - val_MSLE: 7.8366e-04 - val_RMSLE: 0.0198 - val_R2: 0.9604\n",
      "\n",
      "Epoch 00068: val_loss did not improve from 0.03901\n",
      "Epoch 69/200\n",
      "3/3 [==============================] - 0s 42ms/step - loss: 0.0496 - soft_acc: 0.9701 - mse: 0.0025 - mae: 0.0373 - RMSE: 0.0504 - mape: 797332.8591 - MPE: -inf - MSLE: 0.0012 - RMSLE: 0.0253 - R2: 0.9474 - val_loss: 0.0387 - val_soft_acc: 1.0000 - val_mse: 0.0015 - val_mae: 0.0270 - val_RMSE: 0.0387 - val_mape: 7.0462 - val_MPE: -0.8336 - val_MSLE: 7.6002e-04 - val_RMSLE: 0.0184 - val_R2: 0.9629\n",
      "\n",
      "Epoch 00069: val_loss improved from 0.03901 to 0.03865, saving model to tmp\\ckeckpointer.ckpt\n"
     ]
    }
   ],
   "source": [
    "# val_loss가 10회 같을 시 early_stop, batch_size(=K)는 K문제 풀고 답보고 하는 식\n",
    "# 위에서 모델을 구성한 후 compile 메서드를 호출하여 학습과정을 설정합니다\n",
    "# optimizer : 훈련 과정을 설정한다\n",
    "# loss : 최적화 과정에서 최소화될 손실 함수(loss function)을 설정합니다\n",
    "# metrics : 훈련을 모니터링하기 위해 사용됩니다\n",
    "# validation_data = 검증 데이터를 사용합니다. 각 에포크마다 정확도도 함께 출력됩니다\n",
    "# 이 정확도는 훈련이 잘 되고 있는지를 보여줄 뿐이며 실제로 모델이 검증데이터를 학습하지는 않습니다\n",
    "# 검증 데이터의 loss가 낮아지다가 높아지기 시작하면 overfitting의 신호입니다\n",
    "# verbose / 0 : 출력 없음 / 1 : 훈련 진행도 보여주는 진행 막대 보여줌 / 2 : 미니 배치마다 손실 정보 출력\n",
    "\n",
    "from numpy import array\n",
    "from keras.models import Sequential\n",
    "from keras.layers import Dense\n",
    "from keras import backend as K\n",
    "\n",
    "def RMSE(y_true, y_pred):\n",
    "    return K.sqrt(K.mean(K.square(y_pred - y_true)))\n",
    "\n",
    "def soft_acc(y_true, y_pred):\n",
    "    return K.mean(K.equal(K.round(y_true), K.round(y_pred)))\n",
    "\n",
    "def MPE(y_true, y_pred): \n",
    "    return K.mean((y_true - y_pred) / y_true) * 100\n",
    "    \n",
    "def MSLE(y_true, y_pred):\n",
    "    return K.mean(K.square(K.log(y_true+1) - K.log(y_pred+1)), axis=-1)\n",
    "\n",
    "def RMSLE(y_true, y_pred):\n",
    "    return K.sqrt(K.mean(K.square(K.log(y_true+1) - K.log(y_pred+1)), axis=-1))\n",
    "\n",
    "def R2(y_true, y_pred):\n",
    "    SS_res = K.sum(K.square(y_true - y_pred))\n",
    "    SS_tot = K.sum(K.square(y_true - K.mean(y_true)))\n",
    "    return ( 1 - SS_res/(SS_tot + K.epsilon()))\n",
    "    \n",
    "model.compile(loss = RMSE, optimizer='adam', metrics=[soft_acc, 'mse', 'mae', RMSE, 'mape', MPE, MSLE, RMSLE, R2])\n",
    "\n",
    "early_stop = EarlyStopping(monitor='val_loss', patience=10)\n",
    "filename = os.path.join('tmp', 'ckeckpointer.ckpt')\n",
    "checkpoint = ModelCheckpoint(filename, monitor='val_loss', verbose=1, save_best_only=True, mode='auto')\n",
    "\n",
    "history = model.fit(x_train, y_train, \n",
    "                    epochs=200, \n",
    "                    batch_size=64,\n",
    "                    validation_data=(x_valid, y_valid), \n",
    "                    callbacks=[early_stop, checkpoint])\n",
    "\n",
    "# score_test를 만들면 테스트가 더이상 테스트가 아니고, 처음부터 모든 데이터에 대해 학습한 것과 같기 때문에 일반화 할 수 없는 모델을 만드는 것과 같다.\n",
    "\n",
    "\n",
    "score_train = model.evaluate(x_train, y_train, batch_size=2)\n",
    "score_validation = model.evaluate(x_valid, y_valid, batch_size=2)\n"
   ]
  },
  {
   "cell_type": "code",
   "execution_count": null,
   "id": "verified-architecture",
   "metadata": {
    "scrolled": true
   },
   "outputs": [],
   "source": [
    "pred = model.predict(x_test)\n",
    "pred.shape\n",
    "\n",
    "plt.figure(figsize=(12,9))\n",
    "plt.plot(np.asarray(y_test), label='Test Price')\n",
    "plt.plot(pred, label='Prediction Price')\n",
    "x_values = list(range(1))\n",
    "plt.scatter(x_values, np.asarray(y_test))\n",
    "plt.scatter(x_values, pred)\n",
    "plt.legend()\n",
    "plt.show()\n",
    "\n",
    "plt.plot(history.history['loss'])\n",
    "plt.plot(history.history['val_loss'])\n",
    "plt.title('model loss')\n",
    "plt.ylabel('Root mean squared error(RMSE)')\n",
    "plt.xlabel('Epoch')\n",
    "plt.legend(['Train RMSE', 'Validation RMSE'], loc='upper left')\n",
    "plt.show()"
   ]
  },
  {
   "cell_type": "code",
   "execution_count": 22,
   "id": "printable-ecology",
   "metadata": {
    "scrolled": true
   },
   "outputs": [
    {
     "data": {
      "image/png": "[encoded data removed]",
      "text/plain": [
       "<Figure size 432x288 with 1 Axes>"
      ]
     },
     "metadata": {
      "needs_background": "light"
     },
     "output_type": "display_data"
    }
   ],
   "source": [
    "plt.plot(history.history['val_soft_acc'])\n",
    "plt.plot(history.history['soft_acc'])\n",
    "plt.title('Model Acurracy')\n",
    "plt.ylabel('Accuracy')\n",
    "plt.xlabel('epoch')\n",
    "plt.legend(['Training Accuracy', 'Validation Accuracy'], loc='lower right')\n",
    "plt.show()"
   ]
  },
  {
   "cell_type": "code",
   "execution_count": 23,
   "id": "greatest-pocket",
   "metadata": {},
   "outputs": [
    {
     "data": {
      "text/plain": [
       "array([[0.82978723, 0.76653696, 0.89952153, 0.23483657]])"
      ]
     },
     "execution_count": 23,
     "metadata": {},
     "output_type": "execute_result"
    }
   ],
   "source": [
    "tf = x_test[:,19]\n",
    "tf"
   ]
  },
  {
   "cell_type": "code",
   "execution_count": 24,
   "id": "behavioral-passing",
   "metadata": {},
   "outputs": [
    {
     "data": {
      "text/plain": [
       "array([[0.82978723, 0.76653696, 0.89952153, 0.708794  , 0.23483657]])"
      ]
     },
     "execution_count": 24,
     "metadata": {},
     "output_type": "execute_result"
    }
   ],
   "source": [
    "# scaler.inverse_transform(v)를 돌리기 위해 pred가 들어간 (1,5)를 만들어줍니다 \n",
    "# tf는 형식 때문에 들어갔기 때문에 중요하게 취급되는 값이 아닙니다\n",
    "\n",
    "arr_1D = np.insert(tf, 3, pred)\n",
    "\n",
    "# scaler.inverse_transform(v)를 돌리기 위해 array를 2D로 바꿔줍니다\n",
    "\n",
    "arr_2D = arr_1D.reshape((1,-1))\n",
    "\n",
    "arr_2D"
   ]
  },
  {
   "cell_type": "code",
   "execution_count": 25,
   "id": "naked-female",
   "metadata": {},
   "outputs": [
    {
     "data": {
      "text/plain": [
       "array([[ 10100.        ,  10200.        ,   9940.        ,\n",
       "          9919.07293439, 133504.        ]])"
      ]
     },
     "execution_count": 25,
     "metadata": {},
     "output_type": "execute_result"
    }
   ],
   "source": [
    "sit_arr_2D = scaler.inverse_transform(arr_2D)\n",
    "sit_arr_2D"
   ]
  },
  {
   "cell_type": "code",
   "execution_count": 26,
   "id": "black-conversation",
   "metadata": {},
   "outputs": [
    {
     "data": {
      "text/plain": [
       "array([9919.07293439])"
      ]
     },
     "execution_count": 26,
     "metadata": {},
     "output_type": "execute_result"
    }
   ],
   "source": [
    "predict_HY = sit_arr_2D[:,3]\n",
    "\n",
    "predict_HY"
   ]
  },
  {
   "cell_type": "code",
   "execution_count": 27,
   "id": "black-child",
   "metadata": {},
   "outputs": [
    {
     "name": "stdout",
     "output_type": "stream",
     "text": [
      "Predicted value for next day= 9919 원\n",
      "Last close price= 10650 원\n",
      "percentage change should be = -6.864 %\n"
     ]
    }
   ],
   "source": [
    "# 21일 중 20일을 학습시켜 얻은 21-02-05의 예측주가입니다(2/5 종가 확정 후 검사)\n",
    "\n",
    "prediction = int(predict_HY[[0]])\n",
    "print('Predicted value for next day=',prediction, '원')\n",
    "b = df['Close'].iloc[-1]\n",
    "print('Last close price=',b, '원')\n",
    "percentage = ((prediction-b)/b)*100\n",
    "print('percentage change should be =', percentage.round(3),'%' )"
   ]
  },
  {
   "cell_type": "code",
   "execution_count": 28,
   "id": "primary-contractor",
   "metadata": {},
   "outputs": [
    {
     "name": "stdout",
     "output_type": "stream",
     "text": [
      "train accuracy: 87.5000%\n",
      "validation accuracy: 87.5000%\n"
     ]
    }
   ],
   "source": [
    "accuracy_train = 100*score_train[1]\n",
    "accuracy_validation = 100*score_validation[1]\n",
    "\n",
    "print('train accuracy: %.4f%%' % accuracy_train)\n",
    "print('validation accuracy: %.4f%%' % accuracy_validation)"
   ]
  },
  {
   "cell_type": "code",
   "execution_count": 29,
   "id": "magnetic-personal",
   "metadata": {},
   "outputs": [
    {
     "name": "stdout",
     "output_type": "stream",
     "text": [
      "R2_Score\n",
      "----------------------------------------\n",
      "train error: -13.811051368713379 |\n",
      "valid error: -0.8002797365188599 |\n",
      "test error : nan\n",
      "\n",
      "Mean Squared Error\n",
      "----------------------------------------\n",
      "train error: 0.004828365053981543 |\n",
      "valid error: 0.0034562796354293823 |\n",
      "test error : 0.08480093573793086\n",
      "\n",
      "Mean Absolute Error\n",
      "----------------------------------------\n",
      "train error: 0.053121794015169144 |\n",
      "valid error: 0.050891272723674774 |\n",
      "test error : 0.29120600223541215\n",
      "\n",
      "Root Mean Squared Error\n",
      "----------------------------------------\n",
      "train error: 0.05984004959464073 |\n",
      "valid error: 0.050891272723674774 |\n",
      "test error : 0.29120600223541215\n",
      "\n",
      "Mean Squared Logarithmic Error\n",
      "----------------------------------------\n",
      "train error: 0.0023160281125456095 |\n",
      "valid error: 0.001777402125298977 |\n",
      "test error : 0.02476194934031779\n",
      "\n",
      "Root Mean Squared Logarithmic Error\n",
      "----------------------------------------\n",
      "train error: 0.036562588065862656 |\n",
      "valid error: 0.03545112907886505 |\n",
      "test error : 0.15735930013926025\n",
      "\n",
      "Mean Absolute Percentage Error\n",
      "----------------------------------------\n",
      "train error: 14.516695976257324 |\n",
      "valid error: 0.050891272723674774 |\n",
      "test error : 29.120600223541228\n",
      "\n",
      "Mean Percentage Error\n",
      "----------------------------------------\n",
      "train error: -7.172335147857666 |\n",
      "valid error: 0.050891272723674774 |\n",
      "test error : 29.120600223541228\n",
      "\n"
     ]
    },
    {
     "name": "stderr",
     "output_type": "stream",
     "text": [
      "C:\\ProgramData\\Anaconda3\\envs\\tensorflow-cpu\\lib\\site-packages\\sklearn\\metrics\\_regression.py:682: UndefinedMetricWarning: R^2 score is not well-defined with less than two samples.\n",
      "  warnings.warn(msg, UndefinedMetricWarning)\n"
     ]
    }
   ],
   "source": [
    "import numpy as np\n",
    "from sklearn.metrics import r2_score\n",
    "from sklearn.metrics import mean_squared_log_error\n",
    "\n",
    "Y = np.asarray(y_test)\n",
    "Y_hat = pred\n",
    "\n",
    "def MSE(y_true, y_pred):\n",
    "    return np.mean(np.square((y_true - y_pred)))\n",
    "\n",
    "def MAE(y_true, y_pred): \n",
    "    return np.mean(np.abs((y_true - y_pred)))\n",
    "\n",
    "def RMSE(y_true, y_pred):\n",
    "    return np.sqrt(np.mean((y_pred-y_true)**2))\n",
    "\n",
    "def MAPE(y_true, y_pred): \n",
    "    return np.mean(np.abs((y_true - y_pred) / y_true)) * 100\n",
    "\n",
    "def MPE(y_true, y_pred): \n",
    "    return np.mean((y_true - y_pred) / y_true) * 100\n",
    "\n",
    "def root_mean_squared_log_error(y_true, y_pred): \n",
    "    return np.sqrt(mean_squared_log_error(y_true, y_pred))\n",
    "\n",
    "print('R2_Score')\n",
    "print('-' * 40)\n",
    "print('train error: {} |\\nvalid error: {} |\\ntest error : {}\\n'.format(score_train[9], score_validation[9], r2_score(Y, Y_hat)))\n",
    "\n",
    "print('Mean Squared Error')\n",
    "print('-' * 40)\n",
    "print('train error: {} |\\nvalid error: {} |\\ntest error : {}\\n'.format(score_train[2], score_validation[2], MSE(Y, Y_hat)))\n",
    "\n",
    "print('Mean Absolute Error')\n",
    "print('-' * 40)\n",
    "print('train error: {} |\\nvalid error: {} |\\ntest error : {}\\n'.format(score_train[3], score_validation[3], MAE(Y, Y_hat)))\n",
    "\n",
    "print('Root Mean Squared Error')\n",
    "print('-' * 40)\n",
    "print('train error: {} |\\nvalid error: {} |\\ntest error : {}\\n'.format(score_train[4], score_validation[3], RMSE(Y, Y_hat)))\n",
    "\n",
    "print('Mean Squared Logarithmic Error')\n",
    "print('-' * 40)\n",
    "print('train error: {} |\\nvalid error: {} |\\ntest error : {}\\n'.format(score_train[7], score_validation[7], mean_squared_log_error(Y, Y_hat)))\n",
    "\n",
    "print('Root Mean Squared Logarithmic Error')\n",
    "print('-' * 40)\n",
    "print('train error: {} |\\nvalid error: {} |\\ntest error : {}\\n'.format(score_train[8], score_validation[8], root_mean_squared_log_error(Y, Y_hat)))\n",
    "\n",
    "print('Mean Absolute Percentage Error')\n",
    "print('-' * 40)\n",
    "print('train error: {} |\\nvalid error: {} |\\ntest error : {}\\n'.format(score_train[5], score_validation[3], MAPE(Y, Y_hat)))\n",
    "\n",
    "print('Mean Percentage Error')\n",
    "print('-' * 40)\n",
    "print('train error: {} |\\nvalid error: {} |\\ntest error : {}\\n'.format(score_train[6], score_validation[3], MPE(Y, Y_hat)))\n"
   ]
  },
  {
   "cell_type": "code",
   "execution_count": 30,
   "id": "developing-anthropology",
   "metadata": {},
   "outputs": [
    {
     "data": {
      "text/html": [
       "<div>\n",
       "<style scoped>\n",
       "    .dataframe tbody tr th:only-of-type {\n",
       "        vertical-align: middle;\n",
       "    }\n",
       "\n",
       "    .dataframe tbody tr th {\n",
       "        vertical-align: top;\n",
       "    }\n",
       "\n",
       "    .dataframe thead th {\n",
       "        text-align: right;\n",
       "    }\n",
       "</style>\n",
       "<table border=\"1\" class=\"dataframe\">\n",
       "  <thead>\n",
       "    <tr style=\"text-align: right;\">\n",
       "      <th></th>\n",
       "      <th>Close</th>\n",
       "    </tr>\n",
       "  </thead>\n",
       "  <tbody>\n",
       "    <tr>\n",
       "      <th>count</th>\n",
       "      <td>21.000000</td>\n",
       "    </tr>\n",
       "    <tr>\n",
       "      <th>mean</th>\n",
       "      <td>0.631948</td>\n",
       "    </tr>\n",
       "    <tr>\n",
       "      <th>std</th>\n",
       "      <td>0.148987</td>\n",
       "    </tr>\n",
       "    <tr>\n",
       "      <th>min</th>\n",
       "      <td>0.446215</td>\n",
       "    </tr>\n",
       "    <tr>\n",
       "      <th>25%</th>\n",
       "      <td>0.533865</td>\n",
       "    </tr>\n",
       "    <tr>\n",
       "      <th>50%</th>\n",
       "      <td>0.609562</td>\n",
       "    </tr>\n",
       "    <tr>\n",
       "      <th>75%</th>\n",
       "      <td>0.737052</td>\n",
       "    </tr>\n",
       "    <tr>\n",
       "      <th>max</th>\n",
       "      <td>1.000000</td>\n",
       "    </tr>\n",
       "  </tbody>\n",
       "</table>\n",
       "</div>"
      ],
      "text/plain": [
       "           Close\n",
       "count  21.000000\n",
       "mean    0.631948\n",
       "std     0.148987\n",
       "min     0.446215\n",
       "25%     0.533865\n",
       "50%     0.609562\n",
       "75%     0.737052\n",
       "max     1.000000"
      ]
     },
     "execution_count": 30,
     "metadata": {},
     "output_type": "execute_result"
    }
   ],
   "source": [
    "# count : 개수, std : 표준편차\n",
    "\n",
    "test[label_cols].describe()"
   ]
  },
  {
   "cell_type": "code",
   "execution_count": null,
   "id": "binding-beads",
   "metadata": {},
   "outputs": [],
   "source": []
  }
 ],
 "metadata": {
  "kernelspec": {
   "display_name": "tensorflow-cpu",
   "language": "python",
   "name": "tensorflow-cpu"
  },
  "language_info": {
   "codemirror_mode": {
    "name": "ipython",
    "version": 3
   },
   "file_extension": ".py",
   "mimetype": "text/x-python",
   "name": "python",
   "nbconvert_exporter": "python",
   "pygments_lexer": "ipython3",
   "version": "3.8.5"
  }
 },
 "nbformat": 4,
 "nbformat_minor": 5
}
