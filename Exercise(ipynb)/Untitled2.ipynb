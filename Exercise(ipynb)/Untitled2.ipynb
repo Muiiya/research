{
 "cells": [
  {
   "cell_type": "code",
   "execution_count": null,
   "id": "electoral-family",
   "metadata": {},
   "outputs": [],
   "source": [
    "df_price = pd.read_csv(os.path.join(data_path, '01-삼성전자-주가.csv'), encoding='utf8')\n",
    "df_price.describe()"
   ]
  }
 ],
 "metadata": {
  "kernelspec": {
   "display_name": "tf-1",
   "language": "python",
   "name": "tf-1"
  },
  "language_info": {
   "codemirror_mode": {
    "name": "ipython",
    "version": 3
   },
   "file_extension": ".py",
   "mimetype": "text/x-python",
   "name": "python",
   "nbconvert_exporter": "python",
   "pygments_lexer": "ipython3",
   "version": "3.7.9"
  }
 },
 "nbformat": 4,
 "nbformat_minor": 5
}
