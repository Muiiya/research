{
 "cells": [
  {
   "cell_type": "markdown",
   "id": "temporal-footage",
   "metadata": {},
   "source": [
    "# 필요한 모듈을 가져오고 데이터를 로드합니다"
   ]
  },
  {
   "cell_type": "code",
   "execution_count": 1,
   "id": "incoming-water",
   "metadata": {},
   "outputs": [],
   "source": [
    "import pandas as pd\n",
    "import numpy as np\n",
    "import matplotlib.pyplot as plt\n",
    "import seaborn as sns\n",
    "import warnings\n",
    "import os\n",
    "import sys\n",
    "import tensorflow as tf\n",
    "\n",
    "from sklearn.preprocessing import MinMaxScaler\n",
    "from tqdm import tqdm"
   ]
  },
  {
   "cell_type": "code",
   "execution_count": 2,
   "id": "indoor-nickname",
   "metadata": {},
   "outputs": [
    {
     "data": {
      "text/html": [
       "<div>\n",
       "<style scoped>\n",
       "    .dataframe tbody tr th:only-of-type {\n",
       "        vertical-align: middle;\n",
       "    }\n",
       "\n",
       "    .dataframe tbody tr th {\n",
       "        vertical-align: top;\n",
       "    }\n",
       "\n",
       "    .dataframe thead th {\n",
       "        text-align: right;\n",
       "    }\n",
       "</style>\n",
       "<table border=\"1\" class=\"dataframe\">\n",
       "  <thead>\n",
       "    <tr style=\"text-align: right;\">\n",
       "      <th></th>\n",
       "      <th>Date</th>\n",
       "      <th>Open</th>\n",
       "      <th>High</th>\n",
       "      <th>Low</th>\n",
       "      <th>Close</th>\n",
       "      <th>Adj Close</th>\n",
       "      <th>Volume</th>\n",
       "    </tr>\n",
       "  </thead>\n",
       "  <tbody>\n",
       "    <tr>\n",
       "      <th>0</th>\n",
       "      <td>2000-01-04</td>\n",
       "      <td>6300</td>\n",
       "      <td>7100</td>\n",
       "      <td>6300</td>\n",
       "      <td>7000</td>\n",
       "      <td>1619.266357</td>\n",
       "      <td>56800</td>\n",
       "    </tr>\n",
       "    <tr>\n",
       "      <th>1</th>\n",
       "      <td>2000-01-05</td>\n",
       "      <td>6700</td>\n",
       "      <td>7100</td>\n",
       "      <td>6610</td>\n",
       "      <td>6700</td>\n",
       "      <td>1549.868774</td>\n",
       "      <td>52100</td>\n",
       "    </tr>\n",
       "    <tr>\n",
       "      <th>2</th>\n",
       "      <td>2000-01-06</td>\n",
       "      <td>7000</td>\n",
       "      <td>7000</td>\n",
       "      <td>6250</td>\n",
       "      <td>6300</td>\n",
       "      <td>1457.339844</td>\n",
       "      <td>64900</td>\n",
       "    </tr>\n",
       "    <tr>\n",
       "      <th>3</th>\n",
       "      <td>2000-01-07</td>\n",
       "      <td>6350</td>\n",
       "      <td>6600</td>\n",
       "      <td>6300</td>\n",
       "      <td>6370</td>\n",
       "      <td>1473.532349</td>\n",
       "      <td>61800</td>\n",
       "    </tr>\n",
       "    <tr>\n",
       "      <th>4</th>\n",
       "      <td>2000-01-10</td>\n",
       "      <td>6610</td>\n",
       "      <td>6700</td>\n",
       "      <td>6300</td>\n",
       "      <td>6500</td>\n",
       "      <td>1503.603882</td>\n",
       "      <td>56100</td>\n",
       "    </tr>\n",
       "  </tbody>\n",
       "</table>\n",
       "</div>"
      ],
      "text/plain": [
       "         Date  Open  High   Low  Close    Adj Close  Volume\n",
       "0  2000-01-04  6300  7100  6300   7000  1619.266357   56800\n",
       "1  2000-01-05  6700  7100  6610   6700  1549.868774   52100\n",
       "2  2000-01-06  7000  7000  6250   6300  1457.339844   64900\n",
       "3  2000-01-07  6350  6600  6300   6370  1473.532349   61800\n",
       "4  2000-01-10  6610  6700  6300   6500  1503.603882   56100"
      ]
     },
     "execution_count": 2,
     "metadata": {},
     "output_type": "execute_result"
    }
   ],
   "source": [
    "# 예측할 종목은 한양증권(001750) 입니다\n",
    "# 기간은 16-02-04 ~ 21-02-04\n",
    "\n",
    "df = pd.read_csv('C:\\Jupyter_Project\\HY.csv')\n",
    "df.head()"
   ]
  },
  {
   "cell_type": "code",
   "execution_count": 3,
   "id": "olive-player",
   "metadata": {},
   "outputs": [
    {
     "data": {
      "text/plain": [
       "0       0.231324\n",
       "1       0.231324\n",
       "2       0.231324\n",
       "3       0.231324\n",
       "4       0.231324\n",
       "          ...   \n",
       "5294    1.000000\n",
       "5295    1.000000\n",
       "5296    1.000000\n",
       "5297    1.000000\n",
       "5298    1.000000\n",
       "Length: 5299, dtype: float64"
      ]
     },
     "execution_count": 3,
     "metadata": {},
     "output_type": "execute_result"
    }
   ],
   "source": [
    "ratio = df['Adj Close']/df['Close']\n",
    "\n",
    "ratio"
   ]
  },
  {
   "cell_type": "code",
   "execution_count": 4,
   "id": "exotic-omega",
   "metadata": {},
   "outputs": [],
   "source": [
    "df['Adj Open'] = df['Open']*ratio\n",
    "df['Adj High'] = df['High']*ratio\n",
    "df['Adj Low'] = df['Low']*ratio"
   ]
  },
  {
   "cell_type": "code",
   "execution_count": 5,
   "id": "baking-maple",
   "metadata": {},
   "outputs": [],
   "source": [
    "df.drop(['Open','High','Low','Close'], axis=1, inplace=True)"
   ]
  },
  {
   "cell_type": "code",
   "execution_count": 6,
   "id": "promotional-barrier",
   "metadata": {},
   "outputs": [],
   "source": [
    "df.rename(columns={'Adj Open' : 'Open', 'Adj High' : 'High', 'Adj Low' : 'Low', 'Adj Close' : 'Close'}, inplace=True)"
   ]
  },
  {
   "cell_type": "code",
   "execution_count": 7,
   "id": "stone-closer",
   "metadata": {},
   "outputs": [
    {
     "data": {
      "text/html": [
       "<div>\n",
       "<style scoped>\n",
       "    .dataframe tbody tr th:only-of-type {\n",
       "        vertical-align: middle;\n",
       "    }\n",
       "\n",
       "    .dataframe tbody tr th {\n",
       "        vertical-align: top;\n",
       "    }\n",
       "\n",
       "    .dataframe thead th {\n",
       "        text-align: right;\n",
       "    }\n",
       "</style>\n",
       "<table border=\"1\" class=\"dataframe\">\n",
       "  <thead>\n",
       "    <tr style=\"text-align: right;\">\n",
       "      <th></th>\n",
       "      <th>Open</th>\n",
       "      <th>High</th>\n",
       "      <th>Low</th>\n",
       "      <th>Close</th>\n",
       "      <th>Volume</th>\n",
       "    </tr>\n",
       "  </thead>\n",
       "  <tbody>\n",
       "    <tr>\n",
       "      <th>0</th>\n",
       "      <td>1457.339721</td>\n",
       "      <td>1642.398734</td>\n",
       "      <td>1457.339721</td>\n",
       "      <td>1619.266357</td>\n",
       "      <td>56800</td>\n",
       "    </tr>\n",
       "    <tr>\n",
       "      <th>1</th>\n",
       "      <td>1549.868774</td>\n",
       "      <td>1642.398253</td>\n",
       "      <td>1529.049641</td>\n",
       "      <td>1549.868774</td>\n",
       "      <td>52100</td>\n",
       "    </tr>\n",
       "    <tr>\n",
       "      <th>2</th>\n",
       "      <td>1619.266493</td>\n",
       "      <td>1619.266493</td>\n",
       "      <td>1445.773655</td>\n",
       "      <td>1457.339844</td>\n",
       "      <td>64900</td>\n",
       "    </tr>\n",
       "    <tr>\n",
       "      <th>3</th>\n",
       "      <td>1468.905874</td>\n",
       "      <td>1526.736814</td>\n",
       "      <td>1457.339686</td>\n",
       "      <td>1473.532349</td>\n",
       "      <td>61800</td>\n",
       "    </tr>\n",
       "    <tr>\n",
       "      <th>4</th>\n",
       "      <td>1529.049486</td>\n",
       "      <td>1549.868617</td>\n",
       "      <td>1457.339147</td>\n",
       "      <td>1503.603882</td>\n",
       "      <td>56100</td>\n",
       "    </tr>\n",
       "    <tr>\n",
       "      <th>...</th>\n",
       "      <td>...</td>\n",
       "      <td>...</td>\n",
       "      <td>...</td>\n",
       "      <td>...</td>\n",
       "      <td>...</td>\n",
       "    </tr>\n",
       "    <tr>\n",
       "      <th>5294</th>\n",
       "      <td>9200.000000</td>\n",
       "      <td>9480.000000</td>\n",
       "      <td>9100.000000</td>\n",
       "      <td>9380.000000</td>\n",
       "      <td>81355</td>\n",
       "    </tr>\n",
       "    <tr>\n",
       "      <th>5295</th>\n",
       "      <td>9460.000000</td>\n",
       "      <td>9810.000000</td>\n",
       "      <td>9460.000000</td>\n",
       "      <td>9700.000000</td>\n",
       "      <td>105755</td>\n",
       "    </tr>\n",
       "    <tr>\n",
       "      <th>5296</th>\n",
       "      <td>9850.000000</td>\n",
       "      <td>10200.000000</td>\n",
       "      <td>9800.000000</td>\n",
       "      <td>9990.000000</td>\n",
       "      <td>170966</td>\n",
       "    </tr>\n",
       "    <tr>\n",
       "      <th>5297</th>\n",
       "      <td>10100.000000</td>\n",
       "      <td>10200.000000</td>\n",
       "      <td>9940.000000</td>\n",
       "      <td>10150.000000</td>\n",
       "      <td>133504</td>\n",
       "    </tr>\n",
       "    <tr>\n",
       "      <th>5298</th>\n",
       "      <td>10200.000000</td>\n",
       "      <td>10800.000000</td>\n",
       "      <td>10150.000000</td>\n",
       "      <td>10650.000000</td>\n",
       "      <td>247224</td>\n",
       "    </tr>\n",
       "  </tbody>\n",
       "</table>\n",
       "<p>5299 rows × 5 columns</p>\n",
       "</div>"
      ],
      "text/plain": [
       "              Open          High           Low         Close  Volume\n",
       "0      1457.339721   1642.398734   1457.339721   1619.266357   56800\n",
       "1      1549.868774   1642.398253   1529.049641   1549.868774   52100\n",
       "2      1619.266493   1619.266493   1445.773655   1457.339844   64900\n",
       "3      1468.905874   1526.736814   1457.339686   1473.532349   61800\n",
       "4      1529.049486   1549.868617   1457.339147   1503.603882   56100\n",
       "...            ...           ...           ...           ...     ...\n",
       "5294   9200.000000   9480.000000   9100.000000   9380.000000   81355\n",
       "5295   9460.000000   9810.000000   9460.000000   9700.000000  105755\n",
       "5296   9850.000000  10200.000000   9800.000000   9990.000000  170966\n",
       "5297  10100.000000  10200.000000   9940.000000  10150.000000  133504\n",
       "5298  10200.000000  10800.000000  10150.000000  10650.000000  247224\n",
       "\n",
       "[5299 rows x 5 columns]"
      ]
     },
     "execution_count": 7,
     "metadata": {},
     "output_type": "execute_result"
    }
   ],
   "source": [
    "# 과거의 절대 가격도 현재 가격의 시점으로 보기 위해 수정 가격을 사용한다\n",
    "# 현재 시점으로 과거 가격에다 과거 발생한 액면분할(stock split)과 현금배당(cash dividends)을 \n",
    "# 반영한 가격이 수정가격(adjusted price)이다. 따라서 OHLC -> adj_OHLC로 바꿔 준다\n",
    "\n",
    "df = df[['Open', 'High', 'Low', 'Close', 'Volume']]\n",
    "\n",
    "df"
   ]
  },
  {
   "cell_type": "markdown",
   "id": "alive-imperial",
   "metadata": {},
   "source": [
    "# Normalization을 진행합니다"
   ]
  },
  {
   "cell_type": "code",
   "execution_count": 8,
   "id": "arbitrary-kazakhstan",
   "metadata": {},
   "outputs": [
    {
     "name": "stdout",
     "output_type": "stream",
     "text": [
      "          Open      High       Low     Close    Volume\n",
      "0     0.068903  0.079631  0.070081  0.082280  0.020308\n",
      "1     0.076665  0.079631  0.076089  0.076473  0.018627\n",
      "2     0.082487  0.077801  0.069112  0.068730  0.023204\n",
      "3     0.069873  0.070480  0.070081  0.070085  0.022095\n",
      "4     0.074918  0.072310  0.070081  0.072601  0.020057\n",
      "...        ...       ...       ...       ...       ...\n",
      "5294  0.718436  0.699782  0.710414  0.731697  0.029087\n",
      "5295  0.740248  0.725893  0.740577  0.758474  0.037810\n",
      "5296  0.772965  0.756752  0.769063  0.782742  0.061125\n",
      "5297  0.793938  0.756752  0.780793  0.796130  0.047732\n",
      "5298  0.802327  0.804227  0.798388  0.837970  0.088390\n",
      "\n",
      "[5299 rows x 5 columns]\n"
     ]
    }
   ],
   "source": [
    "scaler = MinMaxScaler()\n",
    "scale_cols = ['Open', 'High', 'Low', 'Close', 'Volume']\n",
    "df_scaled = scaler.fit_transform(df[scale_cols])\n",
    "\n",
    "df_scaled = pd.DataFrame(df_scaled)\n",
    "df_scaled.columns = scale_cols\n",
    "\n",
    "print(df_scaled)"
   ]
  },
  {
   "cell_type": "markdown",
   "id": "collective-mauritius",
   "metadata": {},
   "source": [
    "# 데이터를 분할하여 훈련 데이터를 생성합니다"
   ]
  },
  {
   "cell_type": "code",
   "execution_count": 9,
   "id": "placed-mission",
   "metadata": {},
   "outputs": [],
   "source": [
    "# 20일 학습하고 그 다음날 종가예측\n",
    "# 테스트 기간은 40일, 따라서 1221-40 : train / 40 : test\n",
    "\n",
    "window_size = 20\n",
    "TEST_SIZE = 21"
   ]
  },
  {
   "cell_type": "code",
   "execution_count": 10,
   "id": "unknown-skill",
   "metadata": {},
   "outputs": [],
   "source": [
    "train = df_scaled[:-TEST_SIZE]\n",
    "test = df_scaled[-TEST_SIZE:]"
   ]
  },
  {
   "cell_type": "code",
   "execution_count": 11,
   "id": "novel-shell",
   "metadata": {},
   "outputs": [],
   "source": [
    "# 정해진 window_size에 기반하여 20일 기간의 데이터 셋을 묶어준다\n",
    "\n",
    "def make_dataset(data, label, window_size=20):\n",
    "    feature_list = []\n",
    "    label_list = []\n",
    "    for i in range(len(data) - window_size):\n",
    "        feature_list.append(np.array(data.iloc[i:i+window_size]))\n",
    "        label_list.append(np.array(label.iloc[i+window_size]))\n",
    "    return np.array(feature_list), np.array(label_list)"
   ]
  },
  {
   "cell_type": "code",
   "execution_count": 13,
   "id": "known-religious",
   "metadata": {},
   "outputs": [
    {
     "ename": "NameError",
     "evalue": "name 'label_list' is not defined",
     "output_type": "error",
     "traceback": [
      "\u001b[1;31m---------------------------------------------------------------------------\u001b[0m",
      "\u001b[1;31mNameError\u001b[0m                                 Traceback (most recent call last)",
      "\u001b[1;32m<ipython-input-13-d6c9e943ebe2>\u001b[0m in \u001b[0;36m<module>\u001b[1;34m\u001b[0m\n\u001b[1;32m----> 1\u001b[1;33m \u001b[0mnp\u001b[0m\u001b[1;33m.\u001b[0m\u001b[0marray\u001b[0m\u001b[1;33m(\u001b[0m\u001b[0mlabel_list\u001b[0m\u001b[1;33m)\u001b[0m\u001b[1;33m\u001b[0m\u001b[1;33m\u001b[0m\u001b[0m\n\u001b[0m",
      "\u001b[1;31mNameError\u001b[0m: name 'label_list' is not defined"
     ]
    }
   ],
   "source": [
    "np.array(label_list)"
   ]
  },
  {
   "cell_type": "markdown",
   "id": "velvet-patch",
   "metadata": {},
   "source": [
    "# train data를 split하여 validation set을 만든다"
   ]
  },
  {
   "cell_type": "code",
   "execution_count": 14,
   "id": "adolescent-cleveland",
   "metadata": {},
   "outputs": [
    {
     "data": {
      "text/html": [
       "<div>\n",
       "<style scoped>\n",
       "    .dataframe tbody tr th:only-of-type {\n",
       "        vertical-align: middle;\n",
       "    }\n",
       "\n",
       "    .dataframe tbody tr th {\n",
       "        vertical-align: top;\n",
       "    }\n",
       "\n",
       "    .dataframe thead th {\n",
       "        text-align: right;\n",
       "    }\n",
       "</style>\n",
       "<table border=\"1\" class=\"dataframe\">\n",
       "  <thead>\n",
       "    <tr style=\"text-align: right;\">\n",
       "      <th></th>\n",
       "      <th>Open</th>\n",
       "      <th>High</th>\n",
       "      <th>Low</th>\n",
       "      <th>Close</th>\n",
       "      <th>Volume</th>\n",
       "    </tr>\n",
       "  </thead>\n",
       "  <tbody>\n",
       "    <tr>\n",
       "      <th>5278</th>\n",
       "      <td>0.745281</td>\n",
       "      <td>0.706903</td>\n",
       "      <td>0.736387</td>\n",
       "      <td>0.742575</td>\n",
       "      <td>0.038455</td>\n",
       "    </tr>\n",
       "    <tr>\n",
       "      <th>5279</th>\n",
       "      <td>0.746959</td>\n",
       "      <td>0.752796</td>\n",
       "      <td>0.746442</td>\n",
       "      <td>0.757638</td>\n",
       "      <td>0.140303</td>\n",
       "    </tr>\n",
       "    <tr>\n",
       "      <th>5280</th>\n",
       "      <td>0.772965</td>\n",
       "      <td>0.729058</td>\n",
       "      <td>0.743928</td>\n",
       "      <td>0.755964</td>\n",
       "      <td>0.043703</td>\n",
       "    </tr>\n",
       "    <tr>\n",
       "      <th>5281</th>\n",
       "      <td>0.761220</td>\n",
       "      <td>0.721937</td>\n",
       "      <td>0.753982</td>\n",
       "      <td>0.761822</td>\n",
       "      <td>0.018468</td>\n",
       "    </tr>\n",
       "    <tr>\n",
       "      <th>5282</th>\n",
       "      <td>0.765415</td>\n",
       "      <td>0.723520</td>\n",
       "      <td>0.756496</td>\n",
       "      <td>0.765169</td>\n",
       "      <td>0.018569</td>\n",
       "    </tr>\n",
       "    <tr>\n",
       "      <th>5283</th>\n",
       "      <td>0.767093</td>\n",
       "      <td>0.727476</td>\n",
       "      <td>0.745604</td>\n",
       "      <td>0.747596</td>\n",
       "      <td>0.030688</td>\n",
       "    </tr>\n",
       "    <tr>\n",
       "      <th>5284</th>\n",
       "      <td>0.748637</td>\n",
       "      <td>0.706903</td>\n",
       "      <td>0.728009</td>\n",
       "      <td>0.727513</td>\n",
       "      <td>0.026529</td>\n",
       "    </tr>\n",
       "    <tr>\n",
       "      <th>5285</th>\n",
       "      <td>0.729342</td>\n",
       "      <td>0.706903</td>\n",
       "      <td>0.727171</td>\n",
       "      <td>0.727513</td>\n",
       "      <td>0.035990</td>\n",
       "    </tr>\n",
       "    <tr>\n",
       "      <th>5286</th>\n",
       "      <td>0.731859</td>\n",
       "      <td>0.695826</td>\n",
       "      <td>0.721306</td>\n",
       "      <td>0.724166</td>\n",
       "      <td>0.022289</td>\n",
       "    </tr>\n",
       "    <tr>\n",
       "      <th>5287</th>\n",
       "      <td>0.727664</td>\n",
       "      <td>0.699782</td>\n",
       "      <td>0.723820</td>\n",
       "      <td>0.740065</td>\n",
       "      <td>0.028646</td>\n",
       "    </tr>\n",
       "    <tr>\n",
       "      <th>5288</th>\n",
       "      <td>0.731859</td>\n",
       "      <td>0.722728</td>\n",
       "      <td>0.732198</td>\n",
       "      <td>0.754290</td>\n",
       "      <td>0.046671</td>\n",
       "    </tr>\n",
       "    <tr>\n",
       "      <th>5289</th>\n",
       "      <td>0.763737</td>\n",
       "      <td>0.752796</td>\n",
       "      <td>0.761523</td>\n",
       "      <td>0.791946</td>\n",
       "      <td>0.084589</td>\n",
       "    </tr>\n",
       "    <tr>\n",
       "      <th>5290</th>\n",
       "      <td>0.793938</td>\n",
       "      <td>0.780490</td>\n",
       "      <td>0.794199</td>\n",
       "      <td>0.812866</td>\n",
       "      <td>0.051009</td>\n",
       "    </tr>\n",
       "    <tr>\n",
       "      <th>5291</th>\n",
       "      <td>0.827494</td>\n",
       "      <td>0.784446</td>\n",
       "      <td>0.790009</td>\n",
       "      <td>0.791946</td>\n",
       "      <td>0.051932</td>\n",
       "    </tr>\n",
       "    <tr>\n",
       "      <th>5292</th>\n",
       "      <td>0.777999</td>\n",
       "      <td>0.733806</td>\n",
       "      <td>0.740577</td>\n",
       "      <td>0.744249</td>\n",
       "      <td>0.072005</td>\n",
       "    </tr>\n",
       "    <tr>\n",
       "      <th>5293</th>\n",
       "      <td>0.747798</td>\n",
       "      <td>0.709277</td>\n",
       "      <td>0.714604</td>\n",
       "      <td>0.721655</td>\n",
       "      <td>0.050171</td>\n",
       "    </tr>\n",
       "    <tr>\n",
       "      <th>5294</th>\n",
       "      <td>0.718436</td>\n",
       "      <td>0.699782</td>\n",
       "      <td>0.710414</td>\n",
       "      <td>0.731697</td>\n",
       "      <td>0.029087</td>\n",
       "    </tr>\n",
       "    <tr>\n",
       "      <th>5295</th>\n",
       "      <td>0.740248</td>\n",
       "      <td>0.725893</td>\n",
       "      <td>0.740577</td>\n",
       "      <td>0.758474</td>\n",
       "      <td>0.037810</td>\n",
       "    </tr>\n",
       "    <tr>\n",
       "      <th>5296</th>\n",
       "      <td>0.772965</td>\n",
       "      <td>0.756752</td>\n",
       "      <td>0.769063</td>\n",
       "      <td>0.782742</td>\n",
       "      <td>0.061125</td>\n",
       "    </tr>\n",
       "    <tr>\n",
       "      <th>5297</th>\n",
       "      <td>0.793938</td>\n",
       "      <td>0.756752</td>\n",
       "      <td>0.780793</td>\n",
       "      <td>0.796130</td>\n",
       "      <td>0.047732</td>\n",
       "    </tr>\n",
       "    <tr>\n",
       "      <th>5298</th>\n",
       "      <td>0.802327</td>\n",
       "      <td>0.804227</td>\n",
       "      <td>0.798388</td>\n",
       "      <td>0.837970</td>\n",
       "      <td>0.088390</td>\n",
       "    </tr>\n",
       "  </tbody>\n",
       "</table>\n",
       "</div>"
      ],
      "text/plain": [
       "          Open      High       Low     Close    Volume\n",
       "5278  0.745281  0.706903  0.736387  0.742575  0.038455\n",
       "5279  0.746959  0.752796  0.746442  0.757638  0.140303\n",
       "5280  0.772965  0.729058  0.743928  0.755964  0.043703\n",
       "5281  0.761220  0.721937  0.753982  0.761822  0.018468\n",
       "5282  0.765415  0.723520  0.756496  0.765169  0.018569\n",
       "5283  0.767093  0.727476  0.745604  0.747596  0.030688\n",
       "5284  0.748637  0.706903  0.728009  0.727513  0.026529\n",
       "5285  0.729342  0.706903  0.727171  0.727513  0.035990\n",
       "5286  0.731859  0.695826  0.721306  0.724166  0.022289\n",
       "5287  0.727664  0.699782  0.723820  0.740065  0.028646\n",
       "5288  0.731859  0.722728  0.732198  0.754290  0.046671\n",
       "5289  0.763737  0.752796  0.761523  0.791946  0.084589\n",
       "5290  0.793938  0.780490  0.794199  0.812866  0.051009\n",
       "5291  0.827494  0.784446  0.790009  0.791946  0.051932\n",
       "5292  0.777999  0.733806  0.740577  0.744249  0.072005\n",
       "5293  0.747798  0.709277  0.714604  0.721655  0.050171\n",
       "5294  0.718436  0.699782  0.710414  0.731697  0.029087\n",
       "5295  0.740248  0.725893  0.740577  0.758474  0.037810\n",
       "5296  0.772965  0.756752  0.769063  0.782742  0.061125\n",
       "5297  0.793938  0.756752  0.780793  0.796130  0.047732\n",
       "5298  0.802327  0.804227  0.798388  0.837970  0.088390"
      ]
     },
     "execution_count": 14,
     "metadata": {},
     "output_type": "execute_result"
    }
   ],
   "source": [
    "test"
   ]
  },
  {
   "cell_type": "code",
   "execution_count": 15,
   "id": "meaningful-vietnam",
   "metadata": {},
   "outputs": [
    {
     "data": {
      "text/plain": [
       "((21, 4), (21, 1))"
      ]
     },
     "execution_count": 15,
     "metadata": {},
     "output_type": "execute_result"
    }
   ],
   "source": [
    "from sklearn.model_selection import train_test_split\n",
    "\n",
    "feature_cols = ['Open', 'High', 'Low', 'Volume']\n",
    "label_cols = ['Close']\n",
    "\n",
    "train_feature = train[feature_cols]\n",
    "train_label = train[label_cols]\n",
    "\n",
    "# train dataset\n",
    "train_feature, train_label = make_dataset(train_feature, train_label, 20)\n",
    "\n",
    "# train set : 모델을 학습하는 유일한 dataset\n",
    "# validation set : 학습이 이미 완료된 모델을 검증하기 위한 dataset \n",
    "\n",
    "x_train, x_valid, y_train, y_valid = train_test_split(train_feature, train_label, test_size=0.2)\n",
    "\n",
    "x_train.shape, x_valid.shape\n",
    "# ((928, 20, 4), (240, 20, 4))\n",
    "\n",
    "# test dataset : 학습과 검증이 완료된 모델의 성능을 평가하기 위한 dataset\n",
    "test_feature = test[feature_cols]\n",
    "test_label = test[label_cols]\n",
    "\n",
    "test_feature.shape, test_label.shape"
   ]
  },
  {
   "cell_type": "code",
   "execution_count": 17,
   "id": "addressed-beach",
   "metadata": {},
   "outputs": [
    {
     "data": {
      "text/plain": [
       "(4206, 20, 4)"
      ]
     },
     "execution_count": 17,
     "metadata": {},
     "output_type": "execute_result"
    }
   ],
   "source": [
    "x_train.shape"
   ]
  },
  {
   "cell_type": "code",
   "execution_count": 18,
   "id": "other-fortune",
   "metadata": {},
   "outputs": [
    {
     "data": {
      "text/plain": [
       "(1052, 20, 4)"
      ]
     },
     "execution_count": 18,
     "metadata": {},
     "output_type": "execute_result"
    }
   ],
   "source": [
    "x_valid.shape"
   ]
  },
  {
   "cell_type": "code",
   "execution_count": 19,
   "id": "detected-award",
   "metadata": {},
   "outputs": [
    {
     "data": {
      "text/plain": [
       "(21, 4)"
      ]
     },
     "execution_count": 19,
     "metadata": {},
     "output_type": "execute_result"
    }
   ],
   "source": [
    "test_feature.shape"
   ]
  },
  {
   "cell_type": "code",
   "execution_count": 20,
   "id": "demographic-emphasis",
   "metadata": {},
   "outputs": [
    {
     "data": {
      "text/plain": [
       "(21, 1)"
      ]
     },
     "execution_count": 20,
     "metadata": {},
     "output_type": "execute_result"
    }
   ],
   "source": [
    "test_label.shape"
   ]
  },
  {
   "cell_type": "code",
   "execution_count": 153,
   "id": "legislative-cleaners",
   "metadata": {},
   "outputs": [
    {
     "data": {
      "text/plain": [
       "array([[0.32662257],\n",
       "       [0.31529592],\n",
       "       [0.31529592],\n",
       "       ...,\n",
       "       [0.79663866],\n",
       "       [0.78991597],\n",
       "       [0.84033613]])"
      ]
     },
     "execution_count": 153,
     "metadata": {},
     "output_type": "execute_result"
    }
   ],
   "source": [
    "train_label"
   ]
  },
  {
   "cell_type": "code",
   "execution_count": null,
   "id": "alleged-rental",
   "metadata": {},
   "outputs": [],
   "source": []
  },
  {
   "cell_type": "code",
   "execution_count": 154,
   "id": "reduced-optics",
   "metadata": {
    "scrolled": true
   },
   "outputs": [
    {
     "data": {
      "text/plain": [
       "(944, 20, 4)"
      ]
     },
     "execution_count": 154,
     "metadata": {},
     "output_type": "execute_result"
    }
   ],
   "source": [
    "x_train.shape"
   ]
  },
  {
   "cell_type": "code",
   "execution_count": null,
   "id": "enabling-upper",
   "metadata": {},
   "outputs": [],
   "source": []
  },
  {
   "cell_type": "code",
   "execution_count": null,
   "id": "surrounded-retention",
   "metadata": {},
   "outputs": [],
   "source": []
  },
  {
   "cell_type": "code",
   "execution_count": 155,
   "id": "younger-edmonton",
   "metadata": {},
   "outputs": [
    {
     "data": {
      "text/plain": [
       "(236, 20, 4)"
      ]
     },
     "execution_count": 155,
     "metadata": {},
     "output_type": "execute_result"
    }
   ],
   "source": [
    "x_valid.shape"
   ]
  },
  {
   "cell_type": "code",
   "execution_count": 156,
   "id": "final-repository",
   "metadata": {},
   "outputs": [
    {
     "data": {
      "text/plain": [
       "(944, 1)"
      ]
     },
     "execution_count": 156,
     "metadata": {},
     "output_type": "execute_result"
    }
   ],
   "source": [
    "y_train.shape"
   ]
  },
  {
   "cell_type": "code",
   "execution_count": 157,
   "id": "present-haven",
   "metadata": {},
   "outputs": [
    {
     "data": {
      "text/plain": [
       "(236, 1)"
      ]
     },
     "execution_count": 157,
     "metadata": {},
     "output_type": "execute_result"
    }
   ],
   "source": [
    "y_valid.shape"
   ]
  },
  {
   "cell_type": "code",
   "execution_count": 158,
   "id": "sudden-andrew",
   "metadata": {},
   "outputs": [
    {
     "data": {
      "text/html": [
       "<div>\n",
       "<style scoped>\n",
       "    .dataframe tbody tr th:only-of-type {\n",
       "        vertical-align: middle;\n",
       "    }\n",
       "\n",
       "    .dataframe tbody tr th {\n",
       "        vertical-align: top;\n",
       "    }\n",
       "\n",
       "    .dataframe thead th {\n",
       "        text-align: right;\n",
       "    }\n",
       "</style>\n",
       "<table border=\"1\" class=\"dataframe\">\n",
       "  <thead>\n",
       "    <tr style=\"text-align: right;\">\n",
       "      <th></th>\n",
       "      <th>Close</th>\n",
       "    </tr>\n",
       "  </thead>\n",
       "  <tbody>\n",
       "    <tr>\n",
       "      <th>1200</th>\n",
       "      <td>0.857143</td>\n",
       "    </tr>\n",
       "    <tr>\n",
       "      <th>1201</th>\n",
       "      <td>0.858824</td>\n",
       "    </tr>\n",
       "    <tr>\n",
       "      <th>1202</th>\n",
       "      <td>0.889076</td>\n",
       "    </tr>\n",
       "    <tr>\n",
       "      <th>1203</th>\n",
       "      <td>0.885714</td>\n",
       "    </tr>\n",
       "    <tr>\n",
       "      <th>1204</th>\n",
       "      <td>0.897479</td>\n",
       "    </tr>\n",
       "    <tr>\n",
       "      <th>1205</th>\n",
       "      <td>0.904202</td>\n",
       "    </tr>\n",
       "    <tr>\n",
       "      <th>1206</th>\n",
       "      <td>0.868908</td>\n",
       "    </tr>\n",
       "    <tr>\n",
       "      <th>1207</th>\n",
       "      <td>0.828571</td>\n",
       "    </tr>\n",
       "    <tr>\n",
       "      <th>1208</th>\n",
       "      <td>0.828571</td>\n",
       "    </tr>\n",
       "    <tr>\n",
       "      <th>1209</th>\n",
       "      <td>0.821849</td>\n",
       "    </tr>\n",
       "    <tr>\n",
       "      <th>1210</th>\n",
       "      <td>0.853782</td>\n",
       "    </tr>\n",
       "    <tr>\n",
       "      <th>1211</th>\n",
       "      <td>0.882353</td>\n",
       "    </tr>\n",
       "    <tr>\n",
       "      <th>1212</th>\n",
       "      <td>0.957983</td>\n",
       "    </tr>\n",
       "    <tr>\n",
       "      <th>1213</th>\n",
       "      <td>1.000000</td>\n",
       "    </tr>\n",
       "    <tr>\n",
       "      <th>1214</th>\n",
       "      <td>0.957983</td>\n",
       "    </tr>\n",
       "    <tr>\n",
       "      <th>1215</th>\n",
       "      <td>0.862185</td>\n",
       "    </tr>\n",
       "    <tr>\n",
       "      <th>1216</th>\n",
       "      <td>0.816807</td>\n",
       "    </tr>\n",
       "    <tr>\n",
       "      <th>1217</th>\n",
       "      <td>0.836975</td>\n",
       "    </tr>\n",
       "    <tr>\n",
       "      <th>1218</th>\n",
       "      <td>0.890756</td>\n",
       "    </tr>\n",
       "    <tr>\n",
       "      <th>1219</th>\n",
       "      <td>0.939496</td>\n",
       "    </tr>\n",
       "    <tr>\n",
       "      <th>1220</th>\n",
       "      <td>0.966387</td>\n",
       "    </tr>\n",
       "  </tbody>\n",
       "</table>\n",
       "</div>"
      ],
      "text/plain": [
       "         Close\n",
       "1200  0.857143\n",
       "1201  0.858824\n",
       "1202  0.889076\n",
       "1203  0.885714\n",
       "1204  0.897479\n",
       "1205  0.904202\n",
       "1206  0.868908\n",
       "1207  0.828571\n",
       "1208  0.828571\n",
       "1209  0.821849\n",
       "1210  0.853782\n",
       "1211  0.882353\n",
       "1212  0.957983\n",
       "1213  1.000000\n",
       "1214  0.957983\n",
       "1215  0.862185\n",
       "1216  0.816807\n",
       "1217  0.836975\n",
       "1218  0.890756\n",
       "1219  0.939496\n",
       "1220  0.966387"
      ]
     },
     "execution_count": 158,
     "metadata": {},
     "output_type": "execute_result"
    }
   ],
   "source": [
    "test_label"
   ]
  },
  {
   "cell_type": "code",
   "execution_count": 21,
   "id": "american-blame",
   "metadata": {},
   "outputs": [
    {
     "data": {
      "text/plain": [
       "((1, 20, 4), (1, 1))"
      ]
     },
     "execution_count": 21,
     "metadata": {},
     "output_type": "execute_result"
    }
   ],
   "source": [
    "test_feature, test_label = make_dataset(test_feature, test_label, 20)\n",
    "\n",
    "test_feature.shape, test_label.shape\n",
    "# ((40-20, 20, 4), (40-20, 1))"
   ]
  },
  {
   "cell_type": "code",
   "execution_count": 22,
   "id": "suspended-brass",
   "metadata": {},
   "outputs": [
    {
     "data": {
      "text/plain": [
       "array([[[0.74528134, 0.70690331, 0.7363875 , 0.03845472],\n",
       "        [0.74695915, 0.75279584, 0.74644159, 0.14030286],\n",
       "        [0.77296514, 0.72905833, 0.74392806, 0.04370252],\n",
       "        [0.7612205 , 0.72193707, 0.75398216, 0.01846815],\n",
       "        [0.76541501, 0.72351957, 0.75649568, 0.01856933],\n",
       "        [0.76709282, 0.72747583, 0.74560375, 0.03068848],\n",
       "        [0.74863696, 0.70690331, 0.72800909, 0.02652863],\n",
       "        [0.72934219, 0.70690331, 0.72717125, 0.03598991],\n",
       "        [0.7318589 , 0.69582581, 0.72130636, 0.0222887 ],\n",
       "        [0.72766439, 0.69978206, 0.72381988, 0.02864627],\n",
       "        [0.7318589 , 0.72272832, 0.73219829, 0.04667144],\n",
       "        [0.76373721, 0.75279584, 0.76152273, 0.08458915],\n",
       "        [0.79393771, 0.78048961, 0.79419852, 0.05100898],\n",
       "        [0.82749382, 0.78444586, 0.79000932, 0.05193248],\n",
       "        [0.77799855, 0.73380583, 0.7405767 , 0.07200521],\n",
       "        [0.74779805, 0.70927706, 0.71460363, 0.05017093],\n",
       "        [0.71843646, 0.69978206, 0.71041443, 0.02908675],\n",
       "        [0.74024793, 0.72589333, 0.7405767 , 0.03781045],\n",
       "        [0.77296514, 0.7567521 , 0.76906329, 0.06112526],\n",
       "        [0.79393771, 0.7567521 , 0.78079307, 0.04773152]]])"
      ]
     },
     "execution_count": 22,
     "metadata": {},
     "output_type": "execute_result"
    }
   ],
   "source": [
    "test_feature"
   ]
  },
  {
   "cell_type": "code",
   "execution_count": 23,
   "id": "motivated-prison",
   "metadata": {},
   "outputs": [
    {
     "data": {
      "text/plain": [
       "array([[0.83797022]])"
      ]
     },
     "execution_count": 23,
     "metadata": {},
     "output_type": "execute_result"
    }
   ],
   "source": [
    "test_label"
   ]
  },
  {
   "cell_type": "code",
   "execution_count": null,
   "id": "wound-january",
   "metadata": {},
   "outputs": [],
   "source": []
  },
  {
   "cell_type": "code",
   "execution_count": 160,
   "id": "early-creature",
   "metadata": {
    "scrolled": true
   },
   "outputs": [
    {
     "data": {
      "text/plain": [
       "array([[[0.84349259, 0.8238255 , 0.88111888, 0.03624805],\n",
       "        [0.83855025, 0.82718121, 0.87937063, 0.03845472],\n",
       "        [0.84184514, 0.92449664, 0.90034965, 0.14030286],\n",
       "        [0.89291598, 0.87416107, 0.8951049 , 0.04370252],\n",
       "        [0.86985173, 0.8590604 , 0.91608392, 0.01846815],\n",
       "        [0.87808896, 0.86241611, 0.92132867, 0.01856933],\n",
       "        [0.88138386, 0.87080537, 0.8986014 , 0.03068848],\n",
       "        [0.84514003, 0.82718121, 0.86188811, 0.02652863],\n",
       "        [0.80724876, 0.82718121, 0.86013986, 0.03598991],\n",
       "        [0.8121911 , 0.80369128, 0.8479021 , 0.0222887 ],\n",
       "        [0.80395387, 0.81208054, 0.85314685, 0.02864627],\n",
       "        [0.8121911 , 0.86073826, 0.87062937, 0.04667144],\n",
       "        [0.87479407, 0.92449664, 0.93181818, 0.08458915],\n",
       "        [0.93410214, 0.98322148, 1.        , 0.05100898],\n",
       "        [1.        , 0.99161074, 0.99125874, 0.05193248],\n",
       "        [0.90280066, 0.88422819, 0.88811189, 0.07200521],\n",
       "        [0.84349259, 0.83221477, 0.83391608, 0.05017093],\n",
       "        [0.78583196, 0.81208054, 0.82517483, 0.02908675],\n",
       "        [0.82866557, 0.86744966, 0.88811189, 0.03781045],\n",
       "        [0.89291598, 0.93288591, 0.94755245, 0.06112526]]])"
      ]
     },
     "execution_count": 160,
     "metadata": {},
     "output_type": "execute_result"
    }
   ],
   "source": [
    "test_feature"
   ]
  },
  {
   "cell_type": "code",
   "execution_count": 161,
   "id": "alternative-director",
   "metadata": {},
   "outputs": [
    {
     "data": {
      "text/plain": [
       "array([[0.96638655]])"
      ]
     },
     "execution_count": 161,
     "metadata": {},
     "output_type": "execute_result"
    }
   ],
   "source": [
    "test_label"
   ]
  },
  {
   "cell_type": "markdown",
   "id": "framed-sitting",
   "metadata": {},
   "source": [
    "# 딥러닝  네트워크를 학습시킵니다"
   ]
  },
  {
   "cell_type": "code",
   "execution_count": 162,
   "id": "becoming-morning",
   "metadata": {},
   "outputs": [],
   "source": [
    "from keras.models import Sequential\n",
    "from keras.layers import Dense\n",
    "from keras.callbacks import EarlyStopping, ModelCheckpoint\n",
    "from keras.layers import LSTM\n",
    "\n",
    "model = Sequential()\n",
    "model.add(LSTM(16, \n",
    "               input_shape=(train_feature.shape[1], train_feature.shape[2]), \n",
    "               activation='relu', \n",
    "               return_sequences=False)\n",
    "          )\n",
    "model.add(Dense(1))"
   ]
  },
  {
   "cell_type": "code",
   "execution_count": 163,
   "id": "helpful-irish",
   "metadata": {},
   "outputs": [
    {
     "name": "stdout",
     "output_type": "stream",
     "text": [
      "Epoch 1/200\n",
      "944/944 [==============================] - 5s 4ms/step - loss: 0.0296 - val_loss: 0.0018\n",
      "\n",
      "Epoch 00001: val_loss improved from inf to 0.00183, saving model to tmp\\ckeckpointer.ckpt\n",
      "INFO:tensorflow:Assets written to: tmp\\ckeckpointer.ckpt\\assets\n",
      "Epoch 2/200\n",
      "944/944 [==============================] - 3s 3ms/step - loss: 0.0017 - val_loss: 0.0013\n",
      "\n",
      "Epoch 00002: val_loss improved from 0.00183 to 0.00128, saving model to tmp\\ckeckpointer.ckpt\n",
      "INFO:tensorflow:Assets written to: tmp\\ckeckpointer.ckpt\\assets\n",
      "Epoch 3/200\n",
      "944/944 [==============================] - 3s 4ms/step - loss: 9.6742e-04 - val_loss: 5.4368e-04\n",
      "\n",
      "Epoch 00003: val_loss improved from 0.00128 to 0.00054, saving model to tmp\\ckeckpointer.ckpt\n",
      "INFO:tensorflow:Assets written to: tmp\\ckeckpointer.ckpt\\assets\n",
      "Epoch 4/200\n",
      "944/944 [==============================] - 3s 3ms/step - loss: 7.2450e-04 - val_loss: 9.8359e-04\n",
      "\n",
      "Epoch 00004: val_loss did not improve from 0.00054\n",
      "Epoch 5/200\n",
      "944/944 [==============================] - 3s 4ms/step - loss: 7.1397e-04 - val_loss: 4.6419e-04\n",
      "\n",
      "Epoch 00005: val_loss improved from 0.00054 to 0.00046, saving model to tmp\\ckeckpointer.ckpt\n",
      "INFO:tensorflow:Assets written to: tmp\\ckeckpointer.ckpt\\assets\n",
      "Epoch 6/200\n",
      "944/944 [==============================] - 3s 3ms/step - loss: 6.3867e-04 - val_loss: 4.4852e-04\n",
      "\n",
      "Epoch 00006: val_loss improved from 0.00046 to 0.00045, saving model to tmp\\ckeckpointer.ckpt\n",
      "INFO:tensorflow:Assets written to: tmp\\ckeckpointer.ckpt\\assets\n",
      "Epoch 7/200\n",
      "944/944 [==============================] - 3s 3ms/step - loss: 7.7068e-04 - val_loss: 4.7409e-04\n",
      "\n",
      "Epoch 00007: val_loss did not improve from 0.00045\n",
      "Epoch 8/200\n",
      "944/944 [==============================] - 3s 3ms/step - loss: 5.9285e-04 - val_loss: 3.9276e-04\n",
      "\n",
      "Epoch 00008: val_loss improved from 0.00045 to 0.00039, saving model to tmp\\ckeckpointer.ckpt\n",
      "INFO:tensorflow:Assets written to: tmp\\ckeckpointer.ckpt\\assets\n",
      "Epoch 9/200\n",
      "944/944 [==============================] - 3s 3ms/step - loss: 5.9244e-04 - val_loss: 4.4786e-04\n",
      "\n",
      "Epoch 00009: val_loss did not improve from 0.00039\n",
      "Epoch 10/200\n",
      "944/944 [==============================] - 3s 4ms/step - loss: 5.2869e-04 - val_loss: 4.0238e-04\n",
      "\n",
      "Epoch 00010: val_loss did not improve from 0.00039\n",
      "Epoch 11/200\n",
      "944/944 [==============================] - 4s 4ms/step - loss: 6.2729e-04 - val_loss: 3.8988e-04\n",
      "\n",
      "Epoch 00011: val_loss improved from 0.00039 to 0.00039, saving model to tmp\\ckeckpointer.ckpt\n",
      "INFO:tensorflow:Assets written to: tmp\\ckeckpointer.ckpt\\assets\n",
      "Epoch 12/200\n",
      "944/944 [==============================] - 3s 3ms/step - loss: 5.9400e-04 - val_loss: 3.3286e-04\n",
      "\n",
      "Epoch 00012: val_loss improved from 0.00039 to 0.00033, saving model to tmp\\ckeckpointer.ckpt\n",
      "INFO:tensorflow:Assets written to: tmp\\ckeckpointer.ckpt\\assets\n",
      "Epoch 13/200\n",
      "944/944 [==============================] - 3s 3ms/step - loss: 6.0301e-04 - val_loss: 3.3709e-04\n",
      "\n",
      "Epoch 00013: val_loss did not improve from 0.00033\n",
      "Epoch 14/200\n",
      "944/944 [==============================] - 3s 3ms/step - loss: 4.1953e-04 - val_loss: 7.4707e-04\n",
      "\n",
      "Epoch 00014: val_loss did not improve from 0.00033\n",
      "Epoch 15/200\n",
      "944/944 [==============================] - 3s 3ms/step - loss: 4.2249e-04 - val_loss: 3.5540e-04\n",
      "\n",
      "Epoch 00015: val_loss did not improve from 0.00033\n",
      "Epoch 16/200\n",
      "944/944 [==============================] - 3s 3ms/step - loss: 5.4110e-04 - val_loss: 3.1936e-04\n",
      "\n",
      "Epoch 00016: val_loss improved from 0.00033 to 0.00032, saving model to tmp\\ckeckpointer.ckpt\n",
      "INFO:tensorflow:Assets written to: tmp\\ckeckpointer.ckpt\\assets\n",
      "Epoch 17/200\n",
      "944/944 [==============================] - 3s 3ms/step - loss: 4.7059e-04 - val_loss: 5.6455e-04\n",
      "\n",
      "Epoch 00017: val_loss did not improve from 0.00032\n",
      "Epoch 18/200\n",
      "944/944 [==============================] - 3s 3ms/step - loss: 4.8874e-04 - val_loss: 3.6063e-04\n",
      "\n",
      "Epoch 00018: val_loss did not improve from 0.00032\n",
      "Epoch 19/200\n",
      "944/944 [==============================] - 3s 3ms/step - loss: 4.9879e-04 - val_loss: 2.9392e-04\n",
      "\n",
      "Epoch 00019: val_loss improved from 0.00032 to 0.00029, saving model to tmp\\ckeckpointer.ckpt\n",
      "INFO:tensorflow:Assets written to: tmp\\ckeckpointer.ckpt\\assets\n",
      "Epoch 20/200\n",
      "944/944 [==============================] - 3s 3ms/step - loss: 4.4122e-04 - val_loss: 4.0455e-04\n",
      "\n",
      "Epoch 00020: val_loss did not improve from 0.00029\n",
      "Epoch 21/200\n",
      "944/944 [==============================] - 3s 3ms/step - loss: 4.3494e-04 - val_loss: 4.0948e-04\n",
      "\n",
      "Epoch 00021: val_loss did not improve from 0.00029\n",
      "Epoch 22/200\n",
      "944/944 [==============================] - 3s 3ms/step - loss: 5.5942e-04 - val_loss: 2.8506e-04\n",
      "\n",
      "Epoch 00022: val_loss improved from 0.00029 to 0.00029, saving model to tmp\\ckeckpointer.ckpt\n",
      "INFO:tensorflow:Assets written to: tmp\\ckeckpointer.ckpt\\assets\n",
      "Epoch 23/200\n",
      "944/944 [==============================] - 3s 3ms/step - loss: 3.8687e-04 - val_loss: 2.9626e-04\n",
      "\n",
      "Epoch 00023: val_loss did not improve from 0.00029\n",
      "Epoch 24/200\n",
      "944/944 [==============================] - 3s 3ms/step - loss: 4.1896e-04 - val_loss: 3.0805e-04\n",
      "\n",
      "Epoch 00024: val_loss did not improve from 0.00029\n",
      "Epoch 25/200\n",
      "944/944 [==============================] - 3s 3ms/step - loss: 4.6878e-04 - val_loss: 2.8731e-04\n",
      "\n",
      "Epoch 00025: val_loss did not improve from 0.00029\n",
      "Epoch 26/200\n",
      "944/944 [==============================] - 3s 3ms/step - loss: 5.2898e-04 - val_loss: 4.3025e-04\n",
      "\n",
      "Epoch 00026: val_loss did not improve from 0.00029\n",
      "Epoch 27/200\n",
      "944/944 [==============================] - 3s 3ms/step - loss: 4.3117e-04 - val_loss: 2.8498e-04\n",
      "\n",
      "Epoch 00027: val_loss improved from 0.00029 to 0.00028, saving model to tmp\\ckeckpointer.ckpt\n",
      "INFO:tensorflow:Assets written to: tmp\\ckeckpointer.ckpt\\assets\n",
      "Epoch 28/200\n",
      "944/944 [==============================] - 3s 3ms/step - loss: 4.8478e-04 - val_loss: 3.5844e-04\n",
      "\n",
      "Epoch 00028: val_loss did not improve from 0.00028\n",
      "Epoch 29/200\n",
      "944/944 [==============================] - 3s 3ms/step - loss: 4.9023e-04 - val_loss: 2.8945e-04\n",
      "\n",
      "Epoch 00029: val_loss did not improve from 0.00028\n",
      "Epoch 30/200\n",
      "944/944 [==============================] - 3s 3ms/step - loss: 3.7539e-04 - val_loss: 3.2093e-04\n",
      "\n",
      "Epoch 00030: val_loss did not improve from 0.00028\n",
      "Epoch 31/200\n",
      "944/944 [==============================] - 3s 3ms/step - loss: 4.7345e-04 - val_loss: 6.0036e-04\n",
      "\n",
      "Epoch 00031: val_loss did not improve from 0.00028\n",
      "Epoch 32/200\n",
      "944/944 [==============================] - 3s 3ms/step - loss: 4.1832e-04 - val_loss: 4.4433e-04\n",
      "\n",
      "Epoch 00032: val_loss did not improve from 0.00028\n",
      "Epoch 33/200\n",
      "944/944 [==============================] - 3s 3ms/step - loss: 3.8593e-04 - val_loss: 3.4286e-04\n",
      "\n",
      "Epoch 00033: val_loss did not improve from 0.00028\n",
      "Epoch 34/200\n",
      "944/944 [==============================] - 3s 3ms/step - loss: 3.4313e-04 - val_loss: 4.4119e-04\n",
      "\n",
      "Epoch 00034: val_loss did not improve from 0.00028\n",
      "Epoch 35/200\n",
      "944/944 [==============================] - 3s 3ms/step - loss: 3.8281e-04 - val_loss: 3.2197e-04\n",
      "\n",
      "Epoch 00035: val_loss did not improve from 0.00028\n",
      "Epoch 36/200\n",
      "944/944 [==============================] - 3s 3ms/step - loss: 4.6533e-04 - val_loss: 3.0504e-04\n",
      "\n",
      "Epoch 00036: val_loss did not improve from 0.00028\n",
      "Epoch 37/200\n",
      "944/944 [==============================] - 3s 3ms/step - loss: 4.0939e-04 - val_loss: 3.1333e-04\n",
      "\n",
      "Epoch 00037: val_loss did not improve from 0.00028\n"
     ]
    }
   ],
   "source": [
    "# val_loss가 10회 같을 시 early_stop, batch_size(=K)는 K문제 풀고 답보고 하는 식\n",
    "\n",
    "model.compile(loss='mean_squared_error', optimizer='adam')\n",
    "early_stop = EarlyStopping(monitor='val_loss', patience=10)\n",
    "filename = os.path.join('tmp', 'ckeckpointer.ckpt')\n",
    "checkpoint = ModelCheckpoint(filename, monitor='val_loss', verbose=1, save_best_only=True, mode='auto')\n",
    "\n",
    "history = model.fit(x_train, y_train, \n",
    "                    epochs=200, \n",
    "                    batch_size=1,\n",
    "                    validation_data=(x_valid, y_valid), \n",
    "                    callbacks=[early_stop, checkpoint])"
   ]
  },
  {
   "cell_type": "code",
   "execution_count": 165,
   "id": "prescribed-suicide",
   "metadata": {
    "scrolled": false
   },
   "outputs": [
    {
     "data": {
      "image/png": "[encoded data removed]",
      "text/plain": [
       "<Figure size 864x648 with 1 Axes>"
      ]
     },
     "metadata": {
      "needs_background": "light"
     },
     "output_type": "display_data"
    },
    {
     "data": {
      "image/png": "[encoded data removed]",
      "text/plain": [
       "<Figure size 432x288 with 1 Axes>"
      ]
     },
     "metadata": {
      "needs_background": "light"
     },
     "output_type": "display_data"
    }
   ],
   "source": [
    "pred = model.predict(test_feature)\n",
    "pred.shape\n",
    "\n",
    "plt.figure(figsize=(12,9))\n",
    "plt.plot(np.asarray(test_label), label='actual')\n",
    "plt.plot(pred, label='prediction')\n",
    "x_values = list(range(1))\n",
    "\n",
    "plt.scatter(x_values, np.asarray(test_label))\n",
    "plt.scatter(x_values, pred)\n",
    "plt.legend()\n",
    "plt.show()\n",
    "\n",
    "plt.plot(history.history['loss'])\n",
    "plt.plot(history.history['val_loss'])\n",
    "plt.title('model loss')\n",
    "plt.ylabel('loss')\n",
    "plt.xlabel('epoch')\n",
    "plt.legend(['train', 'valid'], loc='upper left')\n",
    "plt.show()"
   ]
  },
  {
   "cell_type": "code",
   "execution_count": 166,
   "id": "centered-emphasis",
   "metadata": {},
   "outputs": [
    {
     "data": {
      "text/plain": [
       "21"
      ]
     },
     "execution_count": 166,
     "metadata": {},
     "output_type": "execute_result"
    }
   ],
   "source": [
    "TEST_SIZE"
   ]
  },
  {
   "cell_type": "code",
   "execution_count": 167,
   "id": "ecological-value",
   "metadata": {},
   "outputs": [
    {
     "data": {
      "text/plain": [
       "(1, 1)"
      ]
     },
     "execution_count": 167,
     "metadata": {},
     "output_type": "execute_result"
    }
   ],
   "source": [
    "pred = model.predict(test_feature)\n",
    "pred.shape"
   ]
  },
  {
   "cell_type": "code",
   "execution_count": 168,
   "id": "concerned-disney",
   "metadata": {
    "scrolled": true
   },
   "outputs": [
    {
     "data": {
      "text/plain": [
       "array([[0.9193067]], dtype=float32)"
      ]
     },
     "execution_count": 168,
     "metadata": {},
     "output_type": "execute_result"
    }
   ],
   "source": [
    "B=pred\n",
    "B"
   ]
  },
  {
   "cell_type": "code",
   "execution_count": 178,
   "id": "regular-jacksonville",
   "metadata": {
    "scrolled": false
   },
   "outputs": [
    {
     "data": {
      "text/plain": [
       "array([[[0.84349259, 0.8238255 , 0.88111888, 0.03624805],\n",
       "        [0.83855025, 0.82718121, 0.87937063, 0.03845472],\n",
       "        [0.84184514, 0.92449664, 0.90034965, 0.14030286],\n",
       "        [0.89291598, 0.87416107, 0.8951049 , 0.04370252],\n",
       "        [0.86985173, 0.8590604 , 0.91608392, 0.01846815],\n",
       "        [0.87808896, 0.86241611, 0.92132867, 0.01856933],\n",
       "        [0.88138386, 0.87080537, 0.8986014 , 0.03068848],\n",
       "        [0.84514003, 0.82718121, 0.86188811, 0.02652863],\n",
       "        [0.80724876, 0.82718121, 0.86013986, 0.03598991],\n",
       "        [0.8121911 , 0.80369128, 0.8479021 , 0.0222887 ],\n",
       "        [0.80395387, 0.81208054, 0.85314685, 0.02864627],\n",
       "        [0.8121911 , 0.86073826, 0.87062937, 0.04667144],\n",
       "        [0.87479407, 0.92449664, 0.93181818, 0.08458915],\n",
       "        [0.93410214, 0.98322148, 1.        , 0.05100898],\n",
       "        [1.        , 0.99161074, 0.99125874, 0.05193248],\n",
       "        [0.90280066, 0.88422819, 0.88811189, 0.07200521],\n",
       "        [0.84349259, 0.83221477, 0.83391608, 0.05017093],\n",
       "        [0.78583196, 0.81208054, 0.82517483, 0.02908675],\n",
       "        [0.82866557, 0.86744966, 0.88811189, 0.03781045],\n",
       "        [0.89291598, 0.93288591, 0.94755245, 0.06112526]]])"
      ]
     },
     "execution_count": 178,
     "metadata": {},
     "output_type": "execute_result"
    }
   ],
   "source": [
    "A = test_feature[:,]\n",
    "A"
   ]
  },
  {
   "cell_type": "code",
   "execution_count": 188,
   "id": "aerial-messenger",
   "metadata": {
    "scrolled": true
   },
   "outputs": [
    {
     "data": {
      "text/plain": [
       "array([[0.89291598, 0.93288591, 0.94755245, 0.06112526]])"
      ]
     },
     "execution_count": 188,
     "metadata": {},
     "output_type": "execute_result"
    }
   ],
   "source": [
    "Y = A[:,19]\n",
    "Y"
   ]
  },
  {
   "cell_type": "code",
   "execution_count": 199,
   "id": "downtown-generic",
   "metadata": {},
   "outputs": [
    {
     "data": {
      "text/plain": [
       "array([[0.89291598, 0.93288591, 0.94755245, 0.9193067 , 0.06112526]])"
      ]
     },
     "execution_count": 199,
     "metadata": {},
     "output_type": "execute_result"
    }
   ],
   "source": [
    "q = np.insert(Y,3,B)\n",
    "v = q.reshape((1,-1))\n",
    "v"
   ]
  },
  {
   "cell_type": "code",
   "execution_count": 204,
   "id": "coastal-kansas",
   "metadata": {},
   "outputs": [
    {
     "data": {
      "text/plain": [
       "array([[  9850.        ,  10200.        ,   9800.        ,\n",
       "          9869.87483799, 170966.        ]])"
      ]
     },
     "execution_count": 204,
     "metadata": {},
     "output_type": "execute_result"
    }
   ],
   "source": [
    "o=scaler.inverse_transform(v)\n",
    "o"
   ]
  },
  {
   "cell_type": "code",
   "execution_count": 209,
   "id": "respected-running",
   "metadata": {},
   "outputs": [
    {
     "data": {
      "text/plain": [
       "array([9869.87483799])"
      ]
     },
     "execution_count": 209,
     "metadata": {},
     "output_type": "execute_result"
    }
   ],
   "source": [
    "w = o[:,3]\n",
    "\n",
    "w"
   ]
  },
  {
   "cell_type": "code",
   "execution_count": 211,
   "id": "tamil-stupid",
   "metadata": {},
   "outputs": [
    {
     "name": "stdout",
     "output_type": "stream",
     "text": [
      "Predicted value for next day= 9869 won\n",
      "last close price= 10150.0 원\n",
      "percentage change should be = -2.768 %\n"
     ]
    }
   ],
   "source": [
    "## saving the output into a csv\n",
    "prediction = int(w[[0]])\n",
    "print('Predicted value for next day=',prediction, 'won')\n",
    "b = df['Close'].iloc[-1]\n",
    "print('last close price=',b, '원')\n",
    "percentage = ((prediction-b)/b)*100\n",
    "print('percentage change should be =', percentage.round(3),'%' )"
   ]
  },
  {
   "cell_type": "code",
   "execution_count": null,
   "id": "sacred-blood",
   "metadata": {},
   "outputs": [],
   "source": []
  }
 ],
 "metadata": {
  "kernelspec": {
   "display_name": "tensorflow-cpu",
   "language": "python",
   "name": "tensorflow-cpu"
  },
  "language_info": {
   "codemirror_mode": {
    "name": "ipython",
    "version": 3
   },
   "file_extension": ".py",
   "mimetype": "text/x-python",
   "name": "python",
   "nbconvert_exporter": "python",
   "pygments_lexer": "ipython3",
   "version": "3.8.5"
  }
 },
 "nbformat": 4,
 "nbformat_minor": 5
}
