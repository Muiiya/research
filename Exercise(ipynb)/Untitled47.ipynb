{
 "cells": [
  {
   "cell_type": "code",
   "execution_count": 1,
   "id": "superior-playback",
   "metadata": {},
   "outputs": [],
   "source": [
    "import pandas as pd\n",
    "import numpy as np\n",
    "import matplotlib.pyplot as plt\n",
    "import seaborn as sns\n",
    "import warnings\n",
    "import os\n",
    "\n",
    "%matplotlib inline\n",
    "warnings.filterwarnings('ignore')\n",
    "\n",
    "plt.rcParams['font.family'] = 'DejaVu Sans'"
   ]
  },
  {
   "cell_type": "code",
   "execution_count": 2,
   "id": "taken-lancaster",
   "metadata": {},
   "outputs": [],
   "source": [
    "import FinanceDataReader as fdr\n",
    "STOCK_CODE = '001750'"
   ]
  },
  {
   "cell_type": "code",
   "execution_count": 3,
   "id": "crazy-coordination",
   "metadata": {},
   "outputs": [],
   "source": [
    "stock = fdr.DataReader(STOCK_CODE, '2020-02-01', '2021-02-01')"
   ]
  },
  {
   "cell_type": "code",
   "execution_count": 4,
   "id": "closing-concord",
   "metadata": {},
   "outputs": [
    {
     "data": {
      "text/html": [
       "<div>\n",
       "<style scoped>\n",
       "    .dataframe tbody tr th:only-of-type {\n",
       "        vertical-align: middle;\n",
       "    }\n",
       "\n",
       "    .dataframe tbody tr th {\n",
       "        vertical-align: top;\n",
       "    }\n",
       "\n",
       "    .dataframe thead th {\n",
       "        text-align: right;\n",
       "    }\n",
       "</style>\n",
       "<table border=\"1\" class=\"dataframe\">\n",
       "  <thead>\n",
       "    <tr style=\"text-align: right;\">\n",
       "      <th></th>\n",
       "      <th>Open</th>\n",
       "      <th>High</th>\n",
       "      <th>Low</th>\n",
       "      <th>Close</th>\n",
       "      <th>Volume</th>\n",
       "      <th>Change</th>\n",
       "    </tr>\n",
       "    <tr>\n",
       "      <th>Date</th>\n",
       "      <th></th>\n",
       "      <th></th>\n",
       "      <th></th>\n",
       "      <th></th>\n",
       "      <th></th>\n",
       "      <th></th>\n",
       "    </tr>\n",
       "  </thead>\n",
       "  <tbody>\n",
       "    <tr>\n",
       "      <th>2020-02-03</th>\n",
       "      <td>9440</td>\n",
       "      <td>9440</td>\n",
       "      <td>9030</td>\n",
       "      <td>9140</td>\n",
       "      <td>99485</td>\n",
       "      <td>-0.044932</td>\n",
       "    </tr>\n",
       "    <tr>\n",
       "      <th>2020-02-04</th>\n",
       "      <td>9140</td>\n",
       "      <td>9150</td>\n",
       "      <td>9020</td>\n",
       "      <td>9110</td>\n",
       "      <td>30886</td>\n",
       "      <td>-0.003282</td>\n",
       "    </tr>\n",
       "    <tr>\n",
       "      <th>2020-02-05</th>\n",
       "      <td>9200</td>\n",
       "      <td>9200</td>\n",
       "      <td>9000</td>\n",
       "      <td>9040</td>\n",
       "      <td>38531</td>\n",
       "      <td>-0.007684</td>\n",
       "    </tr>\n",
       "    <tr>\n",
       "      <th>2020-02-06</th>\n",
       "      <td>9140</td>\n",
       "      <td>9140</td>\n",
       "      <td>8760</td>\n",
       "      <td>8920</td>\n",
       "      <td>92807</td>\n",
       "      <td>-0.013274</td>\n",
       "    </tr>\n",
       "    <tr>\n",
       "      <th>2020-02-07</th>\n",
       "      <td>8940</td>\n",
       "      <td>8940</td>\n",
       "      <td>8750</td>\n",
       "      <td>8860</td>\n",
       "      <td>49339</td>\n",
       "      <td>-0.006726</td>\n",
       "    </tr>\n",
       "  </tbody>\n",
       "</table>\n",
       "</div>"
      ],
      "text/plain": [
       "            Open  High   Low  Close  Volume    Change\n",
       "Date                                                 \n",
       "2020-02-03  9440  9440  9030   9140   99485 -0.044932\n",
       "2020-02-04  9140  9150  9020   9110   30886 -0.003282\n",
       "2020-02-05  9200  9200  9000   9040   38531 -0.007684\n",
       "2020-02-06  9140  9140  8760   8920   92807 -0.013274\n",
       "2020-02-07  8940  8940  8750   8860   49339 -0.006726"
      ]
     },
     "execution_count": 4,
     "metadata": {},
     "output_type": "execute_result"
    }
   ],
   "source": [
    "stock.head()"
   ]
  },
  {
   "cell_type": "code",
   "execution_count": 5,
   "id": "second-conclusion",
   "metadata": {},
   "outputs": [
    {
     "data": {
      "text/html": [
       "<div>\n",
       "<style scoped>\n",
       "    .dataframe tbody tr th:only-of-type {\n",
       "        vertical-align: middle;\n",
       "    }\n",
       "\n",
       "    .dataframe tbody tr th {\n",
       "        vertical-align: top;\n",
       "    }\n",
       "\n",
       "    .dataframe thead th {\n",
       "        text-align: right;\n",
       "    }\n",
       "</style>\n",
       "<table border=\"1\" class=\"dataframe\">\n",
       "  <thead>\n",
       "    <tr style=\"text-align: right;\">\n",
       "      <th></th>\n",
       "      <th>Open</th>\n",
       "      <th>High</th>\n",
       "      <th>Low</th>\n",
       "      <th>Close</th>\n",
       "      <th>Volume</th>\n",
       "      <th>Change</th>\n",
       "    </tr>\n",
       "    <tr>\n",
       "      <th>Date</th>\n",
       "      <th></th>\n",
       "      <th></th>\n",
       "      <th></th>\n",
       "      <th></th>\n",
       "      <th></th>\n",
       "      <th></th>\n",
       "    </tr>\n",
       "  </thead>\n",
       "  <tbody>\n",
       "    <tr>\n",
       "      <th>2021-01-26</th>\n",
       "      <td>10100</td>\n",
       "      <td>10500</td>\n",
       "      <td>10100</td>\n",
       "      <td>10350</td>\n",
       "      <td>142671</td>\n",
       "      <td>0.024752</td>\n",
       "    </tr>\n",
       "    <tr>\n",
       "      <th>2021-01-27</th>\n",
       "      <td>10500</td>\n",
       "      <td>10550</td>\n",
       "      <td>10050</td>\n",
       "      <td>10100</td>\n",
       "      <td>145254</td>\n",
       "      <td>-0.024155</td>\n",
       "    </tr>\n",
       "    <tr>\n",
       "      <th>2021-01-28</th>\n",
       "      <td>9910</td>\n",
       "      <td>9910</td>\n",
       "      <td>9460</td>\n",
       "      <td>9530</td>\n",
       "      <td>201397</td>\n",
       "      <td>-0.056436</td>\n",
       "    </tr>\n",
       "    <tr>\n",
       "      <th>2021-01-29</th>\n",
       "      <td>9550</td>\n",
       "      <td>9600</td>\n",
       "      <td>9150</td>\n",
       "      <td>9260</td>\n",
       "      <td>140327</td>\n",
       "      <td>-0.028332</td>\n",
       "    </tr>\n",
       "    <tr>\n",
       "      <th>2021-02-01</th>\n",
       "      <td>9200</td>\n",
       "      <td>9480</td>\n",
       "      <td>9100</td>\n",
       "      <td>9410</td>\n",
       "      <td>72435</td>\n",
       "      <td>0.016199</td>\n",
       "    </tr>\n",
       "  </tbody>\n",
       "</table>\n",
       "</div>"
      ],
      "text/plain": [
       "             Open   High    Low  Close  Volume    Change\n",
       "Date                                                    \n",
       "2021-01-26  10100  10500  10100  10350  142671  0.024752\n",
       "2021-01-27  10500  10550  10050  10100  145254 -0.024155\n",
       "2021-01-28   9910   9910   9460   9530  201397 -0.056436\n",
       "2021-01-29   9550   9600   9150   9260  140327 -0.028332\n",
       "2021-02-01   9200   9480   9100   9410   72435  0.016199"
      ]
     },
     "execution_count": 5,
     "metadata": {},
     "output_type": "execute_result"
    }
   ],
   "source": [
    "stock.tail()"
   ]
  },
  {
   "cell_type": "code",
   "execution_count": 6,
   "id": "preliminary-south",
   "metadata": {},
   "outputs": [
    {
     "data": {
      "text/plain": [
       "DatetimeIndex(['2020-02-03', '2020-02-04', '2020-02-05', '2020-02-06',\n",
       "               '2020-02-07', '2020-02-10', '2020-02-11', '2020-02-12',\n",
       "               '2020-02-13', '2020-02-14',\n",
       "               ...\n",
       "               '2021-01-19', '2021-01-20', '2021-01-21', '2021-01-22',\n",
       "               '2021-01-25', '2021-01-26', '2021-01-27', '2021-01-28',\n",
       "               '2021-01-29', '2021-02-01'],\n",
       "              dtype='datetime64[ns]', name='Date', length=249, freq=None)"
      ]
     },
     "execution_count": 6,
     "metadata": {},
     "output_type": "execute_result"
    }
   ],
   "source": [
    "stock.index"
   ]
  },
  {
   "cell_type": "code",
   "execution_count": 7,
   "id": "living-legislature",
   "metadata": {},
   "outputs": [],
   "source": [
    "stock['Year'] = stock.index.year\n",
    "stock['Month'] = stock.index.month\n",
    "stock['Day'] = stock.index.day"
   ]
  },
  {
   "cell_type": "code",
   "execution_count": 8,
   "id": "applied-closure",
   "metadata": {},
   "outputs": [
    {
     "data": {
      "text/plain": [
       "Text(0, 0.5, 'price')"
      ]
     },
     "execution_count": 8,
     "metadata": {},
     "output_type": "execute_result"
    },
    {
     "data": {
      "image/png": "[encoded data removed]",
      "text/plain": [
       "<Figure size 1152x648 with 1 Axes>"
      ]
     },
     "metadata": {
      "needs_background": "light"
     },
     "output_type": "display_data"
    }
   ],
   "source": [
    "plt.figure(figsize=(16,9))\n",
    "sns.lineplot(y=stock['Close'], x=stock.index)\n",
    "plt.xlabel('time')\n",
    "plt.ylabel('price')"
   ]
  },
  {
   "cell_type": "code",
   "execution_count": 9,
   "id": "spiritual-print",
   "metadata": {},
   "outputs": [],
   "source": [
    "from sklearn.preprocessing import MinMaxScaler"
   ]
  },
  {
   "cell_type": "code",
   "execution_count": 10,
   "id": "unlikely-baker",
   "metadata": {},
   "outputs": [
    {
     "data": {
      "text/plain": [
       "array([[0.82537068, 0.80536913, 0.81293706, 0.79663866, 0.03296981],\n",
       "       [0.77594728, 0.75671141, 0.81118881, 0.79159664, 0.0083776 ],\n",
       "       [0.78583196, 0.76510067, 0.80769231, 0.77983193, 0.01111828],\n",
       "       ...,\n",
       "       [0.90280066, 0.88422819, 0.88811189, 0.86218487, 0.06950447],\n",
       "       [0.84349259, 0.83221477, 0.83391608, 0.81680672, 0.04761135],\n",
       "       [0.78583196, 0.81208054, 0.82517483, 0.84201681, 0.0232726 ]])"
      ]
     },
     "execution_count": 10,
     "metadata": {},
     "output_type": "execute_result"
    }
   ],
   "source": [
    "scaler = MinMaxScaler()\n",
    "scale_cols = ['Open', 'High', 'Low', 'Close', 'Volume']\n",
    "scaled = scaler.fit_transform(stock[scale_cols])\n",
    "scaled"
   ]
  },
  {
   "cell_type": "code",
   "execution_count": 11,
   "id": "resistant-victim",
   "metadata": {},
   "outputs": [],
   "source": [
    "df = pd.DataFrame(scaled, columns=scale_cols)"
   ]
  },
  {
   "cell_type": "code",
   "execution_count": 12,
   "id": "potential-modeling",
   "metadata": {},
   "outputs": [],
   "source": [
    "# Train과 Test를 분할합니다\n",
    "\n",
    "from sklearn.model_selection import train_test_split"
   ]
  },
  {
   "cell_type": "code",
   "execution_count": 13,
   "id": "announced-nowhere",
   "metadata": {},
   "outputs": [],
   "source": [
    "x_train, x_test, y_train, y_test = train_test_split(df.drop('Close',1), df['Close'], test_size=0.2, random_state=0, shuffle=False)"
   ]
  },
  {
   "cell_type": "code",
   "execution_count": 14,
   "id": "collect-assault",
   "metadata": {},
   "outputs": [
    {
     "data": {
      "text/plain": [
       "((199, 4), (199,))"
      ]
     },
     "execution_count": 14,
     "metadata": {},
     "output_type": "execute_result"
    }
   ],
   "source": [
    "x_train.shape, y_train.shape"
   ]
  },
  {
   "cell_type": "code",
   "execution_count": 15,
   "id": "complicated-smile",
   "metadata": {},
   "outputs": [
    {
     "data": {
      "text/plain": [
       "((50, 4), (50,))"
      ]
     },
     "execution_count": 15,
     "metadata": {},
     "output_type": "execute_result"
    }
   ],
   "source": [
    "x_test.shape, y_test.shape"
   ]
  },
  {
   "cell_type": "code",
   "execution_count": 16,
   "id": "tracked-container",
   "metadata": {},
   "outputs": [
    {
     "data": {
      "text/html": [
       "<div>\n",
       "<style scoped>\n",
       "    .dataframe tbody tr th:only-of-type {\n",
       "        vertical-align: middle;\n",
       "    }\n",
       "\n",
       "    .dataframe tbody tr th {\n",
       "        vertical-align: top;\n",
       "    }\n",
       "\n",
       "    .dataframe thead th {\n",
       "        text-align: right;\n",
       "    }\n",
       "</style>\n",
       "<table border=\"1\" class=\"dataframe\">\n",
       "  <thead>\n",
       "    <tr style=\"text-align: right;\">\n",
       "      <th></th>\n",
       "      <th>Open</th>\n",
       "      <th>High</th>\n",
       "      <th>Low</th>\n",
       "      <th>Volume</th>\n",
       "    </tr>\n",
       "  </thead>\n",
       "  <tbody>\n",
       "    <tr>\n",
       "      <th>0</th>\n",
       "      <td>0.825371</td>\n",
       "      <td>0.805369</td>\n",
       "      <td>0.812937</td>\n",
       "      <td>0.032970</td>\n",
       "    </tr>\n",
       "    <tr>\n",
       "      <th>1</th>\n",
       "      <td>0.775947</td>\n",
       "      <td>0.756711</td>\n",
       "      <td>0.811189</td>\n",
       "      <td>0.008378</td>\n",
       "    </tr>\n",
       "    <tr>\n",
       "      <th>2</th>\n",
       "      <td>0.785832</td>\n",
       "      <td>0.765101</td>\n",
       "      <td>0.807692</td>\n",
       "      <td>0.011118</td>\n",
       "    </tr>\n",
       "    <tr>\n",
       "      <th>3</th>\n",
       "      <td>0.775947</td>\n",
       "      <td>0.755034</td>\n",
       "      <td>0.765734</td>\n",
       "      <td>0.030576</td>\n",
       "    </tr>\n",
       "    <tr>\n",
       "      <th>4</th>\n",
       "      <td>0.742998</td>\n",
       "      <td>0.721477</td>\n",
       "      <td>0.763986</td>\n",
       "      <td>0.014993</td>\n",
       "    </tr>\n",
       "    <tr>\n",
       "      <th>...</th>\n",
       "      <td>...</td>\n",
       "      <td>...</td>\n",
       "      <td>...</td>\n",
       "      <td>...</td>\n",
       "    </tr>\n",
       "    <tr>\n",
       "      <th>194</th>\n",
       "      <td>0.828666</td>\n",
       "      <td>0.813758</td>\n",
       "      <td>0.854895</td>\n",
       "      <td>0.033070</td>\n",
       "    </tr>\n",
       "    <tr>\n",
       "      <th>195</th>\n",
       "      <td>0.818781</td>\n",
       "      <td>0.842282</td>\n",
       "      <td>0.863636</td>\n",
       "      <td>0.037558</td>\n",
       "    </tr>\n",
       "    <tr>\n",
       "      <th>196</th>\n",
       "      <td>0.874794</td>\n",
       "      <td>0.932886</td>\n",
       "      <td>0.902098</td>\n",
       "      <td>0.192327</td>\n",
       "    </tr>\n",
       "    <tr>\n",
       "      <th>197</th>\n",
       "      <td>0.912685</td>\n",
       "      <td>0.916107</td>\n",
       "      <td>0.937063</td>\n",
       "      <td>0.042562</td>\n",
       "    </tr>\n",
       "    <tr>\n",
       "      <th>198</th>\n",
       "      <td>0.897858</td>\n",
       "      <td>0.887584</td>\n",
       "      <td>0.912587</td>\n",
       "      <td>0.032570</td>\n",
       "    </tr>\n",
       "  </tbody>\n",
       "</table>\n",
       "<p>199 rows × 4 columns</p>\n",
       "</div>"
      ],
      "text/plain": [
       "         Open      High       Low    Volume\n",
       "0    0.825371  0.805369  0.812937  0.032970\n",
       "1    0.775947  0.756711  0.811189  0.008378\n",
       "2    0.785832  0.765101  0.807692  0.011118\n",
       "3    0.775947  0.755034  0.765734  0.030576\n",
       "4    0.742998  0.721477  0.763986  0.014993\n",
       "..        ...       ...       ...       ...\n",
       "194  0.828666  0.813758  0.854895  0.033070\n",
       "195  0.818781  0.842282  0.863636  0.037558\n",
       "196  0.874794  0.932886  0.902098  0.192327\n",
       "197  0.912685  0.916107  0.937063  0.042562\n",
       "198  0.897858  0.887584  0.912587  0.032570\n",
       "\n",
       "[199 rows x 4 columns]"
      ]
     },
     "execution_count": 16,
     "metadata": {},
     "output_type": "execute_result"
    }
   ],
   "source": [
    "x_train"
   ]
  },
  {
   "cell_type": "code",
   "execution_count": 17,
   "id": "sweet-stage",
   "metadata": {},
   "outputs": [
    {
     "data": {
      "text/plain": [
       "[<matplotlib.lines.Line2D at 0x217ac6fc190>]"
      ]
     },
     "execution_count": 17,
     "metadata": {},
     "output_type": "execute_result"
    },
    {
     "data": {
      "image/png": "[encoded data removed]",
      "text/plain": [
       "<Figure size 1152x648 with 1 Axes>"
      ]
     },
     "metadata": {
      "needs_background": "light"
     },
     "output_type": "display_data"
    }
   ],
   "source": [
    "plt.figure(figsize=(16,9))\n",
    "plt.plot(y_train)\n",
    "plt.plot(y_test)"
   ]
  },
  {
   "cell_type": "code",
   "execution_count": 18,
   "id": "elder-smith",
   "metadata": {},
   "outputs": [],
   "source": [
    "import tensorflow as tf"
   ]
  },
  {
   "cell_type": "code",
   "execution_count": 19,
   "id": "spoken-reverse",
   "metadata": {},
   "outputs": [],
   "source": [
    "def windowed_dataset(series, window_size, batch_size, shuffle):\n",
    "    series = tf.expand_dims(series, axis=-1)\n",
    "    ds = tf.data.Dataset.from_tensor_slices(series)\n",
    "    ds = ds.window(window_size + 1, shift=1, drop_remainder=True)\n",
    "    ds = ds.flat_map(lambda w: w.batch(window_size + 1))\n",
    "    if shuffle:\n",
    "        ds = ds.shuffle(1000)\n",
    "    ds = ds.map(lambda w: (w[:-1], w[-1]))\n",
    "    return ds.batch(batch_size).prefetch(1)"
   ]
  },
  {
   "cell_type": "code",
   "execution_count": 20,
   "id": "prerequisite-anger",
   "metadata": {},
   "outputs": [],
   "source": [
    "WINDOW_SIZE = 20\n",
    "BATCH_SIZE = 32"
   ]
  },
  {
   "cell_type": "code",
   "execution_count": 21,
   "id": "current-chocolate",
   "metadata": {},
   "outputs": [
    {
     "name": "stdout",
     "output_type": "stream",
     "text": [
      "WARNING:tensorflow:AutoGraph could not transform <function windowed_dataset.<locals>.<lambda> at 0x00000217B2152EE0> and will run it as-is.\n",
      "Please report this to the TensorFlow team. When filing the bug, set the verbosity to 10 (on Linux, `export AUTOGRAPH_VERBOSITY=10`) and attach the full output.\n",
      "Cause: module 'gast' has no attribute 'Index'\n",
      "To silence this warning, decorate the function with @tf.autograph.experimental.do_not_convert\n",
      "WARNING: AutoGraph could not transform <function windowed_dataset.<locals>.<lambda> at 0x00000217B2152EE0> and will run it as-is.\n",
      "Please report this to the TensorFlow team. When filing the bug, set the verbosity to 10 (on Linux, `export AUTOGRAPH_VERBOSITY=10`) and attach the full output.\n",
      "Cause: module 'gast' has no attribute 'Index'\n",
      "To silence this warning, decorate the function with @tf.autograph.experimental.do_not_convert\n",
      "WARNING:tensorflow:AutoGraph could not transform <function windowed_dataset.<locals>.<lambda> at 0x00000217B21DD4C0> and will run it as-is.\n",
      "Please report this to the TensorFlow team. When filing the bug, set the verbosity to 10 (on Linux, `export AUTOGRAPH_VERBOSITY=10`) and attach the full output.\n",
      "Cause: module 'gast' has no attribute 'Index'\n",
      "To silence this warning, decorate the function with @tf.autograph.experimental.do_not_convert\n",
      "WARNING: AutoGraph could not transform <function windowed_dataset.<locals>.<lambda> at 0x00000217B21DD4C0> and will run it as-is.\n",
      "Please report this to the TensorFlow team. When filing the bug, set the verbosity to 10 (on Linux, `export AUTOGRAPH_VERBOSITY=10`) and attach the full output.\n",
      "Cause: module 'gast' has no attribute 'Index'\n",
      "To silence this warning, decorate the function with @tf.autograph.experimental.do_not_convert\n"
     ]
    }
   ],
   "source": [
    "train_data = windowed_dataset(y_train, WINDOW_SIZE, BATCH_SIZE, True)\n",
    "test_data = windowed_dataset(y_test, WINDOW_SIZE, BATCH_SIZE, False)"
   ]
  },
  {
   "cell_type": "code",
   "execution_count": 22,
   "id": "understood-theorem",
   "metadata": {},
   "outputs": [
    {
     "name": "stdout",
     "output_type": "stream",
     "text": [
      "데이터셋(X) 구성(batch_size, window_size, feature갯수): (32, 20, 1)\n",
      "데이터셋(Y) 구성(batch_size, window_size, feature갯수): (32, 1)\n"
     ]
    }
   ],
   "source": [
    "for data in train_data.take(1):\n",
    "    print(f'데이터셋(X) 구성(batch_size, window_size, feature갯수): {data[0].shape}')\n",
    "    print(f'데이터셋(Y) 구성(batch_size, window_size, feature갯수): {data[1].shape}')"
   ]
  },
  {
   "cell_type": "code",
   "execution_count": 23,
   "id": "racial-personal",
   "metadata": {},
   "outputs": [],
   "source": [
    "from tensorflow.keras.models import Sequential\n",
    "from tensorflow.keras.layers import Dense, LSTM, Conv1D, Lambda\n",
    "from tensorflow.keras.losses import Huber, binary_crossentropy\n",
    "from tensorflow.keras.metrics import Accuracy\n",
    "from tensorflow.keras.optimizers import Adam\n",
    "from tensorflow.keras.callbacks import EarlyStopping, ModelCheckpoint\n",
    "\n",
    "model = Sequential([\n",
    "    Conv1D(filters=32, kernel_size=5,\n",
    "          padding=\"causal\",\n",
    "          activation=\"relu\",\n",
    "          input_shape=[WINDOW_SIZE, 1]),\n",
    "    \n",
    "    # LSTM\n",
    "    LSTM(16, activation='tanh'),\n",
    "    Dense(16, activation=\"relu\"),\n",
    "    Dense(1),\n",
    "])"
   ]
  },
  {
   "cell_type": "code",
   "execution_count": 24,
   "id": "supposed-kruger",
   "metadata": {},
   "outputs": [],
   "source": [
    "# loss에는 Huber(), optimizer에는 Adam(), metrics에는 mse를 사용합니다\n",
    "\n",
    "model.compile(optimizer='rmsprop', loss='mse', metrics=['mae'])"
   ]
  },
  {
   "cell_type": "code",
   "execution_count": 25,
   "id": "cross-factory",
   "metadata": {},
   "outputs": [],
   "source": [
    "# 10번 epoch 동안 val_loss 기준 개선이 없으면 끝나게 설정하였습니다\n",
    "\n",
    "earlystopping = EarlyStopping(monitor='val_loss', patience=10)\n",
    "filename = os.path.join('tmp', 'checkpointer.ckpt')\n",
    "checkpoint = ModelCheckpoint(filename,\n",
    "                            save_weights_only=True,\n",
    "                            save_best_only=True,\n",
    "                            monitor='val_loss',\n",
    "                            verbose=1)"
   ]
  },
  {
   "cell_type": "code",
   "execution_count": 26,
   "id": "executive-treasurer",
   "metadata": {},
   "outputs": [
    {
     "name": "stdout",
     "output_type": "stream",
     "text": [
      "Epoch 1/50\n",
      "6/6 [==============================] - 4s 401ms/step - loss: 0.3193 - mae: 0.5170 - val_loss: 0.4000 - val_mae: 0.6307\n",
      "\n",
      "Epoch 00001: val_loss improved from inf to 0.40000, saving model to tmp\\checkpointer.ckpt\n",
      "Epoch 2/50\n",
      "6/6 [==============================] - 0s 16ms/step - loss: 0.1473 - mae: 0.3403 - val_loss: 0.0974 - val_mae: 0.3081\n",
      "\n",
      "Epoch 00002: val_loss improved from 0.40000 to 0.09742, saving model to tmp\\checkpointer.ckpt\n",
      "Epoch 3/50\n",
      "6/6 [==============================] - 0s 16ms/step - loss: 0.0266 - mae: 0.1338 - val_loss: 0.0173 - val_mae: 0.1214\n",
      "\n",
      "Epoch 00003: val_loss improved from 0.09742 to 0.01729, saving model to tmp\\checkpointer.ckpt\n",
      "Epoch 4/50\n",
      "6/6 [==============================] - 0s 17ms/step - loss: 0.0146 - mae: 0.0887 - val_loss: 0.0092 - val_mae: 0.0812\n",
      "\n",
      "Epoch 00004: val_loss improved from 0.01729 to 0.00917, saving model to tmp\\checkpointer.ckpt\n",
      "Epoch 5/50\n",
      "6/6 [==============================] - 0s 17ms/step - loss: 0.0127 - mae: 0.0808 - val_loss: 0.0096 - val_mae: 0.0840\n",
      "\n",
      "Epoch 00005: val_loss did not improve from 0.00917\n",
      "Epoch 6/50\n",
      "6/6 [==============================] - 0s 17ms/step - loss: 0.0139 - mae: 0.0834 - val_loss: 0.0067 - val_mae: 0.0644\n",
      "\n",
      "Epoch 00006: val_loss improved from 0.00917 to 0.00672, saving model to tmp\\checkpointer.ckpt\n",
      "Epoch 7/50\n",
      "6/6 [==============================] - 0s 17ms/step - loss: 0.0147 - mae: 0.0819 - val_loss: 0.0106 - val_mae: 0.0897\n",
      "\n",
      "Epoch 00007: val_loss did not improve from 0.00672\n",
      "Epoch 8/50\n",
      "6/6 [==============================] - 0s 17ms/step - loss: 0.0123 - mae: 0.0782 - val_loss: 0.0038 - val_mae: 0.0442\n",
      "\n",
      "Epoch 00008: val_loss improved from 0.00672 to 0.00378, saving model to tmp\\checkpointer.ckpt\n",
      "Epoch 9/50\n",
      "6/6 [==============================] - 0s 18ms/step - loss: 0.0092 - mae: 0.0640 - val_loss: 0.0053 - val_mae: 0.0549\n",
      "\n",
      "Epoch 00009: val_loss did not improve from 0.00378\n",
      "Epoch 10/50\n",
      "6/6 [==============================] - 0s 18ms/step - loss: 0.0086 - mae: 0.0619 - val_loss: 0.0105 - val_mae: 0.0888\n",
      "\n",
      "Epoch 00010: val_loss did not improve from 0.00378\n",
      "Epoch 11/50\n",
      "6/6 [==============================] - 0s 18ms/step - loss: 0.0083 - mae: 0.0642 - val_loss: 0.0074 - val_mae: 0.0692\n",
      "\n",
      "Epoch 00011: val_loss did not improve from 0.00378\n",
      "Epoch 12/50\n",
      "6/6 [==============================] - 0s 17ms/step - loss: 0.0085 - mae: 0.0690 - val_loss: 0.0172 - val_mae: 0.1209\n",
      "\n",
      "Epoch 00012: val_loss did not improve from 0.00378\n",
      "Epoch 13/50\n",
      "6/6 [==============================] - 0s 17ms/step - loss: 0.0087 - mae: 0.0703 - val_loss: 0.0027 - val_mae: 0.0415\n",
      "\n",
      "Epoch 00013: val_loss improved from 0.00378 to 0.00270, saving model to tmp\\checkpointer.ckpt\n",
      "Epoch 14/50\n",
      "6/6 [==============================] - 0s 17ms/step - loss: 0.0069 - mae: 0.0571 - val_loss: 0.0123 - val_mae: 0.0983\n",
      "\n",
      "Epoch 00014: val_loss did not improve from 0.00270\n",
      "Epoch 15/50\n",
      "6/6 [==============================] - 0s 17ms/step - loss: 0.0088 - mae: 0.0729 - val_loss: 0.0032 - val_mae: 0.0420\n",
      "\n",
      "Epoch 00015: val_loss did not improve from 0.00270\n",
      "Epoch 16/50\n",
      "6/6 [==============================] - 0s 17ms/step - loss: 0.0070 - mae: 0.0603 - val_loss: 0.0032 - val_mae: 0.0423\n",
      "\n",
      "Epoch 00016: val_loss did not improve from 0.00270\n",
      "Epoch 17/50\n",
      "6/6 [==============================] - 0s 23ms/step - loss: 0.0062 - mae: 0.0553 - val_loss: 0.0027 - val_mae: 0.0436\n",
      "\n",
      "Epoch 00017: val_loss did not improve from 0.00270\n",
      "Epoch 18/50\n",
      "6/6 [==============================] - 0s 19ms/step - loss: 0.0077 - mae: 0.0666 - val_loss: 0.0045 - val_mae: 0.0583\n",
      "\n",
      "Epoch 00018: val_loss did not improve from 0.00270\n",
      "Epoch 19/50\n",
      "6/6 [==============================] - 0s 17ms/step - loss: 0.0051 - mae: 0.0528 - val_loss: 0.0031 - val_mae: 0.0427\n",
      "\n",
      "Epoch 00019: val_loss did not improve from 0.00270\n",
      "Epoch 20/50\n",
      "6/6 [==============================] - 0s 17ms/step - loss: 0.0051 - mae: 0.0489 - val_loss: 0.0029 - val_mae: 0.0430\n",
      "\n",
      "Epoch 00020: val_loss did not improve from 0.00270\n",
      "Epoch 21/50\n",
      "6/6 [==============================] - 0s 20ms/step - loss: 0.0051 - mae: 0.0533 - val_loss: 0.0154 - val_mae: 0.1124\n",
      "\n",
      "Epoch 00021: val_loss did not improve from 0.00270\n",
      "Epoch 22/50\n",
      "6/6 [==============================] - 0s 21ms/step - loss: 0.0061 - mae: 0.0606 - val_loss: 0.0032 - val_mae: 0.0486\n",
      "\n",
      "Epoch 00022: val_loss did not improve from 0.00270\n",
      "Epoch 23/50\n",
      "6/6 [==============================] - 0s 17ms/step - loss: 0.0055 - mae: 0.0550 - val_loss: 0.0040 - val_mae: 0.0543\n",
      "\n",
      "Epoch 00023: val_loss did not improve from 0.00270\n"
     ]
    }
   ],
   "source": [
    "history = model.fit(train_data,\n",
    "                   validation_data=(test_data),\n",
    "                   epochs=50,\n",
    "                   callbacks=[checkpoint, earlystopping])"
   ]
  },
  {
   "cell_type": "code",
   "execution_count": 27,
   "id": "immediate-mitchell",
   "metadata": {},
   "outputs": [
    {
     "data": {
      "text/plain": [
       "<tensorflow.python.training.tracking.util.CheckpointLoadStatus at 0x217b7e77160>"
      ]
     },
     "execution_count": 27,
     "metadata": {},
     "output_type": "execute_result"
    }
   ],
   "source": [
    "model.load_weights(filename)"
   ]
  },
  {
   "cell_type": "code",
   "execution_count": 28,
   "id": "substantial-fever",
   "metadata": {},
   "outputs": [],
   "source": [
    "# test_data를 활용하여 예측을 진행했습니다\n",
    "\n",
    "pred = model.predict(test_data)"
   ]
  },
  {
   "cell_type": "code",
   "execution_count": 29,
   "id": "center-shopping",
   "metadata": {},
   "outputs": [
    {
     "data": {
      "text/plain": [
       "(30, 1)"
      ]
     },
     "execution_count": 29,
     "metadata": {},
     "output_type": "execute_result"
    }
   ],
   "source": [
    "pred.shape"
   ]
  },
  {
   "cell_type": "code",
   "execution_count": 30,
   "id": "amended-occurrence",
   "metadata": {},
   "outputs": [
    {
     "data": {
      "image/png": "[encoded data removed]",
      "text/plain": [
       "<Figure size 864x648 with 1 Axes>"
      ]
     },
     "metadata": {
      "needs_background": "light"
     },
     "output_type": "display_data"
    }
   ],
   "source": [
    "# 예측 데이터는 20일치 데이터로 21일치를 예측합니다. \n",
    "# test_data로 예측할 때 앞에 20일은 예측하지 않습니다 \n",
    "\n",
    "plt.figure(figsize=(12,9))\n",
    "plt.plot(np.asarray(y_test)[20:], label='actual')\n",
    "plt.plot(pred, label='prediction')\n",
    "plt.legend()\n",
    "plt.show()"
   ]
  },
  {
   "cell_type": "code",
   "execution_count": 31,
   "id": "regional-treaty",
   "metadata": {},
   "outputs": [
    {
     "data": {
      "image/png": "[encoded data removed]",
      "text/plain": [
       "<Figure size 432x288 with 1 Axes>"
      ]
     },
     "metadata": {
      "needs_background": "light"
     },
     "output_type": "display_data"
    },
    {
     "name": "stdout",
     "output_type": "stream",
     "text": [
      "dict_keys(['loss', 'mae', 'val_loss', 'val_mae'])\n"
     ]
    },
    {
     "ename": "KeyError",
     "evalue": "'accuracy'",
     "output_type": "error",
     "traceback": [
      "\u001b[1;31m---------------------------------------------------------------------------\u001b[0m",
      "\u001b[1;31mKeyError\u001b[0m                                  Traceback (most recent call last)",
      "\u001b[1;32m<ipython-input-31-dfced473dea2>\u001b[0m in \u001b[0;36m<module>\u001b[1;34m\u001b[0m\n\u001b[0;32m     10\u001b[0m \u001b[1;33m\u001b[0m\u001b[0m\n\u001b[0;32m     11\u001b[0m \u001b[0mprint\u001b[0m\u001b[1;33m(\u001b[0m\u001b[0mhistory\u001b[0m\u001b[1;33m.\u001b[0m\u001b[0mhistory\u001b[0m\u001b[1;33m.\u001b[0m\u001b[0mkeys\u001b[0m\u001b[1;33m(\u001b[0m\u001b[1;33m)\u001b[0m\u001b[1;33m)\u001b[0m\u001b[1;33m\u001b[0m\u001b[1;33m\u001b[0m\u001b[0m\n\u001b[1;32m---> 12\u001b[1;33m \u001b[0mplt\u001b[0m\u001b[1;33m.\u001b[0m\u001b[0mplot\u001b[0m\u001b[1;33m(\u001b[0m\u001b[0mhistory\u001b[0m\u001b[1;33m.\u001b[0m\u001b[0mhistory\u001b[0m\u001b[1;33m[\u001b[0m\u001b[1;34m'accuracy'\u001b[0m\u001b[1;33m]\u001b[0m\u001b[1;33m)\u001b[0m\u001b[1;33m\u001b[0m\u001b[1;33m\u001b[0m\u001b[0m\n\u001b[0m\u001b[0;32m     13\u001b[0m \u001b[0mplt\u001b[0m\u001b[1;33m.\u001b[0m\u001b[0mplot\u001b[0m\u001b[1;33m(\u001b[0m\u001b[0mhistory\u001b[0m\u001b[1;33m.\u001b[0m\u001b[0mhistory\u001b[0m\u001b[1;33m[\u001b[0m\u001b[1;34m'val_accuracy'\u001b[0m\u001b[1;33m]\u001b[0m\u001b[1;33m)\u001b[0m\u001b[1;33m\u001b[0m\u001b[1;33m\u001b[0m\u001b[0m\n\u001b[0;32m     14\u001b[0m \u001b[0mplt\u001b[0m\u001b[1;33m.\u001b[0m\u001b[0mtitle\u001b[0m\u001b[1;33m(\u001b[0m\u001b[1;34m'model accuracy'\u001b[0m\u001b[1;33m)\u001b[0m\u001b[1;33m\u001b[0m\u001b[1;33m\u001b[0m\u001b[0m\n",
      "\u001b[1;31mKeyError\u001b[0m: 'accuracy'"
     ]
    }
   ],
   "source": [
    "import matplotlib.pyplot as plt\n",
    "\n",
    "plt.plot(history.history['loss'])\n",
    "plt.plot(history.history['val_loss'])\n",
    "plt.title('model loss')\n",
    "plt.ylabel('loss')\n",
    "plt.xlabel('epoch')\n",
    "plt.legend(['train', 'test'], loc='upper left')\n",
    "plt.show()\n",
    "\n",
    "print(history.history.keys())\n",
    "plt.plot(history.history['mae'])\n",
    "plt.plot(history.history['val_mae'])\n",
    "plt.title('model accuracy')\n",
    "plt.ylabel('accuracy')\n",
    "plt.xlabel('epoch')\n",
    "plt.legend(['train', 'test'], loc='upper left')\n",
    "plt.show()"
   ]
  },
  {
   "cell_type": "code",
   "execution_count": null,
   "id": "innovative-commons",
   "metadata": {},
   "outputs": [],
   "source": [
    "plt.plot(range(1, len(average_mae_history) + 1), average_mae_history)\n",
    "plt.xlabel('Epochs')\n",
    "plt.ylabel('Validation MAE')\n",
    "plt.show()\n",
    " \n",
    "def smooth_curve(points, factor=0.9):\n",
    "  smoothed_points = []\n",
    "  for point in points:\n",
    "    if smoothed_points:\n",
    "      previous = smoothed_points[-1]\n",
    "      smoothed_points.append(previous * factor + point * (1 - factor))\n",
    "    else:\n",
    "      smoothed_points.append(point)\n",
    "  return smoothed_points\n",
    " \n",
    "smooth_mae_history = smooth_curve(average_mae_history[10:])\n",
    " \n",
    "plt.plot(range(1, len(smooth_mae_history) + 1), smooth_mae_history)\n",
    "plt.xlabel('Epochs')\n",
    "plt.ylabel('Validation MAE')\n",
    "plt.show()"
   ]
  }
 ],
 "metadata": {
  "kernelspec": {
   "display_name": "tensorflow-cpu",
   "language": "python",
   "name": "tensorflow-cpu"
  },
  "language_info": {
   "codemirror_mode": {
    "name": "ipython",
    "version": 3
   },
   "file_extension": ".py",
   "mimetype": "text/x-python",
   "name": "python",
   "nbconvert_exporter": "python",
   "pygments_lexer": "ipython3",
   "version": "3.8.5"
  }
 },
 "nbformat": 4,
 "nbformat_minor": 5
}
