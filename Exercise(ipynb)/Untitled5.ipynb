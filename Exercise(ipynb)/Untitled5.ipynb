{
 "cells": [
  {
   "cell_type": "code",
   "execution_count": 19,
   "id": "accessible-evidence",
   "metadata": {},
   "outputs": [],
   "source": [
    "import pandas as pd\n",
    "import numpy as np\n",
    "import matplotlib.pyplot as plt\n",
    "import seaborn as sns\n",
    "import warnings\n",
    "import os\n",
    "import sys\n",
    "import tensorflow as tf\n",
    "import numpy as np\n",
    "\n",
    "from sklearn.preprocessing import MinMaxScaler\n",
    "from datetime import datetime\n",
    "from datetime import timedelta\n",
    "from tqdm import tqdm\n"
   ]
  },
  {
   "cell_type": "code",
   "execution_count": 20,
   "id": "disturbed-advertiser",
   "metadata": {},
   "outputs": [
    {
     "data": {
      "text/html": [
       "<div>\n",
       "<style scoped>\n",
       "    .dataframe tbody tr th:only-of-type {\n",
       "        vertical-align: middle;\n",
       "    }\n",
       "\n",
       "    .dataframe tbody tr th {\n",
       "        vertical-align: top;\n",
       "    }\n",
       "\n",
       "    .dataframe thead th {\n",
       "        text-align: right;\n",
       "    }\n",
       "</style>\n",
       "<table border=\"1\" class=\"dataframe\">\n",
       "  <thead>\n",
       "    <tr style=\"text-align: right;\">\n",
       "      <th></th>\n",
       "      <th>Date</th>\n",
       "      <th>Open</th>\n",
       "      <th>High</th>\n",
       "      <th>Low</th>\n",
       "      <th>Close</th>\n",
       "      <th>Adj Close</th>\n",
       "      <th>Volume</th>\n",
       "    </tr>\n",
       "  </thead>\n",
       "  <tbody>\n",
       "    <tr>\n",
       "      <th>0</th>\n",
       "      <td>2016-02-04</td>\n",
       "      <td>6930.0</td>\n",
       "      <td>6980.0</td>\n",
       "      <td>6890.0</td>\n",
       "      <td>6930.0</td>\n",
       "      <td>5837.953613</td>\n",
       "      <td>19034.0</td>\n",
       "    </tr>\n",
       "    <tr>\n",
       "      <th>1</th>\n",
       "      <td>2016-02-05</td>\n",
       "      <td>6990.0</td>\n",
       "      <td>7190.0</td>\n",
       "      <td>6980.0</td>\n",
       "      <td>7040.0</td>\n",
       "      <td>5930.619629</td>\n",
       "      <td>23731.0</td>\n",
       "    </tr>\n",
       "    <tr>\n",
       "      <th>2</th>\n",
       "      <td>2016-02-11</td>\n",
       "      <td>6880.0</td>\n",
       "      <td>6880.0</td>\n",
       "      <td>6720.0</td>\n",
       "      <td>6800.0</td>\n",
       "      <td>5728.439941</td>\n",
       "      <td>18254.0</td>\n",
       "    </tr>\n",
       "    <tr>\n",
       "      <th>3</th>\n",
       "      <td>2016-02-12</td>\n",
       "      <td>6740.0</td>\n",
       "      <td>6740.0</td>\n",
       "      <td>6450.0</td>\n",
       "      <td>6600.0</td>\n",
       "      <td>5559.956055</td>\n",
       "      <td>43774.0</td>\n",
       "    </tr>\n",
       "    <tr>\n",
       "      <th>4</th>\n",
       "      <td>2016-02-15</td>\n",
       "      <td>6670.0</td>\n",
       "      <td>6800.0</td>\n",
       "      <td>6630.0</td>\n",
       "      <td>6800.0</td>\n",
       "      <td>5728.439941</td>\n",
       "      <td>26119.0</td>\n",
       "    </tr>\n",
       "  </tbody>\n",
       "</table>\n",
       "</div>"
      ],
      "text/plain": [
       "         Date    Open    High     Low   Close    Adj Close   Volume\n",
       "0  2016-02-04  6930.0  6980.0  6890.0  6930.0  5837.953613  19034.0\n",
       "1  2016-02-05  6990.0  7190.0  6980.0  7040.0  5930.619629  23731.0\n",
       "2  2016-02-11  6880.0  6880.0  6720.0  6800.0  5728.439941  18254.0\n",
       "3  2016-02-12  6740.0  6740.0  6450.0  6600.0  5559.956055  43774.0\n",
       "4  2016-02-15  6670.0  6800.0  6630.0  6800.0  5728.439941  26119.0"
      ]
     },
     "execution_count": 20,
     "metadata": {},
     "output_type": "execute_result"
    }
   ],
   "source": [
    "df = pd.read_csv('C:\\Jupyter_Project\\HY.csv')\n",
    "df.head()"
   ]
  },
  {
   "cell_type": "code",
   "execution_count": 21,
   "id": "advanced-workshop",
   "metadata": {},
   "outputs": [
    {
     "name": "stdout",
     "output_type": "stream",
     "text": [
      "          Open      High       Low     Close    Volume\n",
      "0     0.411862  0.392617  0.438811  0.425210  0.006805\n",
      "1     0.421746  0.427852  0.454545  0.443697  0.008485\n",
      "2     0.403624  0.375839  0.409091  0.403361  0.006526\n",
      "3     0.380560  0.352349  0.361888  0.369748  0.015650\n",
      "4     0.369028  0.362416  0.393357  0.403361  0.009338\n",
      "5     0.397035  0.369128  0.417832  0.406723  0.006459\n",
      "6     0.392092  0.367450  0.412587  0.401681  0.004338\n",
      "7     0.401977  0.379195  0.426573  0.416807  0.003704\n",
      "8     0.406919  0.379195  0.414336  0.416807  0.004628\n",
      "9     0.397035  0.379195  0.430070  0.420168  0.003179\n",
      "10    0.421746  0.395973  0.431818  0.420168  0.007557\n",
      "11    0.403624  0.384228  0.435315  0.423529  0.008429\n",
      "12    0.408567  0.402685  0.442308  0.433613  0.004699\n",
      "13    0.431631  0.412752  0.456294  0.448739  0.004621\n",
      "14    0.434926  0.427852  0.470280  0.462185  0.004915\n",
      "15    0.449753  0.432886  0.480769  0.467227  0.005654\n",
      "16    0.456343  0.431208  0.484266  0.470588  0.002737\n",
      "17    0.459638  0.458054  0.494755  0.494118  0.008143\n",
      "18    0.481054  0.494966  0.519231  0.521008  0.009213\n",
      "19    0.502471  0.505034  0.520979  0.527731  0.006423\n",
      "20    0.507414  0.491611  0.526224  0.526050  0.008046\n",
      "21    0.517298  0.491611  0.534965  0.512605  0.004442\n",
      "22    0.492586  0.476510  0.513986  0.512605  0.008701\n",
      "23    0.504119  0.481544  0.536713  0.512605  0.000969\n",
      "24    0.499176  0.479866  0.480769  0.494118  0.003518\n",
      "25    0.469522  0.461409  0.506993  0.495798  0.005336\n",
      "26    0.479407  0.478188  0.517483  0.515966  0.004615\n",
      "27    0.505766  0.479866  0.533217  0.509244  0.002750\n",
      "28    0.504119  0.478188  0.524476  0.500840  0.001710\n",
      "29    0.485997  0.469799  0.517483  0.502521  0.005101\n",
      "...        ...       ...       ...       ...       ...\n",
      "1196  0.845140  0.825503  0.870629  0.836975  0.039731\n",
      "1197  0.815486  0.817114  0.868881  0.848739  0.016606\n",
      "1198  0.827018  0.825503  0.882867  0.862185  0.018968\n",
      "1199  0.843493  0.840604  0.898601  0.862185  0.033234\n",
      "1200  0.785832  0.776846  0.832168  0.805042  0.021496\n",
      "1201  0.784185  0.773490  0.833916  0.810084  0.015665\n",
      "1202  0.795717  0.775168  0.826923  0.796639  0.015466\n",
      "1203  0.775947  0.760067  0.812937  0.789916  0.019964\n",
      "1204  0.774300  0.897651  0.830420  0.840336  0.082227\n",
      "1205  0.843493  0.823826  0.881119  0.857143  0.036248\n",
      "1206  0.838550  0.827181  0.879371  0.858824  0.038455\n",
      "1207  0.841845  0.924497  0.900350  0.889076  0.140303\n",
      "1208  0.892916  0.874161  0.895105  0.885714  0.043703\n",
      "1209  0.869852  0.859060  0.916084  0.897479  0.018468\n",
      "1210  0.878089  0.862416  0.921329  0.904202  0.018569\n",
      "1211  0.881384  0.870805  0.898601  0.868908  0.030688\n",
      "1212  0.845140  0.827181  0.861888  0.828571  0.026529\n",
      "1213  0.807249  0.827181  0.860140  0.828571  0.035990\n",
      "1214  0.812191  0.803691  0.847902  0.821849  0.022289\n",
      "1215  0.803954  0.812081  0.853147  0.853782  0.028646\n",
      "1216  0.812191  0.860738  0.870629  0.882353  0.046671\n",
      "1217  0.874794  0.924497  0.931818  0.957983  0.084589\n",
      "1218  0.934102  0.983221  1.000000  1.000000  0.051009\n",
      "1219  1.000000  0.991611  0.991259  0.957983  0.051932\n",
      "1220  0.902801  0.884228  0.888112  0.862185  0.072005\n",
      "1221  0.843493  0.832215  0.833916  0.816807  0.050171\n",
      "1222  0.785832  0.812081  0.825175  0.836975  0.029087\n",
      "1223  0.828666  0.867450  0.888112  0.890756  0.037810\n",
      "1224  0.892916  0.932886  0.947552  0.939496  0.061125\n",
      "1225  0.934102  0.932886  0.972028  0.966387  0.047673\n",
      "\n",
      "[1226 rows x 5 columns]\n"
     ]
    }
   ],
   "source": [
    "from sklearn.preprocessing import MinMaxScaler\n",
    "\n",
    "scaler = MinMaxScaler()\n",
    "scale_cols = ['Open', 'High', 'Low', 'Close', 'Volume']\n",
    "df_scaled = scaler.fit_transform(df[scale_cols])\n",
    "\n",
    "df_scaled = pd.DataFrame(df_scaled)\n",
    "df_scaled.columns = scale_cols\n",
    "\n",
    "print(df_scaled)"
   ]
  },
  {
   "cell_type": "code",
   "execution_count": 22,
   "id": "fundamental-halloween",
   "metadata": {},
   "outputs": [],
   "source": [
    "window_size = 10\n",
    "TEST_SIZE = 26"
   ]
  },
  {
   "cell_type": "code",
   "execution_count": 23,
   "id": "behind-gallery",
   "metadata": {},
   "outputs": [],
   "source": [
    "train = df_scaled[:-TEST_SIZE]\n",
    "test = df_scaled[-TEST_SIZE:]"
   ]
  },
  {
   "cell_type": "code",
   "execution_count": 24,
   "id": "listed-being",
   "metadata": {},
   "outputs": [],
   "source": [
    "# 정해진 window_size에 기반하여 10일 기간의 데이터 셋을 묶어준다\n",
    "\n",
    "def make_dataset(data, label, window_size=10):\n",
    "    feature_list = []\n",
    "    label_list = []\n",
    "    for i in range(len(data) - window_size):\n",
    "        feature_list.append(np.array(data.iloc[i:i+window_size]))\n",
    "        label_list.append(np.array(label.iloc[i+window_size]))\n",
    "    return np.array(feature_list), np.array(label_list)"
   ]
  },
  {
   "cell_type": "code",
   "execution_count": 25,
   "id": "damaged-robin",
   "metadata": {},
   "outputs": [
    {
     "data": {
      "text/plain": [
       "((26, 4), (26, 1))"
      ]
     },
     "execution_count": 25,
     "metadata": {},
     "output_type": "execute_result"
    }
   ],
   "source": [
    "from sklearn.model_selection import train_test_split\n",
    "\n",
    "feature_cols = ['Open', 'High', 'Low', 'Volume']\n",
    "label_cols = ['Close']\n",
    "\n",
    "train_feature = train[feature_cols]\n",
    "train_label = train[label_cols]\n",
    "\n",
    "# train dataset\n",
    "train_feature, train_label = make_dataset(train_feature, train_label, 10)\n",
    "\n",
    "# train, validation set 생성\n",
    "x_train, x_valid, y_train, y_valid = train_test_split(train_feature, train_label, test_size=0.2)\n",
    "\n",
    "x_train.shape, x_valid.shape\n",
    "# ((960, 20, 4), (240, 20, 4))\n",
    "\n",
    "# test dataset (실제 예측 해볼 데이터)\n",
    "test_feature = test[feature_cols]\n",
    "test_label = test[label_cols]\n",
    "\n",
    "test_feature.shape, test_label.shape\n",
    "# ((26-10, 10, 4), (26-10, 1))"
   ]
  },
  {
   "cell_type": "code",
   "execution_count": 26,
   "id": "positive-franklin",
   "metadata": {},
   "outputs": [
    {
     "data": {
      "text/plain": [
       "((16, 10, 4), (16, 1))"
      ]
     },
     "execution_count": 26,
     "metadata": {},
     "output_type": "execute_result"
    }
   ],
   "source": [
    "test_feature, test_label = make_dataset(test_feature, test_label, 10)\n",
    "\n",
    "test_feature.shape, test_label.shape"
   ]
  },
  {
   "cell_type": "code",
   "execution_count": 27,
   "id": "listed-chrome",
   "metadata": {},
   "outputs": [
    {
     "data": {
      "text/plain": [
       "(952, 10, 4)"
      ]
     },
     "execution_count": 27,
     "metadata": {},
     "output_type": "execute_result"
    }
   ],
   "source": [
    "x_train.shape"
   ]
  },
  {
   "cell_type": "code",
   "execution_count": 28,
   "id": "narrow-amplifier",
   "metadata": {},
   "outputs": [
    {
     "data": {
      "text/plain": [
       "(238, 10, 4)"
      ]
     },
     "execution_count": 28,
     "metadata": {},
     "output_type": "execute_result"
    }
   ],
   "source": [
    "x_valid.shape"
   ]
  },
  {
   "cell_type": "code",
   "execution_count": 30,
   "id": "diagnostic-greensboro",
   "metadata": {},
   "outputs": [
    {
     "name": "stdout",
     "output_type": "stream",
     "text": [
      "WARNING:tensorflow:From C:\\ProgramData\\Anaconda3\\envs\\tf-1\\lib\\site-packages\\tensorflow_core\\python\\ops\\resource_variable_ops.py:1630: calling BaseResourceVariable.__init__ (from tensorflow.python.ops.resource_variable_ops) with constraint is deprecated and will be removed in a future version.\n",
      "Instructions for updating:\n",
      "If using Keras pass *_constraint arguments to layers.\n"
     ]
    }
   ],
   "source": [
    "from keras.models import Sequential\n",
    "from keras.layers import Dense\n",
    "from keras.callbacks import EarlyStopping, ModelCheckpoint\n",
    "from keras.layers import LSTM\n",
    "\n",
    "model = Sequential()\n",
    "model.add(LSTM(16, \n",
    "               input_shape=(train_feature.shape[1], train_feature.shape[2]), \n",
    "               activation='relu', \n",
    "               return_sequences=False)\n",
    "          )\n",
    "model.add(Dense(1))"
   ]
  },
  {
   "cell_type": "code",
   "execution_count": 31,
   "id": "figured-strain",
   "metadata": {},
   "outputs": [
    {
     "name": "stdout",
     "output_type": "stream",
     "text": [
      "WARNING:tensorflow:From C:\\ProgramData\\Anaconda3\\envs\\tf-1\\lib\\site-packages\\keras\\backend\\tensorflow_backend.py:422: The name tf.global_variables is deprecated. Please use tf.compat.v1.global_variables instead.\n",
      "\n",
      "Train on 952 samples, validate on 238 samples\n",
      "Epoch 1/200\n",
      "952/952 [==============================] - 4s 4ms/step - loss: nan - val_loss: nan\n",
      "\n",
      "Epoch 00001: val_loss did not improve from inf\n",
      "Epoch 2/200\n",
      "952/952 [==============================] - 3s 3ms/step - loss: nan - val_loss: nan\n",
      "\n",
      "Epoch 00002: val_loss did not improve from inf\n",
      "Epoch 3/200\n",
      "952/952 [==============================] - 3s 3ms/step - loss: nan - val_loss: nan\n",
      "\n",
      "Epoch 00003: val_loss did not improve from inf\n",
      "Epoch 4/200\n",
      "952/952 [==============================] - 3s 4ms/step - loss: nan - val_loss: nan\n",
      "\n",
      "Epoch 00004: val_loss did not improve from inf\n",
      "Epoch 5/200\n",
      "952/952 [==============================] - 3s 4ms/step - loss: nan - val_loss: nan\n",
      "\n",
      "Epoch 00005: val_loss did not improve from inf\n",
      "Epoch 6/200\n",
      "952/952 [==============================] - 3s 4ms/step - loss: nan - val_loss: nan\n",
      "\n",
      "Epoch 00006: val_loss did not improve from inf\n",
      "Epoch 7/200\n",
      "952/952 [==============================] - 3s 3ms/step - loss: nan - val_loss: nan\n",
      "\n",
      "Epoch 00007: val_loss did not improve from inf\n",
      "Epoch 8/200\n",
      "952/952 [==============================] - 3s 3ms/step - loss: nan - val_loss: nan\n",
      "\n",
      "Epoch 00008: val_loss did not improve from inf\n",
      "Epoch 9/200\n",
      "952/952 [==============================] - 4s 4ms/step - loss: nan - val_loss: nan\n",
      "\n",
      "Epoch 00009: val_loss did not improve from inf\n",
      "Epoch 10/200\n",
      "952/952 [==============================] - 4s 4ms/step - loss: nan - val_loss: nan\n",
      "\n",
      "Epoch 00010: val_loss did not improve from inf\n"
     ]
    }
   ],
   "source": [
    "model.compile(loss='mean_squared_error', optimizer='adam')\n",
    "early_stop = EarlyStopping(monitor='val_loss', patience=10)\n",
    "filename = os.path.join('tmp', 'ckeckpointer.ckpt')\n",
    "checkpoint = ModelCheckpoint(filename, monitor='val_loss', verbose=1, save_best_only=True, mode='auto')\n",
    "\n",
    "history = model.fit(x_train, y_train, \n",
    "                    epochs=200, \n",
    "                    batch_size=1,\n",
    "                    validation_data=(x_valid, y_valid), \n",
    "                    callbacks=[early_stop, checkpoint])"
   ]
  },
  {
   "cell_type": "code",
   "execution_count": 32,
   "id": "liberal-oxford",
   "metadata": {},
   "outputs": [
    {
     "ename": "OSError",
     "evalue": "Unable to open file (unable to open file: name = 'tmp\\ckeckpointer.ckpt', errno = 2, error message = 'No such file or directory', flags = 0, o_flags = 0)",
     "output_type": "error",
     "traceback": [
      "\u001b[1;31m---------------------------------------------------------------------------\u001b[0m",
      "\u001b[1;31mOSError\u001b[0m                                   Traceback (most recent call last)",
      "\u001b[1;32m<ipython-input-32-51d08d77a9c8>\u001b[0m in \u001b[0;36m<module>\u001b[1;34m()\u001b[0m\n\u001b[1;32m----> 1\u001b[1;33m \u001b[0mmodel\u001b[0m\u001b[1;33m.\u001b[0m\u001b[0mload_weights\u001b[0m\u001b[1;33m(\u001b[0m\u001b[0mfilename\u001b[0m\u001b[1;33m)\u001b[0m\u001b[1;33m\u001b[0m\u001b[1;33m\u001b[0m\u001b[0m\n\u001b[0m\u001b[0;32m      2\u001b[0m \u001b[0mpred\u001b[0m  \u001b[1;33m=\u001b[0m \u001b[0mmodel\u001b[0m\u001b[1;33m.\u001b[0m\u001b[0mpredict\u001b[0m\u001b[1;33m(\u001b[0m\u001b[0mtest_feature\u001b[0m\u001b[1;33m)\u001b[0m\u001b[1;33m\u001b[0m\u001b[1;33m\u001b[0m\u001b[0m\n\u001b[0;32m      3\u001b[0m \u001b[1;33m\u001b[0m\u001b[0m\n\u001b[0;32m      4\u001b[0m \u001b[0mpred\u001b[0m\u001b[1;33m.\u001b[0m\u001b[0mshape\u001b[0m\u001b[1;33m\u001b[0m\u001b[1;33m\u001b[0m\u001b[0m\n",
      "\u001b[1;32mC:\\ProgramData\\Anaconda3\\envs\\tf-1\\lib\\site-packages\\keras\\engine\\saving.py\u001b[0m in \u001b[0;36mload_wrapper\u001b[1;34m(*args, **kwargs)\u001b[0m\n\u001b[0;32m    490\u001b[0m                 \u001b[0mos\u001b[0m\u001b[1;33m.\u001b[0m\u001b[0mremove\u001b[0m\u001b[1;33m(\u001b[0m\u001b[0mtmp_filepath\u001b[0m\u001b[1;33m)\u001b[0m\u001b[1;33m\u001b[0m\u001b[1;33m\u001b[0m\u001b[0m\n\u001b[0;32m    491\u001b[0m             \u001b[1;32mreturn\u001b[0m \u001b[0mres\u001b[0m\u001b[1;33m\u001b[0m\u001b[1;33m\u001b[0m\u001b[0m\n\u001b[1;32m--> 492\u001b[1;33m         \u001b[1;32mreturn\u001b[0m \u001b[0mload_function\u001b[0m\u001b[1;33m(\u001b[0m\u001b[1;33m*\u001b[0m\u001b[0margs\u001b[0m\u001b[1;33m,\u001b[0m \u001b[1;33m**\u001b[0m\u001b[0mkwargs\u001b[0m\u001b[1;33m)\u001b[0m\u001b[1;33m\u001b[0m\u001b[1;33m\u001b[0m\u001b[0m\n\u001b[0m\u001b[0;32m    493\u001b[0m \u001b[1;33m\u001b[0m\u001b[0m\n\u001b[0;32m    494\u001b[0m     \u001b[1;32mreturn\u001b[0m \u001b[0mload_wrapper\u001b[0m\u001b[1;33m\u001b[0m\u001b[1;33m\u001b[0m\u001b[0m\n",
      "\u001b[1;32mC:\\ProgramData\\Anaconda3\\envs\\tf-1\\lib\\site-packages\\keras\\engine\\network.py\u001b[0m in \u001b[0;36mload_weights\u001b[1;34m(self, filepath, by_name, skip_mismatch, reshape)\u001b[0m\n\u001b[0;32m   1219\u001b[0m         \u001b[1;32mif\u001b[0m \u001b[0mh5py\u001b[0m \u001b[1;32mis\u001b[0m \u001b[1;32mNone\u001b[0m\u001b[1;33m:\u001b[0m\u001b[1;33m\u001b[0m\u001b[1;33m\u001b[0m\u001b[0m\n\u001b[0;32m   1220\u001b[0m             \u001b[1;32mraise\u001b[0m \u001b[0mImportError\u001b[0m\u001b[1;33m(\u001b[0m\u001b[1;34m'`load_weights` requires h5py.'\u001b[0m\u001b[1;33m)\u001b[0m\u001b[1;33m\u001b[0m\u001b[1;33m\u001b[0m\u001b[0m\n\u001b[1;32m-> 1221\u001b[1;33m         \u001b[1;32mwith\u001b[0m \u001b[0mh5py\u001b[0m\u001b[1;33m.\u001b[0m\u001b[0mFile\u001b[0m\u001b[1;33m(\u001b[0m\u001b[0mfilepath\u001b[0m\u001b[1;33m,\u001b[0m \u001b[0mmode\u001b[0m\u001b[1;33m=\u001b[0m\u001b[1;34m'r'\u001b[0m\u001b[1;33m)\u001b[0m \u001b[1;32mas\u001b[0m \u001b[0mf\u001b[0m\u001b[1;33m:\u001b[0m\u001b[1;33m\u001b[0m\u001b[1;33m\u001b[0m\u001b[0m\n\u001b[0m\u001b[0;32m   1222\u001b[0m             \u001b[1;32mif\u001b[0m \u001b[1;34m'layer_names'\u001b[0m \u001b[1;32mnot\u001b[0m \u001b[1;32min\u001b[0m \u001b[0mf\u001b[0m\u001b[1;33m.\u001b[0m\u001b[0mattrs\u001b[0m \u001b[1;32mand\u001b[0m \u001b[1;34m'model_weights'\u001b[0m \u001b[1;32min\u001b[0m \u001b[0mf\u001b[0m\u001b[1;33m:\u001b[0m\u001b[1;33m\u001b[0m\u001b[1;33m\u001b[0m\u001b[0m\n\u001b[0;32m   1223\u001b[0m                 \u001b[0mf\u001b[0m \u001b[1;33m=\u001b[0m \u001b[0mf\u001b[0m\u001b[1;33m[\u001b[0m\u001b[1;34m'model_weights'\u001b[0m\u001b[1;33m]\u001b[0m\u001b[1;33m\u001b[0m\u001b[1;33m\u001b[0m\u001b[0m\n",
      "\u001b[1;32mC:\\ProgramData\\Anaconda3\\envs\\tf-1\\lib\\site-packages\\h5py\\_hl\\files.py\u001b[0m in \u001b[0;36m__init__\u001b[1;34m(self, name, mode, driver, libver, userblock_size, swmr, rdcc_nslots, rdcc_nbytes, rdcc_w0, track_order, **kwds)\u001b[0m\n\u001b[0;32m    406\u001b[0m                 fid = make_fid(name, mode, userblock_size,\n\u001b[0;32m    407\u001b[0m                                \u001b[0mfapl\u001b[0m\u001b[1;33m,\u001b[0m \u001b[0mfcpl\u001b[0m\u001b[1;33m=\u001b[0m\u001b[0mmake_fcpl\u001b[0m\u001b[1;33m(\u001b[0m\u001b[0mtrack_order\u001b[0m\u001b[1;33m=\u001b[0m\u001b[0mtrack_order\u001b[0m\u001b[1;33m)\u001b[0m\u001b[1;33m,\u001b[0m\u001b[1;33m\u001b[0m\u001b[1;33m\u001b[0m\u001b[0m\n\u001b[1;32m--> 408\u001b[1;33m                                swmr=swmr)\n\u001b[0m\u001b[0;32m    409\u001b[0m \u001b[1;33m\u001b[0m\u001b[0m\n\u001b[0;32m    410\u001b[0m             \u001b[1;32mif\u001b[0m \u001b[0misinstance\u001b[0m\u001b[1;33m(\u001b[0m\u001b[0mlibver\u001b[0m\u001b[1;33m,\u001b[0m \u001b[0mtuple\u001b[0m\u001b[1;33m)\u001b[0m\u001b[1;33m:\u001b[0m\u001b[1;33m\u001b[0m\u001b[1;33m\u001b[0m\u001b[0m\n",
      "\u001b[1;32mC:\\ProgramData\\Anaconda3\\envs\\tf-1\\lib\\site-packages\\h5py\\_hl\\files.py\u001b[0m in \u001b[0;36mmake_fid\u001b[1;34m(name, mode, userblock_size, fapl, fcpl, swmr)\u001b[0m\n\u001b[0;32m    171\u001b[0m         \u001b[1;32mif\u001b[0m \u001b[0mswmr\u001b[0m \u001b[1;32mand\u001b[0m \u001b[0mswmr_support\u001b[0m\u001b[1;33m:\u001b[0m\u001b[1;33m\u001b[0m\u001b[1;33m\u001b[0m\u001b[0m\n\u001b[0;32m    172\u001b[0m             \u001b[0mflags\u001b[0m \u001b[1;33m|=\u001b[0m \u001b[0mh5f\u001b[0m\u001b[1;33m.\u001b[0m\u001b[0mACC_SWMR_READ\u001b[0m\u001b[1;33m\u001b[0m\u001b[1;33m\u001b[0m\u001b[0m\n\u001b[1;32m--> 173\u001b[1;33m         \u001b[0mfid\u001b[0m \u001b[1;33m=\u001b[0m \u001b[0mh5f\u001b[0m\u001b[1;33m.\u001b[0m\u001b[0mopen\u001b[0m\u001b[1;33m(\u001b[0m\u001b[0mname\u001b[0m\u001b[1;33m,\u001b[0m \u001b[0mflags\u001b[0m\u001b[1;33m,\u001b[0m \u001b[0mfapl\u001b[0m\u001b[1;33m=\u001b[0m\u001b[0mfapl\u001b[0m\u001b[1;33m)\u001b[0m\u001b[1;33m\u001b[0m\u001b[1;33m\u001b[0m\u001b[0m\n\u001b[0m\u001b[0;32m    174\u001b[0m     \u001b[1;32melif\u001b[0m \u001b[0mmode\u001b[0m \u001b[1;33m==\u001b[0m \u001b[1;34m'r+'\u001b[0m\u001b[1;33m:\u001b[0m\u001b[1;33m\u001b[0m\u001b[1;33m\u001b[0m\u001b[0m\n\u001b[0;32m    175\u001b[0m         \u001b[0mfid\u001b[0m \u001b[1;33m=\u001b[0m \u001b[0mh5f\u001b[0m\u001b[1;33m.\u001b[0m\u001b[0mopen\u001b[0m\u001b[1;33m(\u001b[0m\u001b[0mname\u001b[0m\u001b[1;33m,\u001b[0m \u001b[0mh5f\u001b[0m\u001b[1;33m.\u001b[0m\u001b[0mACC_RDWR\u001b[0m\u001b[1;33m,\u001b[0m \u001b[0mfapl\u001b[0m\u001b[1;33m=\u001b[0m\u001b[0mfapl\u001b[0m\u001b[1;33m)\u001b[0m\u001b[1;33m\u001b[0m\u001b[1;33m\u001b[0m\u001b[0m\n",
      "\u001b[1;32mh5py\\_objects.pyx\u001b[0m in \u001b[0;36mh5py._objects.with_phil.wrapper\u001b[1;34m()\u001b[0m\n",
      "\u001b[1;32mh5py\\_objects.pyx\u001b[0m in \u001b[0;36mh5py._objects.with_phil.wrapper\u001b[1;34m()\u001b[0m\n",
      "\u001b[1;32mh5py\\h5f.pyx\u001b[0m in \u001b[0;36mh5py.h5f.open\u001b[1;34m()\u001b[0m\n",
      "\u001b[1;31mOSError\u001b[0m: Unable to open file (unable to open file: name = 'tmp\\ckeckpointer.ckpt', errno = 2, error message = 'No such file or directory', flags = 0, o_flags = 0)"
     ]
    }
   ],
   "source": [
    "model.load_weights(filename)\n",
    "pred  = model.predict(test_feature)\n",
    "\n",
    "pred.shape"
   ]
  },
  {
   "cell_type": "code",
   "execution_count": null,
   "id": "attached-cooking",
   "metadata": {},
   "outputs": [],
   "source": []
  }
 ],
 "metadata": {
  "kernelspec": {
   "display_name": "tf-1",
   "language": "python",
   "name": "tf-1"
  },
  "language_info": {
   "codemirror_mode": {
    "name": "ipython",
    "version": 3
   },
   "file_extension": ".py",
   "mimetype": "text/x-python",
   "name": "python",
   "nbconvert_exporter": "python",
   "pygments_lexer": "ipython3",
   "version": "3.7.9"
  }
 },
 "nbformat": 4,
 "nbformat_minor": 5
}
