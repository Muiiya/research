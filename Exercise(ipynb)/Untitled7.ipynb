{
 "cells": [
  {
   "cell_type": "code",
   "execution_count": null,
   "id": "cubic-transition",
   "metadata": {},
   "outputs": [],
   "source": [
    "# 세션에 대하여\n",
    "\n",
    "# 텐서프롤우의 텐서는 방향 그래프를 기반으로 하여 설계된 기계학습 라이브러리이기\n",
    "# 때문에 일반적인 프로그램 방식과 차이가 있다. 효율적인 인공지능 구현을 위해\n",
    "# 이와 같이 설계되었다고 보면 된다\n",
    "\n",
    "# 텐서플로우에서 데이터의 처리 단위는 텐서(Tensor)이다\n",
    "\n",
    "# 일종의 다차원 배열 객체라고 볼 수 있다\n",
    "\n",
    "# 세션은 실제로 값을 대입한 그래프가 동작하도록 하는 역할을 수행"
   ]
  }
 ],
 "metadata": {
  "kernelspec": {
   "display_name": "Python 3",
   "language": "python",
   "name": "python3"
  },
  "language_info": {
   "codemirror_mode": {
    "name": "ipython",
    "version": 3
   },
   "file_extension": ".py",
   "mimetype": "text/x-python",
   "name": "python",
   "nbconvert_exporter": "python",
   "pygments_lexer": "ipython3",
   "version": "3.8.5"
  }
 },
 "nbformat": 4,
 "nbformat_minor": 5
}
