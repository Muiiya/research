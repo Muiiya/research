{
 "cells": [
  {
   "cell_type": "code",
   "execution_count": 1,
   "id": "hybrid-warner",
   "metadata": {},
   "outputs": [],
   "source": [
    "import pandas as pd\n",
    "import numpy as np\n",
    "import matplotlib.pyplot as plt\n",
    "import seaborn as sns\n",
    "import warnings\n",
    "import os\n",
    "import sys\n",
    "import tensorflow as tf\n",
    "\n",
    "from sklearn.preprocessing import MinMaxScaler\n",
    "from tqdm import tqdm"
   ]
  },
  {
   "cell_type": "code",
   "execution_count": 2,
   "id": "spread-minnesota",
   "metadata": {},
   "outputs": [
    {
     "data": {
      "text/html": [
       "<div>\n",
       "<style scoped>\n",
       "    .dataframe tbody tr th:only-of-type {\n",
       "        vertical-align: middle;\n",
       "    }\n",
       "\n",
       "    .dataframe tbody tr th {\n",
       "        vertical-align: top;\n",
       "    }\n",
       "\n",
       "    .dataframe thead th {\n",
       "        text-align: right;\n",
       "    }\n",
       "</style>\n",
       "<table border=\"1\" class=\"dataframe\">\n",
       "  <thead>\n",
       "    <tr style=\"text-align: right;\">\n",
       "      <th></th>\n",
       "      <th>Date</th>\n",
       "      <th>Open</th>\n",
       "      <th>High</th>\n",
       "      <th>Low</th>\n",
       "      <th>Close</th>\n",
       "      <th>Adj Close</th>\n",
       "      <th>Volume</th>\n",
       "    </tr>\n",
       "  </thead>\n",
       "  <tbody>\n",
       "    <tr>\n",
       "      <th>0</th>\n",
       "      <td>2020-09-03</td>\n",
       "      <td>8990</td>\n",
       "      <td>9010</td>\n",
       "      <td>8830</td>\n",
       "      <td>8840</td>\n",
       "      <td>8840</td>\n",
       "      <td>50420</td>\n",
       "    </tr>\n",
       "    <tr>\n",
       "      <th>1</th>\n",
       "      <td>2020-09-04</td>\n",
       "      <td>8770</td>\n",
       "      <td>8770</td>\n",
       "      <td>8620</td>\n",
       "      <td>8680</td>\n",
       "      <td>8680</td>\n",
       "      <td>50024</td>\n",
       "    </tr>\n",
       "    <tr>\n",
       "      <th>2</th>\n",
       "      <td>2020-09-07</td>\n",
       "      <td>8680</td>\n",
       "      <td>8860</td>\n",
       "      <td>8680</td>\n",
       "      <td>8740</td>\n",
       "      <td>8740</td>\n",
       "      <td>37808</td>\n",
       "    </tr>\n",
       "    <tr>\n",
       "      <th>3</th>\n",
       "      <td>2020-09-08</td>\n",
       "      <td>8840</td>\n",
       "      <td>8840</td>\n",
       "      <td>8700</td>\n",
       "      <td>8720</td>\n",
       "      <td>8720</td>\n",
       "      <td>27257</td>\n",
       "    </tr>\n",
       "    <tr>\n",
       "      <th>4</th>\n",
       "      <td>2020-09-09</td>\n",
       "      <td>8700</td>\n",
       "      <td>8700</td>\n",
       "      <td>8570</td>\n",
       "      <td>8600</td>\n",
       "      <td>8600</td>\n",
       "      <td>42491</td>\n",
       "    </tr>\n",
       "  </tbody>\n",
       "</table>\n",
       "</div>"
      ],
      "text/plain": [
       "         Date  Open  High   Low  Close  Adj Close  Volume\n",
       "0  2020-09-03  8990  9010  8830   8840       8840   50420\n",
       "1  2020-09-04  8770  8770  8620   8680       8680   50024\n",
       "2  2020-09-07  8680  8860  8680   8740       8740   37808\n",
       "3  2020-09-08  8840  8840  8700   8720       8720   27257\n",
       "4  2020-09-09  8700  8700  8570   8600       8600   42491"
      ]
     },
     "execution_count": 2,
     "metadata": {},
     "output_type": "execute_result"
    }
   ],
   "source": [
    "# 예측할 종목은 한양증권(001750) 입니다\n",
    "# 기간은 00-01-04 ~ 21-02-05 입니다\n",
    "# Yahoo Finanace에서 다운로드 받습니다 \n",
    "# null값과 0값을 제거한 데이터를 사용합니다\n",
    "\n",
    "\n",
    "df = pd.read_csv('C:\\Jupyter_Project\\Hanyang_Securities_63_21_21.csv')\n",
    "df = df.dropna()\n",
    "df.head()"
   ]
  },
  {
   "cell_type": "code",
   "execution_count": 3,
   "id": "homeless-illustration",
   "metadata": {},
   "outputs": [
    {
     "data": {
      "text/html": [
       "<div>\n",
       "<style scoped>\n",
       "    .dataframe tbody tr th:only-of-type {\n",
       "        vertical-align: middle;\n",
       "    }\n",
       "\n",
       "    .dataframe tbody tr th {\n",
       "        vertical-align: top;\n",
       "    }\n",
       "\n",
       "    .dataframe thead th {\n",
       "        text-align: right;\n",
       "    }\n",
       "</style>\n",
       "<table border=\"1\" class=\"dataframe\">\n",
       "  <thead>\n",
       "    <tr style=\"text-align: right;\">\n",
       "      <th></th>\n",
       "      <th>Date</th>\n",
       "      <th>Open</th>\n",
       "      <th>High</th>\n",
       "      <th>Low</th>\n",
       "      <th>Close</th>\n",
       "      <th>Adj Close</th>\n",
       "      <th>Volume</th>\n",
       "    </tr>\n",
       "  </thead>\n",
       "  <tbody>\n",
       "    <tr>\n",
       "      <th>100</th>\n",
       "      <td>2021-02-01</td>\n",
       "      <td>9200</td>\n",
       "      <td>9480</td>\n",
       "      <td>9100</td>\n",
       "      <td>9380</td>\n",
       "      <td>9380</td>\n",
       "      <td>81355</td>\n",
       "    </tr>\n",
       "    <tr>\n",
       "      <th>101</th>\n",
       "      <td>2021-02-02</td>\n",
       "      <td>9460</td>\n",
       "      <td>9810</td>\n",
       "      <td>9460</td>\n",
       "      <td>9700</td>\n",
       "      <td>9700</td>\n",
       "      <td>105755</td>\n",
       "    </tr>\n",
       "    <tr>\n",
       "      <th>102</th>\n",
       "      <td>2021-02-03</td>\n",
       "      <td>9850</td>\n",
       "      <td>10200</td>\n",
       "      <td>9800</td>\n",
       "      <td>9990</td>\n",
       "      <td>9990</td>\n",
       "      <td>170966</td>\n",
       "    </tr>\n",
       "    <tr>\n",
       "      <th>103</th>\n",
       "      <td>2021-02-04</td>\n",
       "      <td>10100</td>\n",
       "      <td>10200</td>\n",
       "      <td>9940</td>\n",
       "      <td>10150</td>\n",
       "      <td>10150</td>\n",
       "      <td>133504</td>\n",
       "    </tr>\n",
       "    <tr>\n",
       "      <th>104</th>\n",
       "      <td>2021-02-05</td>\n",
       "      <td>10200</td>\n",
       "      <td>10800</td>\n",
       "      <td>10150</td>\n",
       "      <td>10650</td>\n",
       "      <td>10650</td>\n",
       "      <td>251300</td>\n",
       "    </tr>\n",
       "  </tbody>\n",
       "</table>\n",
       "</div>"
      ],
      "text/plain": [
       "           Date   Open   High    Low  Close  Adj Close  Volume\n",
       "100  2021-02-01   9200   9480   9100   9380       9380   81355\n",
       "101  2021-02-02   9460   9810   9460   9700       9700  105755\n",
       "102  2021-02-03   9850  10200   9800   9990       9990  170966\n",
       "103  2021-02-04  10100  10200   9940  10150      10150  133504\n",
       "104  2021-02-05  10200  10800  10150  10650      10650  251300"
      ]
     },
     "execution_count": 3,
     "metadata": {},
     "output_type": "execute_result"
    }
   ],
   "source": [
    "df.tail()"
   ]
  },
  {
   "cell_type": "code",
   "execution_count": 4,
   "id": "gorgeous-prison",
   "metadata": {},
   "outputs": [
    {
     "data": {
      "text/plain": [
       "0      1.0\n",
       "1      1.0\n",
       "2      1.0\n",
       "3      1.0\n",
       "4      1.0\n",
       "      ... \n",
       "100    1.0\n",
       "101    1.0\n",
       "102    1.0\n",
       "103    1.0\n",
       "104    1.0\n",
       "Length: 105, dtype: float64"
      ]
     },
     "execution_count": 4,
     "metadata": {},
     "output_type": "execute_result"
    }
   ],
   "source": [
    "# OHLC를 Adj OHLC로 바꾸기 위한 비율입니다\n",
    "# Adj OHLC는 과거의 절대가격을 현재 가격의 시점으로 보기위한 수정된 가격입니다\n",
    "# 과거 발생한 액면분할과 현금배당을 반영한 Adj Close를 기준으로 조정합니다\n",
    "\n",
    "ratio = df['Adj Close']/df['Close']\n",
    "ratio"
   ]
  },
  {
   "cell_type": "code",
   "execution_count": 5,
   "id": "opposite-accounting",
   "metadata": {},
   "outputs": [],
   "source": [
    "df['Adj Open'] = df['Open']*ratio\n",
    "df['Adj High'] = df['High']*ratio\n",
    "df['Adj Low'] = df['Low']*ratio"
   ]
  },
  {
   "cell_type": "code",
   "execution_count": 6,
   "id": "bearing-assurance",
   "metadata": {},
   "outputs": [],
   "source": [
    "df.drop(['Open','High','Low','Close'], axis=1, inplace=True)"
   ]
  },
  {
   "cell_type": "code",
   "execution_count": 7,
   "id": "capital-advisory",
   "metadata": {},
   "outputs": [],
   "source": [
    "df.rename(columns={'Adj Open':'Open', 'Adj High':'High', 'Adj Low':'Low', 'Adj Close':'Close'}, inplace=True)"
   ]
  },
  {
   "cell_type": "code",
   "execution_count": 8,
   "id": "toxic-layer",
   "metadata": {},
   "outputs": [
    {
     "data": {
      "text/html": [
       "<div>\n",
       "<style scoped>\n",
       "    .dataframe tbody tr th:only-of-type {\n",
       "        vertical-align: middle;\n",
       "    }\n",
       "\n",
       "    .dataframe tbody tr th {\n",
       "        vertical-align: top;\n",
       "    }\n",
       "\n",
       "    .dataframe thead th {\n",
       "        text-align: right;\n",
       "    }\n",
       "</style>\n",
       "<table border=\"1\" class=\"dataframe\">\n",
       "  <thead>\n",
       "    <tr style=\"text-align: right;\">\n",
       "      <th></th>\n",
       "      <th>Open</th>\n",
       "      <th>High</th>\n",
       "      <th>Low</th>\n",
       "      <th>Close</th>\n",
       "      <th>Volume</th>\n",
       "    </tr>\n",
       "  </thead>\n",
       "  <tbody>\n",
       "    <tr>\n",
       "      <th>0</th>\n",
       "      <td>8990.0</td>\n",
       "      <td>9010.0</td>\n",
       "      <td>8830.0</td>\n",
       "      <td>8840</td>\n",
       "      <td>50420</td>\n",
       "    </tr>\n",
       "    <tr>\n",
       "      <th>1</th>\n",
       "      <td>8770.0</td>\n",
       "      <td>8770.0</td>\n",
       "      <td>8620.0</td>\n",
       "      <td>8680</td>\n",
       "      <td>50024</td>\n",
       "    </tr>\n",
       "    <tr>\n",
       "      <th>2</th>\n",
       "      <td>8680.0</td>\n",
       "      <td>8860.0</td>\n",
       "      <td>8680.0</td>\n",
       "      <td>8740</td>\n",
       "      <td>37808</td>\n",
       "    </tr>\n",
       "    <tr>\n",
       "      <th>3</th>\n",
       "      <td>8840.0</td>\n",
       "      <td>8840.0</td>\n",
       "      <td>8700.0</td>\n",
       "      <td>8720</td>\n",
       "      <td>27257</td>\n",
       "    </tr>\n",
       "    <tr>\n",
       "      <th>4</th>\n",
       "      <td>8700.0</td>\n",
       "      <td>8700.0</td>\n",
       "      <td>8570.0</td>\n",
       "      <td>8600</td>\n",
       "      <td>42491</td>\n",
       "    </tr>\n",
       "    <tr>\n",
       "      <th>...</th>\n",
       "      <td>...</td>\n",
       "      <td>...</td>\n",
       "      <td>...</td>\n",
       "      <td>...</td>\n",
       "      <td>...</td>\n",
       "    </tr>\n",
       "    <tr>\n",
       "      <th>100</th>\n",
       "      <td>9200.0</td>\n",
       "      <td>9480.0</td>\n",
       "      <td>9100.0</td>\n",
       "      <td>9380</td>\n",
       "      <td>81355</td>\n",
       "    </tr>\n",
       "    <tr>\n",
       "      <th>101</th>\n",
       "      <td>9460.0</td>\n",
       "      <td>9810.0</td>\n",
       "      <td>9460.0</td>\n",
       "      <td>9700</td>\n",
       "      <td>105755</td>\n",
       "    </tr>\n",
       "    <tr>\n",
       "      <th>102</th>\n",
       "      <td>9850.0</td>\n",
       "      <td>10200.0</td>\n",
       "      <td>9800.0</td>\n",
       "      <td>9990</td>\n",
       "      <td>170966</td>\n",
       "    </tr>\n",
       "    <tr>\n",
       "      <th>103</th>\n",
       "      <td>10100.0</td>\n",
       "      <td>10200.0</td>\n",
       "      <td>9940.0</td>\n",
       "      <td>10150</td>\n",
       "      <td>133504</td>\n",
       "    </tr>\n",
       "    <tr>\n",
       "      <th>104</th>\n",
       "      <td>10200.0</td>\n",
       "      <td>10800.0</td>\n",
       "      <td>10150.0</td>\n",
       "      <td>10650</td>\n",
       "      <td>251300</td>\n",
       "    </tr>\n",
       "  </tbody>\n",
       "</table>\n",
       "<p>105 rows × 5 columns</p>\n",
       "</div>"
      ],
      "text/plain": [
       "        Open     High      Low  Close  Volume\n",
       "0     8990.0   9010.0   8830.0   8840   50420\n",
       "1     8770.0   8770.0   8620.0   8680   50024\n",
       "2     8680.0   8860.0   8680.0   8740   37808\n",
       "3     8840.0   8840.0   8700.0   8720   27257\n",
       "4     8700.0   8700.0   8570.0   8600   42491\n",
       "..       ...      ...      ...    ...     ...\n",
       "100   9200.0   9480.0   9100.0   9380   81355\n",
       "101   9460.0   9810.0   9460.0   9700  105755\n",
       "102   9850.0  10200.0   9800.0   9990  170966\n",
       "103  10100.0  10200.0   9940.0  10150  133504\n",
       "104  10200.0  10800.0  10150.0  10650  251300\n",
       "\n",
       "[105 rows x 5 columns]"
      ]
     },
     "execution_count": 8,
     "metadata": {},
     "output_type": "execute_result"
    }
   ],
   "source": [
    "df = df[['Open', 'High', 'Low', 'Close', 'Volume']]\n",
    "\n",
    "df"
   ]
  },
  {
   "cell_type": "code",
   "execution_count": 9,
   "id": "celtic-platinum",
   "metadata": {},
   "outputs": [
    {
     "name": "stdout",
     "output_type": "stream",
     "text": [
      "         Open      High       Low     Close    Volume\n",
      "0    0.357447  0.303502  0.368421  0.278884  0.079970\n",
      "1    0.263830  0.210117  0.267943  0.215139  0.079232\n",
      "2    0.225532  0.245136  0.296651  0.239044  0.056462\n",
      "3    0.293617  0.237354  0.306220  0.231076  0.036795\n",
      "4    0.234043  0.182879  0.244019  0.183267  0.065191\n",
      "..        ...       ...       ...       ...       ...\n",
      "100  0.446809  0.486381  0.497608  0.494024  0.137632\n",
      "101  0.557447  0.614786  0.669856  0.621514  0.183113\n",
      "102  0.723404  0.766537  0.832536  0.737052  0.304665\n",
      "103  0.829787  0.766537  0.899522  0.800797  0.234837\n",
      "104  0.872340  1.000000  1.000000  1.000000  0.454405\n",
      "\n",
      "[105 rows x 5 columns]\n"
     ]
    }
   ],
   "source": [
    "scaler = MinMaxScaler()\n",
    "scale_cols = ['Open', 'High', 'Low', 'Close', 'Volume']\n",
    "df_scaled = scaler.fit_transform(df[scale_cols])\n",
    "\n",
    "df_scaled = pd.DataFrame(df_scaled)\n",
    "df_scaled.columns = scale_cols\n",
    "\n",
    "print(df_scaled)"
   ]
  },
  {
   "cell_type": "code",
   "execution_count": 10,
   "id": "prerequisite-climb",
   "metadata": {},
   "outputs": [],
   "source": [
    "# 20일 학습하고 그 다음날 종가예측\n",
    "# 테스트 기간은 21일, 따라서 5299-21 : train / 21 : test\n",
    "\n",
    "window_size = 20\n",
    "TEST_SIZE = 21"
   ]
  },
  {
   "cell_type": "code",
   "execution_count": 11,
   "id": "generic-diagnosis",
   "metadata": {},
   "outputs": [],
   "source": [
    "train = df_scaled[:-TEST_SIZE]\n",
    "test = df_scaled[-TEST_SIZE:]"
   ]
  },
  {
   "cell_type": "code",
   "execution_count": 12,
   "id": "artificial-rachel",
   "metadata": {},
   "outputs": [],
   "source": [
    "# 정해진 window_size에 기반하여 20일 기간의 데이터 셋을 묶어준다\n",
    "\n",
    "def make_dataset(data, label, window_size=20):\n",
    "    feature_list = []\n",
    "    label_list = []\n",
    "    for i in range(len(data) - window_size):\n",
    "        feature_list.append(np.array(data.iloc[i:i+window_size]))\n",
    "        label_list.append(np.array(label.iloc[i+window_size]))\n",
    "    return np.array(feature_list), np.array(label_list)"
   ]
  },
  {
   "cell_type": "code",
   "execution_count": 13,
   "id": "combined-converter",
   "metadata": {},
   "outputs": [
    {
     "data": {
      "text/plain": [
       "((21, 4), (21, 1))"
      ]
     },
     "execution_count": 13,
     "metadata": {},
     "output_type": "execute_result"
    }
   ],
   "source": [
    "from sklearn.model_selection import train_test_split\n",
    "\n",
    "feature_cols = ['Open', 'High', 'Low', 'Volume']\n",
    "label_cols = ['Close']\n",
    "\n",
    "train_feature = train[feature_cols]\n",
    "train_label = train[label_cols]\n",
    "\n",
    "# train dataset\n",
    "train_feature, train_label = make_dataset(train_feature, train_label, 20)\n",
    "\n",
    "# train set : 모델을 학습하는 유일한 dataset\n",
    "# validation set : 학습이 이미 완료된 모델을 검증하기 위한 dataset(비율 0.2) \n",
    "\n",
    "x_train, x_valid, y_train, y_valid = train_test_split(train_feature, train_label, test_size=0.25)\n",
    "\n",
    "x_train.shape, x_valid.shape\n",
    "# ((4206, 20, 4), (1052, 20, 4))\n",
    "\n",
    "# test dataset : 학습과 검증이 완료된 모델의 성능을 평가하기 위한 dataset\n",
    "test_feature = test[feature_cols]\n",
    "test_label = test[label_cols]\n",
    "\n",
    "test_feature.shape, test_label.shape\n",
    "#     (21, 4),          (21, 1)  "
   ]
  },
  {
   "cell_type": "code",
   "execution_count": 14,
   "id": "material-liver",
   "metadata": {},
   "outputs": [
    {
     "data": {
      "text/plain": [
       "((1, 20, 4), (1, 1))"
      ]
     },
     "execution_count": 14,
     "metadata": {},
     "output_type": "execute_result"
    }
   ],
   "source": [
    "test_feature, test_label = make_dataset(test_feature, test_label, 20)\n",
    "\n",
    "test_feature.shape, test_label.shape\n",
    "# (21-20, 20, 4),     (21-20, 1)"
   ]
  },
  {
   "cell_type": "code",
   "execution_count": 15,
   "id": "identical-might",
   "metadata": {},
   "outputs": [],
   "source": [
    "from keras.models import Sequential\n",
    "from keras.layers import Dense\n",
    "from keras.callbacks import EarlyStopping, ModelCheckpoint\n",
    "from keras.layers import LSTM\n",
    "\n",
    "model = Sequential()\n",
    "model.add(LSTM(20, \n",
    "               input_shape=(train_feature.shape[1], train_feature.shape[2]), \n",
    "               activation='relu', \n",
    "               return_sequences=False)\n",
    "          )\n",
    "model.add(Dense(1))"
   ]
  },
  {
   "cell_type": "code",
   "execution_count": 16,
   "id": "bigger-mortgage",
   "metadata": {},
   "outputs": [
    {
     "name": "stdout",
     "output_type": "stream",
     "text": [
      "Epoch 1/200\n",
      "3/3 [==============================] - 6s 2s/step - loss: 0.6359 - soft_acc: 0.3854 - val_loss: 0.5047 - val_soft_acc: 0.6875\n",
      "\n",
      "Epoch 00001: val_loss improved from inf to 0.50475, saving model to tmp\\ckeckpointer.ckpt\n",
      "INFO:tensorflow:Assets written to: tmp\\ckeckpointer.ckpt\\assets\n",
      "Epoch 2/200\n",
      "3/3 [==============================] - 0s 116ms/step - loss: 0.5786 - soft_acc: 0.4323 - val_loss: 0.4745 - val_soft_acc: 0.6875\n",
      "\n",
      "Epoch 00002: val_loss improved from 0.50475 to 0.47453, saving model to tmp\\ckeckpointer.ckpt\n",
      "INFO:tensorflow:Assets written to: tmp\\ckeckpointer.ckpt\\assets\n",
      "Epoch 3/200\n",
      "3/3 [==============================] - 0s 41ms/step - loss: 0.5390 - soft_acc: 0.3932 - val_loss: 0.4421 - val_soft_acc: 0.6875\n",
      "\n",
      "Epoch 00003: val_loss improved from 0.47453 to 0.44212, saving model to tmp\\ckeckpointer.ckpt\n",
      "INFO:tensorflow:Assets written to: tmp\\ckeckpointer.ckpt\\assets\n",
      "Epoch 4/200\n",
      "3/3 [==============================] - 0s 58ms/step - loss: 0.5034 - soft_acc: 0.3854 - val_loss: 0.4076 - val_soft_acc: 0.6875\n",
      "\n",
      "Epoch 00004: val_loss improved from 0.44212 to 0.40762, saving model to tmp\\ckeckpointer.ckpt\n",
      "INFO:tensorflow:Assets written to: tmp\\ckeckpointer.ckpt\\assets\n",
      "Epoch 5/200\n",
      "3/3 [==============================] - 0s 45ms/step - loss: 0.4671 - soft_acc: 0.3854 - val_loss: 0.3705 - val_soft_acc: 0.6875\n",
      "\n",
      "Epoch 00005: val_loss improved from 0.40762 to 0.37047, saving model to tmp\\ckeckpointer.ckpt\n",
      "INFO:tensorflow:Assets written to: tmp\\ckeckpointer.ckpt\\assets\n",
      "Epoch 6/200\n",
      "3/3 [==============================] - 0s 46ms/step - loss: 0.4252 - soft_acc: 0.3854 - val_loss: 0.3294 - val_soft_acc: 0.6875\n",
      "\n",
      "Epoch 00006: val_loss improved from 0.37047 to 0.32938, saving model to tmp\\ckeckpointer.ckpt\n",
      "INFO:tensorflow:Assets written to: tmp\\ckeckpointer.ckpt\\assets\n",
      "Epoch 7/200\n",
      "3/3 [==============================] - 0s 40ms/step - loss: 0.3782 - soft_acc: 0.3932 - val_loss: 0.2819 - val_soft_acc: 0.6875\n",
      "\n",
      "Epoch 00007: val_loss improved from 0.32938 to 0.28190, saving model to tmp\\ckeckpointer.ckpt\n",
      "INFO:tensorflow:Assets written to: tmp\\ckeckpointer.ckpt\\assets\n",
      "Epoch 8/200\n",
      "3/3 [==============================] - 0s 33ms/step - loss: 0.3237 - soft_acc: 0.3932 - val_loss: 0.2266 - val_soft_acc: 0.6875\n",
      "\n",
      "Epoch 00008: val_loss improved from 0.28190 to 0.22658, saving model to tmp\\ckeckpointer.ckpt\n",
      "INFO:tensorflow:Assets written to: tmp\\ckeckpointer.ckpt\\assets\n",
      "Epoch 9/200\n",
      "3/3 [==============================] - 0s 34ms/step - loss: 0.2405 - soft_acc: 0.4167 - val_loss: 0.1621 - val_soft_acc: 0.6875\n",
      "\n",
      "Epoch 00009: val_loss improved from 0.22658 to 0.16213, saving model to tmp\\ckeckpointer.ckpt\n",
      "INFO:tensorflow:Assets written to: tmp\\ckeckpointer.ckpt\\assets\n",
      "Epoch 10/200\n",
      "3/3 [==============================] - 0s 58ms/step - loss: 0.1729 - soft_acc: 0.4245 - val_loss: 0.0940 - val_soft_acc: 0.8125\n",
      "\n",
      "Epoch 00010: val_loss improved from 0.16213 to 0.09398, saving model to tmp\\ckeckpointer.ckpt\n",
      "INFO:tensorflow:Assets written to: tmp\\ckeckpointer.ckpt\\assets\n",
      "Epoch 11/200\n",
      "3/3 [==============================] - 0s 50ms/step - loss: 0.0892 - soft_acc: 0.8750 - val_loss: 0.0849 - val_soft_acc: 0.6875\n",
      "\n",
      "Epoch 00011: val_loss improved from 0.09398 to 0.08494, saving model to tmp\\ckeckpointer.ckpt\n",
      "INFO:tensorflow:Assets written to: tmp\\ckeckpointer.ckpt\\assets\n",
      "Epoch 12/200\n",
      "3/3 [==============================] - 0s 57ms/step - loss: 0.1006 - soft_acc: 0.9609 - val_loss: 0.1209 - val_soft_acc: 0.8125\n",
      "\n",
      "Epoch 00012: val_loss did not improve from 0.08494\n",
      "Epoch 13/200\n",
      "3/3 [==============================] - 0s 43ms/step - loss: 0.1317 - soft_acc: 0.9531 - val_loss: 0.1012 - val_soft_acc: 0.7500\n",
      "\n",
      "Epoch 00013: val_loss did not improve from 0.08494\n",
      "Epoch 14/200\n",
      "3/3 [==============================] - 0s 37ms/step - loss: 0.1026 - soft_acc: 0.9375 - val_loss: 0.0757 - val_soft_acc: 0.6875\n",
      "\n",
      "Epoch 00014: val_loss improved from 0.08494 to 0.07569, saving model to tmp\\ckeckpointer.ckpt\n",
      "INFO:tensorflow:Assets written to: tmp\\ckeckpointer.ckpt\\assets\n",
      "Epoch 15/200\n",
      "3/3 [==============================] - 0s 32ms/step - loss: 0.0779 - soft_acc: 0.9453 - val_loss: 0.0745 - val_soft_acc: 0.6875\n",
      "\n",
      "Epoch 00015: val_loss improved from 0.07569 to 0.07450, saving model to tmp\\ckeckpointer.ckpt\n",
      "INFO:tensorflow:Assets written to: tmp\\ckeckpointer.ckpt\\assets\n",
      "Epoch 16/200\n",
      "3/3 [==============================] - 0s 46ms/step - loss: 0.0859 - soft_acc: 0.9271 - val_loss: 0.0797 - val_soft_acc: 0.7500\n",
      "\n",
      "Epoch 00016: val_loss did not improve from 0.07450\n",
      "Epoch 17/200\n",
      "3/3 [==============================] - 0s 40ms/step - loss: 0.0913 - soft_acc: 0.8438 - val_loss: 0.0779 - val_soft_acc: 0.7500\n",
      "\n",
      "Epoch 00017: val_loss did not improve from 0.07450\n",
      "Epoch 18/200\n",
      "3/3 [==============================] - 0s 33ms/step - loss: 0.0823 - soft_acc: 0.8932 - val_loss: 0.0730 - val_soft_acc: 0.6875\n",
      "\n",
      "Epoch 00018: val_loss improved from 0.07450 to 0.07297, saving model to tmp\\ckeckpointer.ckpt\n",
      "INFO:tensorflow:Assets written to: tmp\\ckeckpointer.ckpt\\assets\n",
      "Epoch 19/200\n",
      "3/3 [==============================] - 0s 32ms/step - loss: 0.0672 - soft_acc: 0.9271 - val_loss: 0.0729 - val_soft_acc: 0.6875\n",
      "\n",
      "Epoch 00019: val_loss improved from 0.07297 to 0.07290, saving model to tmp\\ckeckpointer.ckpt\n",
      "INFO:tensorflow:Assets written to: tmp\\ckeckpointer.ckpt\\assets\n",
      "Epoch 20/200\n",
      "3/3 [==============================] - 0s 32ms/step - loss: 0.0699 - soft_acc: 0.9167 - val_loss: 0.0751 - val_soft_acc: 0.6875\n",
      "\n",
      "Epoch 00020: val_loss did not improve from 0.07290\n",
      "Epoch 21/200\n",
      "3/3 [==============================] - 0s 38ms/step - loss: 0.0700 - soft_acc: 0.9401 - val_loss: 0.0746 - val_soft_acc: 0.6875\n",
      "\n",
      "Epoch 00021: val_loss did not improve from 0.07290\n",
      "Epoch 22/200\n",
      "3/3 [==============================] - 0s 36ms/step - loss: 0.0681 - soft_acc: 0.9167 - val_loss: 0.0724 - val_soft_acc: 0.6875\n",
      "\n",
      "Epoch 00022: val_loss improved from 0.07290 to 0.07245, saving model to tmp\\ckeckpointer.ckpt\n",
      "INFO:tensorflow:Assets written to: tmp\\ckeckpointer.ckpt\\assets\n",
      "Epoch 23/200\n",
      "3/3 [==============================] - 0s 47ms/step - loss: 0.0740 - soft_acc: 0.8776 - val_loss: 0.0721 - val_soft_acc: 0.7500\n",
      "\n",
      "Epoch 00023: val_loss improved from 0.07245 to 0.07215, saving model to tmp\\ckeckpointer.ckpt\n",
      "INFO:tensorflow:Assets written to: tmp\\ckeckpointer.ckpt\\assets\n",
      "Epoch 24/200\n",
      "3/3 [==============================] - 0s 47ms/step - loss: 0.0747 - soft_acc: 0.9036 - val_loss: 0.0722 - val_soft_acc: 0.7500\n",
      "\n",
      "Epoch 00024: val_loss did not improve from 0.07215\n",
      "Epoch 25/200\n",
      "3/3 [==============================] - 0s 32ms/step - loss: 0.0761 - soft_acc: 0.9193 - val_loss: 0.0718 - val_soft_acc: 0.7500\n",
      "\n",
      "Epoch 00025: val_loss improved from 0.07215 to 0.07180, saving model to tmp\\ckeckpointer.ckpt\n",
      "INFO:tensorflow:Assets written to: tmp\\ckeckpointer.ckpt\\assets\n",
      "Epoch 26/200\n",
      "3/3 [==============================] - 0s 56ms/step - loss: 0.0685 - soft_acc: 0.9271 - val_loss: 0.0715 - val_soft_acc: 0.6875\n",
      "\n",
      "Epoch 00026: val_loss improved from 0.07180 to 0.07155, saving model to tmp\\ckeckpointer.ckpt\n",
      "INFO:tensorflow:Assets written to: tmp\\ckeckpointer.ckpt\\assets\n",
      "Epoch 27/200\n",
      "3/3 [==============================] - 0s 30ms/step - loss: 0.0620 - soft_acc: 0.9349 - val_loss: 0.0717 - val_soft_acc: 0.6875\n",
      "\n",
      "Epoch 00027: val_loss did not improve from 0.07155\n",
      "Epoch 28/200\n",
      "3/3 [==============================] - 0s 33ms/step - loss: 0.0673 - soft_acc: 0.9036 - val_loss: 0.0718 - val_soft_acc: 0.6875\n",
      "\n",
      "Epoch 00028: val_loss did not improve from 0.07155\n",
      "Epoch 29/200\n",
      "3/3 [==============================] - 0s 35ms/step - loss: 0.0750 - soft_acc: 0.9036 - val_loss: 0.0718 - val_soft_acc: 0.6875\n",
      "\n",
      "Epoch 00029: val_loss did not improve from 0.07155\n",
      "Epoch 30/200\n",
      "3/3 [==============================] - 0s 34ms/step - loss: 0.0706 - soft_acc: 0.9193 - val_loss: 0.0718 - val_soft_acc: 0.6875\n",
      "\n",
      "Epoch 00030: val_loss did not improve from 0.07155\n",
      "Epoch 31/200\n",
      "3/3 [==============================] - 0s 33ms/step - loss: 0.0726 - soft_acc: 0.8958 - val_loss: 0.0719 - val_soft_acc: 0.6875\n",
      "\n",
      "Epoch 00031: val_loss did not improve from 0.07155\n",
      "Epoch 32/200\n",
      "3/3 [==============================] - 0s 44ms/step - loss: 0.0611 - soft_acc: 0.9427 - val_loss: 0.0719 - val_soft_acc: 0.6875\n",
      "\n",
      "Epoch 00032: val_loss did not improve from 0.07155\n",
      "Epoch 33/200\n"
     ]
    },
    {
     "name": "stdout",
     "output_type": "stream",
     "text": [
      "3/3 [==============================] - 0s 32ms/step - loss: 0.0562 - soft_acc: 0.9583 - val_loss: 0.0722 - val_soft_acc: 0.6875\n",
      "\n",
      "Epoch 00033: val_loss did not improve from 0.07155\n",
      "Epoch 34/200\n",
      "3/3 [==============================] - 0s 32ms/step - loss: 0.0724 - soft_acc: 0.8958 - val_loss: 0.0722 - val_soft_acc: 0.6875\n",
      "\n",
      "Epoch 00034: val_loss did not improve from 0.07155\n",
      "Epoch 35/200\n",
      "3/3 [==============================] - 0s 30ms/step - loss: 0.0721 - soft_acc: 0.9193 - val_loss: 0.0722 - val_soft_acc: 0.6875\n",
      "\n",
      "Epoch 00035: val_loss did not improve from 0.07155\n",
      "Epoch 36/200\n",
      "3/3 [==============================] - 0s 33ms/step - loss: 0.0730 - soft_acc: 0.8802 - val_loss: 0.0721 - val_soft_acc: 0.6875\n",
      "\n",
      "Epoch 00036: val_loss did not improve from 0.07155\n",
      "1/1 [==============================] - 0s 375ms/step - loss: 0.2319 - soft_acc: 1.0000\n",
      "1/1 [==============================] - 0s 33ms/step - loss: 0.0721 - soft_acc: 0.6875\n",
      "train loss, train acc : [0.23190724849700928, 1.0]\n",
      "validation loss, validation acc : [0.07208909839391708, 0.6875]\n"
     ]
    }
   ],
   "source": [
    "# val_loss가 10회 같을 시 early_stop, batch_size(=K)는 K문제 풀고 답보고 하는 식\n",
    "# 위에서 모델을 구성한 후 compile 메서드를 호출하여 학습과정을 설정합니다\n",
    "# optimizer : 훈련 과정을 설정한다\n",
    "# loss : 최적화 과정에서 최소화될 손실 함수(loss function)을 설정합니다\n",
    "# metrics : 훈련을 모니터링하기 위해 사용됩니다\n",
    "# validation_data = 검증 데이터를 사용합니다. 각 에포크마다 정확도도 함께 출력됩니다\n",
    "# 이 정확도는 훈련이 잘 되고 있는지를 보여줄 뿐이며 실제로 모델이 검증데이터를 학습하지는 않습니다\n",
    "# 검증 데이터의 loss가 낮아지다가 높아지기 시작하면 overfitting의 신호입니다\n",
    "# verbose / 0 : 출력 없음 / 1 : 훈련 진행도 보여주는 진행 막대 보여줌 / 2 : 미니 배치마다 손실 정보 출력\n",
    "\n",
    "from keras import backend as K\n",
    "\n",
    "def RMSE(y_true, y_pred):\n",
    "    return K.sqrt(K.mean(K.square(y_pred - y_true)))\n",
    "\n",
    "def soft_acc(y_true, y_pred):\n",
    "    return K.mean(K.equal(K.round(y_true), K.round(y_pred)))\n",
    "    \n",
    "    \n",
    "model.compile(loss = RMSE, optimizer='adam', metrics=[soft_acc])\n",
    "\n",
    "early_stop = EarlyStopping(monitor='val_loss', patience=10)\n",
    "filename = os.path.join('tmp', 'ckeckpointer.ckpt')\n",
    "checkpoint = ModelCheckpoint(filename, monitor='val_loss', verbose=1, save_best_only=True, mode='auto')\n",
    "\n",
    "history = model.fit(x_train, y_train, \n",
    "                    epochs=200, \n",
    "                    batch_size=16,\n",
    "                    validation_data=(x_valid, y_valid), \n",
    "                    callbacks=[early_stop, checkpoint])\n",
    "\n",
    "score = model.evaluate(test_feature, test_label, batch_size=16)\n",
    "score_val = model.evaluate(x_valid, y_valid, batch_size=16)\n",
    "\n",
    "print('train loss, train acc : ' + str(score))\n",
    "print('validation loss, validation acc : ' + str(score_val))"
   ]
  },
  {
   "cell_type": "code",
   "execution_count": 17,
   "id": "pregnant-millennium",
   "metadata": {},
   "outputs": [
    {
     "data": {
      "image/png": "[encoded data removed]",
      "text/plain": [
       "<Figure size 864x648 with 1 Axes>"
      ]
     },
     "metadata": {
      "needs_background": "light"
     },
     "output_type": "display_data"
    },
    {
     "data": {
      "image/png": "[encoded data removed]",
      "text/plain": [
       "<Figure size 432x288 with 1 Axes>"
      ]
     },
     "metadata": {
      "needs_background": "light"
     },
     "output_type": "display_data"
    }
   ],
   "source": [
    "pred = model.predict(test_feature)\n",
    "pred.shape\n",
    "\n",
    "plt.figure(figsize=(12,9))\n",
    "plt.plot(np.asarray(test_label), label='actual')\n",
    "plt.plot(pred, label='prediction')\n",
    "x_values = list(range(1))\n",
    "plt.scatter(x_values, np.asarray(test_label))\n",
    "plt.scatter(x_values, pred)\n",
    "plt.legend()\n",
    "plt.show()\n",
    "\n",
    "plt.plot(history.history['loss'])\n",
    "plt.plot(history.history['val_loss'])\n",
    "plt.title('model loss')\n",
    "plt.ylabel('Root mean squared error(RMSE)')\n",
    "plt.xlabel('Epoch')\n",
    "plt.legend(['train', 'validation'], loc='upper left')\n",
    "plt.show()"
   ]
  },
  {
   "cell_type": "code",
   "execution_count": 18,
   "id": "opened-reason",
   "metadata": {},
   "outputs": [
    {
     "data": {
      "text/plain": [
       "array([[0.82978723, 0.76653696, 0.89952153, 0.23483657]])"
      ]
     },
     "execution_count": 18,
     "metadata": {},
     "output_type": "execute_result"
    }
   ],
   "source": [
    "tf = test_feature[:,19]\n",
    "tf"
   ]
  },
  {
   "cell_type": "code",
   "execution_count": 19,
   "id": "perfect-failure",
   "metadata": {},
   "outputs": [
    {
     "data": {
      "text/plain": [
       "array([[0.82978723, 0.76653696, 0.89952153, 0.76809275, 0.23483657]])"
      ]
     },
     "execution_count": 19,
     "metadata": {},
     "output_type": "execute_result"
    }
   ],
   "source": [
    "# scaler.inverse_transform(v)를 돌리기 위해 pred가 들어간 (1,5)를 만들어줍니다 \n",
    "# tf는 형식 때문에 들어갔기 때문에 중요하게 취급되는 값이 아닙니다\n",
    "\n",
    "arr_1D = np.insert(tf, 3, pred)\n",
    "\n",
    "# scaler.inverse_transform(v)를 돌리기 위해 array를 2D로 바꿔줍니다\n",
    "\n",
    "arr_2D = arr_1D.reshape((1,-1))\n",
    "\n",
    "arr_2D"
   ]
  },
  {
   "cell_type": "code",
   "execution_count": 20,
   "id": "dynamic-heating",
   "metadata": {},
   "outputs": [
    {
     "data": {
      "text/plain": [
       "array([[ 10100.        ,  10200.        ,   9940.        ,\n",
       "         10067.91280627, 133504.        ]])"
      ]
     },
     "execution_count": 20,
     "metadata": {},
     "output_type": "execute_result"
    }
   ],
   "source": [
    "sit_arr_2D = scaler.inverse_transform(arr_2D)\n",
    "sit_arr_2D"
   ]
  },
  {
   "cell_type": "code",
   "execution_count": 21,
   "id": "dress-committee",
   "metadata": {},
   "outputs": [
    {
     "data": {
      "text/plain": [
       "array([10067.91280627])"
      ]
     },
     "execution_count": 21,
     "metadata": {},
     "output_type": "execute_result"
    }
   ],
   "source": [
    "predict_HY = sit_arr_2D[:,3]\n",
    "\n",
    "predict_HY"
   ]
  },
  {
   "cell_type": "code",
   "execution_count": 22,
   "id": "iraqi-incident",
   "metadata": {},
   "outputs": [
    {
     "name": "stdout",
     "output_type": "stream",
     "text": [
      "Predicted value for next day= 10067 원\n",
      "Last close price= 10650 원\n",
      "percentage change should be = -5.474 %\n"
     ]
    }
   ],
   "source": [
    "# 21일 중 20일을 학습시켜 얻은 21-02-05의 예측주가입니다(2/5 종가 확정 후 검사)\n",
    "\n",
    "prediction = int(predict_HY[[0]])\n",
    "print('Predicted value for next day=',prediction, '원')\n",
    "b = df['Close'].iloc[-1]\n",
    "print('Last close price=',b, '원')\n",
    "percentage = ((prediction-b)/b)*100\n",
    "print('percentage change should be =', percentage.round(3),'%' )"
   ]
  },
  {
   "cell_type": "code",
   "execution_count": 23,
   "id": "freelance-villa",
   "metadata": {},
   "outputs": [
    {
     "data": {
      "text/html": [
       "<div>\n",
       "<style scoped>\n",
       "    .dataframe tbody tr th:only-of-type {\n",
       "        vertical-align: middle;\n",
       "    }\n",
       "\n",
       "    .dataframe tbody tr th {\n",
       "        vertical-align: top;\n",
       "    }\n",
       "\n",
       "    .dataframe thead th {\n",
       "        text-align: right;\n",
       "    }\n",
       "</style>\n",
       "<table border=\"1\" class=\"dataframe\">\n",
       "  <thead>\n",
       "    <tr style=\"text-align: right;\">\n",
       "      <th></th>\n",
       "      <th>Close</th>\n",
       "    </tr>\n",
       "  </thead>\n",
       "  <tbody>\n",
       "    <tr>\n",
       "      <th>count</th>\n",
       "      <td>21.000000</td>\n",
       "    </tr>\n",
       "    <tr>\n",
       "      <th>mean</th>\n",
       "      <td>0.631948</td>\n",
       "    </tr>\n",
       "    <tr>\n",
       "      <th>std</th>\n",
       "      <td>0.148987</td>\n",
       "    </tr>\n",
       "    <tr>\n",
       "      <th>min</th>\n",
       "      <td>0.446215</td>\n",
       "    </tr>\n",
       "    <tr>\n",
       "      <th>25%</th>\n",
       "      <td>0.533865</td>\n",
       "    </tr>\n",
       "    <tr>\n",
       "      <th>50%</th>\n",
       "      <td>0.609562</td>\n",
       "    </tr>\n",
       "    <tr>\n",
       "      <th>75%</th>\n",
       "      <td>0.737052</td>\n",
       "    </tr>\n",
       "    <tr>\n",
       "      <th>max</th>\n",
       "      <td>1.000000</td>\n",
       "    </tr>\n",
       "  </tbody>\n",
       "</table>\n",
       "</div>"
      ],
      "text/plain": [
       "           Close\n",
       "count  21.000000\n",
       "mean    0.631948\n",
       "std     0.148987\n",
       "min     0.446215\n",
       "25%     0.533865\n",
       "50%     0.609562\n",
       "75%     0.737052\n",
       "max     1.000000"
      ]
     },
     "execution_count": 23,
     "metadata": {},
     "output_type": "execute_result"
    }
   ],
   "source": [
    "# count : 개수, std : 표준편차\n",
    "\n",
    "test[label_cols].describe()"
   ]
  },
  {
   "cell_type": "code",
   "execution_count": 24,
   "id": "otherwise-harrison",
   "metadata": {},
   "outputs": [
    {
     "name": "stdout",
     "output_type": "stream",
     "text": [
      "1 1\n",
      "[RMSE]\n",
      "train_loss = 0.23190724849700928\n",
      "valid_loss = 0.07208909839391708\n",
      "test_loss  = 0.23190724849700883\n"
     ]
    }
   ],
   "source": [
    "Y = np.asarray(test_label)\n",
    "Y_hat = pred\n",
    "RMSE = np.sqrt(np.mean((Y_hat-Y)**2))\n",
    "print(len(Y), Y.shape[0])\n",
    "\n",
    "\n",
    "\n",
    "\n",
    "\n",
    "print('[RMSE]')\n",
    "print('train_loss = ' + str(score[0]))\n",
    "print('valid_loss = ' + str(score_val[0]))\n",
    "print(\"test_loss  =\",RMSE)"
   ]
  },
  {
   "cell_type": "code",
   "execution_count": 25,
   "id": "perfect-trainer",
   "metadata": {},
   "outputs": [
    {
     "data": {
      "image/png": "[encoded data removed]",
      "text/plain": [
       "<Figure size 432x288 with 1 Axes>"
      ]
     },
     "metadata": {
      "needs_background": "light"
     },
     "output_type": "display_data"
    }
   ],
   "source": [
    "plt.plot(history.history['val_soft_acc'])\n",
    "plt.plot(history.history['soft_acc'])\n",
    "plt.title('Model Acurracy')\n",
    "plt.ylabel('Accuracy')\n",
    "plt.xlabel('epoch')\n",
    "plt.legend(['Training Accuracy', 'Validation Accuracy'], loc='lower right')\n",
    "plt.show()"
   ]
  },
  {
   "cell_type": "code",
   "execution_count": null,
   "id": "manual-science",
   "metadata": {},
   "outputs": [],
   "source": []
  }
 ],
 "metadata": {
  "kernelspec": {
   "display_name": "tensorflow-cpu",
   "language": "python",
   "name": "tensorflow-cpu"
  },
  "language_info": {
   "codemirror_mode": {
    "name": "ipython",
    "version": 3
   },
   "file_extension": ".py",
   "mimetype": "text/x-python",
   "name": "python",
   "nbconvert_exporter": "python",
   "pygments_lexer": "ipython3",
   "version": "3.8.5"
  }
 },
 "nbformat": 4,
 "nbformat_minor": 5
}
