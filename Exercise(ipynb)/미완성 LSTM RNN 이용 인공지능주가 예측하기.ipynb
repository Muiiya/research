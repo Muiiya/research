{
 "cells": [
  {
   "cell_type": "markdown",
   "id": "considerable-montana",
   "metadata": {},
   "source": [
    "# 1. 모듈 임포트 #"
   ]
  },
  {
   "cell_type": "code",
   "execution_count": 14,
   "id": "necessary-blank",
   "metadata": {},
   "outputs": [],
   "source": [
    "import numpy as np\n",
    "import pandas as pd\n",
    "import datetime\n",
    "import matplotlib.pyplot as plt\n",
    "import tensorflow as tf"
   ]
  },
  {
   "cell_type": "markdown",
   "id": "warming-cheese",
   "metadata": {},
   "source": [
    "# 2. 필요한 함수구현 #"
   ]
  },
  {
   "cell_type": "code",
   "execution_count": 15,
   "id": "purple-temple",
   "metadata": {},
   "outputs": [],
   "source": [
    "# 표준화, 너무 작거나 큰 값이 학습을 방해하는 것을 방지하고자 정규화한다\n",
    "# x가 양수라는 가정하에 최소값과 최대값을 이용하여 0~1사이의 값으로 변환\n",
    "\n",
    "def data_standardization(x):\n",
    "    x_np = np.asarray(x)\n",
    "    return (x_np - x_np.mean()) / x_np.std()\n",
    "\n",
    "# Min-Max scaling\n",
    "#1e-7는 0으로 나누는 오류 예방차원\n",
    "\n",
    "def min_max_scaling(x):\n",
    "    x_np = np.asarray(x)\n",
    "    return(x_np - x_np.min()) / (x_np.max() - x_np.min() + 1e-7)\n",
    "\n",
    "# 정규화된 값을 원래의 값으로 되돌린다\n",
    "# 정규화하기 이전의 org_x값과 되돌리고 싶은 x를 입력하면 역정규화된 값을 리턴한다.\n",
    "# np.mean : 평균\n",
    "# np.std : 표준편차\n",
    "# np.asarry(value, [dtype = ????])\n",
    "\n",
    "def reverse_min_max_scaling(org_x, x):\n",
    "    org_x_np = np.asarray(org_x)\n",
    "    x_np = np.asarray(x)\n",
    "    return(x_np * (org_x_np.max() - org_x_np.min +1e-7)) + org_x_np.min()\n"
   ]
  },
  {
   "cell_type": "code",
   "execution_count": 16,
   "id": "approximate-relationship",
   "metadata": {},
   "outputs": [],
   "source": [
    "# 하이퍼 파라미터\n",
    "\n",
    "input_data_column_cnt = 6            # 입력데이터의 컬럼 개수(Variable 개수)\n",
    "output_data_column_cnt = 1           # 결과데이터의 컬럼 개수\n",
    "\n",
    "seq_length = 28                      # 1개 시퀀스의 길이(시계열데이터 입력 개수)\n",
    "rnn_cell_hidden_dim = 20             # 각 셀의 (hidden) 출력 크기\n",
    "forget_bias = 1.0                    # 망각편향(기본값 1.0)\n",
    "num_stacked_layers = 1               # stacked LSTM layers 개수\n",
    "keep_prob = 1.0                      # dropout할 때 keep할 비율\n",
    "\n",
    "epoch_num = 1000                     # 에폭 횟수(학습용전체데이터를 몇 회 반복해서 학습할 것인가 입력)\n",
    "learning_rate = 0.01                 # 학습률(적당히)"
   ]
  },
  {
   "cell_type": "code",
   "execution_count": 18,
   "id": "considered-sunday",
   "metadata": {},
   "outputs": [
    {
     "ename": "IndentationError",
     "evalue": "unexpected indent (<ipython-input-18-da6fe1f6d25d>, line 3)",
     "output_type": "error",
     "traceback": [
      "\u001b[1;36m  File \u001b[1;32m\"<ipython-input-18-da6fe1f6d25d>\"\u001b[1;36m, line \u001b[1;32m3\u001b[0m\n\u001b[1;33m    stock_file_name = 'AMZN.csv'         # 주가데이터 파일\u001b[0m\n\u001b[1;37m    ^\u001b[0m\n\u001b[1;31mIndentationError\u001b[0m\u001b[1;31m:\u001b[0m unexpected indent\n"
     ]
    }
   ],
   "source": [
    "# 데이터를 로딩한다\n",
    "\n",
    "    stock_file_name = 'AMZN.csv'         # 주가데이터 파일\n",
    "    encoding = 'euc-kr'                  # 문자 인코딩\n",
    "    names = ['Date', 'Open', 'High', 'Low', 'Close', 'Adj Close', 'Volume']\n",
    "    raw_dataframe = pd.read_csv(stock_file_name, names=names, encoding = encoding)  \n",
    "# 판다스이용 csv파일 로딩\n",
    "    raw_dataframe.info()                 # 데이터 정보 입력\n",
    "    raw_dataframe.drop('Date', axis=1, inplace=True)      # 시간열을 제거하고 dataframe 재생성하지 않기\n",
    "del raw_dataframe['Date']            # 위 줄과 같은 효과\n",
    "\n",
    "    stock_info = raw_dataframe.values[1:].astype(np.float)   # 금액&거래량 문자열을 부동소수점형으로 변환한다\n",
    "    print(\"stock_info.shape: \", stock_info.shape)\n",
    "    print(\"stock_info[0]: \", stock_info[0])\n",
    "    print('date 값 삭제 후 raw_dateframe.info')\n",
    "    raw_dataframe.info()                 # 데이터 정보 출력"
   ]
  },
  {
   "cell_type": "code",
   "execution_count": null,
   "id": "accurate-tradition",
   "metadata": {},
   "outputs": [],
   "source": []
  }
 ],
 "metadata": {
  "kernelspec": {
   "display_name": "tensorflow-cpu",
   "language": "python",
   "name": "tensorflow-cpu"
  },
  "language_info": {
   "codemirror_mode": {
    "name": "ipython",
    "version": 3
   },
   "file_extension": ".py",
   "mimetype": "text/x-python",
   "name": "python",
   "nbconvert_exporter": "python",
   "pygments_lexer": "ipython3",
   "version": "3.8.5"
  }
 },
 "nbformat": 4,
 "nbformat_minor": 5
}
