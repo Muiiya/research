{
 "cells": [
  {
   "cell_type": "code",
   "execution_count": 17,
   "metadata": {},
   "outputs": [],
   "source": [
    "# 과거&현재 일별 주가와 거래량(time series형태)을 이용하여 내일의 주가를 예측한다\n",
    "\n",
    "# 실험적 경험 교훈\n",
    "# 1) LSTM셀 활성화함수는 tanh보다 softsign가 조금 더 안정적이고 좋은 결과를 얻는다\n",
    "# 2) LSTM은 AdamOptimizer 최적화 함수 추천\n",
    "# 3) LSTM은 구조상 DropoutWrapper와 궁합이 안맞다\n",
    "# 3) RNN에서 데이터 특성에 맞는 sequence length가 중요하다! 상황에 따라...\n",
    "#    아마존 주가의 경우 대체적으로 긴 기간이 더 좋으나 너무 긴 것보다 28거래일이 더 좋게 나왔다\n",
    "# 4) input_data_column_cnt(입력데이터의 컬럼 개수)가 적은 경우 stacked RNN을 사용하면 빠르게 Over Fitting된다\n",
    "# 5) rnn_cell_hidden_dim(각 셀의 (hidden)출력 크기)가 많은 경우 너무 많으면 오래걸리고 추가 개선은 거의 없다\n",
    "\n",
    "# TO-DO 리스트\n",
    "#            조기종료(early stopping) 조건을 넣어 과적합발생 시 중단로직 추천\n",
    "#            학습률(learning rate)을 상황에 따라 조정할 것"
   ]
  },
  {
   "cell_type": "code",
   "execution_count": 18,
   "metadata": {},
   "outputs": [],
   "source": [
    "import tensorflow as tf\n",
    "import numpy as np\n",
    "import pandas as pd\n",
    "import datetime\n",
    "import matplotlib.pyplot as plt"
   ]
  },
  {
   "cell_type": "code",
   "execution_count": 19,
   "metadata": {},
   "outputs": [],
   "source": [
    "# 랜덤에 의해 똑같은 결과를 재현하도록 시드 설정\n",
    "# 하이퍼파라미터를 튜닝하기 위한 용도(흔들리면 무엇때문에 좋아졌는지 알기 어려움)\n",
    "tf.random.set_seed(777)"
   ]
  },
  {
   "cell_type": "code",
   "execution_count": 20,
   "metadata": {},
   "outputs": [],
   "source": [
    "# Standardization\n",
    "def data_standardization(x):\n",
    "    x_np = np.asarray(x)\n",
    "    return (x_np - x_np.mean()) / x_np.std()\n",
    "\n",
    "# 너무 작거나 너무 큰 값이 학습을 방해하는 것을 방지하고자 정규화한다\n",
    "# x가 양수라는 가정하에 최소값과 최대값을 이용하여 0~1사이의 값으로 변환\n",
    "# Min-Max scaling\n",
    "def min_max_scaling(x):\n",
    "    x_np = np.asarray(x)\n",
    "    return (x_np - x_np.min()) / (x_np.max() - x_np.min() + 1e-7) # 1e-7은 0으로 나누는 오류 예방차원\n",
    "\n",
    "# 정규화된 값을 원래의 값으로 되돌린다\n",
    "# 정규화하기 이전의 org_x값과 되돌리고 싶은 x를 입력하면 역정규화된 값을 리턴한다\n",
    "def reverse_min_max_scaling(org_x, x):\n",
    "    org_x_np = np.asarray(org_x)\n",
    "    x_np = np.asarray(x)\n",
    "    return (x_np * (org_x_np.max() - org_x_np.min() + 1e-7)) + org_x_np.min()"
   ]
  },
  {
   "cell_type": "code",
   "execution_count": 21,
   "metadata": {},
   "outputs": [],
   "source": [
    "# 하이퍼파라미터\n",
    "input_data_column_cnt = 6  # 입력데이터의 컬럼 개수(Variable 개수)\n",
    "output_data_column_cnt = 1 # 결과데이터의 컬럼 개수\n",
    "\n",
    "seq_length = 28            # 1개 시퀀스의 길이(시계열데이터 입력 개수)\n",
    "rnn_cell_hidden_dim = 20   # 각 셀의 (hidden)출력 크기\n",
    "forget_bias = 1.0          # 망각편향(기본값 1.0)\n",
    "num_stacked_layers = 1     # stacked LSTM layers 개수\n",
    "keep_prob = 1.0            # dropout할 때 keep할 비율\n",
    "\n",
    "epoch_num = 1000           # 에폭 횟수(학습용전체데이터를 몇 회 반복해서 학습할 것인가 입력)\n",
    "learning_rate = 0.01       # 학습률"
   ]
  },
  {
   "cell_type": "code",
   "execution_count": 22,
   "metadata": {},
   "outputs": [
    {
     "name": "stdout",
     "output_type": "stream",
     "text": [
      "<class 'pandas.core.frame.DataFrame'>\n",
      "RangeIndex: 5179 entries, 0 to 5178\n",
      "Data columns (total 7 columns):\n",
      " #   Column     Non-Null Count  Dtype \n",
      "---  ------     --------------  ----- \n",
      " 0   Date       5179 non-null   object\n",
      " 1   Open       5179 non-null   object\n",
      " 2   High       5179 non-null   object\n",
      " 3   Low        5179 non-null   object\n",
      " 4   Close      5179 non-null   object\n",
      " 5   Adj Close  5179 non-null   object\n",
      " 6   Volume     5179 non-null   object\n",
      "dtypes: object(7)\n",
      "memory usage: 283.4+ KB\n",
      "stock_info.shape:  (5178, 6)\n",
      "stock_info[0]:  [2.437500e+00 2.500000e+00 1.927083e+00 1.958333e+00 1.958333e+00\n",
      " 7.215600e+07]\n"
     ]
    }
   ],
   "source": [
    "# 데이터를 로딩한다.\n",
    "stock_file_name = 'AMZN.csv' # 아마존 주가데이터 파일\n",
    "encoding = 'euc-kr' # 문자 인코딩\n",
    "names = ['Date','Open','High','Low','Close','Adj Close','Volume']\n",
    "raw_dataframe = pd.read_csv(stock_file_name, names=names, encoding=encoding) #판다스이용 csv파일 로딩\n",
    "raw_dataframe.info() # 데이터 정보 출력\n",
    "\n",
    "# raw_dataframe.drop('Date', axis=1, inplace=True) # 시간열을 제거하고 dataframe 재생성하지 않기\n",
    "del raw_dataframe['Date'] # 위 줄과 같은 효과\n",
    "\n",
    "stock_info = raw_dataframe.values[1:].astype(np.float) # 금액&거래량 문자열을 부동소수점형으로 변환한다\n",
    "print(\"stock_info.shape: \", stock_info.shape)\n",
    "print(\"stock_info[0]: \", stock_info[0])"
   ]
  },
  {
   "cell_type": "code",
   "execution_count": 23,
   "metadata": {},
   "outputs": [
    {
     "name": "stdout",
     "output_type": "stream",
     "text": [
      "price.shape:  (5178, 5)\n",
      "price[0]:  [2.4375   2.5      1.927083 1.958333 1.958333]\n",
      "norm_price[0]:  [0.00092814 0.00097971 0.00050704 0.00053282 0.00053282]\n",
      "====================================================================================================\n",
      "volume.shape:  (5178, 1)\n",
      "volume[0]:  [72156000.]\n",
      "norm_volume[0]:  [0.69017161]\n",
      "====================================================================================================\n",
      "x.shape:  (5178, 6)\n",
      "x[0]:  [9.28143131e-04 9.79706638e-04 5.07040880e-04 5.32822633e-04\n",
      " 5.32822633e-04 6.90171607e-01]\n",
      "x[-1]:  [0.96451605 0.96645482 0.95354329 0.95758589 0.95758589 0.02142033]\n",
      "====================================================================================================\n",
      "y[0]:  [0.00053282]\n",
      "y[-1]:  [0.95758589]\n"
     ]
    }
   ],
   "source": [
    "# 데이터 전처리\n",
    "# 가격과 거래량 수치의 차이가 많아나서 각각 별도로 정규화한다\n",
    "\n",
    "# 가격형태 데이터들을 정규화한다\n",
    "# ['Open','High','Low','Close','Adj Close','Volume']에서 'Adj Close'까지 취함\n",
    "# 곧, 마지막 열 Volume를 제외한 모든 열\n",
    "price = stock_info[:,:-1]\n",
    "norm_price = min_max_scaling(price) # 가격형태 데이터 정규화 처리\n",
    "print(\"price.shape: \", price.shape)\n",
    "print(\"price[0]: \", price[0])\n",
    "print(\"norm_price[0]: \", norm_price[0])\n",
    "print(\"=\"*100) # 화면상 구분용\n",
    "\n",
    "# 거래량형태 데이터를 정규화한다\n",
    "# ['Open','High','Low','Close','Adj Close','Volume']에서 마지막 'Volume'만 취함\n",
    "# [:,-1]이 아닌 [:,-1:]이므로 주의하자! 스칼라가아닌 벡터값 산출해야만 쉽게 병합 가능\n",
    "volume = stock_info[:,-1:]\n",
    "norm_volume = min_max_scaling(volume) # 거래량형태 데이터 정규화 처리\n",
    "print(\"volume.shape: \", volume.shape)\n",
    "print(\"volume[0]: \", volume[0])\n",
    "print(\"norm_volume[0]: \", norm_volume[0])\n",
    "print(\"=\"*100) # 화면상 구분용\n",
    "\n",
    "# 행은 그대로 두고 열을 우측에 붙여 합친다\n",
    "x = np.concatenate((norm_price, norm_volume), axis=1) # axis=1, 세로로 합친다\n",
    "print(\"x.shape: \", x.shape)\n",
    "print(\"x[0]: \", x[0])    # x의 첫 값\n",
    "print(\"x[-1]: \", x[-1])  # x의 마지막 값\n",
    "print(\"=\"*100) # 화면상 구분용\n",
    "\n",
    "y = x[:, [-2]] # 타켓은 주식 종가이다\n",
    "print(\"y[0]: \",y[0])     # y의 첫 값\n",
    "print(\"y[-1]: \",y[-1])   # y의 마지막 값"
   ]
  },
  {
   "cell_type": "code",
   "execution_count": 24,
   "metadata": {},
   "outputs": [
    {
     "name": "stdout",
     "output_type": "stream",
     "text": [
      "[[9.28143131e-04 9.79706638e-04 5.07040880e-04 5.32822633e-04\n",
      "  5.32822633e-04 6.90171607e-01]\n",
      " [5.41416826e-04 5.50011019e-04 3.26568604e-04 3.43756990e-04\n",
      "  3.43756990e-04 1.36869475e-01]\n",
      " [3.69538744e-04 3.78132112e-04 2.57817536e-04 3.26568604e-04\n",
      "  3.26568604e-04 5.41168313e-02]\n",
      " [3.43756990e-04 3.60944551e-04 2.66411729e-04 2.66411729e-04\n",
      "  2.66411729e-04 4.79574739e-02]\n",
      " [2.66411729e-04 2.75005097e-04 5.15635073e-05 9.45328216e-05\n",
      "  9.45328216e-05 1.76864852e-01]\n",
      " [1.03127015e-04 1.11721207e-04 0.00000000e+00 6.87510680e-05\n",
      "  6.87510680e-05 1.08719015e-01]\n",
      " [7.73452609e-05 1.71878083e-04 1.71875607e-05 1.54690522e-04\n",
      "  1.54690522e-04 1.48783729e-01]\n",
      " [1.63284715e-04 2.75005097e-04 1.20314575e-04 2.23441590e-04\n",
      "  2.23441590e-04 7.90662738e-02]\n",
      " [2.57817536e-04 2.66411729e-04 1.80472275e-04 1.80472275e-04\n",
      "  1.80472275e-04 3.93597966e-02]\n",
      " [1.89066468e-04 1.89066468e-04 1.37502961e-04 1.58987206e-04\n",
      "  1.58987206e-04 2.87513723e-02]\n",
      " [1.54690522e-04 1.63284715e-04 1.37502961e-04 1.54690522e-04\n",
      "  1.54690522e-04 2.02923673e-02]\n",
      " [1.63284715e-04 1.80472275e-04 1.54690522e-04 1.63284715e-04\n",
      "  1.63284715e-04 1.00537355e-03]\n",
      " [1.80472275e-04 1.80472275e-04 1.37502961e-04 1.37502961e-04\n",
      "  1.37502961e-04 6.70249032e-03]\n",
      " [1.37502961e-04 1.46096329e-04 6.87510680e-05 8.59394538e-05\n",
      "  8.59394538e-05 2.49725545e-02]\n",
      " [8.59394538e-05 1.89066468e-04 5.15635073e-05 1.89066468e-04\n",
      "  1.89066468e-04 4.99335529e-02]\n",
      " [1.67581399e-04 3.26568604e-04 1.63284715e-04 2.83599290e-04\n",
      "  2.83599290e-04 7.04917086e-02]\n",
      " [2.83599290e-04 3.26568604e-04 2.83599290e-04 3.09381044e-04\n",
      "  3.09381044e-04 1.79580517e-02]\n",
      " [3.26568604e-04 3.26568604e-04 1.80472275e-04 2.23441590e-04\n",
      "  2.23441590e-04 4.78765817e-02]\n",
      " [2.32035783e-04 2.40629976e-04 1.80472275e-04 1.89066468e-04\n",
      "  1.89066468e-04 6.74871439e-03]\n",
      " [2.23441590e-04 2.75005097e-04 1.97659836e-04 2.40629976e-04\n",
      "  2.40629976e-04 1.10244410e-02]\n",
      " [2.57817536e-04 2.57817536e-04 2.23441590e-04 2.23441590e-04\n",
      "  2.23441590e-04 1.98763506e-03]\n",
      " [2.40629976e-04 2.40629976e-04 2.06254029e-04 2.14848222e-04\n",
      "  2.14848222e-04 4.10238632e-03]\n",
      " [2.36332467e-04 2.36332467e-04 1.50393838e-04 1.58987206e-04\n",
      "  1.58987206e-04 4.06309586e-02]\n",
      " [1.71878083e-04 1.84768959e-04 1.54690522e-04 1.63284715e-04\n",
      "  1.63284715e-04 1.90443173e-02]\n",
      " [1.63284715e-04 1.80472275e-04 1.54690522e-04 1.63284715e-04\n",
      "  1.63284715e-04 4.96908765e-03]\n",
      " [1.80472275e-04 1.97659836e-04 1.54690522e-04 1.76175591e-04\n",
      "  1.76175591e-04 2.79308950e-02]\n",
      " [1.89066468e-04 1.89066468e-04 1.37502961e-04 1.54690522e-04\n",
      "  1.54690522e-04 5.39666031e-03]\n",
      " [1.58987206e-04 1.76175591e-04 1.37502961e-04 1.63284715e-04\n",
      "  1.63284715e-04 2.54232392e-03]] -> [0.00016328]\n"
     ]
    },
    {
     "name": "stderr",
     "output_type": "stream",
     "text": [
      "<>:7: SyntaxWarning: \"is\" with a literal. Did you mean \"==\"?\n",
      "<>:7: SyntaxWarning: \"is\" with a literal. Did you mean \"==\"?\n",
      "<ipython-input-24-d1b3c1d3d540>:7: SyntaxWarning: \"is\" with a literal. Did you mean \"==\"?\n",
      "  if i is 0:\n"
     ]
    }
   ],
   "source": [
    "dataX = [] # 입력으로 사용될 Sequence Data\n",
    "dataY = [] # 출력(타켓)으로 사용\n",
    "\n",
    "for i in range(0, len(y) - seq_length):\n",
    "    _x = x[i : i+seq_length]\n",
    "    _y = y[i + seq_length] # 다음 나타날 주가(정답)\n",
    "    if i is 0:\n",
    "        print(_x, \"->\", _y) # 첫번째 행만 출력해 봄\n",
    "    dataX.append(_x) # dataX 리스트에 추가\n",
    "    dataY.append(_y) # dataY 리스트에 추가"
   ]
  },
  {
   "cell_type": "code",
   "execution_count": 25,
   "metadata": {},
   "outputs": [],
   "source": [
    "# 학습용/테스트용 데이터 생성\n",
    "# 전체 70%를 학습용 데이터로 사용\n",
    "train_size = int(len(dataY) * 0.7)\n",
    "# 나머지(30%)를 테스트용 데이터로 사용\n",
    "test_size = len(dataY) - train_size\n",
    "\n",
    "# 데이터를 잘라 학습용 데이터 생성\n",
    "trainX = np.array(dataX[0:train_size])\n",
    "trainY = np.array(dataY[0:train_size])\n",
    "\n",
    "# 데이터를 잘라 테스트용 데이터 생성\n",
    "testX = np.array(dataX[train_size:len(dataX)])\n",
    "testY = np.array(dataY[train_size:len(dataY)])"
   ]
  },
  {
   "cell_type": "code",
   "execution_count": 26,
   "metadata": {},
   "outputs": [],
   "source": [
    "import tensorflow.compat.v1 as tf\n",
    "tf.disable_v2_behavior()"
   ]
  },
  {
   "cell_type": "code",
   "execution_count": 27,
   "metadata": {},
   "outputs": [
    {
     "name": "stdout",
     "output_type": "stream",
     "text": [
      "X:  Tensor(\"Placeholder:0\", shape=(?, 28, 6), dtype=float32)\n",
      "Y:  Tensor(\"Placeholder_1:0\", shape=(?, 1), dtype=float32)\n",
      "targets:  Tensor(\"Placeholder_2:0\", shape=(?, 1), dtype=float32)\n",
      "predictions:  Tensor(\"Placeholder_3:0\", shape=(?, 1), dtype=float32)\n"
     ]
    }
   ],
   "source": [
    "# 텐서플로우 플레이스홀더 생성\n",
    "# 입력 X, 출력 Y를 생성한다\n",
    "X = tf.placeholder(tf.float32, [None, seq_length, input_data_column_cnt])\n",
    "print(\"X: \", X)\n",
    "Y = tf.placeholder(tf.float32, [None, 1])\n",
    "print(\"Y: \", Y)\n",
    "\n",
    "# 검증용 측정지표를 산출하기 위한 targets, predictions를 생성한다\n",
    "targets = tf.placeholder(tf.float32, [None, 1])\n",
    "print(\"targets: \", targets)\n",
    "\n",
    "predictions = tf.placeholder(tf.float32, [None, 1])\n",
    "print(\"predictions: \", predictions)"
   ]
  },
  {
   "cell_type": "code",
   "execution_count": 28,
   "metadata": {},
   "outputs": [
    {
     "ename": "AttributeError",
     "evalue": "module 'tensorflow.compat.v1' has no attribute 'contrib'",
     "output_type": "error",
     "traceback": [
      "\u001b[1;31m---------------------------------------------------------------------------\u001b[0m",
      "\u001b[1;31mAttributeError\u001b[0m                            Traceback (most recent call last)",
      "\u001b[1;32m<ipython-input-28-29ed44eaeace>\u001b[0m in \u001b[0;36m<module>\u001b[1;34m\u001b[0m\n\u001b[0;32m     14\u001b[0m \u001b[1;33m\u001b[0m\u001b[0m\n\u001b[0;32m     15\u001b[0m \u001b[1;31m# num_stacked_layers개의 층으로 쌓인 Stacked RNNs 생성\u001b[0m\u001b[1;33m\u001b[0m\u001b[1;33m\u001b[0m\u001b[1;33m\u001b[0m\u001b[0m\n\u001b[1;32m---> 16\u001b[1;33m \u001b[0mstackedRNNs\u001b[0m \u001b[1;33m=\u001b[0m \u001b[1;33m[\u001b[0m\u001b[0mlstm_cell\u001b[0m\u001b[1;33m(\u001b[0m\u001b[1;33m)\u001b[0m \u001b[1;32mfor\u001b[0m \u001b[0m_\u001b[0m \u001b[1;32min\u001b[0m \u001b[0mrange\u001b[0m\u001b[1;33m(\u001b[0m\u001b[0mnum_stacked_layers\u001b[0m\u001b[1;33m)\u001b[0m\u001b[1;33m]\u001b[0m\u001b[1;33m\u001b[0m\u001b[1;33m\u001b[0m\u001b[0m\n\u001b[0m\u001b[0;32m     17\u001b[0m \u001b[0mmulti_cells\u001b[0m \u001b[1;33m=\u001b[0m \u001b[0mtf\u001b[0m\u001b[1;33m.\u001b[0m\u001b[0mcontrib\u001b[0m\u001b[1;33m.\u001b[0m\u001b[0mrnn\u001b[0m\u001b[1;33m.\u001b[0m\u001b[0mMultiRNNCell\u001b[0m\u001b[1;33m(\u001b[0m\u001b[0mstackedRNNs\u001b[0m\u001b[1;33m,\u001b[0m \u001b[0mstate_is_tuple\u001b[0m\u001b[1;33m=\u001b[0m\u001b[1;32mTrue\u001b[0m\u001b[1;33m)\u001b[0m \u001b[1;32mif\u001b[0m \u001b[0mnum_stacked_layers\u001b[0m \u001b[1;33m>\u001b[0m \u001b[1;36m1\u001b[0m \u001b[1;32melse\u001b[0m \u001b[0mlstm_cell\u001b[0m\u001b[1;33m(\u001b[0m\u001b[1;33m)\u001b[0m\u001b[1;33m\u001b[0m\u001b[1;33m\u001b[0m\u001b[0m\n\u001b[0;32m     18\u001b[0m \u001b[1;33m\u001b[0m\u001b[0m\n",
      "\u001b[1;32m<ipython-input-28-29ed44eaeace>\u001b[0m in \u001b[0;36m<listcomp>\u001b[1;34m(.0)\u001b[0m\n\u001b[0;32m     14\u001b[0m \u001b[1;33m\u001b[0m\u001b[0m\n\u001b[0;32m     15\u001b[0m \u001b[1;31m# num_stacked_layers개의 층으로 쌓인 Stacked RNNs 생성\u001b[0m\u001b[1;33m\u001b[0m\u001b[1;33m\u001b[0m\u001b[1;33m\u001b[0m\u001b[0m\n\u001b[1;32m---> 16\u001b[1;33m \u001b[0mstackedRNNs\u001b[0m \u001b[1;33m=\u001b[0m \u001b[1;33m[\u001b[0m\u001b[0mlstm_cell\u001b[0m\u001b[1;33m(\u001b[0m\u001b[1;33m)\u001b[0m \u001b[1;32mfor\u001b[0m \u001b[0m_\u001b[0m \u001b[1;32min\u001b[0m \u001b[0mrange\u001b[0m\u001b[1;33m(\u001b[0m\u001b[0mnum_stacked_layers\u001b[0m\u001b[1;33m)\u001b[0m\u001b[1;33m]\u001b[0m\u001b[1;33m\u001b[0m\u001b[1;33m\u001b[0m\u001b[0m\n\u001b[0m\u001b[0;32m     17\u001b[0m \u001b[0mmulti_cells\u001b[0m \u001b[1;33m=\u001b[0m \u001b[0mtf\u001b[0m\u001b[1;33m.\u001b[0m\u001b[0mcontrib\u001b[0m\u001b[1;33m.\u001b[0m\u001b[0mrnn\u001b[0m\u001b[1;33m.\u001b[0m\u001b[0mMultiRNNCell\u001b[0m\u001b[1;33m(\u001b[0m\u001b[0mstackedRNNs\u001b[0m\u001b[1;33m,\u001b[0m \u001b[0mstate_is_tuple\u001b[0m\u001b[1;33m=\u001b[0m\u001b[1;32mTrue\u001b[0m\u001b[1;33m)\u001b[0m \u001b[1;32mif\u001b[0m \u001b[0mnum_stacked_layers\u001b[0m \u001b[1;33m>\u001b[0m \u001b[1;36m1\u001b[0m \u001b[1;32melse\u001b[0m \u001b[0mlstm_cell\u001b[0m\u001b[1;33m(\u001b[0m\u001b[1;33m)\u001b[0m\u001b[1;33m\u001b[0m\u001b[1;33m\u001b[0m\u001b[0m\n\u001b[0;32m     18\u001b[0m \u001b[1;33m\u001b[0m\u001b[0m\n",
      "\u001b[1;32m<ipython-input-28-29ed44eaeace>\u001b[0m in \u001b[0;36mlstm_cell\u001b[1;34m()\u001b[0m\n\u001b[0;32m      7\u001b[0m     \u001b[1;31m# state_is_tuple: True ==> accepted and returned states are 2-tuples of the c_state and m_state.\u001b[0m\u001b[1;33m\u001b[0m\u001b[1;33m\u001b[0m\u001b[1;33m\u001b[0m\u001b[0m\n\u001b[0;32m      8\u001b[0m     \u001b[1;31m# state_is_tuple: False ==> they are concatenated along the column axis.\u001b[0m\u001b[1;33m\u001b[0m\u001b[1;33m\u001b[0m\u001b[1;33m\u001b[0m\u001b[0m\n\u001b[1;32m----> 9\u001b[1;33m     cell = tf.contrib.rnn.BasicLSTMCell(num_units=rnn_cell_hidden_dim, \n\u001b[0m\u001b[0;32m     10\u001b[0m                                         forget_bias=forget_bias, state_is_tuple=True, activation=tf.nn.softsign)\n\u001b[0;32m     11\u001b[0m     \u001b[1;32mif\u001b[0m \u001b[0mkeep_prob\u001b[0m \u001b[1;33m<\u001b[0m \u001b[1;36m1.0\u001b[0m\u001b[1;33m:\u001b[0m\u001b[1;33m\u001b[0m\u001b[1;33m\u001b[0m\u001b[0m\n",
      "\u001b[1;31mAttributeError\u001b[0m: module 'tensorflow.compat.v1' has no attribute 'contrib'"
     ]
    }
   ],
   "source": [
    "# 모델(LSTM 네트워크) 생성\n",
    "def lstm_cell():\n",
    "    # LSTM셀을 생성\n",
    "    # num_units: 각 Cell 출력 크기\n",
    "    # forget_bias:  to the biases of the forget gate \n",
    "    #              (default: 1)  in order to reduce the scale of forgetting in the beginning of the training.\n",
    "    # state_is_tuple: True ==> accepted and returned states are 2-tuples of the c_state and m_state.\n",
    "    # state_is_tuple: False ==> they are concatenated along the column axis.\n",
    "    cell = tf.contrib.rnn.BasicLSTMCell(num_units=rnn_cell_hidden_dim, \n",
    "                                        forget_bias=forget_bias, state_is_tuple=True, activation=tf.nn.softsign)\n",
    "    if keep_prob < 1.0:\n",
    "        cell = tf.contrib.rnn.DropoutWrapper(cell, output_keep_prob=keep_prob)\n",
    "    return cell\n",
    "\n",
    "# num_stacked_layers개의 층으로 쌓인 Stacked RNNs 생성\n",
    "stackedRNNs = [lstm_cell() for _ in range(num_stacked_layers)]\n",
    "multi_cells = tf.contrib.rnn.MultiRNNCell(stackedRNNs, state_is_tuple=True) if num_stacked_layers > 1 else lstm_cell()\n",
    "\n",
    "# RNN Cell(여기서는 LSTM셀임)들을 연결\n",
    "hypothesis, _states = tf.nn.dynamic_rnn(multi_cells, X, dtype=tf.float32)\n",
    "print(\"hypothesis: \", hypothesis)\n",
    "\n",
    "# [:, -1]를 잘 살펴보자. LSTM RNN의 마지막 (hidden)출력만을 사용했다.\n",
    "# 과거 여러 거래일의 주가를 이용해서 다음날의 주가 1개를 예측하기때문에 MANY-TO-ONE형태이다\n",
    "hypothesis = tf.contrib.layers.fully_connected(hypothesis[:, -1], output_data_column_cnt, activation_fn=tf.identity)"
   ]
  },
  {
   "cell_type": "code",
   "execution_count": 12,
   "metadata": {},
   "outputs": [],
   "source": [
    "# 손실함수로 평균제곱오차를 사용한다\n",
    "loss = tf.reduce_sum(tf.square(hypothesis - Y))\n",
    "# 최적화함수로 AdamOptimizer를 사용한다\n",
    "optimizer = tf.train.AdamOptimizer(learning_rate)\n",
    "# optimizer = tf.train.RMSPropOptimizer(learning_rate) # LSTM과 궁합 별로임\n",
    "\n",
    "train = optimizer.minimize(loss)\n",
    "\n",
    "# RMSE(Root Mean Square Error)\n",
    "# 제곱오차의 평균을 구하고 다시 제곱근을 구하면 평균 오차가 나온다\n",
    "# rmse = tf.sqrt(tf.reduce_mean(tf.square(targets-predictions))) # 아래 코드와 같다\n",
    "rmse = tf.sqrt(tf.reduce_mean(tf.squared_difference(targets, predictions)))"
   ]
  },
  {
   "cell_type": "code",
   "execution_count": 13,
   "metadata": {},
   "outputs": [
    {
     "name": "stdout",
     "output_type": "stream",
     "text": [
      "학습을 시작합니다...\n",
      "epoch: 100, train_error(A): 0.002875674283131957, test_error(B): 0.0760432630777359, B-A: 0.0731675922870636\n",
      "epoch: 200, train_error(A): 0.0027429184410721064, test_error(B): 0.057512134313583374, B-A: 0.05476921424269676\n",
      "epoch: 300, train_error(A): 0.002633236814290285, test_error(B): 0.044313255697488785, B-A: 0.04168001934885979\n",
      "epoch: 400, train_error(A): 0.0025368002243340015, test_error(B): 0.03265431150794029, B-A: 0.030117511749267578\n",
      "epoch: 500, train_error(A): 0.0024524014443159103, test_error(B): 0.022904718294739723, B-A: 0.020452316850423813\n",
      "epoch: 600, train_error(A): 0.0023788404650986195, test_error(B): 0.015653936192393303, B-A: 0.01327509619295597\n",
      "epoch: 700, train_error(A): 0.0023147587198764086, test_error(B): 0.011636616662144661, B-A: 0.009321858175098896\n",
      "epoch: 800, train_error(A): 0.002257922198623419, test_error(B): 0.0102009242400527, B-A: 0.007943002507090569\n",
      "epoch: 900, train_error(A): 0.002206027740612626, test_error(B): 0.009910918772220612, B-A: 0.007704891264438629\n",
      "epoch: 1000, train_error(A): 0.002158920280635357, test_error(B): 0.00990331918001175, B-A: 0.007744398899376392\n",
      "elapsed_time: 0:02:57.083266\n",
      "elapsed_time per epoch: 0:00:00.177083\n"
     ]
    }
   ],
   "source": [
    "train_error_summary = [] # 학습용 데이터의 오류를 중간 중간 기록한다\n",
    "test_error_summary = []  # 테스트용 데이터의 오류를 중간 중간 기록한다\n",
    "test_predict = ''        # 테스트용데이터로 예측한 결과\n",
    "\n",
    "sess = tf.Session()\n",
    "sess.run(tf.global_variables_initializer())\n",
    "\n",
    "# 학습한다\n",
    "start_time = datetime.datetime.now() # 시작시간을 기록한다\n",
    "print('학습을 시작합니다...')\n",
    "for epoch in range(epoch_num):\n",
    "    _, _loss = sess.run([train, loss], feed_dict={X: trainX, Y: trainY})\n",
    "    if ((epoch+1) % 100 == 0) or (epoch == epoch_num-1): # 100번째마다 또는 마지막 epoch인 경우\n",
    "        # 학습용데이터로 rmse오차를 구한다\n",
    "        train_predict = sess.run(hypothesis, feed_dict={X: trainX})\n",
    "        train_error = sess.run(rmse, feed_dict={targets: trainY, predictions: train_predict})\n",
    "        train_error_summary.append(train_error)\n",
    "\n",
    "        # 테스트용데이터로 rmse오차를 구한다\n",
    "        test_predict = sess.run(hypothesis, feed_dict={X: testX})\n",
    "        test_error = sess.run(rmse, feed_dict={targets: testY, predictions: test_predict})\n",
    "        test_error_summary.append(test_error)\n",
    "        \n",
    "        # 현재 오류를 출력한다\n",
    "        print(\"epoch: {}, train_error(A): {}, test_error(B): {}, B-A: {}\".format(epoch+1, train_error, test_error, test_error-train_error))\n",
    "        \n",
    "end_time = datetime.datetime.now() # 종료시간을 기록한다\n",
    "elapsed_time = end_time - start_time # 경과시간을 구한다\n",
    "print('elapsed_time:',elapsed_time)\n",
    "print('elapsed_time per epoch:',elapsed_time/epoch_num)"
   ]
  },
  {
   "cell_type": "code",
   "execution_count": 14,
   "metadata": {
    "scrolled": false
   },
   "outputs": [
    {
     "name": "stdout",
     "output_type": "stream",
     "text": [
      "input_data_column_cnt: 6,output_data_column_cnt: 1,seq_length: 28,rnn_cell_hidden_dim: 20,forget_bias: 1.0,num_stacked_layers: 1,keep_prob: 1.0,epoch_num: 1000,learning_rate: 0.01,train_error: 0.00215892,test_error: 0.00990332,min_test_error: 0.00990332\n"
     ]
    },
    {
     "data": {
      "image/png": "[encoded data removed]",
      "text/plain": [
       "<matplotlib.figure.Figure at 0x1fef4da5f98>"
      ]
     },
     "metadata": {},
     "output_type": "display_data"
    },
    {
     "data": {
      "image/png": "[encoded data removed]",
      "text/plain": [
       "<matplotlib.figure.Figure at 0x1fef57e2710>"
      ]
     },
     "metadata": {},
     "output_type": "display_data"
    }
   ],
   "source": [
    "# 하이퍼파라미터 출력\n",
    "print('input_data_column_cnt:', input_data_column_cnt, end='')\n",
    "print(',output_data_column_cnt:', output_data_column_cnt, end='')\n",
    "\n",
    "print(',seq_length:', seq_length, end='')\n",
    "print(',rnn_cell_hidden_dim:', rnn_cell_hidden_dim, end='')\n",
    "print(',forget_bias:', forget_bias, end='')\n",
    "print(',num_stacked_layers:', num_stacked_layers, end='')\n",
    "print(',keep_prob:', keep_prob, end='')\n",
    "\n",
    "print(',epoch_num:', epoch_num, end='')\n",
    "print(',learning_rate:', learning_rate, end='')\n",
    "\n",
    "print(',train_error:', train_error_summary[-1], end='')\n",
    "print(',test_error:', test_error_summary[-1], end='')\n",
    "print(',min_test_error:', np.min(test_error_summary))\n",
    "\n",
    "# 결과 그래프 출력\n",
    "plt.figure(1)\n",
    "plt.plot(train_error_summary, 'gold')\n",
    "plt.plot(test_error_summary, 'b')\n",
    "plt.xlabel('Epoch(x100)')\n",
    "plt.ylabel('Root Mean Square Error')\n",
    "\n",
    "plt.figure(2)\n",
    "plt.plot(testY, 'r')\n",
    "plt.plot(test_predict, 'b')\n",
    "plt.xlabel('Time Period')\n",
    "plt.ylabel('Stock Price')\n",
    "plt.show()"
   ]
  },
  {
   "cell_type": "code",
   "execution_count": 15,
   "metadata": {},
   "outputs": [
    {
     "name": "stdout",
     "output_type": "stream",
     "text": [
      "recent_data.shape: (1, 28, 6)\n",
      "recent_data: [[[ 0.91386004  0.9151306   0.90735891  0.910791    0.910791    0.02879182]\n",
      "  [ 0.91089     0.91383526  0.90374533  0.909471    0.909471    0.03147378]\n",
      "  [ 0.90462816  0.90803538  0.89560243  0.90166628  0.90166628  0.0307939 ]\n",
      "  [ 0.89913352  0.91689614  0.89696373  0.91600506  0.91600506  0.03143526]\n",
      "  [ 0.91398381  0.92739858  0.9136703   0.92347976  0.92347976  0.0278683 ]\n",
      "  [ 0.92684578  0.93168037  0.92087268  0.92555055  0.92555055  0.02120337]\n",
      "  [ 0.92526172  0.935756    0.92220094  0.93356143  0.93356143  0.02016814]\n",
      "  [ 0.92785228  0.93087187  0.91944541  0.93046762  0.93046762  0.03125421]\n",
      "  [ 0.92796779  0.93262916  0.92628483  0.92734903  0.92734903  0.01630073]\n",
      "  [ 0.92541026  0.93935306  0.92486573  0.93050065  0.93050065  0.02341249]\n",
      "  [ 0.93127612  0.93778551  0.92614454  0.93682846  0.93682846  0.0255311 ]\n",
      "  [ 0.92871859  0.93262916  0.92428     0.92845453  0.92845453  0.0331417 ]\n",
      "  [ 0.93131741  0.93791754  0.93122667  0.93719978  0.93719978  0.01662237]\n",
      "  [ 0.93801653  0.93844556  0.92772861  0.93108638  0.93108638  0.01854933]\n",
      "  [ 0.93099564  0.93400697  0.92503905  0.92814112  0.92814112  0.01614665]\n",
      "  [ 0.93354491  0.93943554  0.92970031  0.93901477  0.93901477  0.01918492]\n",
      "  [ 0.94026055  0.95615863  0.94026055  0.95276783  0.95276783  0.02954585]\n",
      "  [ 0.95651333  0.97807927  0.95651333  0.97738628  0.97738628  0.02928295]\n",
      "  [ 0.99113108  1.          0.98163513  0.98549615  0.98549615  0.06025308]\n",
      "  [ 0.99296259  0.99334206  0.97946534  0.98365638  0.98365638  0.03921535]\n",
      "  [ 0.98464646  0.98464646  0.94371732  0.95698365  0.95698365  0.08445812]\n",
      "  [ 0.96179346  0.97125637  0.95593586  0.96975488  0.96975488  0.03873192]\n",
      "  [ 0.96587735  0.97214745  0.94933573  0.95787463  0.95787463  0.03485969]\n",
      "  [ 0.96736231  0.96847607  0.92953535  0.93444415  0.93444415  0.05243254]\n",
      "  [ 0.92974986  0.95533362  0.92684578  0.94073077  0.94073077  0.03459679]\n",
      "  [ 0.93777725  0.95254506  0.93620144  0.94962447  0.94962447  0.02278558]\n",
      "  [ 0.95312253  0.95856761  0.94851072  0.95576264  0.95576264  0.01946804]\n",
      "  [ 0.96451605  0.96645482  0.95354329  0.95758589  0.95758589  0.02142033]]]\n",
      "test_predict [ 0.9330225]\n",
      "Tomorrow's stock price [ 1132.22680664]\n"
     ]
    }
   ],
   "source": [
    "# sequence length만큼의 가장 최근 데이터를 슬라이싱한다\n",
    "recent_data = np.array([x[len(x)-seq_length : ]])\n",
    "print(\"recent_data.shape:\", recent_data.shape)\n",
    "print(\"recent_data:\", recent_data)\n",
    "\n",
    "# 내일 종가를 예측해본다\n",
    "test_predict = sess.run(hypothesis, feed_dict={X: recent_data})\n",
    "\n",
    "print(\"test_predict\", test_predict[0])\n",
    "test_predict = reverse_min_max_scaling(price,test_predict) # 금액데이터 역정규화한다\n",
    "print(\"Tomorrow's stock price\", test_predict[0]) # 예측한 주가를 출력한다"
   ]
  }
 ],
 "metadata": {
  "kernelspec": {
   "display_name": "tensorflow-cpu",
   "language": "python",
   "name": "tensorflow-cpu"
  },
  "language_info": {
   "codemirror_mode": {
    "name": "ipython",
    "version": 3
   },
   "file_extension": ".py",
   "mimetype": "text/x-python",
   "name": "python",
   "nbconvert_exporter": "python",
   "pygments_lexer": "ipython3",
   "version": "3.8.5"
  }
 },
 "nbformat": 4,
 "nbformat_minor": 2
}
