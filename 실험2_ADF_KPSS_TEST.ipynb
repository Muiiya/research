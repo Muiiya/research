{
  "nbformat": 4,
  "nbformat_minor": 0,
  "metadata": {
    "colab": {
      "name": "3M_종가와 수익률 그래프에 대한_ADF_KPSS_TEST",
      "provenance": []
    },
    "kernelspec": {
      "name": "python3",
      "display_name": "Python 3"
    },
    "language_info": {
      "name": "python"
    }
  },
  "cells": [
    {
      "cell_type": "code",
      "metadata": {
        "colab": {
          "base_uri": "https://localhost:8080/"
        },
        "id": "IqyKjv2tCu_Z",
        "outputId": "7025d10f-930d-4431-cc6f-76904c9d9c76"
      },
      "source": [
        "from google.colab import drive\n",
        "drive.mount('/content/drive')"
      ],
      "execution_count": 24,
      "outputs": [
        {
          "output_type": "stream",
          "name": "stdout",
          "text": [
            "Drive already mounted at /content/drive; to attempt to forcibly remount, call drive.mount(\"/content/drive\", force_remount=True).\n"
          ]
        }
      ]
    },
    {
      "cell_type": "code",
      "metadata": {
        "id": "qiUiNpZJDKKo"
      },
      "source": [
        "import pandas as pd\n",
        "import numpy as np\n",
        "import matplotlib.pyplot as plt\n",
        "import seaborn as sns\n",
        "import scipy.stats\n",
        "import os"
      ],
      "execution_count": 25,
      "outputs": []
    },
    {
      "cell_type": "code",
      "metadata": {
        "colab": {
          "base_uri": "https://localhost:8080/",
          "height": 424
        },
        "id": "1abVIJ4NDQxM",
        "outputId": "236e8877-f2be-4e26-c596-a017bd430850"
      },
      "source": [
        "raw_csv_data = pd.read_csv(\"/content/drive/MyDrive/Colab Notebooks/Data/삼성전자_3M_NonST_Version1.csv\", encoding='CP949')\n",
        "\n",
        "df_comp = raw_csv_data.copy()\n",
        "df_comp = df_comp.drop(df_comp.columns[0], axis=1)\n",
        "df_comp"
      ],
      "execution_count": 26,
      "outputs": [
        {
          "output_type": "execute_result",
          "data": {
            "text/html": [
              "<div>\n",
              "<style scoped>\n",
              "    .dataframe tbody tr th:only-of-type {\n",
              "        vertical-align: middle;\n",
              "    }\n",
              "\n",
              "    .dataframe tbody tr th {\n",
              "        vertical-align: top;\n",
              "    }\n",
              "\n",
              "    .dataframe thead th {\n",
              "        text-align: right;\n",
              "    }\n",
              "</style>\n",
              "<table border=\"1\" class=\"dataframe\">\n",
              "  <thead>\n",
              "    <tr style=\"text-align: right;\">\n",
              "      <th></th>\n",
              "      <th>날짜</th>\n",
              "      <th>종가</th>\n",
              "    </tr>\n",
              "  </thead>\n",
              "  <tbody>\n",
              "    <tr>\n",
              "      <th>0</th>\n",
              "      <td>2021-05-01 00:00:00</td>\n",
              "      <td>81700.0</td>\n",
              "    </tr>\n",
              "    <tr>\n",
              "      <th>1</th>\n",
              "      <td>2021-05-01 01:00:00</td>\n",
              "      <td>81700.0</td>\n",
              "    </tr>\n",
              "    <tr>\n",
              "      <th>2</th>\n",
              "      <td>2021-05-01 02:00:00</td>\n",
              "      <td>81700.0</td>\n",
              "    </tr>\n",
              "    <tr>\n",
              "      <th>3</th>\n",
              "      <td>2021-05-01 03:00:00</td>\n",
              "      <td>81700.0</td>\n",
              "    </tr>\n",
              "    <tr>\n",
              "      <th>4</th>\n",
              "      <td>2021-05-01 04:00:00</td>\n",
              "      <td>81700.0</td>\n",
              "    </tr>\n",
              "    <tr>\n",
              "      <th>...</th>\n",
              "      <td>...</td>\n",
              "      <td>...</td>\n",
              "    </tr>\n",
              "    <tr>\n",
              "      <th>2180</th>\n",
              "      <td>2021-07-30 20:00:00</td>\n",
              "      <td>78600.0</td>\n",
              "    </tr>\n",
              "    <tr>\n",
              "      <th>2181</th>\n",
              "      <td>2021-07-30 21:00:00</td>\n",
              "      <td>78600.0</td>\n",
              "    </tr>\n",
              "    <tr>\n",
              "      <th>2182</th>\n",
              "      <td>2021-07-30 22:00:00</td>\n",
              "      <td>78600.0</td>\n",
              "    </tr>\n",
              "    <tr>\n",
              "      <th>2183</th>\n",
              "      <td>2021-07-30 23:00:00</td>\n",
              "      <td>78600.0</td>\n",
              "    </tr>\n",
              "    <tr>\n",
              "      <th>2184</th>\n",
              "      <td>2021-07-31 00:00:00</td>\n",
              "      <td>78600.0</td>\n",
              "    </tr>\n",
              "  </tbody>\n",
              "</table>\n",
              "<p>2185 rows × 2 columns</p>\n",
              "</div>"
            ],
            "text/plain": [
              "                       날짜       종가\n",
              "0     2021-05-01 00:00:00  81700.0\n",
              "1     2021-05-01 01:00:00  81700.0\n",
              "2     2021-05-01 02:00:00  81700.0\n",
              "3     2021-05-01 03:00:00  81700.0\n",
              "4     2021-05-01 04:00:00  81700.0\n",
              "...                   ...      ...\n",
              "2180  2021-07-30 20:00:00  78600.0\n",
              "2181  2021-07-30 21:00:00  78600.0\n",
              "2182  2021-07-30 22:00:00  78600.0\n",
              "2183  2021-07-30 23:00:00  78600.0\n",
              "2184  2021-07-31 00:00:00  78600.0\n",
              "\n",
              "[2185 rows x 2 columns]"
            ]
          },
          "metadata": {},
          "execution_count": 26
        }
      ]
    },
    {
      "cell_type": "code",
      "metadata": {
        "colab": {
          "base_uri": "https://localhost:8080/",
          "height": 206
        },
        "id": "aUY8FGpsDZIH",
        "outputId": "11d8240d-75a7-46b3-8f4a-01df883a3029"
      },
      "source": [
        "# Date가 더 이상 텍스트가 아닌 실제 시간으로 저장된다.\n",
        "\n",
        "df_comp.날짜 = pd.to_datetime(df_comp.날짜, dayfirst = True)\n",
        "\n",
        "df_comp.head()"
      ],
      "execution_count": 27,
      "outputs": [
        {
          "output_type": "execute_result",
          "data": {
            "text/html": [
              "<div>\n",
              "<style scoped>\n",
              "    .dataframe tbody tr th:only-of-type {\n",
              "        vertical-align: middle;\n",
              "    }\n",
              "\n",
              "    .dataframe tbody tr th {\n",
              "        vertical-align: top;\n",
              "    }\n",
              "\n",
              "    .dataframe thead th {\n",
              "        text-align: right;\n",
              "    }\n",
              "</style>\n",
              "<table border=\"1\" class=\"dataframe\">\n",
              "  <thead>\n",
              "    <tr style=\"text-align: right;\">\n",
              "      <th></th>\n",
              "      <th>날짜</th>\n",
              "      <th>종가</th>\n",
              "    </tr>\n",
              "  </thead>\n",
              "  <tbody>\n",
              "    <tr>\n",
              "      <th>0</th>\n",
              "      <td>2021-05-01 00:00:00</td>\n",
              "      <td>81700.0</td>\n",
              "    </tr>\n",
              "    <tr>\n",
              "      <th>1</th>\n",
              "      <td>2021-05-01 01:00:00</td>\n",
              "      <td>81700.0</td>\n",
              "    </tr>\n",
              "    <tr>\n",
              "      <th>2</th>\n",
              "      <td>2021-05-01 02:00:00</td>\n",
              "      <td>81700.0</td>\n",
              "    </tr>\n",
              "    <tr>\n",
              "      <th>3</th>\n",
              "      <td>2021-05-01 03:00:00</td>\n",
              "      <td>81700.0</td>\n",
              "    </tr>\n",
              "    <tr>\n",
              "      <th>4</th>\n",
              "      <td>2021-05-01 04:00:00</td>\n",
              "      <td>81700.0</td>\n",
              "    </tr>\n",
              "  </tbody>\n",
              "</table>\n",
              "</div>"
            ],
            "text/plain": [
              "                   날짜       종가\n",
              "0 2021-05-01 00:00:00  81700.0\n",
              "1 2021-05-01 01:00:00  81700.0\n",
              "2 2021-05-01 02:00:00  81700.0\n",
              "3 2021-05-01 03:00:00  81700.0\n",
              "4 2021-05-01 04:00:00  81700.0"
            ]
          },
          "metadata": {},
          "execution_count": 27
        }
      ]
    },
    {
      "cell_type": "code",
      "metadata": {
        "colab": {
          "base_uri": "https://localhost:8080/",
          "height": 237
        },
        "id": "4poL_hVED4dN",
        "outputId": "019ca8b4-af6b-4059-cba5-1071c3bdc0fc"
      },
      "source": [
        "df_comp.set_index('날짜', inplace=True)\n",
        "\n",
        "df_comp.head()"
      ],
      "execution_count": 28,
      "outputs": [
        {
          "output_type": "execute_result",
          "data": {
            "text/html": [
              "<div>\n",
              "<style scoped>\n",
              "    .dataframe tbody tr th:only-of-type {\n",
              "        vertical-align: middle;\n",
              "    }\n",
              "\n",
              "    .dataframe tbody tr th {\n",
              "        vertical-align: top;\n",
              "    }\n",
              "\n",
              "    .dataframe thead th {\n",
              "        text-align: right;\n",
              "    }\n",
              "</style>\n",
              "<table border=\"1\" class=\"dataframe\">\n",
              "  <thead>\n",
              "    <tr style=\"text-align: right;\">\n",
              "      <th></th>\n",
              "      <th>종가</th>\n",
              "    </tr>\n",
              "    <tr>\n",
              "      <th>날짜</th>\n",
              "      <th></th>\n",
              "    </tr>\n",
              "  </thead>\n",
              "  <tbody>\n",
              "    <tr>\n",
              "      <th>2021-05-01 00:00:00</th>\n",
              "      <td>81700.0</td>\n",
              "    </tr>\n",
              "    <tr>\n",
              "      <th>2021-05-01 01:00:00</th>\n",
              "      <td>81700.0</td>\n",
              "    </tr>\n",
              "    <tr>\n",
              "      <th>2021-05-01 02:00:00</th>\n",
              "      <td>81700.0</td>\n",
              "    </tr>\n",
              "    <tr>\n",
              "      <th>2021-05-01 03:00:00</th>\n",
              "      <td>81700.0</td>\n",
              "    </tr>\n",
              "    <tr>\n",
              "      <th>2021-05-01 04:00:00</th>\n",
              "      <td>81700.0</td>\n",
              "    </tr>\n",
              "  </tbody>\n",
              "</table>\n",
              "</div>"
            ],
            "text/plain": [
              "                          종가\n",
              "날짜                          \n",
              "2021-05-01 00:00:00  81700.0\n",
              "2021-05-01 01:00:00  81700.0\n",
              "2021-05-01 02:00:00  81700.0\n",
              "2021-05-01 03:00:00  81700.0\n",
              "2021-05-01 04:00:00  81700.0"
            ]
          },
          "metadata": {},
          "execution_count": 28
        }
      ]
    },
    {
      "cell_type": "code",
      "metadata": {
        "colab": {
          "base_uri": "https://localhost:8080/",
          "height": 454
        },
        "id": "pZnr5ro4D726",
        "outputId": "d62ce854-aa21-4c81-b147-3dba1d4658e8"
      },
      "source": [
        "df_comp = df_comp[['종가']]\n",
        "\n",
        "df = df_comp\n",
        "\n",
        "df"
      ],
      "execution_count": 29,
      "outputs": [
        {
          "output_type": "execute_result",
          "data": {
            "text/html": [
              "<div>\n",
              "<style scoped>\n",
              "    .dataframe tbody tr th:only-of-type {\n",
              "        vertical-align: middle;\n",
              "    }\n",
              "\n",
              "    .dataframe tbody tr th {\n",
              "        vertical-align: top;\n",
              "    }\n",
              "\n",
              "    .dataframe thead th {\n",
              "        text-align: right;\n",
              "    }\n",
              "</style>\n",
              "<table border=\"1\" class=\"dataframe\">\n",
              "  <thead>\n",
              "    <tr style=\"text-align: right;\">\n",
              "      <th></th>\n",
              "      <th>종가</th>\n",
              "    </tr>\n",
              "    <tr>\n",
              "      <th>날짜</th>\n",
              "      <th></th>\n",
              "    </tr>\n",
              "  </thead>\n",
              "  <tbody>\n",
              "    <tr>\n",
              "      <th>2021-05-01 00:00:00</th>\n",
              "      <td>81700.0</td>\n",
              "    </tr>\n",
              "    <tr>\n",
              "      <th>2021-05-01 01:00:00</th>\n",
              "      <td>81700.0</td>\n",
              "    </tr>\n",
              "    <tr>\n",
              "      <th>2021-05-01 02:00:00</th>\n",
              "      <td>81700.0</td>\n",
              "    </tr>\n",
              "    <tr>\n",
              "      <th>2021-05-01 03:00:00</th>\n",
              "      <td>81700.0</td>\n",
              "    </tr>\n",
              "    <tr>\n",
              "      <th>2021-05-01 04:00:00</th>\n",
              "      <td>81700.0</td>\n",
              "    </tr>\n",
              "    <tr>\n",
              "      <th>...</th>\n",
              "      <td>...</td>\n",
              "    </tr>\n",
              "    <tr>\n",
              "      <th>2021-07-30 20:00:00</th>\n",
              "      <td>78600.0</td>\n",
              "    </tr>\n",
              "    <tr>\n",
              "      <th>2021-07-30 21:00:00</th>\n",
              "      <td>78600.0</td>\n",
              "    </tr>\n",
              "    <tr>\n",
              "      <th>2021-07-30 22:00:00</th>\n",
              "      <td>78600.0</td>\n",
              "    </tr>\n",
              "    <tr>\n",
              "      <th>2021-07-30 23:00:00</th>\n",
              "      <td>78600.0</td>\n",
              "    </tr>\n",
              "    <tr>\n",
              "      <th>2021-07-31 00:00:00</th>\n",
              "      <td>78600.0</td>\n",
              "    </tr>\n",
              "  </tbody>\n",
              "</table>\n",
              "<p>2185 rows × 1 columns</p>\n",
              "</div>"
            ],
            "text/plain": [
              "                          종가\n",
              "날짜                          \n",
              "2021-05-01 00:00:00  81700.0\n",
              "2021-05-01 01:00:00  81700.0\n",
              "2021-05-01 02:00:00  81700.0\n",
              "2021-05-01 03:00:00  81700.0\n",
              "2021-05-01 04:00:00  81700.0\n",
              "...                      ...\n",
              "2021-07-30 20:00:00  78600.0\n",
              "2021-07-30 21:00:00  78600.0\n",
              "2021-07-30 22:00:00  78600.0\n",
              "2021-07-30 23:00:00  78600.0\n",
              "2021-07-31 00:00:00  78600.0\n",
              "\n",
              "[2185 rows x 1 columns]"
            ]
          },
          "metadata": {},
          "execution_count": 29
        }
      ]
    },
    {
      "cell_type": "code",
      "metadata": {
        "colab": {
          "base_uri": "https://localhost:8080/"
        },
        "id": "wD2Zj2F3EA7H",
        "outputId": "71ba7bdf-208e-4d66-f9ea-9975a5c48771"
      },
      "source": [
        "# ADF Test\n",
        "\n",
        "# ADF 검정은 시계열이 안정적인지 여부를 확인하는데 이용되는 방법이다.\n",
        "# Null hypothesis : 기각 실패시 시계열이 안정적이지 않다.\n",
        "# Alternative hypothesis : 귀무 가설이 기각되고 시계열이 안정적이다.\n",
        "# p-value > 0.05 이므로 귀무 가설을 기각할 수 없다. 따라서 시계열은 안정적이지 않다.\n",
        "\n",
        "n_obs = 20\n",
        "df_train, df_test = df[0:-n_obs], df[-n_obs:]\n",
        "\n",
        "from statsmodels.tsa.stattools import adfuller\n",
        "\n",
        "def adf_test(df):\n",
        "    result = adfuller(df.values)\n",
        "    print('ADF Statistics: %f' % result[0])\n",
        "    print('p-value: %f' % result[1])\n",
        "    print('Critical values:')\n",
        "    for key, value in result[4].items():\n",
        "        print('\\t%s: %.3f' % (key, value))\n",
        "    \n",
        "print('ADF Test: Samsung 3M 종가 Dataset')\n",
        "adf_test(df['종가'])"
      ],
      "execution_count": 30,
      "outputs": [
        {
          "output_type": "stream",
          "name": "stdout",
          "text": [
            "ADF Test: Samsung 3M 종가 Dataset\n",
            "ADF Statistics: -2.412502\n",
            "p-value: 0.138239\n",
            "Critical values:\n",
            "\t1%: -3.433\n",
            "\t5%: -2.863\n",
            "\t10%: -2.567\n"
          ]
        }
      ]
    },
    {
      "cell_type": "code",
      "metadata": {
        "colab": {
          "base_uri": "https://localhost:8080/"
        },
        "id": "D_djDFBCEHvz",
        "outputId": "d42ecf50-c40b-4122-b2a7-bb639c62a656"
      },
      "source": [
        "# KPSS Test\n",
        "\n",
        "from statsmodels.tsa.stattools import kpss\n",
        "\n",
        "# KPSS 검정은 시계열이 평균 또는 선형 추세 주변에 고정되어 있는지 또는 단위 루트로 인해 고정되지 않은지 확인한다.\n",
        "# Null hypothesis : 시계열이 안정적이다.\n",
        "# Alternative hypothesis : 시계열이 안정적이지 않다.\n",
        "# p-value < 0.05 이므로 귀무 가설을 기각하며 시계열은 안정적이지 않다.\n",
        "\n",
        "def kpss_test(df):\n",
        "    statistic, p_value, n_lags, critical_values = kpss(df.values)\n",
        "    \n",
        "    print(f'KPSS Statistic: {statistic}')\n",
        "    print(f'p-value: {p_value}')\n",
        "    print(f'num lags: {n_lags}')\n",
        "    print('Critial Values:')\n",
        "    for key, value in critical_values.items():\n",
        "        print(f'{key} : {value}')\n",
        "        \n",
        "print('KPSS Test: Samsung 3M 종가 Dataset')\n",
        "kpss_test(df['종가'])"
      ],
      "execution_count": 31,
      "outputs": [
        {
          "output_type": "stream",
          "name": "stdout",
          "text": [
            "KPSS Test: Samsung 3M 종가 Dataset\n",
            "KPSS Statistic: 2.616896546078708\n",
            "p-value: 0.01\n",
            "num lags: 26\n",
            "Critial Values:\n",
            "10% : 0.347\n",
            "5% : 0.463\n",
            "2.5% : 0.574\n",
            "1% : 0.739\n"
          ]
        },
        {
          "output_type": "stream",
          "name": "stderr",
          "text": [
            "/usr/local/lib/python3.7/dist-packages/statsmodels/tsa/stattools.py:1685: FutureWarning: The behavior of using lags=None will change in the next release. Currently lags=None is the same as lags='legacy', and so a sample-size lag length is used. After the next release, the default will change to be the same as lags='auto' which uses an automatic lag length selection method. To silence this warning, either use 'auto' or 'legacy'\n",
            "  warn(msg, FutureWarning)\n",
            "/usr/local/lib/python3.7/dist-packages/statsmodels/tsa/stattools.py:1709: InterpolationWarning: p-value is smaller than the indicated p-value\n",
            "  warn(\"p-value is smaller than the indicated p-value\", InterpolationWarning)\n"
          ]
        }
      ]
    },
    {
      "cell_type": "code",
      "metadata": {
        "colab": {
          "base_uri": "https://localhost:8080/",
          "height": 424
        },
        "id": "zYL-MM0MERIC",
        "outputId": "9557da73-2e75-4996-f603-f5193ea11132"
      },
      "source": [
        "raw_csv_data = pd.read_csv(\"/content/drive/MyDrive/Colab Notebooks/Data/삼성전자_3M_ST_Version1.csv\", encoding='CP949')\n",
        "\n",
        "df_comp = raw_csv_data.copy()\n",
        "df_comp = df_comp.drop(df_comp.columns[0], axis=1)\n",
        "df_comp"
      ],
      "execution_count": 14,
      "outputs": [
        {
          "output_type": "execute_result",
          "data": {
            "text/html": [
              "<div>\n",
              "<style scoped>\n",
              "    .dataframe tbody tr th:only-of-type {\n",
              "        vertical-align: middle;\n",
              "    }\n",
              "\n",
              "    .dataframe tbody tr th {\n",
              "        vertical-align: top;\n",
              "    }\n",
              "\n",
              "    .dataframe thead th {\n",
              "        text-align: right;\n",
              "    }\n",
              "</style>\n",
              "<table border=\"1\" class=\"dataframe\">\n",
              "  <thead>\n",
              "    <tr style=\"text-align: right;\">\n",
              "      <th></th>\n",
              "      <th>날짜</th>\n",
              "      <th>종가</th>\n",
              "    </tr>\n",
              "  </thead>\n",
              "  <tbody>\n",
              "    <tr>\n",
              "      <th>0</th>\n",
              "      <td>2021-05-01 0:00</td>\n",
              "      <td>0.611995</td>\n",
              "    </tr>\n",
              "    <tr>\n",
              "      <th>1</th>\n",
              "      <td>2021-05-01 1:00</td>\n",
              "      <td>0.611995</td>\n",
              "    </tr>\n",
              "    <tr>\n",
              "      <th>2</th>\n",
              "      <td>2021-05-01 2:00</td>\n",
              "      <td>0.611995</td>\n",
              "    </tr>\n",
              "    <tr>\n",
              "      <th>3</th>\n",
              "      <td>2021-05-01 3:00</td>\n",
              "      <td>0.611995</td>\n",
              "    </tr>\n",
              "    <tr>\n",
              "      <th>4</th>\n",
              "      <td>2021-05-01 4:00</td>\n",
              "      <td>0.611995</td>\n",
              "    </tr>\n",
              "    <tr>\n",
              "      <th>...</th>\n",
              "      <td>...</td>\n",
              "      <td>...</td>\n",
              "    </tr>\n",
              "    <tr>\n",
              "      <th>2180</th>\n",
              "      <td>2021-07-30 20:00</td>\n",
              "      <td>-0.127065</td>\n",
              "    </tr>\n",
              "    <tr>\n",
              "      <th>2181</th>\n",
              "      <td>2021-07-30 21:00</td>\n",
              "      <td>-0.127065</td>\n",
              "    </tr>\n",
              "    <tr>\n",
              "      <th>2182</th>\n",
              "      <td>2021-07-30 22:00</td>\n",
              "      <td>-0.127065</td>\n",
              "    </tr>\n",
              "    <tr>\n",
              "      <th>2183</th>\n",
              "      <td>2021-07-30 23:00</td>\n",
              "      <td>-0.127065</td>\n",
              "    </tr>\n",
              "    <tr>\n",
              "      <th>2184</th>\n",
              "      <td>2021-07-31 0:00</td>\n",
              "      <td>-0.127065</td>\n",
              "    </tr>\n",
              "  </tbody>\n",
              "</table>\n",
              "<p>2185 rows × 2 columns</p>\n",
              "</div>"
            ],
            "text/plain": [
              "                    날짜        종가\n",
              "0      2021-05-01 0:00  0.611995\n",
              "1      2021-05-01 1:00  0.611995\n",
              "2      2021-05-01 2:00  0.611995\n",
              "3      2021-05-01 3:00  0.611995\n",
              "4      2021-05-01 4:00  0.611995\n",
              "...                ...       ...\n",
              "2180  2021-07-30 20:00 -0.127065\n",
              "2181  2021-07-30 21:00 -0.127065\n",
              "2182  2021-07-30 22:00 -0.127065\n",
              "2183  2021-07-30 23:00 -0.127065\n",
              "2184   2021-07-31 0:00 -0.127065\n",
              "\n",
              "[2185 rows x 2 columns]"
            ]
          },
          "metadata": {},
          "execution_count": 14
        }
      ]
    },
    {
      "cell_type": "code",
      "metadata": {
        "colab": {
          "base_uri": "https://localhost:8080/",
          "height": 206
        },
        "id": "et-J_zlcGGLM",
        "outputId": "438fa341-f7ed-471c-aff2-4b0f597856a8"
      },
      "source": [
        "# Date가 더 이상 텍스트가 아닌 실제 시간으로 저장된다.\n",
        "\n",
        "df_comp.날짜 = pd.to_datetime(df_comp.날짜, dayfirst = True)\n",
        "\n",
        "df_comp.head()"
      ],
      "execution_count": 15,
      "outputs": [
        {
          "output_type": "execute_result",
          "data": {
            "text/html": [
              "<div>\n",
              "<style scoped>\n",
              "    .dataframe tbody tr th:only-of-type {\n",
              "        vertical-align: middle;\n",
              "    }\n",
              "\n",
              "    .dataframe tbody tr th {\n",
              "        vertical-align: top;\n",
              "    }\n",
              "\n",
              "    .dataframe thead th {\n",
              "        text-align: right;\n",
              "    }\n",
              "</style>\n",
              "<table border=\"1\" class=\"dataframe\">\n",
              "  <thead>\n",
              "    <tr style=\"text-align: right;\">\n",
              "      <th></th>\n",
              "      <th>날짜</th>\n",
              "      <th>종가</th>\n",
              "    </tr>\n",
              "  </thead>\n",
              "  <tbody>\n",
              "    <tr>\n",
              "      <th>0</th>\n",
              "      <td>2021-05-01 00:00:00</td>\n",
              "      <td>0.611995</td>\n",
              "    </tr>\n",
              "    <tr>\n",
              "      <th>1</th>\n",
              "      <td>2021-05-01 01:00:00</td>\n",
              "      <td>0.611995</td>\n",
              "    </tr>\n",
              "    <tr>\n",
              "      <th>2</th>\n",
              "      <td>2021-05-01 02:00:00</td>\n",
              "      <td>0.611995</td>\n",
              "    </tr>\n",
              "    <tr>\n",
              "      <th>3</th>\n",
              "      <td>2021-05-01 03:00:00</td>\n",
              "      <td>0.611995</td>\n",
              "    </tr>\n",
              "    <tr>\n",
              "      <th>4</th>\n",
              "      <td>2021-05-01 04:00:00</td>\n",
              "      <td>0.611995</td>\n",
              "    </tr>\n",
              "  </tbody>\n",
              "</table>\n",
              "</div>"
            ],
            "text/plain": [
              "                   날짜        종가\n",
              "0 2021-05-01 00:00:00  0.611995\n",
              "1 2021-05-01 01:00:00  0.611995\n",
              "2 2021-05-01 02:00:00  0.611995\n",
              "3 2021-05-01 03:00:00  0.611995\n",
              "4 2021-05-01 04:00:00  0.611995"
            ]
          },
          "metadata": {},
          "execution_count": 15
        }
      ]
    },
    {
      "cell_type": "code",
      "metadata": {
        "colab": {
          "base_uri": "https://localhost:8080/",
          "height": 237
        },
        "id": "gmm4afCWGKW1",
        "outputId": "7b69e377-8715-4631-983c-bd3a1301bdeb"
      },
      "source": [
        "df_comp.set_index('날짜', inplace=True)\n",
        "\n",
        "df_comp.head()"
      ],
      "execution_count": 16,
      "outputs": [
        {
          "output_type": "execute_result",
          "data": {
            "text/html": [
              "<div>\n",
              "<style scoped>\n",
              "    .dataframe tbody tr th:only-of-type {\n",
              "        vertical-align: middle;\n",
              "    }\n",
              "\n",
              "    .dataframe tbody tr th {\n",
              "        vertical-align: top;\n",
              "    }\n",
              "\n",
              "    .dataframe thead th {\n",
              "        text-align: right;\n",
              "    }\n",
              "</style>\n",
              "<table border=\"1\" class=\"dataframe\">\n",
              "  <thead>\n",
              "    <tr style=\"text-align: right;\">\n",
              "      <th></th>\n",
              "      <th>종가</th>\n",
              "    </tr>\n",
              "    <tr>\n",
              "      <th>날짜</th>\n",
              "      <th></th>\n",
              "    </tr>\n",
              "  </thead>\n",
              "  <tbody>\n",
              "    <tr>\n",
              "      <th>2021-05-01 00:00:00</th>\n",
              "      <td>0.611995</td>\n",
              "    </tr>\n",
              "    <tr>\n",
              "      <th>2021-05-01 01:00:00</th>\n",
              "      <td>0.611995</td>\n",
              "    </tr>\n",
              "    <tr>\n",
              "      <th>2021-05-01 02:00:00</th>\n",
              "      <td>0.611995</td>\n",
              "    </tr>\n",
              "    <tr>\n",
              "      <th>2021-05-01 03:00:00</th>\n",
              "      <td>0.611995</td>\n",
              "    </tr>\n",
              "    <tr>\n",
              "      <th>2021-05-01 04:00:00</th>\n",
              "      <td>0.611995</td>\n",
              "    </tr>\n",
              "  </tbody>\n",
              "</table>\n",
              "</div>"
            ],
            "text/plain": [
              "                           종가\n",
              "날짜                           \n",
              "2021-05-01 00:00:00  0.611995\n",
              "2021-05-01 01:00:00  0.611995\n",
              "2021-05-01 02:00:00  0.611995\n",
              "2021-05-01 03:00:00  0.611995\n",
              "2021-05-01 04:00:00  0.611995"
            ]
          },
          "metadata": {},
          "execution_count": 16
        }
      ]
    },
    {
      "cell_type": "code",
      "metadata": {
        "colab": {
          "base_uri": "https://localhost:8080/",
          "height": 454
        },
        "id": "kjPIRIfLGMwL",
        "outputId": "c29fead8-c268-45d2-dfce-d75daf277f26"
      },
      "source": [
        "df_comp = df_comp[['종가']]\n",
        "\n",
        "df = df_comp\n",
        "\n",
        "df"
      ],
      "execution_count": 17,
      "outputs": [
        {
          "output_type": "execute_result",
          "data": {
            "text/html": [
              "<div>\n",
              "<style scoped>\n",
              "    .dataframe tbody tr th:only-of-type {\n",
              "        vertical-align: middle;\n",
              "    }\n",
              "\n",
              "    .dataframe tbody tr th {\n",
              "        vertical-align: top;\n",
              "    }\n",
              "\n",
              "    .dataframe thead th {\n",
              "        text-align: right;\n",
              "    }\n",
              "</style>\n",
              "<table border=\"1\" class=\"dataframe\">\n",
              "  <thead>\n",
              "    <tr style=\"text-align: right;\">\n",
              "      <th></th>\n",
              "      <th>종가</th>\n",
              "    </tr>\n",
              "    <tr>\n",
              "      <th>날짜</th>\n",
              "      <th></th>\n",
              "    </tr>\n",
              "  </thead>\n",
              "  <tbody>\n",
              "    <tr>\n",
              "      <th>2021-05-01 00:00:00</th>\n",
              "      <td>0.611995</td>\n",
              "    </tr>\n",
              "    <tr>\n",
              "      <th>2021-05-01 01:00:00</th>\n",
              "      <td>0.611995</td>\n",
              "    </tr>\n",
              "    <tr>\n",
              "      <th>2021-05-01 02:00:00</th>\n",
              "      <td>0.611995</td>\n",
              "    </tr>\n",
              "    <tr>\n",
              "      <th>2021-05-01 03:00:00</th>\n",
              "      <td>0.611995</td>\n",
              "    </tr>\n",
              "    <tr>\n",
              "      <th>2021-05-01 04:00:00</th>\n",
              "      <td>0.611995</td>\n",
              "    </tr>\n",
              "    <tr>\n",
              "      <th>...</th>\n",
              "      <td>...</td>\n",
              "    </tr>\n",
              "    <tr>\n",
              "      <th>2021-07-30 20:00:00</th>\n",
              "      <td>-0.127065</td>\n",
              "    </tr>\n",
              "    <tr>\n",
              "      <th>2021-07-30 21:00:00</th>\n",
              "      <td>-0.127065</td>\n",
              "    </tr>\n",
              "    <tr>\n",
              "      <th>2021-07-30 22:00:00</th>\n",
              "      <td>-0.127065</td>\n",
              "    </tr>\n",
              "    <tr>\n",
              "      <th>2021-07-30 23:00:00</th>\n",
              "      <td>-0.127065</td>\n",
              "    </tr>\n",
              "    <tr>\n",
              "      <th>2021-07-31 00:00:00</th>\n",
              "      <td>-0.127065</td>\n",
              "    </tr>\n",
              "  </tbody>\n",
              "</table>\n",
              "<p>2185 rows × 1 columns</p>\n",
              "</div>"
            ],
            "text/plain": [
              "                           종가\n",
              "날짜                           \n",
              "2021-05-01 00:00:00  0.611995\n",
              "2021-05-01 01:00:00  0.611995\n",
              "2021-05-01 02:00:00  0.611995\n",
              "2021-05-01 03:00:00  0.611995\n",
              "2021-05-01 04:00:00  0.611995\n",
              "...                       ...\n",
              "2021-07-30 20:00:00 -0.127065\n",
              "2021-07-30 21:00:00 -0.127065\n",
              "2021-07-30 22:00:00 -0.127065\n",
              "2021-07-30 23:00:00 -0.127065\n",
              "2021-07-31 00:00:00 -0.127065\n",
              "\n",
              "[2185 rows x 1 columns]"
            ]
          },
          "metadata": {},
          "execution_count": 17
        }
      ]
    },
    {
      "cell_type": "code",
      "metadata": {
        "colab": {
          "base_uri": "https://localhost:8080/"
        },
        "id": "aDXt7Q3JGPoo",
        "outputId": "794205ff-0e4f-45ed-e76a-88d1ac4666f5"
      },
      "source": [
        "# ADF Test\n",
        "\n",
        "# ADF 검정은 시계열이 안정적인지 여부를 확인하는데 이용되는 방법이다.\n",
        "# Null hypothesis : 기각 실패시 시계열이 안정적이지 않다.\n",
        "# Alternative hypothesis : 귀무 가설이 기각되고 시계열이 안정적이다.\n",
        "# p-value < 0.05 이므로 시계열은 안정적이다.\n",
        "\n",
        "n_obs = 20\n",
        "df_train, df_test = df[0:-n_obs], df[-n_obs:]\n",
        "\n",
        "from statsmodels.tsa.stattools import adfuller\n",
        "\n",
        "def adf_test(df):\n",
        "    result = adfuller(df.values)\n",
        "    print('ADF Statistics: %f' % result[0])\n",
        "    print('p-value: %f' % result[1])\n",
        "    print('Critical values:')\n",
        "    for key, value in result[4].items():\n",
        "        print('\\t%s: %.3f' % (key, value))\n",
        "    \n",
        "print('ADF Test: Samsung 3M 수익률 Dataset')\n",
        "adf_test(df['종가'])"
      ],
      "execution_count": 22,
      "outputs": [
        {
          "output_type": "stream",
          "name": "stdout",
          "text": [
            "ADF Test: Samsung 3M 수익률 Dataset\n",
            "ADF Statistics: -7.333311\n",
            "p-value: 0.000000\n",
            "Critical values:\n",
            "\t1%: -3.433\n",
            "\t5%: -2.863\n",
            "\t10%: -2.567\n"
          ]
        }
      ]
    },
    {
      "cell_type": "code",
      "metadata": {
        "colab": {
          "base_uri": "https://localhost:8080/"
        },
        "id": "Lvy7f_yNGU-t",
        "outputId": "9dbfd4ea-be03-4d56-8c46-c12f3a1a7f21"
      },
      "source": [
        "# KPSS Test\n",
        "\n",
        "from statsmodels.tsa.stattools import kpss\n",
        "\n",
        "# KPSS 검정은 시계열이 평균 또는 선형 추세 주변에 고정되어 있는지 또는 단위 루트로 인해 고정되지 않은지 확인한다.\n",
        "# Null hypothesis : 시계열이 안정적이다.\n",
        "# Alternative hypothesis : 시계열이 안정적이지 않다.\n",
        "# p-value > 0.05 이므로 시계열은 안정적이다.\n",
        "\n",
        "def kpss_test(df):\n",
        "    statistic, p_value, n_lags, critical_values = kpss(df.values)\n",
        "    \n",
        "    print(f'KPSS Statistic: {statistic}')\n",
        "    print(f'p-value: {p_value}')\n",
        "    print(f'num lags: {n_lags}')\n",
        "    print('Critial Values:')\n",
        "    for key, value in critical_values.items():\n",
        "        print(f'{key} : {value}')\n",
        "        \n",
        "print('KPSS Test: Samsung 3M 수익률 Dataset')\n",
        "kpss_test(df['종가'])"
      ],
      "execution_count": 23,
      "outputs": [
        {
          "output_type": "stream",
          "name": "stdout",
          "text": [
            "KPSS Test: Samsung 3M 수익률 Dataset\n",
            "KPSS Statistic: 0.35114602671234807\n",
            "p-value: 0.09821291952053962\n",
            "num lags: 26\n",
            "Critial Values:\n",
            "10% : 0.347\n",
            "5% : 0.463\n",
            "2.5% : 0.574\n",
            "1% : 0.739\n"
          ]
        },
        {
          "output_type": "stream",
          "name": "stderr",
          "text": [
            "/usr/local/lib/python3.7/dist-packages/statsmodels/tsa/stattools.py:1685: FutureWarning: The behavior of using lags=None will change in the next release. Currently lags=None is the same as lags='legacy', and so a sample-size lag length is used. After the next release, the default will change to be the same as lags='auto' which uses an automatic lag length selection method. To silence this warning, either use 'auto' or 'legacy'\n",
            "  warn(msg, FutureWarning)\n"
          ]
        }
      ]
    },
    {
      "cell_type": "code",
      "metadata": {
        "id": "lqasMJPaGbph"
      },
      "source": [
        ""
      ],
      "execution_count": null,
      "outputs": []
    }
  ]
}
